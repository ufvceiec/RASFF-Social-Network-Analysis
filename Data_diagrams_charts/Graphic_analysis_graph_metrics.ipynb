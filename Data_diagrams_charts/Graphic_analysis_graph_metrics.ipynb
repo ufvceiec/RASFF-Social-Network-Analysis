{
 "cells": [
  {
   "cell_type": "code",
   "execution_count": 1,
   "metadata": {
    "ExecuteTime": {
     "end_time": "2020-01-27T12:24:38.159635Z",
     "start_time": "2020-01-27T12:24:35.135720Z"
    }
   },
   "outputs": [],
   "source": [
    "import pandas as pd\n",
    "import networkx as nx\n",
    "import matplotlib.pyplot as plt\n",
    "from collections import Counter\n",
    "import itertools\n",
    "import numpy as np\n",
    "import matplotlib"
   ]
  },
  {
   "cell_type": "code",
   "execution_count": null,
   "metadata": {},
   "outputs": [],
   "source": [
    "data = pd.read_csv('C:/Users/Ceiec04/Desktop/Prediccion_Alertas_Alimentarias/Datasets/full_RASFF_DATA_20072020.csv', sep=';', \n",
    "                   header=0, index_col = 0)"
   ]
  },
  {
   "cell_type": "markdown",
   "metadata": {},
   "source": [
    "# Preprocesamiento"
   ]
  },
  {
   "cell_type": "code",
   "execution_count": 5,
   "metadata": {
    "ExecuteTime": {
     "end_time": "2020-01-27T12:24:51.297441Z",
     "start_time": "2020-01-27T12:24:41.306396Z"
    },
    "scrolled": true
   },
   "outputs": [],
   "source": [
    "origen_not = []\n",
    "rel_not = []\n",
    "dest_not = []\n",
    "ori_dest_not = []\n",
    "ori_rel_not = []\n",
    "dest_rel_not = []\n",
    "for index, row in data.iterrows():\n",
    "    if row['NOT_COUNTRY'] in row['COUNT_ORIGEN'] and row['NOT_COUNTRY'] in row['COUNT_DESTIN']:\n",
    "        ori_dest_not.append(row['NOT_COUNTRY'])\n",
    "        \n",
    "    if row['NOT_COUNTRY'] in row['COUNT_ORIGEN'] and row['NOT_COUNTRY'] not in row['COUNT_DESTIN']:\n",
    "        origen_not.append(row['NOT_COUNTRY'])\n",
    "    \n",
    "    if row['NOT_COUNTRY'] in row['COUNT_DESTIN'] and row['NOT_COUNTRY'] not in row['COUNT_ORIGEN']:\n",
    "        dest_not.append(row['NOT_COUNTRY'])\n",
    "        \n",
    "    if row['NOT_COUNTRY'] in row['COUNT_CONCERN']:\n",
    "        rel_not.append(row['NOT_COUNTRY'])\n",
    "    \n",
    "    if row['NOT_COUNTRY'] in row['COUNT_CONCERN'] and row['NOT_COUNTRY'] in row['COUNT_ORIGEN']:\n",
    "        ori_rel_not.append(row['NOT_COUNTRY'])\n",
    "        \n",
    "    if row['NOT_COUNTRY'] in row['COUNT_CONCERN'] and row['NOT_COUNTRY'] in row['COUNT_DESTIN']:\n",
    "        dest_rel_not.append(row['NOT_COUNTRY'])        "
   ]
  },
  {
   "cell_type": "markdown",
   "metadata": {},
   "source": [
    "# Diagramas de barras de los paises notificantes"
   ]
  },
  {
   "cell_type": "markdown",
   "metadata": {},
   "source": [
    "## Origen y notificante"
   ]
  },
  {
   "cell_type": "code",
   "execution_count": 9,
   "metadata": {
    "ExecuteTime": {
     "end_time": "2020-01-27T12:26:09.402286Z",
     "start_time": "2020-01-27T12:26:09.393311Z"
    },
    "scrolled": true
   },
   "outputs": [
    {
     "data": {
      "text/html": [
       "<div>\n",
       "<style scoped>\n",
       "    .dataframe tbody tr th:only-of-type {\n",
       "        vertical-align: middle;\n",
       "    }\n",
       "\n",
       "    .dataframe tbody tr th {\n",
       "        vertical-align: top;\n",
       "    }\n",
       "\n",
       "    .dataframe thead th {\n",
       "        text-align: right;\n",
       "    }\n",
       "</style>\n",
       "<table border=\"1\" class=\"dataframe\">\n",
       "  <thead>\n",
       "    <tr style=\"text-align: right;\">\n",
       "      <th></th>\n",
       "      <th>0</th>\n",
       "      <th>1</th>\n",
       "    </tr>\n",
       "  </thead>\n",
       "  <tbody>\n",
       "    <tr>\n",
       "      <th>2</th>\n",
       "      <td>France</td>\n",
       "      <td>256</td>\n",
       "    </tr>\n",
       "    <tr>\n",
       "      <th>4</th>\n",
       "      <td>Netherlands</td>\n",
       "      <td>247</td>\n",
       "    </tr>\n",
       "    <tr>\n",
       "      <th>5</th>\n",
       "      <td>Germany</td>\n",
       "      <td>229</td>\n",
       "    </tr>\n",
       "    <tr>\n",
       "      <th>0</th>\n",
       "      <td>Belgium</td>\n",
       "      <td>215</td>\n",
       "    </tr>\n",
       "    <tr>\n",
       "      <th>8</th>\n",
       "      <td>Italy</td>\n",
       "      <td>171</td>\n",
       "    </tr>\n",
       "    <tr>\n",
       "      <th>3</th>\n",
       "      <td>United Kingdom</td>\n",
       "      <td>160</td>\n",
       "    </tr>\n",
       "    <tr>\n",
       "      <th>11</th>\n",
       "      <td>Denmark</td>\n",
       "      <td>90</td>\n",
       "    </tr>\n",
       "    <tr>\n",
       "      <th>1</th>\n",
       "      <td>Poland</td>\n",
       "      <td>57</td>\n",
       "    </tr>\n",
       "    <tr>\n",
       "      <th>9</th>\n",
       "      <td>Spain</td>\n",
       "      <td>53</td>\n",
       "    </tr>\n",
       "    <tr>\n",
       "      <th>14</th>\n",
       "      <td>Ireland</td>\n",
       "      <td>38</td>\n",
       "    </tr>\n",
       "    <tr>\n",
       "      <th>13</th>\n",
       "      <td>Sweden</td>\n",
       "      <td>32</td>\n",
       "    </tr>\n",
       "    <tr>\n",
       "      <th>16</th>\n",
       "      <td>Austria</td>\n",
       "      <td>27</td>\n",
       "    </tr>\n",
       "    <tr>\n",
       "      <th>7</th>\n",
       "      <td>Portugal</td>\n",
       "      <td>19</td>\n",
       "    </tr>\n",
       "    <tr>\n",
       "      <th>19</th>\n",
       "      <td>Slovenia</td>\n",
       "      <td>13</td>\n",
       "    </tr>\n",
       "    <tr>\n",
       "      <th>6</th>\n",
       "      <td>Czech Republic</td>\n",
       "      <td>11</td>\n",
       "    </tr>\n",
       "    <tr>\n",
       "      <th>12</th>\n",
       "      <td>Switzerland</td>\n",
       "      <td>8</td>\n",
       "    </tr>\n",
       "    <tr>\n",
       "      <th>22</th>\n",
       "      <td>Norway</td>\n",
       "      <td>8</td>\n",
       "    </tr>\n",
       "    <tr>\n",
       "      <th>10</th>\n",
       "      <td>Estonia</td>\n",
       "      <td>7</td>\n",
       "    </tr>\n",
       "    <tr>\n",
       "      <th>23</th>\n",
       "      <td>Bulgaria</td>\n",
       "      <td>7</td>\n",
       "    </tr>\n",
       "    <tr>\n",
       "      <th>25</th>\n",
       "      <td>Greece</td>\n",
       "      <td>7</td>\n",
       "    </tr>\n",
       "    <tr>\n",
       "      <th>17</th>\n",
       "      <td>Croatia</td>\n",
       "      <td>6</td>\n",
       "    </tr>\n",
       "    <tr>\n",
       "      <th>18</th>\n",
       "      <td>Romania</td>\n",
       "      <td>6</td>\n",
       "    </tr>\n",
       "    <tr>\n",
       "      <th>15</th>\n",
       "      <td>Slovakia</td>\n",
       "      <td>6</td>\n",
       "    </tr>\n",
       "    <tr>\n",
       "      <th>20</th>\n",
       "      <td>Lithuania</td>\n",
       "      <td>6</td>\n",
       "    </tr>\n",
       "    <tr>\n",
       "      <th>21</th>\n",
       "      <td>Finland</td>\n",
       "      <td>5</td>\n",
       "    </tr>\n",
       "    <tr>\n",
       "      <th>24</th>\n",
       "      <td>Hungary</td>\n",
       "      <td>5</td>\n",
       "    </tr>\n",
       "    <tr>\n",
       "      <th>26</th>\n",
       "      <td>Malta</td>\n",
       "      <td>5</td>\n",
       "    </tr>\n",
       "    <tr>\n",
       "      <th>27</th>\n",
       "      <td>Latvia</td>\n",
       "      <td>2</td>\n",
       "    </tr>\n",
       "    <tr>\n",
       "      <th>29</th>\n",
       "      <td>Cyprus</td>\n",
       "      <td>2</td>\n",
       "    </tr>\n",
       "    <tr>\n",
       "      <th>28</th>\n",
       "      <td>Luxembourg</td>\n",
       "      <td>1</td>\n",
       "    </tr>\n",
       "    <tr>\n",
       "      <th>30</th>\n",
       "      <td>Canada</td>\n",
       "      <td>1</td>\n",
       "    </tr>\n",
       "    <tr>\n",
       "      <th>31</th>\n",
       "      <td>Russia</td>\n",
       "      <td>1</td>\n",
       "    </tr>\n",
       "    <tr>\n",
       "      <th>32</th>\n",
       "      <td>Australia</td>\n",
       "      <td>1</td>\n",
       "    </tr>\n",
       "  </tbody>\n",
       "</table>\n",
       "</div>"
      ],
      "text/plain": [
       "                 0    1\n",
       "2           France  256\n",
       "4      Netherlands  247\n",
       "5          Germany  229\n",
       "0          Belgium  215\n",
       "8            Italy  171\n",
       "3   United Kingdom  160\n",
       "11         Denmark   90\n",
       "1           Poland   57\n",
       "9            Spain   53\n",
       "14         Ireland   38\n",
       "13          Sweden   32\n",
       "16         Austria   27\n",
       "7         Portugal   19\n",
       "19        Slovenia   13\n",
       "6   Czech Republic   11\n",
       "12     Switzerland    8\n",
       "22          Norway    8\n",
       "10         Estonia    7\n",
       "23        Bulgaria    7\n",
       "25          Greece    7\n",
       "17         Croatia    6\n",
       "18         Romania    6\n",
       "15        Slovakia    6\n",
       "20       Lithuania    6\n",
       "21         Finland    5\n",
       "24         Hungary    5\n",
       "26           Malta    5\n",
       "27          Latvia    2\n",
       "29          Cyprus    2\n",
       "28      Luxembourg    1\n",
       "30          Canada    1\n",
       "31          Russia    1\n",
       "32       Australia    1"
      ]
     },
     "execution_count": 9,
     "metadata": {},
     "output_type": "execute_result"
    }
   ],
   "source": [
    "count = Counter(origen_not)\n",
    "table = pd.DataFrame(list(count.items()))\n",
    "table = table.sort_values(by=[1], ascending = False)\n",
    "table"
   ]
  },
  {
   "cell_type": "code",
   "execution_count": null,
   "metadata": {},
   "outputs": [],
   "source": [
    "barras_comb = {}"
   ]
  },
  {
   "cell_type": "code",
   "execution_count": 10,
   "metadata": {
    "ExecuteTime": {
     "end_time": "2020-01-15T09:27:37.598388Z",
     "start_time": "2020-01-15T09:27:37.590424Z"
    }
   },
   "outputs": [],
   "source": [
    "barras_comb['notifier_origin'] = table[1].sum()"
   ]
  },
  {
   "cell_type": "code",
   "execution_count": 11,
   "metadata": {
    "ExecuteTime": {
     "end_time": "2020-01-15T09:27:38.123166Z",
     "start_time": "2020-01-15T09:27:38.118196Z"
    }
   },
   "outputs": [
    {
     "data": {
      "text/html": [
       "<div>\n",
       "<style scoped>\n",
       "    .dataframe tbody tr th:only-of-type {\n",
       "        vertical-align: middle;\n",
       "    }\n",
       "\n",
       "    .dataframe tbody tr th {\n",
       "        vertical-align: top;\n",
       "    }\n",
       "\n",
       "    .dataframe thead th {\n",
       "        text-align: right;\n",
       "    }\n",
       "</style>\n",
       "<table border=\"1\" class=\"dataframe\">\n",
       "  <thead>\n",
       "    <tr style=\"text-align: right;\">\n",
       "      <th></th>\n",
       "      <th>0</th>\n",
       "      <th>1</th>\n",
       "    </tr>\n",
       "  </thead>\n",
       "  <tbody>\n",
       "    <tr>\n",
       "      <th>2</th>\n",
       "      <td>France</td>\n",
       "      <td>256</td>\n",
       "    </tr>\n",
       "    <tr>\n",
       "      <th>4</th>\n",
       "      <td>Netherlands</td>\n",
       "      <td>247</td>\n",
       "    </tr>\n",
       "    <tr>\n",
       "      <th>5</th>\n",
       "      <td>Germany</td>\n",
       "      <td>229</td>\n",
       "    </tr>\n",
       "    <tr>\n",
       "      <th>0</th>\n",
       "      <td>Belgium</td>\n",
       "      <td>215</td>\n",
       "    </tr>\n",
       "    <tr>\n",
       "      <th>8</th>\n",
       "      <td>Italy</td>\n",
       "      <td>171</td>\n",
       "    </tr>\n",
       "  </tbody>\n",
       "</table>\n",
       "</div>"
      ],
      "text/plain": [
       "             0    1\n",
       "2       France  256\n",
       "4  Netherlands  247\n",
       "5      Germany  229\n",
       "0      Belgium  215\n",
       "8        Italy  171"
      ]
     },
     "execution_count": 11,
     "metadata": {},
     "output_type": "execute_result"
    }
   ],
   "source": [
    "table = table.iloc[:5]\n",
    "table"
   ]
  },
  {
   "cell_type": "code",
   "execution_count": 12,
   "metadata": {
    "ExecuteTime": {
     "end_time": "2020-01-15T09:27:39.268933Z",
     "start_time": "2020-01-15T09:27:39.109371Z"
    }
   },
   "outputs": [
    {
     "data": {
      "image/png": "[encoded data removed]",
      "text/plain": [
       "<Figure size 432x288 with 1 Axes>"
      ]
     },
     "metadata": {
      "needs_background": "light"
     },
     "output_type": "display_data"
    }
   ],
   "source": [
    "ax = table.plot.bar(x=0, y=1)"
   ]
  },
  {
   "cell_type": "markdown",
   "metadata": {},
   "source": [
    "## Relacionado y notificante"
   ]
  },
  {
   "cell_type": "code",
   "execution_count": 13,
   "metadata": {
    "ExecuteTime": {
     "end_time": "2020-01-27T12:25:25.589318Z",
     "start_time": "2020-01-27T12:25:25.579339Z"
    },
    "scrolled": true
   },
   "outputs": [
    {
     "data": {
      "text/html": [
       "<div>\n",
       "<style scoped>\n",
       "    .dataframe tbody tr th:only-of-type {\n",
       "        vertical-align: middle;\n",
       "    }\n",
       "\n",
       "    .dataframe tbody tr th {\n",
       "        vertical-align: top;\n",
       "    }\n",
       "\n",
       "    .dataframe thead th {\n",
       "        text-align: right;\n",
       "    }\n",
       "</style>\n",
       "<table border=\"1\" class=\"dataframe\">\n",
       "  <thead>\n",
       "    <tr style=\"text-align: right;\">\n",
       "      <th></th>\n",
       "      <th>0</th>\n",
       "      <th>1</th>\n",
       "    </tr>\n",
       "  </thead>\n",
       "  <tbody>\n",
       "    <tr>\n",
       "      <th>7</th>\n",
       "      <td>Italy</td>\n",
       "      <td>4781</td>\n",
       "    </tr>\n",
       "    <tr>\n",
       "      <th>6</th>\n",
       "      <td>United Kingdom</td>\n",
       "      <td>4127</td>\n",
       "    </tr>\n",
       "    <tr>\n",
       "      <th>3</th>\n",
       "      <td>Germany</td>\n",
       "      <td>3853</td>\n",
       "    </tr>\n",
       "    <tr>\n",
       "      <th>9</th>\n",
       "      <td>Spain</td>\n",
       "      <td>3695</td>\n",
       "    </tr>\n",
       "    <tr>\n",
       "      <th>2</th>\n",
       "      <td>Netherlands</td>\n",
       "      <td>2818</td>\n",
       "    </tr>\n",
       "    <tr>\n",
       "      <th>0</th>\n",
       "      <td>France</td>\n",
       "      <td>1522</td>\n",
       "    </tr>\n",
       "    <tr>\n",
       "      <th>12</th>\n",
       "      <td>Greece</td>\n",
       "      <td>1490</td>\n",
       "    </tr>\n",
       "    <tr>\n",
       "      <th>1</th>\n",
       "      <td>Poland</td>\n",
       "      <td>1103</td>\n",
       "    </tr>\n",
       "    <tr>\n",
       "      <th>5</th>\n",
       "      <td>Belgium</td>\n",
       "      <td>931</td>\n",
       "    </tr>\n",
       "    <tr>\n",
       "      <th>4</th>\n",
       "      <td>Bulgaria</td>\n",
       "      <td>816</td>\n",
       "    </tr>\n",
       "    <tr>\n",
       "      <th>10</th>\n",
       "      <td>Finland</td>\n",
       "      <td>747</td>\n",
       "    </tr>\n",
       "    <tr>\n",
       "      <th>21</th>\n",
       "      <td>Norway</td>\n",
       "      <td>454</td>\n",
       "    </tr>\n",
       "    <tr>\n",
       "      <th>11</th>\n",
       "      <td>Sweden</td>\n",
       "      <td>442</td>\n",
       "    </tr>\n",
       "    <tr>\n",
       "      <th>8</th>\n",
       "      <td>Denmark</td>\n",
       "      <td>410</td>\n",
       "    </tr>\n",
       "    <tr>\n",
       "      <th>13</th>\n",
       "      <td>Portugal</td>\n",
       "      <td>410</td>\n",
       "    </tr>\n",
       "    <tr>\n",
       "      <th>22</th>\n",
       "      <td>Cyprus</td>\n",
       "      <td>325</td>\n",
       "    </tr>\n",
       "    <tr>\n",
       "      <th>24</th>\n",
       "      <td>Austria</td>\n",
       "      <td>287</td>\n",
       "    </tr>\n",
       "    <tr>\n",
       "      <th>14</th>\n",
       "      <td>Lithuania</td>\n",
       "      <td>275</td>\n",
       "    </tr>\n",
       "    <tr>\n",
       "      <th>17</th>\n",
       "      <td>Slovenia</td>\n",
       "      <td>260</td>\n",
       "    </tr>\n",
       "    <tr>\n",
       "      <th>16</th>\n",
       "      <td>Czech Republic</td>\n",
       "      <td>183</td>\n",
       "    </tr>\n",
       "    <tr>\n",
       "      <th>23</th>\n",
       "      <td>Latvia</td>\n",
       "      <td>160</td>\n",
       "    </tr>\n",
       "    <tr>\n",
       "      <th>15</th>\n",
       "      <td>Malta</td>\n",
       "      <td>136</td>\n",
       "    </tr>\n",
       "    <tr>\n",
       "      <th>28</th>\n",
       "      <td>Ireland</td>\n",
       "      <td>133</td>\n",
       "    </tr>\n",
       "    <tr>\n",
       "      <th>20</th>\n",
       "      <td>Slovakia</td>\n",
       "      <td>116</td>\n",
       "    </tr>\n",
       "    <tr>\n",
       "      <th>27</th>\n",
       "      <td>Romania</td>\n",
       "      <td>99</td>\n",
       "    </tr>\n",
       "    <tr>\n",
       "      <th>25</th>\n",
       "      <td>Luxembourg</td>\n",
       "      <td>89</td>\n",
       "    </tr>\n",
       "    <tr>\n",
       "      <th>19</th>\n",
       "      <td>Hungary</td>\n",
       "      <td>82</td>\n",
       "    </tr>\n",
       "    <tr>\n",
       "      <th>30</th>\n",
       "      <td>Commission Services</td>\n",
       "      <td>73</td>\n",
       "    </tr>\n",
       "    <tr>\n",
       "      <th>18</th>\n",
       "      <td>Croatia</td>\n",
       "      <td>67</td>\n",
       "    </tr>\n",
       "    <tr>\n",
       "      <th>29</th>\n",
       "      <td>Estonia</td>\n",
       "      <td>58</td>\n",
       "    </tr>\n",
       "    <tr>\n",
       "      <th>26</th>\n",
       "      <td>Switzerland</td>\n",
       "      <td>41</td>\n",
       "    </tr>\n",
       "    <tr>\n",
       "      <th>31</th>\n",
       "      <td>Iceland</td>\n",
       "      <td>21</td>\n",
       "    </tr>\n",
       "    <tr>\n",
       "      <th>32</th>\n",
       "      <td>United States</td>\n",
       "      <td>6</td>\n",
       "    </tr>\n",
       "    <tr>\n",
       "      <th>33</th>\n",
       "      <td>Canada</td>\n",
       "      <td>2</td>\n",
       "    </tr>\n",
       "  </tbody>\n",
       "</table>\n",
       "</div>"
      ],
      "text/plain": [
       "                      0     1\n",
       "7                 Italy  4781\n",
       "6        United Kingdom  4127\n",
       "3               Germany  3853\n",
       "9                 Spain  3695\n",
       "2           Netherlands  2818\n",
       "0                France  1522\n",
       "12               Greece  1490\n",
       "1                Poland  1103\n",
       "5               Belgium   931\n",
       "4              Bulgaria   816\n",
       "10              Finland   747\n",
       "21               Norway   454\n",
       "11               Sweden   442\n",
       "8               Denmark   410\n",
       "13             Portugal   410\n",
       "22               Cyprus   325\n",
       "24              Austria   287\n",
       "14            Lithuania   275\n",
       "17             Slovenia   260\n",
       "16       Czech Republic   183\n",
       "23               Latvia   160\n",
       "15                Malta   136\n",
       "28              Ireland   133\n",
       "20             Slovakia   116\n",
       "27              Romania    99\n",
       "25           Luxembourg    89\n",
       "19              Hungary    82\n",
       "30  Commission Services    73\n",
       "18              Croatia    67\n",
       "29              Estonia    58\n",
       "26          Switzerland    41\n",
       "31              Iceland    21\n",
       "32        United States     6\n",
       "33               Canada     2"
      ]
     },
     "execution_count": 13,
     "metadata": {},
     "output_type": "execute_result"
    }
   ],
   "source": [
    "count = Counter(rel_not)\n",
    "table = pd.DataFrame(list(count.items()))\n",
    "table = table.sort_values(by=[1], ascending = False)\n",
    "table"
   ]
  },
  {
   "cell_type": "code",
   "execution_count": 14,
   "metadata": {
    "ExecuteTime": {
     "end_time": "2019-12-17T09:14:04.544623Z",
     "start_time": "2019-12-17T09:14:04.540634Z"
    }
   },
   "outputs": [],
   "source": [
    "barras_comb['notifier_concern'] = table[1].sum()"
   ]
  },
  {
   "cell_type": "code",
   "execution_count": 15,
   "metadata": {
    "ExecuteTime": {
     "end_time": "2019-12-17T09:14:04.725836Z",
     "start_time": "2019-12-17T09:14:04.717882Z"
    }
   },
   "outputs": [
    {
     "data": {
      "text/html": [
       "<div>\n",
       "<style scoped>\n",
       "    .dataframe tbody tr th:only-of-type {\n",
       "        vertical-align: middle;\n",
       "    }\n",
       "\n",
       "    .dataframe tbody tr th {\n",
       "        vertical-align: top;\n",
       "    }\n",
       "\n",
       "    .dataframe thead th {\n",
       "        text-align: right;\n",
       "    }\n",
       "</style>\n",
       "<table border=\"1\" class=\"dataframe\">\n",
       "  <thead>\n",
       "    <tr style=\"text-align: right;\">\n",
       "      <th></th>\n",
       "      <th>0</th>\n",
       "      <th>1</th>\n",
       "    </tr>\n",
       "  </thead>\n",
       "  <tbody>\n",
       "    <tr>\n",
       "      <th>7</th>\n",
       "      <td>Italy</td>\n",
       "      <td>4781</td>\n",
       "    </tr>\n",
       "    <tr>\n",
       "      <th>6</th>\n",
       "      <td>United Kingdom</td>\n",
       "      <td>4127</td>\n",
       "    </tr>\n",
       "    <tr>\n",
       "      <th>3</th>\n",
       "      <td>Germany</td>\n",
       "      <td>3853</td>\n",
       "    </tr>\n",
       "    <tr>\n",
       "      <th>9</th>\n",
       "      <td>Spain</td>\n",
       "      <td>3695</td>\n",
       "    </tr>\n",
       "    <tr>\n",
       "      <th>2</th>\n",
       "      <td>Netherlands</td>\n",
       "      <td>2818</td>\n",
       "    </tr>\n",
       "  </tbody>\n",
       "</table>\n",
       "</div>"
      ],
      "text/plain": [
       "                0     1\n",
       "7           Italy  4781\n",
       "6  United Kingdom  4127\n",
       "3         Germany  3853\n",
       "9           Spain  3695\n",
       "2     Netherlands  2818"
      ]
     },
     "execution_count": 15,
     "metadata": {},
     "output_type": "execute_result"
    }
   ],
   "source": [
    "table = table.iloc[:5]\n",
    "table"
   ]
  },
  {
   "cell_type": "code",
   "execution_count": 16,
   "metadata": {
    "ExecuteTime": {
     "end_time": "2019-12-17T09:14:05.018489Z",
     "start_time": "2019-12-17T09:14:04.907729Z"
    }
   },
   "outputs": [
    {
     "data": {
      "image/png": "[encoded data removed]",
      "text/plain": [
       "<Figure size 432x288 with 1 Axes>"
      ]
     },
     "metadata": {
      "needs_background": "light"
     },
     "output_type": "display_data"
    }
   ],
   "source": [
    "ax = table.plot.bar(x=0, y=1)"
   ]
  },
  {
   "cell_type": "markdown",
   "metadata": {},
   "source": [
    "## Destino y notificante"
   ]
  },
  {
   "cell_type": "code",
   "execution_count": 18,
   "metadata": {
    "ExecuteTime": {
     "end_time": "2020-01-27T12:25:49.496126Z",
     "start_time": "2020-01-27T12:25:49.486126Z"
    },
    "scrolled": true
   },
   "outputs": [
    {
     "data": {
      "text/html": [
       "<div>\n",
       "<style scoped>\n",
       "    .dataframe tbody tr th:only-of-type {\n",
       "        vertical-align: middle;\n",
       "    }\n",
       "\n",
       "    .dataframe tbody tr th {\n",
       "        vertical-align: top;\n",
       "    }\n",
       "\n",
       "    .dataframe thead th {\n",
       "        text-align: right;\n",
       "    }\n",
       "</style>\n",
       "<table border=\"1\" class=\"dataframe\">\n",
       "  <thead>\n",
       "    <tr style=\"text-align: right;\">\n",
       "      <th></th>\n",
       "      <th>0</th>\n",
       "      <th>1</th>\n",
       "    </tr>\n",
       "  </thead>\n",
       "  <tbody>\n",
       "    <tr>\n",
       "      <th>7</th>\n",
       "      <td>Italy</td>\n",
       "      <td>3553</td>\n",
       "    </tr>\n",
       "    <tr>\n",
       "      <th>10</th>\n",
       "      <td>Germany</td>\n",
       "      <td>3006</td>\n",
       "    </tr>\n",
       "    <tr>\n",
       "      <th>15</th>\n",
       "      <td>United Kingdom</td>\n",
       "      <td>1414</td>\n",
       "    </tr>\n",
       "    <tr>\n",
       "      <th>1</th>\n",
       "      <td>Denmark</td>\n",
       "      <td>1264</td>\n",
       "    </tr>\n",
       "    <tr>\n",
       "      <th>0</th>\n",
       "      <td>France</td>\n",
       "      <td>1151</td>\n",
       "    </tr>\n",
       "    <tr>\n",
       "      <th>5</th>\n",
       "      <td>Netherlands</td>\n",
       "      <td>1100</td>\n",
       "    </tr>\n",
       "    <tr>\n",
       "      <th>13</th>\n",
       "      <td>Belgium</td>\n",
       "      <td>904</td>\n",
       "    </tr>\n",
       "    <tr>\n",
       "      <th>12</th>\n",
       "      <td>Czech Republic</td>\n",
       "      <td>832</td>\n",
       "    </tr>\n",
       "    <tr>\n",
       "      <th>6</th>\n",
       "      <td>Sweden</td>\n",
       "      <td>773</td>\n",
       "    </tr>\n",
       "    <tr>\n",
       "      <th>4</th>\n",
       "      <td>Finland</td>\n",
       "      <td>732</td>\n",
       "    </tr>\n",
       "    <tr>\n",
       "      <th>14</th>\n",
       "      <td>Austria</td>\n",
       "      <td>727</td>\n",
       "    </tr>\n",
       "    <tr>\n",
       "      <th>8</th>\n",
       "      <td>Norway</td>\n",
       "      <td>558</td>\n",
       "    </tr>\n",
       "    <tr>\n",
       "      <th>16</th>\n",
       "      <td>Slovakia</td>\n",
       "      <td>488</td>\n",
       "    </tr>\n",
       "    <tr>\n",
       "      <th>2</th>\n",
       "      <td>Poland</td>\n",
       "      <td>424</td>\n",
       "    </tr>\n",
       "    <tr>\n",
       "      <th>9</th>\n",
       "      <td>Slovenia</td>\n",
       "      <td>411</td>\n",
       "    </tr>\n",
       "    <tr>\n",
       "      <th>3</th>\n",
       "      <td>Spain</td>\n",
       "      <td>393</td>\n",
       "    </tr>\n",
       "    <tr>\n",
       "      <th>27</th>\n",
       "      <td>Ireland</td>\n",
       "      <td>357</td>\n",
       "    </tr>\n",
       "    <tr>\n",
       "      <th>25</th>\n",
       "      <td>Cyprus</td>\n",
       "      <td>348</td>\n",
       "    </tr>\n",
       "    <tr>\n",
       "      <th>24</th>\n",
       "      <td>Greece</td>\n",
       "      <td>340</td>\n",
       "    </tr>\n",
       "    <tr>\n",
       "      <th>18</th>\n",
       "      <td>Lithuania</td>\n",
       "      <td>321</td>\n",
       "    </tr>\n",
       "    <tr>\n",
       "      <th>17</th>\n",
       "      <td>Switzerland</td>\n",
       "      <td>270</td>\n",
       "    </tr>\n",
       "    <tr>\n",
       "      <th>19</th>\n",
       "      <td>Hungary</td>\n",
       "      <td>204</td>\n",
       "    </tr>\n",
       "    <tr>\n",
       "      <th>20</th>\n",
       "      <td>Latvia</td>\n",
       "      <td>200</td>\n",
       "    </tr>\n",
       "    <tr>\n",
       "      <th>22</th>\n",
       "      <td>Estonia</td>\n",
       "      <td>199</td>\n",
       "    </tr>\n",
       "    <tr>\n",
       "      <th>26</th>\n",
       "      <td>Luxembourg</td>\n",
       "      <td>152</td>\n",
       "    </tr>\n",
       "    <tr>\n",
       "      <th>28</th>\n",
       "      <td>Malta</td>\n",
       "      <td>127</td>\n",
       "    </tr>\n",
       "    <tr>\n",
       "      <th>23</th>\n",
       "      <td>Portugal</td>\n",
       "      <td>98</td>\n",
       "    </tr>\n",
       "    <tr>\n",
       "      <th>21</th>\n",
       "      <td>Romania</td>\n",
       "      <td>93</td>\n",
       "    </tr>\n",
       "    <tr>\n",
       "      <th>11</th>\n",
       "      <td>Croatia</td>\n",
       "      <td>89</td>\n",
       "    </tr>\n",
       "    <tr>\n",
       "      <th>29</th>\n",
       "      <td>Bulgaria</td>\n",
       "      <td>62</td>\n",
       "    </tr>\n",
       "    <tr>\n",
       "      <th>30</th>\n",
       "      <td>Iceland</td>\n",
       "      <td>34</td>\n",
       "    </tr>\n",
       "  </tbody>\n",
       "</table>\n",
       "</div>"
      ],
      "text/plain": [
       "                 0     1\n",
       "7            Italy  3553\n",
       "10         Germany  3006\n",
       "15  United Kingdom  1414\n",
       "1          Denmark  1264\n",
       "0           France  1151\n",
       "5      Netherlands  1100\n",
       "13         Belgium   904\n",
       "12  Czech Republic   832\n",
       "6           Sweden   773\n",
       "4          Finland   732\n",
       "14         Austria   727\n",
       "8           Norway   558\n",
       "16        Slovakia   488\n",
       "2           Poland   424\n",
       "9         Slovenia   411\n",
       "3            Spain   393\n",
       "27         Ireland   357\n",
       "25          Cyprus   348\n",
       "24          Greece   340\n",
       "18       Lithuania   321\n",
       "17     Switzerland   270\n",
       "19         Hungary   204\n",
       "20          Latvia   200\n",
       "22         Estonia   199\n",
       "26      Luxembourg   152\n",
       "28           Malta   127\n",
       "23        Portugal    98\n",
       "21         Romania    93\n",
       "11         Croatia    89\n",
       "29        Bulgaria    62\n",
       "30         Iceland    34"
      ]
     },
     "execution_count": 18,
     "metadata": {},
     "output_type": "execute_result"
    }
   ],
   "source": [
    "count = Counter(dest_not)\n",
    "table = pd.DataFrame(list(count.items()))\n",
    "table = table.sort_values(by=[1], ascending = False)\n",
    "table"
   ]
  },
  {
   "cell_type": "code",
   "execution_count": 19,
   "metadata": {
    "ExecuteTime": {
     "end_time": "2019-12-17T09:14:05.855685Z",
     "start_time": "2019-12-17T09:14:05.838986Z"
    }
   },
   "outputs": [],
   "source": [
    "barras_comb['notifier_destination'] = table[1].sum()"
   ]
  },
  {
   "cell_type": "code",
   "execution_count": 20,
   "metadata": {
    "ExecuteTime": {
     "end_time": "2019-12-17T09:14:06.517190Z",
     "start_time": "2019-12-17T09:14:06.509238Z"
    }
   },
   "outputs": [
    {
     "data": {
      "text/html": [
       "<div>\n",
       "<style scoped>\n",
       "    .dataframe tbody tr th:only-of-type {\n",
       "        vertical-align: middle;\n",
       "    }\n",
       "\n",
       "    .dataframe tbody tr th {\n",
       "        vertical-align: top;\n",
       "    }\n",
       "\n",
       "    .dataframe thead th {\n",
       "        text-align: right;\n",
       "    }\n",
       "</style>\n",
       "<table border=\"1\" class=\"dataframe\">\n",
       "  <thead>\n",
       "    <tr style=\"text-align: right;\">\n",
       "      <th></th>\n",
       "      <th>0</th>\n",
       "      <th>1</th>\n",
       "    </tr>\n",
       "  </thead>\n",
       "  <tbody>\n",
       "    <tr>\n",
       "      <th>7</th>\n",
       "      <td>Italy</td>\n",
       "      <td>3553</td>\n",
       "    </tr>\n",
       "    <tr>\n",
       "      <th>10</th>\n",
       "      <td>Germany</td>\n",
       "      <td>3006</td>\n",
       "    </tr>\n",
       "    <tr>\n",
       "      <th>15</th>\n",
       "      <td>United Kingdom</td>\n",
       "      <td>1414</td>\n",
       "    </tr>\n",
       "    <tr>\n",
       "      <th>1</th>\n",
       "      <td>Denmark</td>\n",
       "      <td>1264</td>\n",
       "    </tr>\n",
       "    <tr>\n",
       "      <th>0</th>\n",
       "      <td>France</td>\n",
       "      <td>1151</td>\n",
       "    </tr>\n",
       "  </tbody>\n",
       "</table>\n",
       "</div>"
      ],
      "text/plain": [
       "                 0     1\n",
       "7            Italy  3553\n",
       "10         Germany  3006\n",
       "15  United Kingdom  1414\n",
       "1          Denmark  1264\n",
       "0           France  1151"
      ]
     },
     "execution_count": 20,
     "metadata": {},
     "output_type": "execute_result"
    }
   ],
   "source": [
    "table = table.iloc[:5]\n",
    "table"
   ]
  },
  {
   "cell_type": "code",
   "execution_count": 21,
   "metadata": {
    "ExecuteTime": {
     "end_time": "2019-12-17T09:14:09.871297Z",
     "start_time": "2019-12-17T09:14:09.756057Z"
    }
   },
   "outputs": [
    {
     "data": {
      "image/png": "[encoded data removed]",
      "text/plain": [
       "<Figure size 432x288 with 1 Axes>"
      ]
     },
     "metadata": {
      "needs_background": "light"
     },
     "output_type": "display_data"
    }
   ],
   "source": [
    "ax = table.plot.bar(x=0, y=1)"
   ]
  },
  {
   "cell_type": "markdown",
   "metadata": {},
   "source": [
    "## Origen,destino y notificante"
   ]
  },
  {
   "cell_type": "code",
   "execution_count": 22,
   "metadata": {
    "ExecuteTime": {
     "end_time": "2020-01-27T12:25:58.228282Z",
     "start_time": "2020-01-27T12:25:58.219276Z"
    },
    "scrolled": true
   },
   "outputs": [
    {
     "data": {
      "text/html": [
       "<div>\n",
       "<style scoped>\n",
       "    .dataframe tbody tr th:only-of-type {\n",
       "        vertical-align: middle;\n",
       "    }\n",
       "\n",
       "    .dataframe tbody tr th {\n",
       "        vertical-align: top;\n",
       "    }\n",
       "\n",
       "    .dataframe thead th {\n",
       "        text-align: right;\n",
       "    }\n",
       "</style>\n",
       "<table border=\"1\" class=\"dataframe\">\n",
       "  <thead>\n",
       "    <tr style=\"text-align: right;\">\n",
       "      <th></th>\n",
       "      <th>0</th>\n",
       "      <th>1</th>\n",
       "    </tr>\n",
       "  </thead>\n",
       "  <tbody>\n",
       "    <tr>\n",
       "      <th>2</th>\n",
       "      <td>Germany</td>\n",
       "      <td>613</td>\n",
       "    </tr>\n",
       "    <tr>\n",
       "      <th>1</th>\n",
       "      <td>Italy</td>\n",
       "      <td>601</td>\n",
       "    </tr>\n",
       "    <tr>\n",
       "      <th>4</th>\n",
       "      <td>France</td>\n",
       "      <td>475</td>\n",
       "    </tr>\n",
       "    <tr>\n",
       "      <th>7</th>\n",
       "      <td>United Kingdom</td>\n",
       "      <td>359</td>\n",
       "    </tr>\n",
       "    <tr>\n",
       "      <th>8</th>\n",
       "      <td>Belgium</td>\n",
       "      <td>312</td>\n",
       "    </tr>\n",
       "    <tr>\n",
       "      <th>0</th>\n",
       "      <td>Poland</td>\n",
       "      <td>277</td>\n",
       "    </tr>\n",
       "    <tr>\n",
       "      <th>3</th>\n",
       "      <td>Spain</td>\n",
       "      <td>265</td>\n",
       "    </tr>\n",
       "    <tr>\n",
       "      <th>10</th>\n",
       "      <td>Netherlands</td>\n",
       "      <td>190</td>\n",
       "    </tr>\n",
       "    <tr>\n",
       "      <th>6</th>\n",
       "      <td>Denmark</td>\n",
       "      <td>130</td>\n",
       "    </tr>\n",
       "    <tr>\n",
       "      <th>16</th>\n",
       "      <td>Austria</td>\n",
       "      <td>105</td>\n",
       "    </tr>\n",
       "    <tr>\n",
       "      <th>12</th>\n",
       "      <td>Sweden</td>\n",
       "      <td>100</td>\n",
       "    </tr>\n",
       "    <tr>\n",
       "      <th>15</th>\n",
       "      <td>Czech Republic</td>\n",
       "      <td>82</td>\n",
       "    </tr>\n",
       "    <tr>\n",
       "      <th>23</th>\n",
       "      <td>Greece</td>\n",
       "      <td>64</td>\n",
       "    </tr>\n",
       "    <tr>\n",
       "      <th>11</th>\n",
       "      <td>Ireland</td>\n",
       "      <td>60</td>\n",
       "    </tr>\n",
       "    <tr>\n",
       "      <th>28</th>\n",
       "      <td>Slovakia</td>\n",
       "      <td>57</td>\n",
       "    </tr>\n",
       "    <tr>\n",
       "      <th>5</th>\n",
       "      <td>Slovenia</td>\n",
       "      <td>44</td>\n",
       "    </tr>\n",
       "    <tr>\n",
       "      <th>20</th>\n",
       "      <td>Cyprus</td>\n",
       "      <td>41</td>\n",
       "    </tr>\n",
       "    <tr>\n",
       "      <th>25</th>\n",
       "      <td>Malta</td>\n",
       "      <td>39</td>\n",
       "    </tr>\n",
       "    <tr>\n",
       "      <th>24</th>\n",
       "      <td>Hungary</td>\n",
       "      <td>29</td>\n",
       "    </tr>\n",
       "    <tr>\n",
       "      <th>21</th>\n",
       "      <td>Norway</td>\n",
       "      <td>28</td>\n",
       "    </tr>\n",
       "    <tr>\n",
       "      <th>22</th>\n",
       "      <td>Finland</td>\n",
       "      <td>23</td>\n",
       "    </tr>\n",
       "    <tr>\n",
       "      <th>26</th>\n",
       "      <td>Portugal</td>\n",
       "      <td>20</td>\n",
       "    </tr>\n",
       "    <tr>\n",
       "      <th>13</th>\n",
       "      <td>Lithuania</td>\n",
       "      <td>14</td>\n",
       "    </tr>\n",
       "    <tr>\n",
       "      <th>9</th>\n",
       "      <td>Latvia</td>\n",
       "      <td>10</td>\n",
       "    </tr>\n",
       "    <tr>\n",
       "      <th>27</th>\n",
       "      <td>Romania</td>\n",
       "      <td>10</td>\n",
       "    </tr>\n",
       "    <tr>\n",
       "      <th>17</th>\n",
       "      <td>Switzerland</td>\n",
       "      <td>9</td>\n",
       "    </tr>\n",
       "    <tr>\n",
       "      <th>30</th>\n",
       "      <td>Bulgaria</td>\n",
       "      <td>9</td>\n",
       "    </tr>\n",
       "    <tr>\n",
       "      <th>18</th>\n",
       "      <td>Estonia</td>\n",
       "      <td>8</td>\n",
       "    </tr>\n",
       "    <tr>\n",
       "      <th>14</th>\n",
       "      <td>Croatia</td>\n",
       "      <td>6</td>\n",
       "    </tr>\n",
       "    <tr>\n",
       "      <th>19</th>\n",
       "      <td>Iceland</td>\n",
       "      <td>2</td>\n",
       "    </tr>\n",
       "    <tr>\n",
       "      <th>29</th>\n",
       "      <td>Luxembourg</td>\n",
       "      <td>1</td>\n",
       "    </tr>\n",
       "  </tbody>\n",
       "</table>\n",
       "</div>"
      ],
      "text/plain": [
       "                 0    1\n",
       "2          Germany  613\n",
       "1            Italy  601\n",
       "4           France  475\n",
       "7   United Kingdom  359\n",
       "8          Belgium  312\n",
       "0           Poland  277\n",
       "3            Spain  265\n",
       "10     Netherlands  190\n",
       "6          Denmark  130\n",
       "16         Austria  105\n",
       "12          Sweden  100\n",
       "15  Czech Republic   82\n",
       "23          Greece   64\n",
       "11         Ireland   60\n",
       "28        Slovakia   57\n",
       "5         Slovenia   44\n",
       "20          Cyprus   41\n",
       "25           Malta   39\n",
       "24         Hungary   29\n",
       "21          Norway   28\n",
       "22         Finland   23\n",
       "26        Portugal   20\n",
       "13       Lithuania   14\n",
       "9           Latvia   10\n",
       "27         Romania   10\n",
       "17     Switzerland    9\n",
       "30        Bulgaria    9\n",
       "18         Estonia    8\n",
       "14         Croatia    6\n",
       "19         Iceland    2\n",
       "29      Luxembourg    1"
      ]
     },
     "execution_count": 22,
     "metadata": {},
     "output_type": "execute_result"
    }
   ],
   "source": [
    "count = Counter(ori_dest_not)\n",
    "table = pd.DataFrame(list(count.items()))\n",
    "table = table.sort_values(by=[1], ascending = False)\n",
    "table"
   ]
  },
  {
   "cell_type": "code",
   "execution_count": 23,
   "metadata": {
    "ExecuteTime": {
     "end_time": "2019-12-17T09:14:12.401152Z",
     "start_time": "2019-12-17T09:14:12.397163Z"
    }
   },
   "outputs": [],
   "source": [
    "barras_comb['notifier_origin_destination'] = table[1].sum()"
   ]
  },
  {
   "cell_type": "code",
   "execution_count": 24,
   "metadata": {
    "ExecuteTime": {
     "end_time": "2019-12-17T09:14:12.822912Z",
     "start_time": "2019-12-17T09:14:12.815958Z"
    }
   },
   "outputs": [
    {
     "data": {
      "text/html": [
       "<div>\n",
       "<style scoped>\n",
       "    .dataframe tbody tr th:only-of-type {\n",
       "        vertical-align: middle;\n",
       "    }\n",
       "\n",
       "    .dataframe tbody tr th {\n",
       "        vertical-align: top;\n",
       "    }\n",
       "\n",
       "    .dataframe thead th {\n",
       "        text-align: right;\n",
       "    }\n",
       "</style>\n",
       "<table border=\"1\" class=\"dataframe\">\n",
       "  <thead>\n",
       "    <tr style=\"text-align: right;\">\n",
       "      <th></th>\n",
       "      <th>0</th>\n",
       "      <th>1</th>\n",
       "    </tr>\n",
       "  </thead>\n",
       "  <tbody>\n",
       "    <tr>\n",
       "      <th>2</th>\n",
       "      <td>Germany</td>\n",
       "      <td>613</td>\n",
       "    </tr>\n",
       "    <tr>\n",
       "      <th>1</th>\n",
       "      <td>Italy</td>\n",
       "      <td>601</td>\n",
       "    </tr>\n",
       "    <tr>\n",
       "      <th>4</th>\n",
       "      <td>France</td>\n",
       "      <td>475</td>\n",
       "    </tr>\n",
       "    <tr>\n",
       "      <th>7</th>\n",
       "      <td>United Kingdom</td>\n",
       "      <td>359</td>\n",
       "    </tr>\n",
       "    <tr>\n",
       "      <th>8</th>\n",
       "      <td>Belgium</td>\n",
       "      <td>312</td>\n",
       "    </tr>\n",
       "  </tbody>\n",
       "</table>\n",
       "</div>"
      ],
      "text/plain": [
       "                0    1\n",
       "2         Germany  613\n",
       "1           Italy  601\n",
       "4          France  475\n",
       "7  United Kingdom  359\n",
       "8         Belgium  312"
      ]
     },
     "execution_count": 24,
     "metadata": {},
     "output_type": "execute_result"
    }
   ],
   "source": [
    "table = table.iloc[:5]\n",
    "table"
   ]
  },
  {
   "cell_type": "code",
   "execution_count": 25,
   "metadata": {
    "ExecuteTime": {
     "end_time": "2019-12-17T09:14:13.963896Z",
     "start_time": "2019-12-17T09:14:13.853175Z"
    }
   },
   "outputs": [
    {
     "data": {
      "image/png": "[encoded data removed]",
      "text/plain": [
       "<Figure size 432x288 with 1 Axes>"
      ]
     },
     "metadata": {
      "needs_background": "light"
     },
     "output_type": "display_data"
    }
   ],
   "source": [
    "ax = table.plot.bar(x=0, y=1)"
   ]
  },
  {
   "cell_type": "markdown",
   "metadata": {},
   "source": [
    "# Pie chart y diagrama de barras de los roles de los paises notificantes"
   ]
  },
  {
   "cell_type": "code",
   "execution_count": 28,
   "metadata": {
    "ExecuteTime": {
     "end_time": "2019-12-17T09:14:18.111321Z",
     "start_time": "2019-12-17T09:14:18.108304Z"
    }
   },
   "outputs": [],
   "source": [
    "barras_comb['Unknown'] = 30\n",
    "D = barras_comb"
   ]
  },
  {
   "cell_type": "code",
   "execution_count": 29,
   "metadata": {
    "ExecuteTime": {
     "end_time": "2019-12-17T09:14:18.529017Z",
     "start_time": "2019-12-17T09:14:18.525050Z"
    }
   },
   "outputs": [
    {
     "data": {
      "text/plain": [
       "{'notifier_origin': 1702,\n",
       " 'notifier_concern': 30012,\n",
       " 'notifier_destination': 20624,\n",
       " 'notifier_origin_destination': 3983,\n",
       " 'Unknown': 30}"
      ]
     },
     "execution_count": 29,
     "metadata": {},
     "output_type": "execute_result"
    }
   ],
   "source": [
    "D"
   ]
  },
  {
   "cell_type": "code",
   "execution_count": 30,
   "metadata": {
    "ExecuteTime": {
     "end_time": "2019-12-17T09:14:21.025146Z",
     "start_time": "2019-12-17T09:14:21.021179Z"
    }
   },
   "outputs": [
    {
     "data": {
      "text/plain": [
       "56351"
      ]
     },
     "execution_count": 30,
     "metadata": {},
     "output_type": "execute_result"
    }
   ],
   "source": [
    "sum(D.values())"
   ]
  },
  {
   "cell_type": "code",
   "execution_count": 31,
   "metadata": {
    "ExecuteTime": {
     "end_time": "2019-12-17T10:35:42.536375Z",
     "start_time": "2019-12-17T10:35:42.533360Z"
    }
   },
   "outputs": [],
   "source": [
    "size_not_ori = D['notifier_origin']/56351*100\n",
    "size_not_con = D['notifier_concern']/56351*100\n",
    "size_not_des = D['notifier_destination']/56351*100\n",
    "size_not_ori_des = D['notifier_origin_destination']/56351*100\n",
    "size_unknown = D['Unknown']/56351*100"
   ]
  },
  {
   "cell_type": "code",
   "execution_count": 32,
   "metadata": {
    "ExecuteTime": {
     "end_time": "2019-12-17T10:35:42.731313Z",
     "start_time": "2019-12-17T10:35:42.727323Z"
    }
   },
   "outputs": [
    {
     "name": "stdout",
     "output_type": "stream",
     "text": [
      "3.020354563361786 53.25903710670619 36.59917304040744 7.068197547514685 0.05323774200990222\n"
     ]
    }
   ],
   "source": [
    "print(size_not_ori,size_not_con,size_not_des,size_not_ori_des,size_unknown)"
   ]
  },
  {
   "cell_type": "code",
   "execution_count": 33,
   "metadata": {
    "ExecuteTime": {
     "end_time": "2019-12-17T10:35:43.112889Z",
     "start_time": "2019-12-17T10:35:43.109924Z"
    }
   },
   "outputs": [],
   "source": [
    "size_unknown = size_unknown + 0.2"
   ]
  },
  {
   "cell_type": "code",
   "execution_count": 34,
   "metadata": {
    "ExecuteTime": {
     "end_time": "2019-12-17T10:36:03.403622Z",
     "start_time": "2019-12-17T10:36:02.996242Z"
    }
   },
   "outputs": [
    {
     "data": {
      "image/png": "[encoded data removed]",
      "text/plain": [
       "<Figure size 432x288 with 1 Axes>"
      ]
     },
     "metadata": {},
     "output_type": "display_data"
    }
   ],
   "source": [
    "explode = (0.0, 0.0,  0.0,  0.0, 0.1)\n",
    "labels = 'Notifier and origin', 'Notifier and distributor', 'Notifier and destination', 'Notifier, origin and destination','Does not apply'\n",
    "sizes = [size_not_ori, size_not_con, size_not_des,size_not_ori_des,size_unknown]\n",
    "colors = ['gold', 'lightcoral', 'lightskyblue', 'forestgreen','r']\n",
    "# Plot\n",
    "patches, texts, autotexts = plt.pie(sizes, labels=labels, colors=colors,\n",
    "autopct='%1.2f%%', shadow=False,pctdistance = 1.2,labeldistance  = 1.4, counterclock = False,\n",
    "        wedgeprops = {'linewidth': 0.6, 'joinstyle':'round', 'edgecolor':'white'})\n",
    "texts[4].set_fontsize(8)\n",
    "autotexts[4].set_fontsize(8)\n",
    "texts[0].set_fontsize(10)\n",
    "autotexts[0].set_fontsize(10)\n",
    "plt.axis('equal')\n",
    "plt.savefig(\"pie_chart.png\", format = \"png\", dpi = 400, bbox_inches='tight')\n",
    "plt.show()"
   ]
  },
  {
   "cell_type": "code",
   "execution_count": 35,
   "metadata": {
    "ExecuteTime": {
     "end_time": "2019-11-28T11:43:46.012525Z",
     "start_time": "2019-11-28T11:43:45.919771Z"
    }
   },
   "outputs": [
    {
     "data": {
      "image/png": "[encoded data removed]",
      "text/plain": [
       "<Figure size 432x288 with 1 Axes>"
      ]
     },
     "metadata": {
      "needs_background": "light"
     },
     "output_type": "display_data"
    }
   ],
   "source": [
    "plt.bar(range(len(D)), list(D.values()), align='center')\n",
    "plt.xticks(range(len(D)), list(D.keys()))\n",
    "plt.xticks(rotation=90)\n",
    "plt.show()"
   ]
  },
  {
   "cell_type": "markdown",
   "metadata": {},
   "source": [
    "# Analisis de los origenes,destinos,notificantes,relacionados, productos y contaminantes"
   ]
  },
  {
   "cell_type": "code",
   "execution_count": 36,
   "metadata": {
    "ExecuteTime": {
     "end_time": "2019-11-28T11:44:15.895454Z",
     "start_time": "2019-11-28T11:44:10.015196Z"
    }
   },
   "outputs": [],
   "source": [
    "origenes = []\n",
    "destinos = []\n",
    "relacionados = []\n",
    "notificantes = []\n",
    "contaminantes = []\n",
    "productos = []\n",
    "\n",
    "for index, row in data.iterrows():\n",
    "    \n",
    "    origen=row['COUNT_ORIGEN'].split(\",\")   \n",
    "    destino=row['COUNT_DESTIN'].split(\",\") \n",
    "    relacionado=row['COUNT_CONCERN'].split(\",\")\n",
    "    notificante=row['NOT_COUNTRY'].split(\",\")\n",
    "    contaminante=row['HAZARDS_CAT'].split(\",\")\n",
    "    producto=row['PROD_CAT'].split(\",\")\n",
    "    \n",
    "    for o in origen:\n",
    "        origenes.append(o)\n",
    "        \n",
    "    for d in destino:\n",
    "        destinos.append(d)\n",
    "        \n",
    "    for r in relacionado:\n",
    "        relacionados.append(r)\n",
    "        \n",
    "    for n in notificante:\n",
    "        notificantes.append(n)\n",
    "        \n",
    "    for c in contaminante:\n",
    "        contaminantes.append(c)\n",
    "        \n",
    "    for p in producto:\n",
    "        productos.append(p)\n",
    "    "
   ]
  },
  {
   "cell_type": "markdown",
   "metadata": {},
   "source": [
    "## Orígenes"
   ]
  },
  {
   "cell_type": "code",
   "execution_count": null,
   "metadata": {},
   "outputs": [],
   "source": [
    "count = Counter(origenes)\n",
    "table = pd.DataFrame(list(count.items()))\n",
    "table[2] = table[1]/56351*100\n",
    "table = table.sort_values(by=[1], ascending = False)\n",
    "table = table.iloc[:35]"
   ]
  },
  {
   "cell_type": "code",
   "execution_count": 70,
   "metadata": {
    "scrolled": true
   },
   "outputs": [
    {
     "name": "stdout",
     "output_type": "stream",
     "text": [
      "      NaN\n",
      "-2.791432\n",
      "-2.363756\n",
      "-1.073628\n",
      "-0.251992\n",
      "-0.088730\n",
      "-0.008873\n",
      "-0.379763\n",
      "-0.227148\n",
      "-0.140193\n",
      "-0.062111\n",
      "-0.463168\n",
      "-0.204078\n",
      "-0.569644\n",
      "-0.161488\n",
      "-0.239570\n",
      "-0.110025\n",
      "-0.509308\n",
      "-0.305230\n",
      "-0.056787\n",
      "-0.072758\n",
      "-0.110025\n",
      "-0.015971\n",
      "-0.088730\n",
      "-0.058562\n",
      "-0.014197\n",
      "-0.081631\n",
      "-0.003549\n",
      "-0.015971\n",
      "-0.021295\n",
      "-0.001775\n",
      "-0.001775\n",
      "-0.030168\n",
      "-0.067434\n",
      "-0.019521\n"
     ]
    }
   ],
   "source": [
    "variance = table[1].diff()/56351*100\n",
    "print(variance.to_string(index=False))"
   ]
  },
  {
   "cell_type": "code",
   "execution_count": 35,
   "metadata": {
    "ExecuteTime": {
     "end_time": "2019-11-28T11:44:23.261767Z",
     "start_time": "2019-11-28T11:44:22.991490Z"
    }
   },
   "outputs": [
    {
     "data": {
      "image/png": "[encoded data removed]",
      "text/plain": [
       "<Figure size 432x288 with 1 Axes>"
      ]
     },
     "metadata": {
      "needs_background": "light"
     },
     "output_type": "display_data"
    }
   ],
   "source": [
    "ax = table.plot.bar(x=0, y=1)"
   ]
  },
  {
   "cell_type": "markdown",
   "metadata": {},
   "source": [
    "## Destinos"
   ]
  },
  {
   "cell_type": "code",
   "execution_count": null,
   "metadata": {},
   "outputs": [],
   "source": [
    "count = Counter(destinos)\n",
    "table = pd.DataFrame(list(count.items()))\n",
    "table[2] = table[1]/56351*100\n",
    "table = table.sort_values(by=[1], ascending = False)\n",
    "table[0] = table[0].str.replace(' ','No country')\n",
    "table[0] = table[0].str.replace('UnitedNo countryKingdom','United Kingdom')\n",
    "table[0] = table[0].str.replace('CzechNo countryRepublic','Czech Republic')\n",
    "table[0] = table[0].str.replace('HongNo countryKong','Hong Kong')\n",
    "table[0] = table[0].str.replace('UnitedNo countryState','United States')\n",
    "table = table.iloc[:35]"
   ]
  },
  {
   "cell_type": "code",
   "execution_count": 73,
   "metadata": {
    "scrolled": true
   },
   "outputs": [
    {
     "name": "stdout",
     "output_type": "stream",
     "text": [
      "       NaN\n",
      "-41.511242\n",
      " -1.103796\n",
      " -3.073592\n",
      " -0.876648\n",
      " -0.193430\n",
      " -0.070984\n",
      " -1.137513\n",
      " -0.298131\n",
      " -0.340722\n",
      " -0.534152\n",
      " -0.055012\n",
      " -0.322976\n",
      " -0.457845\n",
      " -0.113574\n",
      " -0.007098\n",
      " -0.012422\n",
      " -0.493336\n",
      " -0.007098\n",
      " -0.033717\n",
      " -0.014197\n",
      " -0.051463\n",
      " -0.282160\n",
      " -0.225373\n",
      " -0.007098\n",
      " -0.081631\n",
      " -0.115348\n",
      " -0.040816\n",
      " -0.060336\n",
      " -0.113574\n",
      " -0.159713\n",
      " -0.257316\n",
      " -0.044365\n",
      " -0.014197\n",
      " -0.076307\n"
     ]
    }
   ],
   "source": [
    "variance = table[1].diff()/56351*100\n",
    "print(variance.to_string(index=False))"
   ]
  },
  {
   "cell_type": "code",
   "execution_count": 38,
   "metadata": {
    "ExecuteTime": {
     "end_time": "2019-11-28T11:44:27.539476Z",
     "start_time": "2019-11-28T11:44:27.263214Z"
    }
   },
   "outputs": [
    {
     "data": {
      "image/png": "[encoded data removed]",
      "text/plain": [
       "<Figure size 432x288 with 1 Axes>"
      ]
     },
     "metadata": {
      "needs_background": "light"
     },
     "output_type": "display_data"
    }
   ],
   "source": [
    "ax = table.plot.bar(x=0, y=1)"
   ]
  },
  {
   "cell_type": "markdown",
   "metadata": {},
   "source": [
    "## Relacionados"
   ]
  },
  {
   "cell_type": "code",
   "execution_count": null,
   "metadata": {},
   "outputs": [],
   "source": [
    "count = Counter(relacionados)\n",
    "table = pd.DataFrame(list(count.items()))\n",
    "table[2] = table[1]/56351*100\n",
    "table = table.sort_values(by=[1], ascending = False)\n",
    "table = table[table[0] != 'Commission Services']\n",
    "table = table[table[0] != 'INFOSAN']\n",
    "table[0] = table[0].str.replace(' ','No country')\n",
    "table[0] = table[0].str.replace('UnitedNo countryKingdom','United Kingdom')\n",
    "table[0] = table[0].str.replace('CzechNo countryRepublic','Czech Republic')\n",
    "table[0] = table[0].str.replace('HongNo countryKong','Hong Kong')\n",
    "table[0] = table[0].str.replace('UnitedNo countryState','United States')\n",
    "table = table.iloc[:35]"
   ]
  },
  {
   "cell_type": "code",
   "execution_count": 67,
   "metadata": {
    "scrolled": true
   },
   "outputs": [
    {
     "name": "stdout",
     "output_type": "stream",
     "text": [
      "       NaN\n",
      "-16.038757\n",
      " -7.211939\n",
      " -0.695640\n",
      " -0.053238\n",
      " -1.361112\n",
      " -2.235985\n",
      " -1.982219\n",
      " -0.532377\n",
      " -0.035492\n",
      " -0.686767\n",
      " -0.117123\n",
      " -0.079857\n",
      " -0.276836\n",
      " -0.133094\n",
      " -0.008873\n",
      " -0.007098\n",
      " -0.232471\n",
      " -0.010648\n",
      " -0.076307\n",
      " -0.008873\n",
      " -0.159713\n",
      " -0.005324\n",
      " -0.019521\n",
      " -0.010648\n",
      " -0.044365\n",
      " -0.003549\n",
      " -0.040816\n",
      " -0.014197\n",
      " -0.003549\n",
      " -0.095828\n",
      " -0.023070\n",
      " -0.003549\n",
      " -0.028393\n",
      " -0.056787\n"
     ]
    }
   ],
   "source": [
    "variance = table[1].diff()/56351*100\n",
    "print(variance.to_string(index=False))"
   ]
  },
  {
   "cell_type": "code",
   "execution_count": 41,
   "metadata": {
    "ExecuteTime": {
     "end_time": "2019-11-28T11:44:34.242297Z",
     "start_time": "2019-11-28T11:44:33.967064Z"
    }
   },
   "outputs": [
    {
     "data": {
      "image/png": "[encoded data removed]",
      "text/plain": [
       "<Figure size 432x288 with 1 Axes>"
      ]
     },
     "metadata": {
      "needs_background": "light"
     },
     "output_type": "display_data"
    }
   ],
   "source": [
    "ax = table.plot.bar(x=0, y=1)"
   ]
  },
  {
   "cell_type": "markdown",
   "metadata": {},
   "source": [
    "## Notificantes"
   ]
  },
  {
   "cell_type": "code",
   "execution_count": null,
   "metadata": {},
   "outputs": [],
   "source": [
    "count = Counter(notificantes)\n",
    "table = pd.DataFrame(list(count.items()))\n",
    "table[2] = table[1]/56351*100\n",
    "table = table.sort_values(by=[1], ascending = False)\n",
    "table = table[table[0] != 'Commission Services']\n",
    "table = table[table[0] != 'INFOSAN']\n",
    "table = table.iloc[:35]"
   ]
  },
  {
   "cell_type": "code",
   "execution_count": 77,
   "metadata": {
    "scrolled": true
   },
   "outputs": [
    {
     "name": "stdout",
     "output_type": "stream",
     "text": [
      "      NaN\n",
      "-2.496850\n",
      "-2.915654\n",
      "-2.929850\n",
      "-0.094053\n",
      "-1.684087\n",
      "-1.856223\n",
      "-0.812763\n",
      "-0.017746\n",
      "-0.055012\n",
      "-0.631755\n",
      "-0.283935\n",
      "-0.356693\n",
      "-0.065660\n",
      "-0.108250\n",
      "-0.273287\n",
      "-0.291033\n",
      "-0.024844\n",
      "-0.086955\n",
      "-0.088730\n",
      "-0.051463\n",
      "-0.070984\n",
      "-0.312328\n",
      "-0.076307\n",
      "-0.015971\n",
      "-0.023070\n",
      "-0.062111\n",
      "-0.051463\n",
      "-0.062111\n",
      "-0.070984\n",
      "-0.196980\n",
      "-0.090504\n",
      "-0.005324\n",
      "-0.003549\n",
      " 0.000000\n"
     ]
    }
   ],
   "source": [
    "variance = table[1].diff()/56351*100\n",
    "print(variance.to_string(index=False))"
   ]
  },
  {
   "cell_type": "code",
   "execution_count": 75,
   "metadata": {
    "ExecuteTime": {
     "end_time": "2019-11-28T11:44:37.313316Z",
     "start_time": "2019-11-28T11:44:37.041046Z"
    }
   },
   "outputs": [
    {
     "data": {
      "image/png": "[encoded data removed]",
      "text/plain": [
       "<Figure size 432x288 with 1 Axes>"
      ]
     },
     "metadata": {
      "needs_background": "light"
     },
     "output_type": "display_data"
    }
   ],
   "source": [
    "ax = table.plot.bar(x=0, y=1)"
   ]
  },
  {
   "cell_type": "markdown",
   "metadata": {},
   "source": [
    "## Contaminantes"
   ]
  },
  {
   "cell_type": "code",
   "execution_count": null,
   "metadata": {},
   "outputs": [],
   "source": [
    "count = Counter(contaminantes)\n",
    "table = pd.DataFrame(list(count.items()))\n",
    "table[2] = table[1]/56351*100\n",
    "table = table.sort_values(by=[1], ascending = False)"
   ]
  },
  {
   "cell_type": "code",
   "execution_count": 45,
   "metadata": {
    "ExecuteTime": {
     "end_time": "2019-11-28T11:44:41.189743Z",
     "start_time": "2019-11-28T11:44:40.879570Z"
    }
   },
   "outputs": [
    {
     "data": {
      "image/png": "[encoded data removed]",
      "text/plain": [
       "<Figure size 432x288 with 1 Axes>"
      ]
     },
     "metadata": {
      "needs_background": "light"
     },
     "output_type": "display_data"
    }
   ],
   "source": [
    "ax = table.plot.bar(x=0, y=1)"
   ]
  },
  {
   "cell_type": "markdown",
   "metadata": {},
   "source": [
    "## Productos"
   ]
  },
  {
   "cell_type": "code",
   "execution_count": null,
   "metadata": {},
   "outputs": [],
   "source": [
    "count = Counter(productos)\n",
    "table = pd.DataFrame(list(count.items()))\n",
    "table[2] = table[1]/56351*100\n",
    "table = table.sort_values(by=[1], ascending = False)\n",
    "table = table[table[0] != \"nuts\"]\n",
    "table = table[table[0] != \"dietetic foods\"]\n",
    "table = table[table[0] != \"food supplements\"]\n",
    "table.drop(11, inplace=True)"
   ]
  },
  {
   "cell_type": "code",
   "execution_count": 50,
   "metadata": {
    "ExecuteTime": {
     "end_time": "2019-11-28T11:44:56.034949Z",
     "start_time": "2019-11-28T11:44:55.456519Z"
    }
   },
   "outputs": [
    {
     "data": {
      "image/png": "[encoded data removed]",
      "text/plain": [
       "<Figure size 432x288 with 1 Axes>"
      ]
     },
     "metadata": {
      "needs_background": "light"
     },
     "output_type": "display_data"
    }
   ],
   "source": [
    "ax = table.plot.bar(x=0, y=1)"
   ]
  },
  {
   "cell_type": "markdown",
   "metadata": {},
   "source": [
    "# Diagrama de burbuja"
   ]
  },
  {
   "cell_type": "markdown",
   "metadata": {},
   "source": [
    "## Preprocesamiento para conseguir una cross-tab necesaria para el diagrama"
   ]
  },
  {
   "cell_type": "code",
   "execution_count": null,
   "metadata": {},
   "outputs": [],
   "source": [
    "bubble_df = data[['NOT_COUNTRY','ORIG_COUNTRY']]"
   ]
  },
  {
   "cell_type": "code",
   "execution_count": 8,
   "metadata": {
    "ExecuteTime": {
     "end_time": "2020-01-15T09:28:06.643926Z",
     "start_time": "2020-01-15T09:28:01.829793Z"
    }
   },
   "outputs": [],
   "source": [
    "dic_conti = {}\n",
    "contaminantes = []\n",
    "productos = []\n",
    "for index, row in bubble_df.iterrows():\n",
    "    contaminante=row['ORIG_COUNTRY'].split(\",\")\n",
    "    producto=row['NOT_COUNTRY'].split(\",\")\n",
    "    for cont in contaminante:\n",
    "        contaminantes.append(cont)\n",
    "        for prod in producto:\n",
    "            key = cont + '&' + prod\n",
    "            if key in dic_conti:\n",
    "                dic_conti[key] += 1\n",
    "            else:\n",
    "                dic_conti[key] = 1\n",
    "    for prod in producto:\n",
    "        productos.append(prod)"
   ]
  },
  {
   "cell_type": "code",
   "execution_count": null,
   "metadata": {},
   "outputs": [],
   "source": [
    "count = Counter(contaminantes)\n",
    "contaminantes_table = pd.DataFrame(list(count.items()))\n",
    "contaminantes_table = contaminantes_table.sort_values(by=[1], ascending = False)"
   ]
  },
  {
   "cell_type": "code",
   "execution_count": 10,
   "metadata": {
    "ExecuteTime": {
     "end_time": "2020-01-15T09:28:09.949571Z",
     "start_time": "2020-01-15T09:28:09.941620Z"
    }
   },
   "outputs": [
    {
     "data": {
      "text/plain": [
       "['China', 'Turkey', 'India', 'Iran', 'Germany']"
      ]
     },
     "execution_count": 10,
     "metadata": {},
     "output_type": "execute_result"
    }
   ],
   "source": [
    "selected_contaminants = []\n",
    "for index, rows in contaminantes_table.iterrows(): \n",
    "    selected_contaminants.append(rows[0])\n",
    "selected_contaminants[:5] "
   ]
  },
  {
   "cell_type": "code",
   "execution_count": null,
   "metadata": {},
   "outputs": [],
   "source": [
    "count = Counter(productos)\n",
    "hazards_table = pd.DataFrame(list(count.items()))\n",
    "hazards_table = hazards_table.sort_values(by=[1], ascending = False)"
   ]
  },
  {
   "cell_type": "code",
   "execution_count": 12,
   "metadata": {
    "ExecuteTime": {
     "end_time": "2020-01-15T09:28:11.454497Z",
     "start_time": "2020-01-15T09:28:11.446517Z"
    }
   },
   "outputs": [
    {
     "data": {
      "text/plain": [
       "['Italy', 'Germany', 'United Kingdom', 'Netherlands', 'Spain']"
      ]
     },
     "execution_count": 12,
     "metadata": {},
     "output_type": "execute_result"
    }
   ],
   "source": [
    "selected_hazards=[]\n",
    "for index, rows in hazards_table.iterrows(): \n",
    "    selected_hazards.append(rows[0])\n",
    "selected_hazards[:5] "
   ]
  },
  {
   "cell_type": "code",
   "execution_count": null,
   "metadata": {},
   "outputs": [],
   "source": [
    "selected_hazards.remove('nuts')\n",
    "selected_hazards.remove(' food supplements')\n",
    "selected_hazards.remove(' fortified foods')"
   ]
  },
  {
   "cell_type": "code",
   "execution_count": 14,
   "metadata": {
    "ExecuteTime": {
     "end_time": "2020-01-15T09:28:12.905454Z",
     "start_time": "2020-01-15T09:28:12.901435Z"
    },
    "scrolled": true
   },
   "outputs": [
    {
     "data": {
      "text/plain": [
       "['Italy', 'Germany', 'United Kingdom', 'Netherlands', 'Spain']"
      ]
     },
     "execution_count": 14,
     "metadata": {},
     "output_type": "execute_result"
    }
   ],
   "source": [
    "selected_hazards[:5] "
   ]
  },
  {
   "cell_type": "code",
   "execution_count": null,
   "metadata": {},
   "outputs": [],
   "source": [
    "sorted_dict = sorted(dic_conti.items(), key=lambda kv: kv[1],reverse = True)"
   ]
  },
  {
   "cell_type": "code",
   "execution_count": null,
   "metadata": {},
   "outputs": [],
   "source": [
    "sorted_dict.remove(('mycotoxins&nuts',8544))\n",
    "sorted_dict.remove(('composition&dietetic foods',1493))\n",
    "sorted_dict.remove(('composition& food supplements',1493))\n",
    "sorted_dict.remove(('pathogenic micro-organisms&nuts',793))"
   ]
  },
  {
   "cell_type": "code",
   "execution_count": null,
   "metadata": {},
   "outputs": [],
   "source": [
    "cont_table = pd.DataFrame.from_dict(sorted_dict)"
   ]
  },
  {
   "cell_type": "code",
   "execution_count": 19,
   "metadata": {
    "ExecuteTime": {
     "end_time": "2020-01-15T09:28:16.620471Z",
     "start_time": "2020-01-15T09:28:16.614460Z"
    }
   },
   "outputs": [
    {
     "data": {
      "text/html": [
       "<div>\n",
       "<style scoped>\n",
       "    .dataframe tbody tr th:only-of-type {\n",
       "        vertical-align: middle;\n",
       "    }\n",
       "\n",
       "    .dataframe tbody tr th {\n",
       "        vertical-align: top;\n",
       "    }\n",
       "\n",
       "    .dataframe thead th {\n",
       "        text-align: right;\n",
       "    }\n",
       "</style>\n",
       "<table border=\"1\" class=\"dataframe\">\n",
       "  <thead>\n",
       "    <tr style=\"text-align: right;\">\n",
       "      <th></th>\n",
       "      <th>0</th>\n",
       "      <th>1</th>\n",
       "    </tr>\n",
       "  </thead>\n",
       "  <tbody>\n",
       "    <tr>\n",
       "      <th>0</th>\n",
       "      <td>India&amp;United Kingdom</td>\n",
       "      <td>1243</td>\n",
       "    </tr>\n",
       "    <tr>\n",
       "      <th>1</th>\n",
       "      <td>Turkey&amp;Germany</td>\n",
       "      <td>1197</td>\n",
       "    </tr>\n",
       "    <tr>\n",
       "      <th>2</th>\n",
       "      <td>Spain&amp;Italy</td>\n",
       "      <td>1182</td>\n",
       "    </tr>\n",
       "    <tr>\n",
       "      <th>3</th>\n",
       "      <td>China&amp;Italy</td>\n",
       "      <td>1182</td>\n",
       "    </tr>\n",
       "    <tr>\n",
       "      <th>4</th>\n",
       "      <td>Iran&amp;Germany</td>\n",
       "      <td>1077</td>\n",
       "    </tr>\n",
       "    <tr>\n",
       "      <th>5</th>\n",
       "      <td>Germany&amp;Germany</td>\n",
       "      <td>904</td>\n",
       "    </tr>\n",
       "    <tr>\n",
       "      <th>6</th>\n",
       "      <td>Italy&amp;Italy</td>\n",
       "      <td>805</td>\n",
       "    </tr>\n",
       "    <tr>\n",
       "      <th>7</th>\n",
       "      <td>France&amp;France</td>\n",
       "      <td>788</td>\n",
       "    </tr>\n",
       "    <tr>\n",
       "      <th>8</th>\n",
       "      <td>China&amp;Germany</td>\n",
       "      <td>764</td>\n",
       "    </tr>\n",
       "    <tr>\n",
       "      <th>9</th>\n",
       "      <td>Turkey&amp;Bulgaria</td>\n",
       "      <td>748</td>\n",
       "    </tr>\n",
       "    <tr>\n",
       "      <th>10</th>\n",
       "      <td>China&amp;United Kingdom</td>\n",
       "      <td>649</td>\n",
       "    </tr>\n",
       "    <tr>\n",
       "      <th>11</th>\n",
       "      <td>Brazil&amp;Netherlands</td>\n",
       "      <td>599</td>\n",
       "    </tr>\n",
       "    <tr>\n",
       "      <th>12</th>\n",
       "      <td>Belgium&amp;Belgium</td>\n",
       "      <td>598</td>\n",
       "    </tr>\n",
       "    <tr>\n",
       "      <th>13</th>\n",
       "      <td>China&amp;Spain</td>\n",
       "      <td>592</td>\n",
       "    </tr>\n",
       "    <tr>\n",
       "      <th>14</th>\n",
       "      <td>United Kingdom&amp;United Kingdom</td>\n",
       "      <td>564</td>\n",
       "    </tr>\n",
       "    <tr>\n",
       "      <th>15</th>\n",
       "      <td>Turkey&amp;Italy</td>\n",
       "      <td>546</td>\n",
       "    </tr>\n",
       "    <tr>\n",
       "      <th>16</th>\n",
       "      <td>Argentina&amp;Netherlands</td>\n",
       "      <td>545</td>\n",
       "    </tr>\n",
       "  </tbody>\n",
       "</table>\n",
       "</div>"
      ],
      "text/plain": [
       "                                0     1\n",
       "0            India&United Kingdom  1243\n",
       "1                  Turkey&Germany  1197\n",
       "2                     Spain&Italy  1182\n",
       "3                     China&Italy  1182\n",
       "4                    Iran&Germany  1077\n",
       "5                 Germany&Germany   904\n",
       "6                     Italy&Italy   805\n",
       "7                   France&France   788\n",
       "8                   China&Germany   764\n",
       "9                 Turkey&Bulgaria   748\n",
       "10           China&United Kingdom   649\n",
       "11             Brazil&Netherlands   599\n",
       "12                Belgium&Belgium   598\n",
       "13                    China&Spain   592\n",
       "14  United Kingdom&United Kingdom   564\n",
       "15                   Turkey&Italy   546\n",
       "16          Argentina&Netherlands   545"
      ]
     },
     "execution_count": 19,
     "metadata": {},
     "output_type": "execute_result"
    }
   ],
   "source": [
    "cont_table10 = cont_table[:17]"
   ]
  },
  {
   "cell_type": "code",
   "execution_count": 20,
   "metadata": {
    "ExecuteTime": {
     "end_time": "2020-01-15T09:28:19.712702Z",
     "start_time": "2020-01-15T09:28:19.700763Z"
    }
   },
   "outputs": [
    {
     "name": "stderr",
     "output_type": "stream",
     "text": [
      "C:\\Users\\Ceiec04\\anaconda3\\lib\\site-packages\\ipykernel_launcher.py:9: SettingWithCopyWarning: \n",
      "A value is trying to be set on a copy of a slice from a DataFrame.\n",
      "Try using .loc[row_indexer,col_indexer] = value instead\n",
      "\n",
      "See the caveats in the documentation: https://pandas.pydata.org/pandas-docs/stable/user_guide/indexing.html#returning-a-view-versus-a-copy\n",
      "  if __name__ == '__main__':\n",
      "C:\\Users\\Ceiec04\\anaconda3\\lib\\site-packages\\ipykernel_launcher.py:11: SettingWithCopyWarning: \n",
      "A value is trying to be set on a copy of a slice from a DataFrame.\n",
      "Try using .loc[row_indexer,col_indexer] = value instead\n",
      "\n",
      "See the caveats in the documentation: https://pandas.pydata.org/pandas-docs/stable/user_guide/indexing.html#returning-a-view-versus-a-copy\n",
      "  # This is added back by InteractiveShellApp.init_path()\n"
     ]
    }
   ],
   "source": [
    "contaminante = []\n",
    "product = []\n",
    "for index, row in cont_table10.iterrows():\n",
    "    comb=row[0].split(\"&\")\n",
    "    contaminante.append(comb[0])\n",
    "    product.append(comb[1])\n",
    "cont_table10[2] = contaminante\n",
    "cont_table10[3] = product"
   ]
  },
  {
   "cell_type": "code",
   "execution_count": 22,
   "metadata": {
    "ExecuteTime": {
     "end_time": "2020-01-15T09:28:22.138017Z",
     "start_time": "2020-01-15T09:28:22.134050Z"
    }
   },
   "outputs": [],
   "source": [
    "cont_table10.columns = ['comb', 'value','hazard','product']"
   ]
  },
  {
   "cell_type": "code",
   "execution_count": 23,
   "metadata": {
    "ExecuteTime": {
     "end_time": "2020-01-15T09:28:22.365862Z",
     "start_time": "2020-01-15T09:28:22.357853Z"
    }
   },
   "outputs": [
    {
     "data": {
      "text/html": [
       "<div>\n",
       "<style scoped>\n",
       "    .dataframe tbody tr th:only-of-type {\n",
       "        vertical-align: middle;\n",
       "    }\n",
       "\n",
       "    .dataframe tbody tr th {\n",
       "        vertical-align: top;\n",
       "    }\n",
       "\n",
       "    .dataframe thead th {\n",
       "        text-align: right;\n",
       "    }\n",
       "</style>\n",
       "<table border=\"1\" class=\"dataframe\">\n",
       "  <thead>\n",
       "    <tr style=\"text-align: right;\">\n",
       "      <th></th>\n",
       "      <th>comb</th>\n",
       "      <th>value</th>\n",
       "      <th>hazard</th>\n",
       "      <th>product</th>\n",
       "    </tr>\n",
       "  </thead>\n",
       "  <tbody>\n",
       "    <tr>\n",
       "      <th>0</th>\n",
       "      <td>India&amp;United Kingdom</td>\n",
       "      <td>1243</td>\n",
       "      <td>India</td>\n",
       "      <td>United Kingdom</td>\n",
       "    </tr>\n",
       "    <tr>\n",
       "      <th>1</th>\n",
       "      <td>Turkey&amp;Germany</td>\n",
       "      <td>1197</td>\n",
       "      <td>Turkey</td>\n",
       "      <td>Germany</td>\n",
       "    </tr>\n",
       "    <tr>\n",
       "      <th>2</th>\n",
       "      <td>Spain&amp;Italy</td>\n",
       "      <td>1182</td>\n",
       "      <td>Spain</td>\n",
       "      <td>Italy</td>\n",
       "    </tr>\n",
       "    <tr>\n",
       "      <th>3</th>\n",
       "      <td>China&amp;Italy</td>\n",
       "      <td>1182</td>\n",
       "      <td>China</td>\n",
       "      <td>Italy</td>\n",
       "    </tr>\n",
       "    <tr>\n",
       "      <th>4</th>\n",
       "      <td>Iran&amp;Germany</td>\n",
       "      <td>1077</td>\n",
       "      <td>Iran</td>\n",
       "      <td>Germany</td>\n",
       "    </tr>\n",
       "    <tr>\n",
       "      <th>5</th>\n",
       "      <td>Germany&amp;Germany</td>\n",
       "      <td>904</td>\n",
       "      <td>Germany</td>\n",
       "      <td>Germany</td>\n",
       "    </tr>\n",
       "    <tr>\n",
       "      <th>6</th>\n",
       "      <td>Italy&amp;Italy</td>\n",
       "      <td>805</td>\n",
       "      <td>Italy</td>\n",
       "      <td>Italy</td>\n",
       "    </tr>\n",
       "    <tr>\n",
       "      <th>7</th>\n",
       "      <td>France&amp;France</td>\n",
       "      <td>788</td>\n",
       "      <td>France</td>\n",
       "      <td>France</td>\n",
       "    </tr>\n",
       "    <tr>\n",
       "      <th>8</th>\n",
       "      <td>China&amp;Germany</td>\n",
       "      <td>764</td>\n",
       "      <td>China</td>\n",
       "      <td>Germany</td>\n",
       "    </tr>\n",
       "    <tr>\n",
       "      <th>9</th>\n",
       "      <td>Turkey&amp;Bulgaria</td>\n",
       "      <td>748</td>\n",
       "      <td>Turkey</td>\n",
       "      <td>Bulgaria</td>\n",
       "    </tr>\n",
       "    <tr>\n",
       "      <th>10</th>\n",
       "      <td>China&amp;United Kingdom</td>\n",
       "      <td>649</td>\n",
       "      <td>China</td>\n",
       "      <td>United Kingdom</td>\n",
       "    </tr>\n",
       "    <tr>\n",
       "      <th>11</th>\n",
       "      <td>Brazil&amp;Netherlands</td>\n",
       "      <td>599</td>\n",
       "      <td>Brazil</td>\n",
       "      <td>Netherlands</td>\n",
       "    </tr>\n",
       "    <tr>\n",
       "      <th>12</th>\n",
       "      <td>Belgium&amp;Belgium</td>\n",
       "      <td>598</td>\n",
       "      <td>Belgium</td>\n",
       "      <td>Belgium</td>\n",
       "    </tr>\n",
       "    <tr>\n",
       "      <th>13</th>\n",
       "      <td>China&amp;Spain</td>\n",
       "      <td>592</td>\n",
       "      <td>China</td>\n",
       "      <td>Spain</td>\n",
       "    </tr>\n",
       "    <tr>\n",
       "      <th>14</th>\n",
       "      <td>United Kingdom&amp;United Kingdom</td>\n",
       "      <td>564</td>\n",
       "      <td>United Kingdom</td>\n",
       "      <td>United Kingdom</td>\n",
       "    </tr>\n",
       "    <tr>\n",
       "      <th>15</th>\n",
       "      <td>Turkey&amp;Italy</td>\n",
       "      <td>546</td>\n",
       "      <td>Turkey</td>\n",
       "      <td>Italy</td>\n",
       "    </tr>\n",
       "    <tr>\n",
       "      <th>16</th>\n",
       "      <td>Argentina&amp;Netherlands</td>\n",
       "      <td>545</td>\n",
       "      <td>Argentina</td>\n",
       "      <td>Netherlands</td>\n",
       "    </tr>\n",
       "  </tbody>\n",
       "</table>\n",
       "</div>"
      ],
      "text/plain": [
       "                             comb  value          hazard         product\n",
       "0            India&United Kingdom   1243           India  United Kingdom\n",
       "1                  Turkey&Germany   1197          Turkey         Germany\n",
       "2                     Spain&Italy   1182           Spain           Italy\n",
       "3                     China&Italy   1182           China           Italy\n",
       "4                    Iran&Germany   1077            Iran         Germany\n",
       "5                 Germany&Germany    904         Germany         Germany\n",
       "6                     Italy&Italy    805           Italy           Italy\n",
       "7                   France&France    788          France          France\n",
       "8                   China&Germany    764           China         Germany\n",
       "9                 Turkey&Bulgaria    748          Turkey        Bulgaria\n",
       "10           China&United Kingdom    649           China  United Kingdom\n",
       "11             Brazil&Netherlands    599          Brazil     Netherlands\n",
       "12                Belgium&Belgium    598         Belgium         Belgium\n",
       "13                    China&Spain    592           China           Spain\n",
       "14  United Kingdom&United Kingdom    564  United Kingdom  United Kingdom\n",
       "15                   Turkey&Italy    546          Turkey           Italy\n",
       "16          Argentina&Netherlands    545       Argentina     Netherlands"
      ]
     },
     "execution_count": 23,
     "metadata": {},
     "output_type": "execute_result"
    }
   ],
   "source": [
    "cont_table10"
   ]
  },
  {
   "cell_type": "code",
   "execution_count": 24,
   "metadata": {
    "ExecuteTime": {
     "end_time": "2020-01-15T09:28:24.338673Z",
     "start_time": "2020-01-15T09:28:24.309774Z"
    }
   },
   "outputs": [
    {
     "data": {
      "text/html": [
       "<div>\n",
       "<style scoped>\n",
       "    .dataframe tbody tr th:only-of-type {\n",
       "        vertical-align: middle;\n",
       "    }\n",
       "\n",
       "    .dataframe tbody tr th {\n",
       "        vertical-align: top;\n",
       "    }\n",
       "\n",
       "    .dataframe thead th {\n",
       "        text-align: right;\n",
       "    }\n",
       "</style>\n",
       "<table border=\"1\" class=\"dataframe\">\n",
       "  <thead>\n",
       "    <tr style=\"text-align: right;\">\n",
       "      <th>product</th>\n",
       "      <th>Belgium</th>\n",
       "      <th>Bulgaria</th>\n",
       "      <th>France</th>\n",
       "      <th>Germany</th>\n",
       "      <th>Italy</th>\n",
       "      <th>Netherlands</th>\n",
       "      <th>Spain</th>\n",
       "      <th>United Kingdom</th>\n",
       "    </tr>\n",
       "    <tr>\n",
       "      <th>hazard</th>\n",
       "      <th></th>\n",
       "      <th></th>\n",
       "      <th></th>\n",
       "      <th></th>\n",
       "      <th></th>\n",
       "      <th></th>\n",
       "      <th></th>\n",
       "      <th></th>\n",
       "    </tr>\n",
       "  </thead>\n",
       "  <tbody>\n",
       "    <tr>\n",
       "      <th>Argentina</th>\n",
       "      <td>0</td>\n",
       "      <td>0</td>\n",
       "      <td>0</td>\n",
       "      <td>0</td>\n",
       "      <td>0</td>\n",
       "      <td>1</td>\n",
       "      <td>0</td>\n",
       "      <td>0</td>\n",
       "    </tr>\n",
       "    <tr>\n",
       "      <th>Belgium</th>\n",
       "      <td>1</td>\n",
       "      <td>0</td>\n",
       "      <td>0</td>\n",
       "      <td>0</td>\n",
       "      <td>0</td>\n",
       "      <td>0</td>\n",
       "      <td>0</td>\n",
       "      <td>0</td>\n",
       "    </tr>\n",
       "    <tr>\n",
       "      <th>Brazil</th>\n",
       "      <td>0</td>\n",
       "      <td>0</td>\n",
       "      <td>0</td>\n",
       "      <td>0</td>\n",
       "      <td>0</td>\n",
       "      <td>1</td>\n",
       "      <td>0</td>\n",
       "      <td>0</td>\n",
       "    </tr>\n",
       "    <tr>\n",
       "      <th>China</th>\n",
       "      <td>0</td>\n",
       "      <td>0</td>\n",
       "      <td>0</td>\n",
       "      <td>1</td>\n",
       "      <td>1</td>\n",
       "      <td>0</td>\n",
       "      <td>1</td>\n",
       "      <td>1</td>\n",
       "    </tr>\n",
       "    <tr>\n",
       "      <th>France</th>\n",
       "      <td>0</td>\n",
       "      <td>0</td>\n",
       "      <td>1</td>\n",
       "      <td>0</td>\n",
       "      <td>0</td>\n",
       "      <td>0</td>\n",
       "      <td>0</td>\n",
       "      <td>0</td>\n",
       "    </tr>\n",
       "    <tr>\n",
       "      <th>Germany</th>\n",
       "      <td>0</td>\n",
       "      <td>0</td>\n",
       "      <td>0</td>\n",
       "      <td>1</td>\n",
       "      <td>0</td>\n",
       "      <td>0</td>\n",
       "      <td>0</td>\n",
       "      <td>0</td>\n",
       "    </tr>\n",
       "    <tr>\n",
       "      <th>India</th>\n",
       "      <td>0</td>\n",
       "      <td>0</td>\n",
       "      <td>0</td>\n",
       "      <td>0</td>\n",
       "      <td>0</td>\n",
       "      <td>0</td>\n",
       "      <td>0</td>\n",
       "      <td>1</td>\n",
       "    </tr>\n",
       "    <tr>\n",
       "      <th>Iran</th>\n",
       "      <td>0</td>\n",
       "      <td>0</td>\n",
       "      <td>0</td>\n",
       "      <td>1</td>\n",
       "      <td>0</td>\n",
       "      <td>0</td>\n",
       "      <td>0</td>\n",
       "      <td>0</td>\n",
       "    </tr>\n",
       "    <tr>\n",
       "      <th>Italy</th>\n",
       "      <td>0</td>\n",
       "      <td>0</td>\n",
       "      <td>0</td>\n",
       "      <td>0</td>\n",
       "      <td>1</td>\n",
       "      <td>0</td>\n",
       "      <td>0</td>\n",
       "      <td>0</td>\n",
       "    </tr>\n",
       "    <tr>\n",
       "      <th>Spain</th>\n",
       "      <td>0</td>\n",
       "      <td>0</td>\n",
       "      <td>0</td>\n",
       "      <td>0</td>\n",
       "      <td>1</td>\n",
       "      <td>0</td>\n",
       "      <td>0</td>\n",
       "      <td>0</td>\n",
       "    </tr>\n",
       "    <tr>\n",
       "      <th>Turkey</th>\n",
       "      <td>0</td>\n",
       "      <td>1</td>\n",
       "      <td>0</td>\n",
       "      <td>1</td>\n",
       "      <td>1</td>\n",
       "      <td>0</td>\n",
       "      <td>0</td>\n",
       "      <td>0</td>\n",
       "    </tr>\n",
       "    <tr>\n",
       "      <th>United Kingdom</th>\n",
       "      <td>0</td>\n",
       "      <td>0</td>\n",
       "      <td>0</td>\n",
       "      <td>0</td>\n",
       "      <td>0</td>\n",
       "      <td>0</td>\n",
       "      <td>0</td>\n",
       "      <td>1</td>\n",
       "    </tr>\n",
       "  </tbody>\n",
       "</table>\n",
       "</div>"
      ],
      "text/plain": [
       "product         Belgium  Bulgaria  France  Germany  Italy  Netherlands  Spain  \\\n",
       "hazard                                                                          \n",
       "Argentina             0         0       0        0      0            1      0   \n",
       "Belgium               1         0       0        0      0            0      0   \n",
       "Brazil                0         0       0        0      0            1      0   \n",
       "China                 0         0       0        1      1            0      1   \n",
       "France                0         0       1        0      0            0      0   \n",
       "Germany               0         0       0        1      0            0      0   \n",
       "India                 0         0       0        0      0            0      0   \n",
       "Iran                  0         0       0        1      0            0      0   \n",
       "Italy                 0         0       0        0      1            0      0   \n",
       "Spain                 0         0       0        0      1            0      0   \n",
       "Turkey                0         1       0        1      1            0      0   \n",
       "United Kingdom        0         0       0        0      0            0      0   \n",
       "\n",
       "product         United Kingdom  \n",
       "hazard                          \n",
       "Argentina                    0  \n",
       "Belgium                      0  \n",
       "Brazil                       0  \n",
       "China                        1  \n",
       "France                       0  \n",
       "Germany                      0  \n",
       "India                        1  \n",
       "Iran                         0  \n",
       "Italy                        0  \n",
       "Spain                        0  \n",
       "Turkey                       0  \n",
       "United Kingdom               1  "
      ]
     },
     "execution_count": 24,
     "metadata": {},
     "output_type": "execute_result"
    }
   ],
   "source": [
    "data_crosstab = pd.crosstab(cont_table10['hazard'], \n",
    "                            cont_table10['product'],  \n",
    "                               margins = False) \n",
    "data_crosstab"
   ]
  },
  {
   "cell_type": "code",
   "execution_count": 27,
   "metadata": {
    "ExecuteTime": {
     "end_time": "2020-01-15T09:28:29.314676Z",
     "start_time": "2020-01-15T09:28:29.301671Z"
    }
   },
   "outputs": [],
   "source": [
    "products = list(data_crosstab.columns.values)\n",
    "hazards = data_crosstab.index.values.tolist()\n",
    "for p in products:\n",
    "    for h in hazards:\n",
    "        if data_crosstab[p][h] == 1:\n",
    "            key = h+'&'+p\n",
    "            value = cont_table10.loc[cont_table10['comb'] == key, 'value'] \n",
    "            data_crosstab[p][h] = value"
   ]
  },
  {
   "cell_type": "code",
   "execution_count": 28,
   "metadata": {
    "ExecuteTime": {
     "end_time": "2020-01-15T09:28:32.464348Z",
     "start_time": "2020-01-15T09:28:32.454362Z"
    }
   },
   "outputs": [
    {
     "data": {
      "text/html": [
       "<div>\n",
       "<style scoped>\n",
       "    .dataframe tbody tr th:only-of-type {\n",
       "        vertical-align: middle;\n",
       "    }\n",
       "\n",
       "    .dataframe tbody tr th {\n",
       "        vertical-align: top;\n",
       "    }\n",
       "\n",
       "    .dataframe thead th {\n",
       "        text-align: right;\n",
       "    }\n",
       "</style>\n",
       "<table border=\"1\" class=\"dataframe\">\n",
       "  <thead>\n",
       "    <tr style=\"text-align: right;\">\n",
       "      <th>product</th>\n",
       "      <th>Belgium</th>\n",
       "      <th>Bulgaria</th>\n",
       "      <th>France</th>\n",
       "      <th>Germany</th>\n",
       "      <th>Italy</th>\n",
       "      <th>Netherlands</th>\n",
       "      <th>Spain</th>\n",
       "      <th>United Kingdom</th>\n",
       "    </tr>\n",
       "    <tr>\n",
       "      <th>hazard</th>\n",
       "      <th></th>\n",
       "      <th></th>\n",
       "      <th></th>\n",
       "      <th></th>\n",
       "      <th></th>\n",
       "      <th></th>\n",
       "      <th></th>\n",
       "      <th></th>\n",
       "    </tr>\n",
       "  </thead>\n",
       "  <tbody>\n",
       "    <tr>\n",
       "      <th>Argentina</th>\n",
       "      <td>0</td>\n",
       "      <td>0</td>\n",
       "      <td>0</td>\n",
       "      <td>0</td>\n",
       "      <td>0</td>\n",
       "      <td>545</td>\n",
       "      <td>0</td>\n",
       "      <td>0</td>\n",
       "    </tr>\n",
       "    <tr>\n",
       "      <th>Belgium</th>\n",
       "      <td>598</td>\n",
       "      <td>0</td>\n",
       "      <td>0</td>\n",
       "      <td>0</td>\n",
       "      <td>0</td>\n",
       "      <td>0</td>\n",
       "      <td>0</td>\n",
       "      <td>0</td>\n",
       "    </tr>\n",
       "    <tr>\n",
       "      <th>Brazil</th>\n",
       "      <td>0</td>\n",
       "      <td>0</td>\n",
       "      <td>0</td>\n",
       "      <td>0</td>\n",
       "      <td>0</td>\n",
       "      <td>599</td>\n",
       "      <td>0</td>\n",
       "      <td>0</td>\n",
       "    </tr>\n",
       "    <tr>\n",
       "      <th>China</th>\n",
       "      <td>0</td>\n",
       "      <td>0</td>\n",
       "      <td>0</td>\n",
       "      <td>764</td>\n",
       "      <td>1182</td>\n",
       "      <td>0</td>\n",
       "      <td>592</td>\n",
       "      <td>649</td>\n",
       "    </tr>\n",
       "    <tr>\n",
       "      <th>France</th>\n",
       "      <td>0</td>\n",
       "      <td>0</td>\n",
       "      <td>788</td>\n",
       "      <td>0</td>\n",
       "      <td>0</td>\n",
       "      <td>0</td>\n",
       "      <td>0</td>\n",
       "      <td>0</td>\n",
       "    </tr>\n",
       "    <tr>\n",
       "      <th>Germany</th>\n",
       "      <td>0</td>\n",
       "      <td>0</td>\n",
       "      <td>0</td>\n",
       "      <td>904</td>\n",
       "      <td>0</td>\n",
       "      <td>0</td>\n",
       "      <td>0</td>\n",
       "      <td>0</td>\n",
       "    </tr>\n",
       "    <tr>\n",
       "      <th>India</th>\n",
       "      <td>0</td>\n",
       "      <td>0</td>\n",
       "      <td>0</td>\n",
       "      <td>0</td>\n",
       "      <td>0</td>\n",
       "      <td>0</td>\n",
       "      <td>0</td>\n",
       "      <td>1243</td>\n",
       "    </tr>\n",
       "    <tr>\n",
       "      <th>Iran</th>\n",
       "      <td>0</td>\n",
       "      <td>0</td>\n",
       "      <td>0</td>\n",
       "      <td>1077</td>\n",
       "      <td>0</td>\n",
       "      <td>0</td>\n",
       "      <td>0</td>\n",
       "      <td>0</td>\n",
       "    </tr>\n",
       "    <tr>\n",
       "      <th>Italy</th>\n",
       "      <td>0</td>\n",
       "      <td>0</td>\n",
       "      <td>0</td>\n",
       "      <td>0</td>\n",
       "      <td>805</td>\n",
       "      <td>0</td>\n",
       "      <td>0</td>\n",
       "      <td>0</td>\n",
       "    </tr>\n",
       "    <tr>\n",
       "      <th>Spain</th>\n",
       "      <td>0</td>\n",
       "      <td>0</td>\n",
       "      <td>0</td>\n",
       "      <td>0</td>\n",
       "      <td>1182</td>\n",
       "      <td>0</td>\n",
       "      <td>0</td>\n",
       "      <td>0</td>\n",
       "    </tr>\n",
       "    <tr>\n",
       "      <th>Turkey</th>\n",
       "      <td>0</td>\n",
       "      <td>748</td>\n",
       "      <td>0</td>\n",
       "      <td>1197</td>\n",
       "      <td>546</td>\n",
       "      <td>0</td>\n",
       "      <td>0</td>\n",
       "      <td>0</td>\n",
       "    </tr>\n",
       "    <tr>\n",
       "      <th>United Kingdom</th>\n",
       "      <td>0</td>\n",
       "      <td>0</td>\n",
       "      <td>0</td>\n",
       "      <td>0</td>\n",
       "      <td>0</td>\n",
       "      <td>0</td>\n",
       "      <td>0</td>\n",
       "      <td>564</td>\n",
       "    </tr>\n",
       "  </tbody>\n",
       "</table>\n",
       "</div>"
      ],
      "text/plain": [
       "product         Belgium  Bulgaria  France  Germany  Italy  Netherlands  Spain  \\\n",
       "hazard                                                                          \n",
       "Argentina             0         0       0        0      0          545      0   \n",
       "Belgium             598         0       0        0      0            0      0   \n",
       "Brazil                0         0       0        0      0          599      0   \n",
       "China                 0         0       0      764   1182            0    592   \n",
       "France                0         0     788        0      0            0      0   \n",
       "Germany               0         0       0      904      0            0      0   \n",
       "India                 0         0       0        0      0            0      0   \n",
       "Iran                  0         0       0     1077      0            0      0   \n",
       "Italy                 0         0       0        0    805            0      0   \n",
       "Spain                 0         0       0        0   1182            0      0   \n",
       "Turkey                0       748       0     1197    546            0      0   \n",
       "United Kingdom        0         0       0        0      0            0      0   \n",
       "\n",
       "product         United Kingdom  \n",
       "hazard                          \n",
       "Argentina                    0  \n",
       "Belgium                      0  \n",
       "Brazil                       0  \n",
       "China                      649  \n",
       "France                       0  \n",
       "Germany                      0  \n",
       "India                     1243  \n",
       "Iran                         0  \n",
       "Italy                        0  \n",
       "Spain                        0  \n",
       "Turkey                       0  \n",
       "United Kingdom             564  "
      ]
     },
     "execution_count": 28,
     "metadata": {},
     "output_type": "execute_result"
    }
   ],
   "source": [
    "data_crosstab"
   ]
  },
  {
   "cell_type": "markdown",
   "metadata": {},
   "source": [
    "## Selección de colores"
   ]
  },
  {
   "cell_type": "code",
   "execution_count": 29,
   "metadata": {
    "ExecuteTime": {
     "end_time": "2020-01-15T09:28:37.111873Z",
     "start_time": "2020-01-15T09:28:37.108883Z"
    }
   },
   "outputs": [],
   "source": [
    "x1 = np.arange(1000)\n",
    "np.random.shuffle(x1)\n",
    "x1 = x1[:90]\n",
    "C  = np.array([[0,0,0]] * 96)"
   ]
  },
  {
   "cell_type": "code",
   "execution_count": 34,
   "metadata": {
    "ExecuteTime": {
     "end_time": "2020-01-15T10:35:10.961846Z",
     "start_time": "2020-01-15T10:35:10.955862Z"
    }
   },
   "outputs": [],
   "source": [
    "C[0] = [200,200,200]\n",
    "C[16] = [0,255,0]\n",
    "C[24] = [0,0,0]\n",
    "C[25] = [0,255,255]\n",
    "C[34] = [255,255,255]\n",
    "C[38] = [255,0,255]\n",
    "C[45] = [255,255,0]\n",
    "C[51] = [0,0,255]\n",
    "C[56] = [100,100,100]\n",
    "C[57] = [255,0,0]\n",
    "C[61] = [150,100,0]\n",
    "C[63] = [0,175,0]\n",
    "C[66] = [0,150,150]\n",
    "C[68] = [100,0,100]\n",
    "C[69] = [255,69,0]\n",
    "C[76] = [0,0,128]\n",
    "C[82] = [255,218,185]"
   ]
  },
  {
   "cell_type": "code",
   "execution_count": 46,
   "metadata": {},
   "outputs": [],
   "source": [
    "#para countries\n",
    "C[5] = [200,200,200]\n",
    "C[8] = [0,255,0]\n",
    "C[21] = [0,0,0]\n",
    "C[27] = [0,255,255]\n",
    "C[28] = [255,255,255]\n",
    "C[30] = [255,0,255]\n",
    "C[31] = [255,255,0]\n",
    "C[34] = [0,0,255]\n",
    "C[43] = [100,100,100]\n",
    "C[55] = [255,0,0]\n",
    "C[59] = [150,100,0]\n",
    "C[68] = [0,175,0]\n",
    "C[76] = [0,150,150]\n",
    "C[81] = [100,0,100]\n",
    "C[83] = [255,69,0]\n",
    "C[84] = [0,0,128]\n",
    "C[95] = [255,218,185]\n"
   ]
  },
  {
   "cell_type": "markdown",
   "metadata": {},
   "source": [
    "## Figura"
   ]
  },
  {
   "cell_type": "code",
   "execution_count": 48,
   "metadata": {
    "ExecuteTime": {
     "end_time": "2020-01-15T10:35:11.738146Z",
     "start_time": "2020-01-15T10:35:11.499783Z"
    }
   },
   "outputs": [
    {
     "data": {
      "image/png": "[encoded data removed]",
      "text/plain": [
       "<Figure size 936x936 with 1 Axes>"
      ]
     },
     "metadata": {
      "needs_background": "light"
     },
     "output_type": "display_data"
    }
   ],
   "source": [
    "plt.rcParams.update({'font.size': 20})\n",
    "x,y = np.meshgrid(data_crosstab.columns, data_crosstab.index)\n",
    "plot_tab = data_crosstab*4\n",
    "fig = plt.figure(figsize=[13,13])\n",
    "plt.scatter(x=x.flatten(), y=y.flatten(), s=plot_tab.values.flatten(),c=C/255.0,alpha=0.75,edgecolors=\"grey\",linewidth=3)\n",
    "plt.grid(ls = \"--\", zorder = 1,linewidth=0.1, color = 'k')\n",
    "plt.margins(.1)\n",
    "plt.xticks(rotation=90)\n",
    "plt.xlabel(\"NOTIFICATION COUNTRY\")\n",
    "plt.ylabel(\"ORIGIN COUNTRY\")\n",
    "plt.show()"
   ]
  },
  {
   "cell_type": "markdown",
   "metadata": {},
   "source": [
    "# Grafo dirigido"
   ]
  },
  {
   "cell_type": "code",
   "execution_count": null,
   "metadata": {},
   "outputs": [],
   "source": [
    "countries=data[['COUNT_ORIGEN','COUNT_DESTIN','COUNT_CONCERN']]"
   ]
  },
  {
   "cell_type": "code",
   "execution_count": 12,
   "metadata": {
    "ExecuteTime": {
     "end_time": "2019-12-10T13:44:17.767818Z",
     "start_time": "2019-12-10T13:44:12.110961Z"
    }
   },
   "outputs": [],
   "source": [
    "G=nx.DiGraph()\n",
    "for index, row in countries.iterrows():\n",
    "    origin=row['COUNT_ORIGEN'].split(\",\")   \n",
    "    destiny=row['COUNT_DESTIN'].split(\",\") \n",
    "    concern=row['COUNT_CONCERN'].split(\",\")\n",
    "    for i in origin:\n",
    "        if i!=\" \" and i!= 'INFOSAN' and i!='Commission Services'and i!='unknown origin'and i!='European Food Safety Authority': \n",
    "            for j in destiny:\n",
    "                if j!=\" \" and i!=j and j!= 'INFOSAN' and j!='Commission Services'and j!='unknown origin'and j!='European Food Safety Authority': \n",
    "                    G.add_edge(i,j)\n",
    "                    \n",
    "                    for k in concern:\n",
    "                        if k!=\" \" and k!= 'INFOSAN' and k!='Commission Services'and k!='unknown origin'and k!='European Food Safety Authority':\n",
    "                            G.add_edge(j,k)     \n",
    "                else:\n",
    "                    for k in concern:\n",
    "                        if k!=\" \" and k!= 'INFOSAN' and k!='Commission Services'and k!='unknown origin'and k!='European Food Safety Authority':\n",
    "                            G.add_edge(i,k)              "
   ]
  },
  {
   "cell_type": "markdown",
   "metadata": {},
   "source": [
    "## Metricas del grafo"
   ]
  },
  {
   "cell_type": "code",
   "execution_count": 13,
   "metadata": {
    "ExecuteTime": {
     "end_time": "2019-12-10T13:44:19.826340Z",
     "start_time": "2019-12-10T13:44:19.822378Z"
    }
   },
   "outputs": [
    {
     "name": "stdout",
     "output_type": "stream",
     "text": [
      "['Romania', 'France', 'Belgium', 'Germany', 'Denmark', 'Croatia', 'Poland', 'Italy', 'Andorra', 'Spain', 'Turkey', 'Ukraine', 'Vietnam', 'Netherlands', 'United States', 'Bulgaria', 'Estonia', 'Finland', 'Slovakia', 'China', 'Czech Republic', 'Sweden', 'Thailand', 'United Kingdom', 'India', 'Norway', 'Philippines', 'Austria', 'Slovenia', 'Canada', 'Greenland', 'Brazil', 'Uruguay', 'San Marino', 'New Zealand', 'Luxembourg', 'Antigua and Barbuda', 'Bahamas', 'Ghana', 'Guernsey', 'Jersey', 'Mauritius', 'United Arab Emirates', 'Azerbaijan', 'Georgia', 'Uganda', 'Hungary', 'Sudan', 'Greece', 'Egypt', 'Switzerland', 'Ecuador', 'Portugal', 'Lithuania', 'Myanmar', 'Morocco', 'Mauritania', 'South Korea', 'Latvia', 'Ireland', 'Taiwan', 'South Africa', 'Malta', 'Kenya', 'Argentina', 'Lebanon', 'Chile', 'Hong Kong', 'Nigeria', 'Panama', 'Bolivia', 'Bahrain', 'Israel', 'Kazakhstan', 'Russia', 'Monaco', 'Pakistan', 'Dominican Republic', 'Grenada', 'El Salvador', 'Honduras', 'Iceland', 'Namibia', 'Gibraltar', 'Isle of Man', 'Belarus', 'Serbia', \"Côte d'Ivoire\", 'Iran', 'Bermuda', 'Cayman Islands', 'Malaysia', 'Faeroe Islands', 'Albania', 'Senegal', 'Peru', 'Australia', 'Cyprus', 'Tunisia', 'Congo', 'Gabon', 'Japan', 'Seychelles', 'Togo', 'Algeria', 'Suriname', 'Uzbekistan', 'Bangladesh', 'Jordan', 'Ethiopia', 'Montenegro', 'Angola', 'Indonesia', 'Saudi Arabia', 'Singapore', 'Kosovo', 'Kuwait', 'Qatar', 'Democratic Republic of the Congo', 'Colombia', 'Sri Lanka', 'Mexico', 'Republic of North Macedonia', 'Iraq', 'French Polynesia', 'Moldova', 'New Caledonia', 'Saint Pierre and Miquelon', 'Oman', 'Curaçao', 'Saint Helena', 'Syria', 'Burkina Faso', 'Guatemala', 'Benin', 'Bosnia and Herzegovina', 'Madagascar', 'Papua New Guinea', 'West Bank and Gaza Strip', 'Maldives', 'Saint Barthélemy', 'Niger', 'Libya', 'Liechtenstein', 'Kyrgyzstan', 'Brunei', 'Macao', 'Sint Maarten', 'Barbados', 'Guinea', 'Costa Rica', 'Nicaragua', 'Cape Verde', 'Falkland Islands', 'Haiti', 'Jamaica', 'Saint Kitts and Nevis', 'Saint Lucia', 'Saint Martin', 'Saint Vincent and the Grenadines', 'Paraguay', 'Chad', 'Tanzania', 'Afghanistan', 'Vatican City', 'Belize', 'Cuba', 'Martinique', 'Equatorial Guinea', 'São Tomé and Príncipe', 'Mozambique', 'Norfolk Island', 'Åland Islands', 'Trinidad and Tobago', 'Burundi', 'Rwanda', 'East Timor', 'Gambia', 'Liberia', 'Marshall Islands', 'Cambodia', 'Sierra Leone', 'Mali', 'Cameroon', 'Zambia', 'Zimbabwe', 'British Virgin Islands', 'Mongolia', 'Armenia', 'Djibouti', 'Turkmenistan', 'Central African Republic', 'Venezuela', 'Laos', 'Guadeloupe', 'Vanuatu', 'Nepal', 'Aruba', 'Puerto Rico', 'Réunion', 'US Virgin Islands', 'Swaziland', 'Comoros', 'Yemen', 'Solomon Islands', 'Malawi', 'Fiji', 'Turks and Caicos Islands', 'Somalia', 'Eritrea', 'Tajikistan', 'Netherlands Antilles', 'Anguilla', 'Mayotte', 'Dominica', 'French Guiana', 'Guyana', 'North Korea', 'Wallis and Futuna', 'Tonga', 'Serbia and Montenegro', 'Botswana']\n"
     ]
    },
    {
     "data": {
      "text/plain": [
       "222"
      ]
     },
     "execution_count": 13,
     "metadata": {},
     "output_type": "execute_result"
    }
   ],
   "source": [
    "print(G.nodes())\n",
    "len(G.nodes())"
   ]
  },
  {
   "cell_type": "code",
   "execution_count": 14,
   "metadata": {
    "ExecuteTime": {
     "end_time": "2019-12-10T13:44:21.639876Z",
     "start_time": "2019-12-10T13:44:21.630873Z"
    }
   },
   "outputs": [
    {
     "name": "stdout",
     "output_type": "stream",
     "text": [
      "[('Romania', 'France'), ('Romania', 'Italy'), ('Romania', 'Latvia'), ('Romania', 'Croatia'), ('Romania', 'Cyprus'), ('Romania', 'Iran'), ('Romania', 'New Zealand'), ('Romania', 'Switzerland'), ('Romania', 'Austria'), ('Romania', 'Netherlands'), ('Romania', 'United States'), ('Romania', 'Ireland'), ('Romania', 'United Kingdom'), ('Romania', 'Belgium'), ('Romania', 'Denmark'), ('Romania', 'Germany'), ('Romania', 'Hungary'), ('Romania', 'Luxembourg'), ('Romania', 'Poland'), ('Romania', 'Bulgaria'), ('Romania', 'Czech Republic'), ('Romania', 'Ukraine'), ('Romania', 'Hong Kong'), ('Romania', 'Canada'), ('Romania', 'Taiwan'), ('Romania', 'Ghana'), ('Romania', 'Philippines'), ('Romania', 'Thailand'), ('Romania', 'Turkey'), ('Romania', 'Greece'), ('Romania', 'Albania'), ('Romania', 'Andorra'), ('Romania', 'Belarus'), ('Romania', 'Bosnia and Herzegovina'), ('Romania', 'Kosovo'), ('Romania', 'Liechtenstein'), ('Romania', 'Moldova'), ('Romania', 'Monaco'), ('Romania', 'Montenegro'), ('Romania', 'Portugal'), ('Romania', 'Republic of North Macedonia'), ('Romania', 'Russia'), ('Romania', 'Slovenia'), ('Romania', 'Vatican City'), ('Romania', 'Spain'), ('Romania', 'Sweden'), ('Romania', 'Estonia'), ('Romania', 'Gibraltar'), ('Romania', 'Israel'), ('Romania', 'Mexico'), ('Romania', 'Guadeloupe'), ('Romania', 'Vietnam'), ('Romania', 'Finland'), ('Romania', 'Lithuania'), ('Romania', 'Guernsey'), ('Romania', 'Slovakia'), ('Romania', 'United Arab Emirates'), ('Romania', 'Australia'), ('Romania', 'China'), ('Romania', 'Democratic Republic of the Congo'), ('Romania', 'Malta'), ('Romania', 'Serbia'), ('Romania', 'Belize'), ('Romania', 'Chile'), ('Romania', 'Morocco'), ('Romania', 'Norway'), ('Romania', 'French Polynesia'), ('Romania', 'Peru'), ('Romania', 'Saint Martin'), ('Romania', 'Venezuela'), ('Romania', 'Indonesia'), ('Romania', 'Brazil'), ('Romania', 'Dominican Republic'), ('Romania', 'Syria'), ('Romania', 'Norfolk Island'), ('France', 'Belgium'), ('France', 'Denmark'), ('France', 'Italy'), ('France', 'Germany'), ('France', 'Luxembourg'), ('France', 'Lithuania'), ('France', 'Switzerland'), ('France', 'Norway'), ('France', 'United States'), ('France', 'Greece'), ('France', 'Morocco'), ('France', 'Netherlands'), ('France', 'Romania'), ('France', 'Spain'), ('France', 'Vietnam'), ('France', 'Austria'), ('France', 'Czech Republic'), ('France', \"Côte d'Ivoire\"), ('France', 'Hong Kong'), ('France', 'Croatia'), ('France', 'Cyprus'), ('France', 'Iran'), ('France', 'New Zealand'), ('France', 'Andorra'), ('France', 'Congo'), ('France', 'Gabon'), ('France', 'Japan'), ('France', 'Lebanon'), ('France', 'Portugal'), ('France', 'Senegal'), ('France', 'Seychelles'), ('France', 'Togo'), ('France', 'Sweden'), ('France', 'United Kingdom'), ('France', 'Slovenia'), ('France', 'South Korea'), ('France', 'Iraq'), ('France', 'Hungary'), ('France', 'Ireland'), ('France', 'Poland'), ('France', 'Philippines'), ('France', 'Singapore'), ('France', 'China'), ('France', 'Ukraine'), ('France', 'Bulgaria'), ('France', 'Estonia'), ('France', 'Finland'), ('France', 'Latvia'), ('France', 'Canada'), ('France', 'French Polynesia'), ('France', 'Thailand'), ('France', 'Democratic Republic of the Congo'), ('France', 'Malaysia'), ('France', 'Maldives'), ('France', 'Qatar'), ('France', 'Saint Barthélemy'), ('France', 'South Africa'), ('France', 'United Arab Emirates'), ('France', 'Nigeria'), ('France', 'Slovakia'), ('France', 'Australia'), ('France', 'Taiwan'), ('France', 'Jersey'), ('France', 'Macao'), ('France', 'Mauritius'), ('France', 'Myanmar'), ('France', 'Oman'), ('France', 'Sint Maarten'), ('France', 'India'), ('France', 'Ghana'), ('France', 'Turkey'), ('France', 'Barbados'), ('France', 'Uruguay'), ('France', 'Saint Pierre and Miquelon'), ('France', 'Algeria'), ('France', 'São Tomé and Príncipe'), ('France', 'Iceland'), ('France', 'Saint Martin'), ('France', 'Malta'), ('France', 'Cuba'), ('France', 'Equatorial Guinea'), ('France', 'Moldova'), ('France', 'New Caledonia'), ('France', 'Benin'), ('France', 'Haiti'), ('France', 'Mali'), ('France', 'Rwanda'), ('France', 'Monaco'), ('France', 'Djibouti'), ('France', 'Guinea'), ('France', 'Turkmenistan'), ('France', 'Gibraltar'), ('France', 'Israel'), ('France', 'Mexico'), ('France', 'San Marino'), ('France', 'Indonesia'), ('France', 'Vanuatu'), ('France', 'Jordan'), ('France', 'Saudi Arabia'), ('France', 'Serbia'), ('France', 'Guernsey'), ('France', 'Montenegro'), ('France', 'Cameroon'), ('France', 'Suriname'), ('France', 'Belize'), ('France', 'Sri Lanka'), ('France', 'Bahrain'), ('France', 'Afghanistan'), ('France', 'Angola'), ('France', 'Armenia'), ('France', 'Bangladesh'), ('France', 'Bosnia and Herzegovina'), ('France', 'Burkina Faso'), ('France', 'Burundi'), ('France', 'Cambodia'), ('France', 'Chad'), ('France', 'Colombia'), ('France', 'Comoros'), ('France', 'Egypt'), ('France', 'Georgia'), ('France', 'Kosovo'), ('France', 'Kuwait'), ('France', 'Libya'), ('France', 'Madagascar'), ('France', 'Mauritania'), ('France', 'Niger'), ('France', 'Pakistan'), ('France', 'Paraguay'), ('France', 'Peru'), ('France', 'Republic of North Macedonia'), ('France', 'Sierra Leone'), ('France', 'Sudan'), ('France', 'Syria'), ('France', 'Tunisia'), ('France', 'Venezuela'), ('France', 'Yemen'), ('France', 'Zambia'), ('France', 'Faeroe Islands'), ('France', 'Russia'), ('France', 'Brazil'), ('France', 'Réunion'), ('France', 'Greenland'), ('France', 'Namibia'), ('France', 'Gambia'), ('France', 'Swaziland'), ('France', 'Guadeloupe'), ('France', 'Chile'), ('France', 'Belarus'), ('France', 'Costa Rica'), ('France', 'Dominican Republic'), ('France', 'Honduras'), ('France', 'Kazakhstan'), ('France', 'Kenya'), ('France', 'Panama'), ('France', 'French Guiana'), ('France', 'Albania'), ('France', 'Liberia'), ('France', 'Argentina'), ('France', 'Nepal'), ('France', 'Martinique'), ('France', 'Mayotte'), ('France', 'Norfolk Island'), ('France', 'Guyana'), ('France', 'Wallis and Futuna'), ('France', 'Serbia and Montenegro'), ('France', 'Somalia'), ('France', 'Zimbabwe'), ('Belgium', 'Denmark'), ('Belgium', 'France'), ('Belgium', 'Spain'), ('Belgium', 'United Kingdom'), ('Belgium', 'Estonia'), ('Belgium', 'Bahrain'), ('Belgium', 'Czech Republic'), ('Belgium', 'Germany'), ('Belgium', 'Israel'), ('Belgium', 'Italy'), ('Belgium', 'Luxembourg'), ('Belgium', 'Netherlands'), ('Belgium', 'Poland'), ('Belgium', 'Portugal'), ('Belgium', 'Romania'), ('Belgium', 'Slovakia'), ('Belgium', 'Sweden'), ('Belgium', 'Switzerland'), ('Belgium', 'Austria'), ('Belgium', 'Latvia'), ('Belgium', 'Ireland'), ('Belgium', 'Chile'), ('Belgium', 'Curaçao'), ('Belgium', 'Cyprus'), ('Belgium', 'Finland'), ('Belgium', 'Greece'), ('Belgium', 'Jersey'), ('Belgium', 'South Korea'), ('Belgium', 'Taiwan'), ('Belgium', 'United States'), ('Belgium', 'Ukraine'), ('Belgium', 'Argentina'), ('Belgium', 'Pakistan'), ('Belgium', 'Turkey'), ('Belgium', 'Bulgaria'), ('Belgium', 'Faeroe Islands'), ('Belgium', 'Georgia'), ('Belgium', 'Bermuda'), ('Belgium', 'Nigeria'), ('Belgium', 'Malta'), ('Belgium', 'Norway'), ('Belgium', 'Iceland'), ('Belgium', 'Tunisia'), ('Belgium', 'Hong Kong'), ('Belgium', 'Andorra'), ('Belgium', 'Croatia'), ('Belgium', \"Côte d'Ivoire\"), ('Belgium', 'United Arab Emirates'), ('Belgium', 'Hungary'), ('Belgium', 'Senegal'), ('Belgium', 'Albania'), ('Belgium', 'Belarus'), ('Belgium', 'Bosnia and Herzegovina'), ('Belgium', 'Kosovo'), ('Belgium', 'Liechtenstein'), ('Belgium', 'Moldova'), ('Belgium', 'Monaco'), ('Belgium', 'Montenegro'), ('Belgium', 'Republic of North Macedonia'), ('Belgium', 'Russia'), ('Belgium', 'Slovenia'), ('Belgium', 'Vatican City'), ('Belgium', 'Jordan'), ('Belgium', 'Burundi'), ('Belgium', 'Democratic Republic of the Congo'), ('Belgium', 'Rwanda'), ('Belgium', 'Sri Lanka'), ('Belgium', 'Japan'), ('Belgium', 'Singapore'), ('Belgium', 'Brazil'), ('Belgium', 'New Caledonia'), ('Belgium', 'Serbia'), ('Belgium', 'Turkmenistan'), ('Belgium', 'Afghanistan'), ('Belgium', 'Algeria'), ('Belgium', 'Angola'), ('Belgium', 'Australia'), ('Belgium', 'Azerbaijan'), ('Belgium', 'Brunei'), ('Belgium', 'Cameroon'), ('Belgium', 'Canada'), ('Belgium', 'Cape Verde'), ('Belgium', 'Central African Republic'), ('Belgium', 'Colombia'), ('Belgium', 'Cuba'), ('Belgium', 'Djibouti'), ('Belgium', 'Dominican Republic'), ('Belgium', 'Ecuador'), ('Belgium', 'Falkland Islands'), ('Belgium', 'Ghana'), ('Belgium', 'Haiti'), ('Belgium', 'Kuwait'), ('Belgium', 'Liberia'), ('Belgium', 'Malaysia'), ('Belgium', 'Maldives'), ('Belgium', 'Mali'), ('Belgium', 'Mauritius'), ('Belgium', 'Morocco'), ('Belgium', 'New Zealand'), ('Belgium', 'Oman'), ('Belgium', 'Panama'), ('Belgium', 'Peru'), ('Belgium', 'Philippines'), ('Belgium', 'Qatar'), ('Belgium', 'Saint Helena'), ('Belgium', 'San Marino'), ('Belgium', 'Saudi Arabia'), ('Belgium', 'Seychelles'), ('Belgium', 'Sierra Leone'), ('Belgium', 'South Africa'), ('Belgium', 'Thailand'), ('Belgium', 'Uruguay'), ('Belgium', 'Vietnam'), ('Belgium', 'Indonesia'), ('Belgium', 'Lithuania'), ('Belgium', 'Guernsey'), ('Belgium', 'Armenia'), ('Belgium', 'Mexico'), ('Belgium', 'India'), ('Belgium', 'Aruba'), ('Belgium', 'Cayman Islands'), ('Belgium', 'Costa Rica'), ('Belgium', 'El Salvador'), ('Belgium', 'Gambia'), ('Belgium', 'Guatemala'), ('Belgium', 'Honduras'), ('Belgium', 'Puerto Rico'), ('Belgium', 'Réunion'), ('Belgium', 'Sint Maarten'), ('Belgium', 'US Virgin Islands'), ('Belgium', 'Uzbekistan'), ('Belgium', 'Congo'), ('Belgium', 'China'), ('Belgium', 'Egypt'), ('Belgium', 'Greenland'), ('Belgium', 'Bangladesh'), ('Belgium', 'Sudan'), ('Belgium', 'Yemen'), ('Belgium', 'Kenya'), ('Belgium', 'Gabon'), ('Belgium', 'Namibia'), ('Belgium', 'Benin'), ('Belgium', 'British Virgin Islands'), ('Belgium', 'Swaziland'), ('Belgium', 'Guadeloupe'), ('Belgium', 'Kazakhstan'), ('Belgium', 'Lebanon'), ('Belgium', 'Syria'), ('Belgium', 'Barbados'), ('Belgium', 'Tanzania'), ('Belgium', 'Iran'), ('Belgium', 'Mozambique'), ('Belgium', 'Dominica'), ('Belgium', 'Gibraltar'), ('Belgium', 'Martinique'), ('Belgium', 'Suriname'), ('Belgium', 'Madagascar'), ('Belgium', 'Norfolk Island'), ('Belgium', 'Guinea'), ('Germany', 'Denmark'), ('Germany', 'Netherlands'), ('Germany', 'Finland'), ('Germany', 'Austria'), ('Germany', 'France'), ('Germany', 'Slovenia'), ('Germany', 'Hungary'), ('Germany', 'Italy'), ('Germany', 'Belgium'), ('Germany', 'Czech Republic'), ('Germany', 'Poland'), ('Germany', 'Faeroe Islands'), ('Germany', 'Spain'), ('Germany', 'Iceland'), ('Germany', 'Norway'), ('Germany', 'Sweden'), ('Germany', 'Croatia'), ('Germany', 'Cyprus'), ('Germany', 'Iran'), ('Germany', 'New Zealand'), ('Germany', 'Switzerland'), ('Germany', 'Turkey'), ('Germany', 'United Kingdom'), ('Germany', 'Slovakia'), ('Germany', 'Luxembourg'), ('Germany', 'Portugal'), ('Germany', 'Romania'), ('Germany', 'Andorra'), ('Germany', 'Greece'), ('Germany', 'Ireland'), ('Germany', 'Japan'), ('Germany', 'Latvia'), ('Germany', 'Lithuania'), ('Germany', 'Iraq'), ('Germany', 'Jersey'), ('Germany', 'Malta'), ('Germany', 'Saint Helena'), ('Germany', 'Thailand'), ('Germany', 'Ukraine'), ('Germany', 'Bulgaria'), ('Germany', 'Hong Kong'), ('Germany', 'Estonia'), ('Germany', 'Nigeria'), ('Germany', 'Taiwan'), ('Germany', 'Bosnia and Herzegovina'), ('Germany', 'Republic of North Macedonia'), ('Germany', 'Serbia'), ('Germany', 'Barbados'), ('Germany', 'Albania'), ('Germany', 'Belarus'), ('Germany', 'Kosovo'), ('Germany', 'Liechtenstein'), ('Germany', 'Moldova'), ('Germany', 'Monaco'), ('Germany', 'Montenegro'), ('Germany', 'Russia'), ('Germany', 'Vatican City'), ('Germany', 'United States'), ('Germany', 'Chile'), ('Germany', 'Morocco'), ('Germany', 'Uruguay'), ('Germany', 'United Arab Emirates'), ('Germany', 'Benin'), ('Germany', 'Singapore'), ('Germany', 'South Korea'), ('Germany', 'Turkmenistan'), ('Germany', 'Canada'), ('Germany', 'Gibraltar'), ('Germany', 'Israel'), ('Germany', 'Mexico'), ('Germany', 'Indonesia'), ('Germany', 'Guernsey'), ('Germany', 'China'), ('Germany', 'Belize'), ('Germany', 'India'), ('Germany', 'Jordan'), ('Germany', 'Kuwait'), ('Germany', 'Oman'), ('Germany', 'Qatar'), ('Germany', 'San Marino'), ('Germany', 'Namibia'), ('Germany', 'Vietnam'), ('Germany', 'Dominican Republic'), ('Germany', 'Australia'), ('Germany', 'South Africa'), ('Germany', 'Curaçao'), ('Germany', 'Mauritius'), ('Germany', 'Georgia'), ('Germany', 'Lebanon'), ('Germany', 'Egypt'), ('Germany', 'Isle of Man'), ('Germany', 'Democratic Republic of the Congo'), ('Germany', 'Tunisia'), ('Germany', 'Algeria'), ('Germany', 'Azerbaijan'), ('Germany', 'Greenland'), ('Germany', 'Malaysia'), ('Germany', 'Pakistan'), ('Germany', 'Bahrain'), ('Germany', 'Gambia'), ('Germany', 'Burundi'), ('Germany', 'Guadeloupe'), ('Germany', 'Mali'), ('Germany', 'Rwanda'), ('Germany', 'Suriname'), ('Germany', 'Togo'), ('Germany', 'Saudi Arabia'), ('Germany', 'Swaziland'), ('Germany', 'Argentina'), ('Germany', 'Brazil'), ('Germany', 'Costa Rica'), ('Germany', 'Ethiopia'), ('Germany', 'Libya'), ('Germany', 'Martinique'), ('Germany', 'Myanmar'), ('Germany', 'Peru'), ('Germany', 'Philippines'), ('Germany', 'Venezuela'), ('Germany', 'Gabon'), ('Germany', 'Kenya'), ('Germany', 'Mongolia'), ('Germany', 'Réunion'), ('Germany', 'Ghana'), ('Germany', 'Afghanistan'), ('Germany', 'Sri Lanka'), ('Germany', 'Cameroon'), ('Germany', \"Côte d'Ivoire\"), ('Germany', 'Senegal'), ('Germany', 'Paraguay'), ('Germany', 'Norfolk Island'), ('Germany', 'Panama'), ('Germany', 'Angola'), ('Germany', 'Congo'), ('Denmark', 'Netherlands'), ('Denmark', 'Hungary'), ('Denmark', 'Sweden'), ('Denmark', 'Italy'), ('Denmark', 'Germany'), ('Denmark', 'United Kingdom'), ('Denmark', 'Australia'), ('Denmark', 'Austria'), ('Denmark', 'Belarus'), ('Denmark', 'Czech Republic'), ('Denmark', 'Croatia'), ('Denmark', 'Cyprus'), ('Denmark', 'Iran'), ('Denmark', 'New Zealand'), ('Denmark', 'Switzerland'), ('Denmark', 'Finland'), ('Denmark', 'France'), ('Denmark', 'Iceland'), ('Denmark', 'Ireland'), ('Denmark', 'Israel'), ('Denmark', 'Lithuania'), ('Denmark', 'Luxembourg'), ('Denmark', 'Malta'), ('Denmark', 'Poland'), ('Denmark', 'Portugal'), ('Denmark', 'Romania'), ('Denmark', 'Russia'), ('Denmark', 'Slovakia'), ('Denmark', 'Slovenia'), ('Denmark', 'Spain'), ('Denmark', 'Ukraine'), ('Denmark', 'Belgium'), ('Denmark', 'Norway'), ('Denmark', 'Bulgaria'), ('Denmark', 'Estonia'), ('Denmark', 'Latvia'), ('Denmark', 'Nigeria'), ('Denmark', 'Taiwan'), ('Denmark', 'Hong Kong'), ('Denmark', 'Barbados'), ('Denmark', 'Albania'), ('Denmark', 'Andorra'), ('Denmark', 'Bosnia and Herzegovina'), ('Denmark', 'Kosovo'), ('Denmark', 'Liechtenstein'), ('Denmark', 'Moldova'), ('Denmark', 'Monaco'), ('Denmark', 'Montenegro'), ('Denmark', 'Republic of North Macedonia'), ('Denmark', 'Turkey'), ('Denmark', 'Vatican City'), ('Denmark', 'China'), ('Denmark', 'Canada'), ('Denmark', 'United States'), ('Denmark', 'Greece'), ('Denmark', 'Turkmenistan'), ('Denmark', 'United Arab Emirates'), ('Denmark', 'Guernsey'), ('Denmark', 'India'), ('Denmark', 'Mauritius'), ('Denmark', 'Azerbaijan'), ('Denmark', 'Faeroe Islands'), ('Denmark', 'Georgia'), ('Denmark', 'Indonesia'), ('Denmark', 'Lebanon'), ('Denmark', 'Malaysia'), ('Denmark', 'Qatar'), ('Denmark', 'Seychelles'), ('Denmark', 'Singapore'), ('Denmark', 'Greenland'), ('Denmark', 'Democratic Republic of the Congo'), ('Denmark', 'Thailand'), ('Denmark', 'Tunisia'), ('Denmark', 'Egypt'), ('Denmark', 'Japan'), ('Denmark', 'Kazakhstan'), ('Denmark', 'Oman'), ('Denmark', 'Saudi Arabia'), ('Denmark', 'British Virgin Islands'), ('Denmark', 'Chile'), ('Denmark', 'Serbia'), ('Denmark', 'Namibia'), ('Denmark', 'South Africa'), ('Denmark', 'South Korea'), ('Denmark', 'Belize'), ('Denmark', 'Swaziland'), ('Denmark', 'Åland Islands'), ('Denmark', 'Bangladesh'), ('Denmark', 'Brazil'), ('Denmark', 'Costa Rica'), ('Denmark', 'Dominican Republic'), ('Denmark', 'Ghana'), ('Denmark', 'Honduras'), ('Denmark', 'Jordan'), ('Denmark', 'Kenya'), ('Denmark', 'Kuwait'), ('Denmark', 'Morocco'), ('Denmark', 'Pakistan'), ('Denmark', 'Panama'), ('Denmark', 'Peru'), ('Denmark', 'Philippines'), ('Denmark', 'Sri Lanka'), ('Denmark', 'Syria'), ('Denmark', 'Uruguay'), ('Denmark', 'Vietnam'), ('Denmark', 'Yemen'), ('Denmark', 'Réunion'), ('Denmark', 'Cayman Islands'), ('Denmark', 'Liberia'), ('Denmark', 'Ethiopia'), ('Denmark', 'Algeria'), ('Denmark', 'Argentina'), ('Denmark', 'Mexico'), ('Denmark', 'Serbia and Montenegro'), ('Croatia', 'Poland'), ('Croatia', 'Hungary'), ('Croatia', 'Italy'), ('Croatia', 'Netherlands'), ('Croatia', 'Montenegro'), ('Croatia', 'United States'), ('Croatia', 'Kosovo'), ('Croatia', 'France'), ('Croatia', 'Denmark'), ('Croatia', 'Austria'), ('Croatia', 'Slovenia'), ('Croatia', 'Switzerland'), ('Croatia', 'Taiwan'), ('Croatia', 'Slovakia'), ('Croatia', 'Latvia'), ('Croatia', 'Lithuania'), ('Croatia', 'Barbados'), ('Croatia', 'Romania'), ('Croatia', 'Germany'), ('Croatia', 'Albania'), ('Croatia', 'Andorra'), ('Croatia', 'Belarus'), ('Croatia', 'Bosnia and Herzegovina'), ('Croatia', 'Liechtenstein'), ('Croatia', 'Moldova'), ('Croatia', 'Monaco'), ('Croatia', 'Portugal'), ('Croatia', 'Republic of North Macedonia'), ('Croatia', 'Russia'), ('Croatia', 'Turkey'), ('Croatia', 'Ukraine'), ('Croatia', 'Vatican City'), ('Croatia', 'Belgium'), ('Croatia', 'Iceland'), ('Croatia', 'United Kingdom'), ('Croatia', 'Ireland'), ('Croatia', 'Luxembourg'), ('Croatia', 'Turkmenistan'), ('Croatia', 'United Arab Emirates'), ('Croatia', 'Finland'), ('Croatia', 'Spain'), ('Croatia', 'Czech Republic'), ('Croatia', 'Guernsey'), ('Croatia', 'Greece'), ('Croatia', 'India'), ('Croatia', 'China'), ('Croatia', 'Belize'), ('Croatia', 'Bulgaria'), ('Croatia', 'Democratic Republic of the Congo'), ('Croatia', 'Cyprus'), ('Croatia', 'Tunisia'), ('Croatia', 'Sweden'), ('Croatia', 'Iran'), ('Croatia', 'Hong Kong'), ('Croatia', 'Serbia'), ('Croatia', 'Estonia'), ('Croatia', 'Malta'), ('Poland', 'Slovakia'), ('Poland', 'Ukraine'), ('Poland', 'Denmark'), ('Poland', 'Germany'), ('Poland', 'Hungary'), ('Poland', 'Czech Republic'), ('Poland', 'France'), ('Poland', 'Belgium'), ('Poland', 'Austria'), ('Poland', 'Latvia'), ('Poland', 'Canada'), ('Poland', 'Netherlands'), ('Poland', 'United Kingdom'), ('Poland', 'Croatia'), ('Poland', 'Estonia'), ('Poland', 'Ireland'), ('Poland', 'Faeroe Islands'), ('Poland', 'Spain'), ('Poland', 'Finland'), ('Poland', 'Iceland'), ('Poland', 'Norway'), ('Poland', 'Sweden'), ('Poland', 'Cyprus'), ('Poland', 'Iran'), ('Poland', 'New Zealand'), ('Poland', 'Switzerland'), ('Poland', 'Lithuania'), ('Poland', 'Bulgaria'), ('Poland', 'Slovenia'), ('Poland', 'Italy'), ('Poland', 'Luxembourg'), ('Poland', 'Democratic Republic of the Congo'), ('Poland', 'Ghana'), ('Poland', 'Hong Kong'), ('Poland', 'South Africa'), ('Poland', 'Vietnam'), ('Poland', 'Portugal'), ('Poland', 'Greece'), ('Poland', 'Malta'), ('Poland', 'Benin'), ('Poland', 'Romania'), ('Poland', 'Republic of North Macedonia'), ('Poland', 'Bosnia and Herzegovina'), ('Poland', 'Iraq'), ('Poland', 'Taiwan'), ('Poland', 'Barbados'), ('Poland', 'Albania'), ('Poland', 'Andorra'), ('Poland', 'Belarus'), ('Poland', 'Kosovo'), ('Poland', 'Liechtenstein'), ('Poland', 'Moldova'), ('Poland', 'Monaco'), ('Poland', 'Montenegro'), ('Poland', 'Russia'), ('Poland', 'Turkey'), ('Poland', 'Vatican City'), ('Poland', 'Lebanon'), ('Poland', 'San Marino'), ('Poland', 'Serbia'), ('Poland', 'Turkmenistan'), ('Poland', 'United Arab Emirates'), ('Poland', 'United States'), ('Poland', 'Brazil'), ('Poland', 'Cape Verde'), ('Poland', 'Gibraltar'), ('Poland', 'Panama'), ('Poland', 'Egypt'), ('Poland', 'Uruguay'), ('Poland', 'Georgia'), ('Poland', 'Kyrgyzstan'), ('Poland', 'Peru'), ('Poland', 'Qatar'), ('Poland', 'Greenland'), ('Poland', 'Kazakhstan'), ('Poland', 'Guernsey'), ('Poland', 'India'), ('Poland', 'Australia'), ('Poland', 'Cameroon'), ('Poland', 'Jersey'), ('Poland', 'Argentina'), ('Poland', 'Israel'), ('Poland', 'Jordan'), ('Poland', 'Mauritius'), ('Poland', 'Mexico'), ('Poland', 'Morocco'), ('Poland', 'Liberia'), ('Poland', 'Dominican Republic'), ('Poland', 'Haiti'), ('Poland', 'China'), ('Poland', 'Comoros'), ('Poland', 'Congo'), ('Poland', 'Gabon'), ('Poland', 'Curaçao'), ('Poland', 'Central African Republic'), ('Poland', 'Guinea'), ('Poland', 'Singapore'), ('Poland', 'Angola'), ('Poland', 'Bahrain'), ('Poland', 'Gambia'), ('Poland', 'Oman'), ('Poland', 'Sierra Leone'), ('Poland', 'Macao'), ('Poland', 'South Korea'), ('Poland', 'Kenya'), ('Poland', 'Belize'), ('Poland', 'Algeria'), ('Poland', 'Armenia'), ('Poland', 'Tunisia'), ('Poland', 'Tanzania'), ('Poland', 'Pakistan'), ('Poland', 'Malaysia'), ('Poland', 'Thailand'), ('Poland', 'Mongolia'), ('Poland', 'Azerbaijan'), ('Poland', 'Isle of Man'), ('Poland', 'Martinique'), ('Poland', 'Costa Rica'), ('Poland', 'Nigeria'), ('Poland', 'Paraguay'), ('Poland', 'Syria'), ('Poland', \"Côte d'Ivoire\"), ('Poland', 'Djibouti'), ('Poland', 'French Guiana'), ('Poland', 'French Polynesia'), ('Poland', 'Guadeloupe'), ('Poland', 'Mali'), ('Poland', 'Mayotte'), ('Poland', 'New Caledonia'), ('Poland', 'Niger'), ('Poland', 'Suriname'), ('Poland', 'Norfolk Island'), ('Poland', 'Japan'), ('Italy', 'Andorra'), ('Italy', 'Spain'), ('Italy', 'Germany'), ('Italy', 'San Marino'), ('Italy', 'Belgium'), ('Italy', 'Hungary'), ('Italy', 'China'), ('Italy', 'Poland'), ('Italy', 'France'), ('Italy', 'Monaco'), ('Italy', 'United Kingdom'), ('Italy', 'Sweden'), ('Italy', 'United States'), ('Italy', 'Croatia'), ('Italy', 'Cyprus'), ('Italy', 'Iran'), ('Italy', 'New Zealand'), ('Italy', 'Switzerland'), ('Italy', 'Austria'), ('Italy', 'Denmark'), ('Italy', 'Greece'), ('Italy', 'Slovenia'), ('Italy', 'Ireland'), ('Italy', 'Angola'), ('Italy', 'Canada'), ('Italy', 'Malta'), ('Italy', 'Bahrain'), ('Italy', 'Czech Republic'), ('Italy', 'Oman'), ('Italy', 'Vietnam'), ('Italy', 'Albania'), ('Italy', 'Kosovo'), ('Italy', 'Finland'), ('Italy', 'Latvia'), ('Italy', 'Bulgaria'), ('Italy', 'Netherlands'), ('Italy', 'Luxembourg'), ('Italy', 'Ukraine'), ('Italy', 'Norway'), ('Italy', 'Estonia'), ('Italy', 'Nigeria'), ('Italy', 'Taiwan'), ('Italy', 'Bosnia and Herzegovina'), ('Italy', 'Republic of North Macedonia'), ('Italy', 'Romania'), ('Italy', 'Serbia'), ('Italy', 'Slovakia'), ('Italy', 'Russia'), ('Italy', 'India'), ('Italy', 'Hong Kong'), ('Italy', 'Portugal'), ('Italy', 'Iceland'), ('Italy', 'Lithuania'), ('Italy', 'Barbados'), ('Italy', 'Belarus'), ('Italy', 'Brazil'), ('Italy', 'Equatorial Guinea'), ('Italy', 'Georgia'), ('Italy', 'Jordan'), ('Italy', 'Kazakhstan'), ('Italy', 'Kyrgyzstan'), ('Italy', 'Malaysia'), ('Italy', 'Maldives'), ('Italy', 'Moldova'), ('Italy', 'Philippines'), ('Italy', 'South Africa'), ('Italy', 'Suriname'), ('Italy', 'Indonesia'), ('Italy', 'Guernsey'), ('Italy', 'Jersey'), ('Italy', 'Qatar'), ('Italy', 'Singapore'), ('Italy', 'South Korea'), ('Italy', 'Turkmenistan'), ('Italy', 'United Arab Emirates'), ('Italy', 'Panama'), ('Italy', 'Montenegro'), ('Italy', 'Gibraltar'), ('Italy', 'Israel'), ('Italy', 'Algeria'), ('Italy', 'Aruba'), ('Italy', 'Chile'), ('Italy', 'Australia'), ('Italy', 'Kuwait'), ('Italy', 'Faeroe Islands'), ('Italy', 'Greenland'), ('Italy', 'Ghana'), ('Italy', 'Pakistan'), ('Italy', 'Uzbekistan'), ('Italy', 'Tunisia'), ('Italy', 'Colombia'), ('Italy', 'Belize'), ('Italy', 'Mexico'), ('Italy', 'Thailand'), ('Italy', 'Nicaragua'), ('Italy', 'Democratic Republic of the Congo'), ('Italy', 'Argentina'), ('Italy', 'Bangladesh'), ('Italy', 'Costa Rica'), ('Italy', 'Dominican Republic'), ('Italy', 'Ecuador'), ('Italy', 'Sudan'), ('Italy', 'Turkey'), ('Italy', 'Yemen'), ('Italy', 'Morocco'), ('Italy', 'Lebanon'), ('Italy', 'Cape Verde'), ('Italy', 'Japan'), ('Italy', 'Congo'), ('Italy', 'Uruguay'), ('Italy', 'Benin'), ('Italy', 'Honduras'), ('Italy', 'Kenya'), ('Italy', 'Namibia'), ('Italy', 'Armenia'), ('Italy', 'Swaziland'), ('Italy', 'Guadeloupe'), ('Italy', 'Anguilla'), ('Italy', 'Antigua and Barbuda'), ('Italy', 'Bermuda'), ('Italy', 'Cayman Islands'), ('Italy', 'Falkland Islands'), ('Italy', 'Senegal'), ('Italy', 'Isle of Man'), ('Italy', 'Egypt'), ('Italy', 'Saint Barthélemy'), ('Italy', 'Saudi Arabia'), ('Italy', 'Liechtenstein'), ('Italy', 'Martinique'), ('Italy', 'Netherlands Antilles'), ('Italy', 'Azerbaijan'), ('Italy', 'French Polynesia'), ('Italy', 'Madagascar'), ('Italy', 'Syria'), ('Italy', 'Ethiopia'), ('Italy', 'Djibouti'), ('Italy', 'Mali'), ('Italy', 'Uganda'), ('Italy', 'Norfolk Island'), ('Italy', 'Zambia'), ('Italy', 'Serbia and Montenegro'), ('Italy', 'Venezuela'), ('Italy', 'Seychelles'), ('Andorra', 'United Kingdom'), ('Andorra', 'Portugal'), ('Andorra', 'Albania'), ('Andorra', 'China'), ('Andorra', 'Egypt'), ('Andorra', 'Thailand'), ('Andorra', 'Austria'), ('Andorra', 'Poland'), ('Andorra', 'Ukraine'), ('Andorra', 'Belgium'), ('Andorra', 'Indonesia'), ('Andorra', 'Denmark'), ('Andorra', 'Estonia'), ('Andorra', 'France'), ('Andorra', 'Germany'), ('Andorra', 'Ireland'), ('Andorra', 'Italy'), ('Andorra', 'Netherlands'), ('Andorra', 'Norway'), ('Andorra', 'United Arab Emirates'), ('Andorra', 'Guernsey'), ('Andorra', 'Montenegro'), ('Andorra', 'Romania'), ('Andorra', 'Slovakia'), ('Andorra', 'Czech Republic'), ('Andorra', 'Spain'), ('Andorra', 'Hong Kong'), ('Andorra', 'United States'), ('Andorra', 'Sweden'), ('Andorra', 'Finland'), ('Andorra', 'Bulgaria'), ('Spain', 'Belgium'), ('Spain', 'Netherlands'), ('Spain', 'France'), ('Spain', 'Croatia'), ('Spain', 'Germany'), ('Spain', 'Hungary'), ('Spain', 'Italy'), ('Spain', 'Poland'), ('Spain', 'Denmark'), ('Spain', 'Andorra'), ('Spain', 'United Kingdom'), ('Spain', 'Portugal'), ('Spain', 'Switzerland'), ('Spain', 'Cyprus'), ('Spain', 'Iran'), ('Spain', 'New Zealand'), ('Spain', 'Austria'), ('Spain', 'Slovenia'), ('Spain', 'Bulgaria'), ('Spain', 'Czech Republic'), ('Spain', 'Greece'), ('Spain', 'Lithuania'), ('Spain', 'Romania'), ('Spain', 'Finland'), ('Spain', 'Latvia'), ('Spain', 'Malta'), ('Spain', 'Ukraine'), ('Spain', 'Sweden'), ('Spain', 'Luxembourg'), ('Spain', 'Peru'), ('Spain', 'San Marino'), ('Spain', 'Bermuda'), ('Spain', 'Estonia'), ('Spain', 'Nigeria'), ('Spain', 'Canada'), ('Spain', 'South Korea'), ('Spain', 'Ireland'), ('Spain', 'Slovakia'), ('Spain', 'Norway'), ('Spain', 'Taiwan'), ('Spain', 'Hong Kong'), ('Spain', 'Georgia'), ('Spain', 'Saudi Arabia'), ('Spain', 'United States'), ('Spain', 'Cape Verde'), ('Spain', 'Japan'), ('Spain', 'Belarus'), ('Spain', 'Senegal'), ('Spain', 'Sri Lanka'), ('Spain', 'Albania'), ('Spain', 'Bosnia and Herzegovina'), ('Spain', 'Kosovo'), ('Spain', 'Liechtenstein'), ('Spain', 'Moldova'), ('Spain', 'Monaco'), ('Spain', 'Montenegro'), ('Spain', 'Republic of North Macedonia'), ('Spain', 'Russia'), ('Spain', 'Turkey'), ('Spain', 'Vatican City'), ('Spain', 'Mexico'), ('Spain', 'Iceland'), ('Spain', 'Colombia'), ('Spain', 'Lebanon'), ('Spain', 'Singapore'), ('Spain', 'Gibraltar'), ('Spain', 'Chile'), ('Spain', 'Costa Rica'), ('Spain', 'Turkmenistan'), ('Spain', 'United Arab Emirates'), ('Spain', 'Israel'), ('Spain', 'Panama'), ('Spain', 'Egypt'), ('Spain', 'Guernsey'), ('Spain', 'India'), ('Spain', 'Equatorial Guinea'), ('Spain', 'Morocco'), ('Spain', 'Australia'), ('Spain', 'Belize'), ('Spain', 'Uruguay'), ('Spain', 'China'), ('Spain', 'South Africa'), ('Spain', 'Jordan'), ('Spain', 'Burundi'), ('Spain', 'Rwanda'), ('Spain', 'Argentina'), ('Spain', 'Dominican Republic'), ('Spain', 'Faeroe Islands'), ('Spain', 'Brazil'), ('Spain', 'Guatemala'), ('Spain', 'Malaysia'), ('Spain', 'Mauritania'), ('Spain', 'Tunisia'), ('Spain', 'Indonesia'), ('Spain', 'Thailand'), ('Spain', 'Trinidad and Tobago'), ('Spain', 'Serbia'), ('Spain', 'Mauritius'), ('Spain', 'French Polynesia'), ('Spain', 'Qatar'), ('Spain', 'Réunion'), ('Spain', 'Algeria'), ('Spain', 'Cuba'), ('Spain', 'Jersey'), ('Spain', 'Angola'), ('Spain', 'Namibia'), ('Spain', 'Gambia'), ('Spain', 'Sierra Leone'), ('Spain', 'Isle of Man'), ('Spain', 'Gabon'), ('Spain', 'Guinea'), ('Spain', 'Philippines'), ('Spain', 'Barbados'), ('Spain', 'Ethiopia'), ('Spain', 'Iraq'), ('Spain', 'Sudan'), ('Spain', 'Saint Barthélemy'), ('Spain', 'Armenia'), ('Spain', 'Ecuador'), ('Spain', 'Vietnam'), ('Spain', 'Swaziland'), ('Spain', 'Venezuela'), ('Spain', 'Martinique'), ('Spain', 'Democratic Republic of the Congo'), ('Spain', 'Greenland'), ('Spain', 'Laos'), ('Spain', 'Maldives'), ('Spain', \"Côte d'Ivoire\"), ('Spain', 'Pakistan'), ('Spain', 'Zambia'), ('Spain', 'Suriname'), ('Spain', 'Guadeloupe'), ('Turkey', 'France'), ('Turkey', 'Bulgaria'), ('Turkey', 'Netherlands'), ('Turkey', 'Germany'), ('Turkey', 'Sweden'), ('Turkey', 'Finland'), ('Turkey', 'Croatia'), ('Turkey', 'Denmark'), ('Turkey', 'Italy'), ('Turkey', 'Poland'), ('Turkey', 'Spain'), ('Turkey', 'Greece'), ('Turkey', 'Austria'), ('Turkey', 'United Kingdom'), ('Turkey', 'Belgium'), ('Turkey', 'Malta'), ('Turkey', 'Hungary'), ('Turkey', 'Ireland'), ('Turkey', 'Luxembourg'), ('Turkey', 'Switzerland'), ('Turkey', 'Czech Republic'), ('Turkey', 'Latvia'), ('Turkey', 'Portugal'), ('Turkey', 'Serbia'), ('Turkey', 'Slovenia'), ('Turkey', 'Romania'), ('Turkey', 'Cyprus'), ('Turkey', 'Montenegro'), ('Turkey', 'Slovakia'), ('Turkey', 'Norway'), ('Turkey', 'Canada'), ('Turkey', 'United States'), ('Turkey', 'Malaysia'), ('Turkey', 'Singapore'), ('Turkey', 'Ukraine'), ('Turkey', 'China'), ('Turkey', 'South Korea'), ('Turkey', 'Vietnam'), ('Turkey', 'Lithuania'), ('Turkey', 'Estonia'), ('Turkey', 'San Marino'), ('Turkey', 'Belarus'), ('Turkey', 'Turkmenistan'), ('Turkey', 'United Arab Emirates'), ('Turkey', 'Guernsey'), ('Turkey', 'Andorra'), ('Turkey', 'Dominican Republic'), ('Turkey', 'Mexico'), ('Turkey', 'Australia'), ('Turkey', 'Albania'), ('Turkey', 'Hong Kong'), ('Turkey', 'Iceland'), ('Turkey', 'Iran'), ('Turkey', 'Liechtenstein'), ('Turkey', 'Russia'), ('Turkey', 'Faeroe Islands'), ('Turkey', 'Greenland'), ('Turkey', 'Lebanon'), ('Turkey', 'Tunisia'), ('Turkey', 'Cambodia'), ('Turkey', 'Central African Republic'), ('Turkey', 'Mali'), ('Turkey', 'Morocco'), ('Turkey', 'Oman'), ('Turkey', 'Kosovo'), ('Turkey', 'Republic of North Macedonia'), ('Turkey', 'Bahrain'), ('Turkey', 'Martinique'), ('Turkey', 'Jersey'), ('Turkey', 'Bosnia and Herzegovina'), ('Turkey', 'Burkina Faso'), ('Turkey', 'Burundi'), ('Turkey', 'Cameroon'), ('Turkey', 'Democratic Republic of the Congo'), ('Turkey', 'Uganda'), ('Turkey', 'Serbia and Montenegro'), ('Ukraine', 'Poland'), ('Ukraine', 'Croatia'), ('Ukraine', 'Cyprus'), ('Ukraine', 'Iran'), ('Ukraine', 'New Zealand'), ('Ukraine', 'Switzerland'), ('Ukraine', 'Latvia'), ('Ukraine', 'Germany'), ('Ukraine', 'Lithuania'), ('Ukraine', 'Netherlands'), ('Ukraine', 'Bulgaria'), ('Ukraine', 'Italy'), ('Ukraine', 'Slovakia'), ('Ukraine', 'Portugal'), ('Ukraine', 'Finland'), ('Ukraine', 'France'), ('Ukraine', 'Sweden'), ('Ukraine', 'United Kingdom'), ('Ukraine', 'Belgium'), ('Ukraine', 'Hungary'), ('Ukraine', 'Slovenia'), ('Ukraine', 'Estonia'), ('Ukraine', 'Denmark'), ('Ukraine', 'Luxembourg'), ('Ukraine', 'Spain'), ('Ukraine', 'Guernsey'), ('Ukraine', 'Montenegro'), ('Ukraine', 'Austria'), ('Ukraine', 'China'), ('Ukraine', 'Czech Republic'), ('Ukraine', 'Greece'), ('Ukraine', 'Norway'), ('Ukraine', 'Russia'), ('Ukraine', 'Ireland'), ('Ukraine', 'Iceland'), ('Ukraine', 'United States'), ('Ukraine', 'United Arab Emirates'), ('Ukraine', 'Belarus'), ('Ukraine', 'Romania'), ('Ukraine', 'Congo'), ('Ukraine', 'Malta'), ('Ukraine', 'Albania'), ('Ukraine', 'Azerbaijan'), ('Ukraine', 'Bahrain'), ('Ukraine', 'Burkina Faso'), ('Ukraine', 'Egypt'), ('Ukraine', 'French Polynesia'), ('Ukraine', 'Ghana'), ('Ukraine', 'Kuwait'), ('Ukraine', 'Lebanon'), ('Ukraine', 'Maldives'), ('Ukraine', 'Mayotte'), ('Ukraine', 'Monaco'), ('Ukraine', 'New Caledonia'), ('Ukraine', 'Saudi Arabia'), ('Ukraine', 'Taiwan'), ('Ukraine', 'Tanzania'), ('Ukraine', 'Turkey'), ('Ukraine', 'Vanuatu'), ('Ukraine', 'Hong Kong'), ('Ukraine', 'San Marino'), ('Vietnam', 'Netherlands'), ('Vietnam', 'United Kingdom'), ('Vietnam', 'Norway'), ('Vietnam', 'Belgium'), ('Vietnam', 'Switzerland'), ('Vietnam', 'Denmark'), ('Vietnam', 'Portugal'), ('Vietnam', 'Spain'), ('Vietnam', 'Greece'), ('Vietnam', 'France'), ('Vietnam', 'Germany'), ('Vietnam', 'Lithuania'), ('Vietnam', 'Luxembourg'), ('Vietnam', 'Poland'), ('Vietnam', 'Austria'), ('Vietnam', 'Italy'), ('Vietnam', 'Bulgaria'), ('Vietnam', 'Hungary'), ('Vietnam', 'Romania'), ('Vietnam', 'Sweden'), ('Vietnam', 'Finland'), ('Vietnam', 'Croatia'), ('Vietnam', 'Czech Republic'), ('Vietnam', 'Malta'), ('Vietnam', 'Hong Kong'), ('Vietnam', 'Slovakia'), ('Vietnam', 'Estonia'), ('Vietnam', 'Ireland'), ('Vietnam', 'Slovenia'), ('Vietnam', 'Latvia'), ('Vietnam', 'Réunion'), ('Vietnam', 'Cyprus'), ('Vietnam', 'United States'), ('Vietnam', 'Japan'), ('Vietnam', 'Russia'), ('Vietnam', 'Thailand'), ('Vietnam', 'Brazil'), ('Vietnam', 'Mexico'), ('Vietnam', 'Singapore'), ('Vietnam', 'Iceland'), ('Vietnam', 'Angola'), ('Vietnam', 'Cuba'), ('Vietnam', 'Gibraltar'), ('Vietnam', 'Albania'), ('Vietnam', 'Bahamas'), ('Vietnam', 'Faeroe Islands'), ('Vietnam', 'Liberia'), ('Vietnam', 'Marshall Islands'), ('Vietnam', 'Bosnia and Herzegovina'), ('Vietnam', 'Morocco'), ('Vietnam', 'Greenland'), ('Vietnam', 'Ukraine'), ('Vietnam', 'Belarus'), ('Vietnam', 'Moldova'), ('Vietnam', 'Andorra'), ('Vietnam', 'Australia'), ('Netherlands', 'France'), ('Netherlands', 'Belgium'), ('Netherlands', 'United Kingdom'), ('Netherlands', 'Germany'), ('Netherlands', 'Italy'), ('Netherlands', 'Denmark'), ('Netherlands', 'Austria'), ('Netherlands', 'Luxembourg'), ('Netherlands', 'Switzerland'), ('Netherlands', 'Spain'), ('Netherlands', 'Sweden'), ('Netherlands', 'Greece'), ('Netherlands', 'Lithuania'), ('Netherlands', 'Croatia'), ('Netherlands', 'Cyprus'), ('Netherlands', 'Iran'), ('Netherlands', 'New Zealand'), ('Netherlands', 'Bulgaria'), ('Netherlands', 'Canada'), ('Netherlands', 'Czech Republic'), ('Netherlands', 'Ireland'), ('Netherlands', 'Malta'), ('Netherlands', 'Poland'), ('Netherlands', 'Portugal'), ('Netherlands', 'Slovakia'), ('Netherlands', 'United States'), ('Netherlands', 'Andorra'), ('Netherlands', 'Japan'), ('Netherlands', 'Finland'), ('Netherlands', 'Hong Kong'), ('Netherlands', 'Togo'), ('Netherlands', 'Bahrain'), ('Netherlands', 'Estonia'), ('Netherlands', 'Iceland'), ('Netherlands', 'Latvia'), ('Netherlands', 'Ukraine'), ('Netherlands', 'Faeroe Islands'), ('Netherlands', 'Romania'), ('Netherlands', 'Curaçao'), ('Netherlands', 'Nigeria'), ('Netherlands', 'Taiwan'), ('Netherlands', 'Slovenia'), ('Netherlands', 'Democratic Republic of the Congo'), ('Netherlands', 'Monaco'), ('Netherlands', 'Barbados'), ('Netherlands', 'Uruguay'), ('Netherlands', 'Hungary'), ('Netherlands', 'Albania'), ('Netherlands', 'Belarus'), ('Netherlands', 'Bosnia and Herzegovina'), ('Netherlands', 'Kosovo'), ('Netherlands', 'Liechtenstein'), ('Netherlands', 'Moldova'), ('Netherlands', 'Montenegro'), ('Netherlands', 'Republic of North Macedonia'), ('Netherlands', 'Russia'), ('Netherlands', 'Turkey'), ('Netherlands', 'Vatican City'), ('Netherlands', 'Martinique'), ('Netherlands', 'Norway'), ('Netherlands', 'Chile'), ('Netherlands', 'China'), ('Netherlands', 'Norfolk Island'), ('Netherlands', 'Angola'), ('Netherlands', 'Antigua and Barbuda'), ('Netherlands', 'Bahamas'), ('Netherlands', 'East Timor'), ('Netherlands', 'Equatorial Guinea'), ('Netherlands', 'Gabon'), ('Netherlands', 'Gambia'), ('Netherlands', 'Ghana'), ('Netherlands', 'Gibraltar'), ('Netherlands', 'Liberia'), ('Netherlands', 'Marshall Islands'), ('Netherlands', 'Mauritius'), ('Netherlands', 'Oman'), ('Netherlands', 'Panama'), ('Netherlands', 'Philippines'), ('Netherlands', 'Singapore'), ('Netherlands', 'South Korea'), ('Netherlands', 'Suriname'), ('Netherlands', 'Thailand'), ('Netherlands', 'Vietnam'), ('Netherlands', 'Cameroon'), ('Netherlands', 'San Marino'), ('Netherlands', 'Malaysia'), ('Netherlands', 'Sint Maarten'), ('Netherlands', 'Bolivia'), ('Netherlands', 'Turkmenistan'), ('Netherlands', 'United Arab Emirates'), ('Netherlands', 'Indonesia'), ('Netherlands', 'Lebanon'), ('Netherlands', 'Guernsey'), ('Netherlands', 'Belize'), ('Netherlands', 'India'), ('Netherlands', 'Afghanistan'), ('Netherlands', 'Trinidad and Tobago'), ('Netherlands', 'Sudan'), ('Netherlands', 'Saudi Arabia'), ('Netherlands', 'Colombia'), ('Netherlands', 'Honduras'), ('Netherlands', 'Peru'), ('Netherlands', 'Australia'), ('Netherlands', 'Pakistan'), ('Netherlands', 'Georgia'), ('Netherlands', 'Morocco'), ('Netherlands', 'South Africa'), ('Netherlands', 'Aruba'), ('Netherlands', 'Tunisia'), ('Netherlands', 'Egypt'), ('Netherlands', 'Isle of Man'), ('Netherlands', 'Jersey'), ('Netherlands', 'Serbia'), ('Netherlands', 'Israel'), ('Netherlands', 'Algeria'), ('Netherlands', 'Bangladesh'), ('Netherlands', 'Iraq'), ('Netherlands', 'Jordan'), ('Netherlands', 'Libya'), ('Netherlands', 'Madagascar'), ('Netherlands', 'Maldives'), ('Netherlands', 'Nepal'), ('Netherlands', 'New Caledonia'), ('Netherlands', 'Sri Lanka'), ('Netherlands', 'Tanzania'), ('Netherlands', 'West Bank and Gaza Strip'), ('Netherlands', 'Greenland'), ('Netherlands', 'Kazakhstan'), ('Netherlands', 'Benin'), ('Netherlands', 'Congo'), ('Netherlands', 'Mauritania'), ('Netherlands', 'Namibia'), ('Netherlands', 'Sierra Leone'), ('Netherlands', 'Central African Republic'), ('Netherlands', 'Azerbaijan'), ('Netherlands', \"Côte d'Ivoire\"), ('Netherlands', 'Kenya'), ('Netherlands', 'Kuwait'), ('Netherlands', 'Cambodia'), ('Netherlands', 'Qatar'), ('Netherlands', 'Argentina'), ('Netherlands', 'Brazil'), ('Netherlands', 'Costa Rica'), ('Netherlands', 'Dominican Republic'), ('Netherlands', 'Ethiopia'), ('Netherlands', 'Guadeloupe'), ('Netherlands', 'Mexico'), ('Netherlands', 'Myanmar'), ('Netherlands', 'Swaziland'), ('Netherlands', 'Venezuela'), ('Netherlands', 'Guinea'), ('Netherlands', 'Mongolia'), ('Netherlands', 'Seychelles'), ('Netherlands', 'Yemen'), ('Netherlands', 'French Polynesia'), ('Netherlands', 'Saint Martin'), ('Netherlands', 'Ecuador'), ('Netherlands', 'Senegal'), ('Netherlands', 'Réunion'), ('Netherlands', 'Bermuda'), ('Netherlands', 'British Virgin Islands'), ('Netherlands', 'Grenada'), ('Netherlands', 'Netherlands Antilles'), ('Netherlands', 'Serbia and Montenegro'), ('Netherlands', 'Saint Helena'), ('United States', 'Germany'), ('United States', 'Czech Republic'), ('United States', 'Sweden'), ('United States', 'United Kingdom'), ('United States', 'Netherlands'), ('United States', 'Austria'), ('United States', 'Poland'), ('United States', 'Spain'), ('United States', 'France'), ('United States', 'Switzerland'), ('United States', 'Italy'), ('United States', 'Finland'), ('United States', 'Slovakia'), ('United States', 'Denmark'), ('United States', 'Cyprus'), ('United States', 'Greece'), ('United States', 'Norway'), ('United States', 'Belgium'), ('United States', 'Croatia'), ('United States', 'Taiwan'), ('United States', 'India'), ('United States', 'China'), ('United States', 'Belarus'), ('United States', 'Hungary'), ('United States', 'Latvia'), ('United States', 'Lithuania'), ('United States', 'Portugal'), ('United States', 'Senegal'), ('United States', 'Slovenia'), ('United States', 'Romania'), ('United States', 'Iceland'), ('United States', 'Bulgaria'), ('United States', 'Estonia'), ('United States', 'Ireland'), ('United States', 'Israel'), ('United States', 'Luxembourg'), ('United States', 'Malta'), ('United States', 'San Marino'), ('United States', 'Serbia'), ('United States', 'United Arab Emirates'), ('United States', 'Turkey'), ('United States', 'Kenya'), ('United States', 'Cambodia'), ('United States', 'Canada'), ('United States', 'Australia'), ('United States', 'Singapore'), ('United States', 'Brazil'), ('United States', 'South Africa'), ('United States', 'Suriname'), ('United States', 'Ukraine'), ('United States', 'Albania'), ('United States', 'Algeria'), ('United States', 'Angola'), ('United States', 'Bosnia and Herzegovina'), ('United States', 'Burkina Faso'), ('United States', 'Congo'), ('United States', 'Democratic Republic of the Congo'), ('United States', 'Gabon'), ('United States', 'Ghana'), ('United States', 'Guernsey'), ('United States', 'Iraq'), ('United States', 'Jersey'), ('United States', 'Kosovo'), ('United States', 'Mali'), ('United States', 'Mauritania'), ('United States', 'Mauritius'), ('United States', 'Montenegro'), ('United States', 'Morocco'), ('United States', 'Niger'), ('United States', 'Republic of North Macedonia'), ('United States', 'Togo'), ('United States', 'Tunisia'), ('United States', 'Zambia'), ('United States', 'Zimbabwe'), ('United States', 'Turkmenistan'), ('United States', 'Cameroon'), ('United States', 'Andorra'), ('United States', 'Argentina'), ('United States', 'New Zealand'), ('United States', 'Seychelles'), ('United States', 'Moldova'), ('United States', 'Vietnam'), ('United States', 'Greenland'), ('United States', 'Lebanon'), ('United States', 'Russia'), ('United States', 'Thailand'), ('United States', 'Macao'), ('United States', 'Dominican Republic'), ('United States', 'Egypt'), ('United States', 'Kuwait'), ('United States', 'Azerbaijan'), ('United States', 'Iran'), ('United States', 'Åland Islands'), ('United States', 'Panama'), ('United States', 'Guadeloupe'), ('United States', 'Martinique'), ('United States', 'Nigeria'), ('United States', 'Réunion'), ('United States', 'Hong Kong'), ('United States', 'Philippines'), ('United States', 'South Korea'), ('United States', 'Monaco'), ('United States', 'Gibraltar'), ('United States', 'Barbados'), ('United States', 'Bahamas'), ('United States', 'Turks and Caicos Islands'), ('United States', 'Bermuda'), ('United States', 'British Virgin Islands'), ('United States', 'Cayman Islands'), ('United States', 'Jamaica'), ('United States', 'Saint Kitts and Nevis'), ('United States', 'Saint Lucia'), ('United States', 'Trinidad and Tobago'), ('United States', 'Norfolk Island'), ('United States', 'Serbia and Montenegro'), ('United States', 'Faeroe Islands'), ('Bulgaria', 'Hungary'), ('Bulgaria', 'Netherlands'), ('Bulgaria', 'Italy'), ('Bulgaria', 'United States'), ('Bulgaria', 'Germany'), ('Bulgaria', 'France'), ('Bulgaria', 'United Kingdom'), ('Bulgaria', 'Ukraine'), ('Bulgaria', 'Hong Kong'), ('Bulgaria', 'Austria'), ('Bulgaria', 'Croatia'), ('Bulgaria', 'Romania'), ('Bulgaria', 'Slovakia'), ('Bulgaria', 'Slovenia'), ('Bulgaria', 'Switzerland'), ('Bulgaria', 'Denmark'), ('Bulgaria', 'Ireland'), ('Bulgaria', 'Lithuania'), ('Bulgaria', 'Poland'), ('Bulgaria', 'Spain'), ('Bulgaria', 'Sweden'), ('Bulgaria', 'Canada'), ('Bulgaria', 'Latvia'), ('Bulgaria', 'Albania'), ('Bulgaria', 'Andorra'), ('Bulgaria', 'Belarus'), ('Bulgaria', 'Bosnia and Herzegovina'), ('Bulgaria', 'Kosovo'), ('Bulgaria', 'Liechtenstein'), ('Bulgaria', 'Moldova'), ('Bulgaria', 'Monaco'), ('Bulgaria', 'Montenegro'), ('Bulgaria', 'Portugal'), ('Bulgaria', 'Republic of North Macedonia'), ('Bulgaria', 'Russia'), ('Bulgaria', 'Turkey'), ('Bulgaria', 'Vatican City'), ('Bulgaria', 'Belgium'), ('Bulgaria', 'Cyprus'), ('Bulgaria', 'Estonia'), ('Bulgaria', 'Finland'), ('Bulgaria', 'Guernsey'), ('Bulgaria', 'Greece'), ('Bulgaria', 'Luxembourg'), ('Bulgaria', 'United Arab Emirates'), ('Bulgaria', 'Czech Republic'), ('Bulgaria', 'Australia'), ('Bulgaria', 'Chile'), ('Bulgaria', 'Tunisia'), ('Bulgaria', 'Iran'), ('Bulgaria', 'Azerbaijan'), ('Bulgaria', 'Iceland'), ('Bulgaria', 'Malta'), ('Bulgaria', 'Pakistan'), ('Bulgaria', 'Peru'), ('Bulgaria', 'Syria'), ('Bulgaria', 'Belize'), ('Bulgaria', 'Norway'), ('Bulgaria', 'Philippines'), ('Bulgaria', 'Singapore'), ('Bulgaria', 'South Africa'), ('Bulgaria', 'Algeria'), ('Bulgaria', 'Benin'), ('Bulgaria', 'Burkina Faso'), ('Bulgaria', 'Cameroon'), ('Bulgaria', \"Côte d'Ivoire\"), ('Bulgaria', 'Gambia'), ('Bulgaria', 'Senegal'), ('Bulgaria', 'Japan'), ('Bulgaria', 'Sri Lanka'), ('Estonia', 'Finland'), ('Estonia', 'Poland'), ('Estonia', 'Latvia'), ('Estonia', 'Lithuania'), ('Estonia', 'France'), ('Estonia', 'Denmark'), ('Estonia', 'Germany'), ('Estonia', 'Slovenia'), ('Estonia', 'Netherlands'), ('Estonia', 'Italy'), ('Estonia', 'Barbados'), ('Estonia', 'Romania'), ('Estonia', 'Greece'), ('Estonia', 'Albania'), ('Estonia', 'Andorra'), ('Estonia', 'Austria'), ('Estonia', 'Belarus'), ('Estonia', 'Bosnia and Herzegovina'), ('Estonia', 'Kosovo'), ('Estonia', 'Liechtenstein'), ('Estonia', 'Moldova'), ('Estonia', 'Monaco'), ('Estonia', 'Montenegro'), ('Estonia', 'Portugal'), ('Estonia', 'Republic of North Macedonia'), ('Estonia', 'Russia'), ('Estonia', 'Switzerland'), ('Estonia', 'Turkey'), ('Estonia', 'Ukraine'), ('Estonia', 'Vatican City'), ('Estonia', 'Sweden'), ('Estonia', 'Hungary'), ('Estonia', 'Belgium'), ('Estonia', 'Luxembourg'), ('Estonia', 'Spain'), ('Estonia', 'United States'), ('Estonia', 'United Kingdom'), ('Estonia', 'Guernsey'), ('Estonia', 'Cyprus'), ('Estonia', 'Slovakia'), ('Estonia', 'United Arab Emirates'), ('Estonia', 'Mauritius'), ('Estonia', 'Czech Republic'), ('Estonia', 'Ireland'), ('Estonia', 'Croatia'), ('Estonia', 'Egypt'), ('Estonia', 'Bulgaria'), ('Estonia', 'Lebanon'), ('Estonia', 'Norway'), ('Estonia', 'Swaziland'), ('Estonia', 'Hong Kong'), ('Estonia', 'Indonesia'), ('Estonia', 'Malta'), ('Estonia', 'Chile'), ('Finland', 'Denmark'), ('Finland', 'Netherlands'), ('Finland', 'Croatia'), ('Finland', 'Cyprus'), ('Finland', 'Iran'), ('Finland', 'New Zealand'), ('Finland', 'Switzerland'), ('Finland', 'Sweden'), ('Finland', 'Iraq'), ('Finland', 'Ukraine'), ('Finland', 'United Kingdom'), ('Finland', 'Bulgaria'), ('Finland', 'Estonia'), ('Finland', 'Romania'), ('Finland', 'United States'), ('Finland', 'Nigeria'), ('Finland', 'Belgium'), ('Finland', 'Germany'), ('Finland', 'Italy'), ('Finland', 'Slovakia'), ('Finland', 'Hong Kong'), ('Finland', 'Latvia'), ('Finland', 'France'), ('Finland', 'Lithuania'), ('Finland', 'Barbados'), ('Finland', 'Greece'), ('Finland', 'Albania'), ('Finland', 'Andorra'), ('Finland', 'Austria'), ('Finland', 'Belarus'), ('Finland', 'Bosnia and Herzegovina'), ('Finland', 'Kosovo'), ('Finland', 'Liechtenstein'), ('Finland', 'Moldova'), ('Finland', 'Monaco'), ('Finland', 'Montenegro'), ('Finland', 'Portugal'), ('Finland', 'Republic of North Macedonia'), ('Finland', 'Russia'), ('Finland', 'Slovenia'), ('Finland', 'Turkey'), ('Finland', 'Vatican City'), ('Finland', 'Iceland'), ('Finland', 'Canada'), ('Finland', 'Poland'), ('Finland', 'Ireland'), ('Finland', 'Luxembourg'), ('Finland', 'Australia'), ('Finland', 'China'), ('Finland', 'Hungary'), ('Finland', 'South Korea'), ('Finland', 'Spain'), ('Finland', 'Vietnam'), ('Finland', 'Turkmenistan'), ('Finland', 'United Arab Emirates'), ('Finland', 'Guernsey'), ('Finland', 'India'), ('Finland', 'Norway'), ('Finland', 'Mauritius'), ('Finland', 'San Marino'), ('Finland', 'Czech Republic'), ('Finland', 'Namibia'), ('Finland', 'Swaziland'), ('Finland', 'Chile'), ('Finland', 'Morocco'), ('Finland', 'Argentina'), ('Finland', 'Azerbaijan'), ('Finland', 'Brazil'), ('Finland', 'Malta'), ('Finland', 'Serbia'), ('Finland', 'Singapore'), ('Finland', 'South Africa'), ('Finland', 'Algeria'), ('Finland', 'Costa Rica'), ('Finland', 'Dominican Republic'), ('Finland', 'Egypt'), ('Finland', 'Ethiopia'), ('Finland', 'Guadeloupe'), ('Finland', 'Indonesia'), ('Finland', 'Israel'), ('Finland', 'Japan'), ('Finland', 'Kuwait'), ('Finland', 'Lebanon'), ('Finland', 'Libya'), ('Finland', 'Malaysia'), ('Finland', 'Martinique'), ('Finland', 'Mexico'), ('Finland', 'Myanmar'), ('Finland', 'Peru'), ('Finland', 'Philippines'), ('Finland', 'Thailand'), ('Finland', 'Uruguay'), ('Finland', 'Venezuela'), ('Slovakia', 'Czech Republic'), ('Slovakia', 'Hungary'), ('Slovakia', 'Croatia'), ('Slovakia', 'Cyprus'), ('Slovakia', 'Iran'), ('Slovakia', 'New Zealand'), ('Slovakia', 'Switzerland'), ('Slovakia', 'Austria'), ('Slovakia', 'Germany'), ('Slovakia', 'Italy'), ('Slovakia', 'Netherlands'), ('Slovakia', 'Finland'), ('Slovakia', 'Latvia'), ('Slovakia', 'Denmark'), ('Slovakia', 'Bulgaria'), ('Slovakia', 'Ireland'), ('Slovakia', 'Slovenia'), ('Slovakia', 'Poland'), ('Slovakia', 'Hong Kong'), ('Slovakia', 'France'), ('Slovakia', 'Romania'), ('Slovakia', 'Sweden'), ('Slovakia', 'Greece'), ('Slovakia', 'Albania'), ('Slovakia', 'Andorra'), ('Slovakia', 'Belarus'), ('Slovakia', 'Bosnia and Herzegovina'), ('Slovakia', 'Kosovo'), ('Slovakia', 'Liechtenstein'), ('Slovakia', 'Moldova'), ('Slovakia', 'Monaco'), ('Slovakia', 'Montenegro'), ('Slovakia', 'Portugal'), ('Slovakia', 'Republic of North Macedonia'), ('Slovakia', 'Russia'), ('Slovakia', 'Turkey'), ('Slovakia', 'Ukraine'), ('Slovakia', 'Vatican City'), ('Slovakia', 'United Kingdom'), ('Slovakia', 'Lithuania'), ('Slovakia', 'Egypt'), ('Slovakia', 'Estonia'), ('Slovakia', 'Norway'), ('Slovakia', 'United Arab Emirates'), ('Slovakia', 'Luxembourg'), ('Slovakia', 'Spain'), ('Slovakia', 'United States'), ('Slovakia', 'Guernsey'), ('Slovakia', 'India'), ('Slovakia', 'Iceland'), ('Slovakia', 'Kenya'), ('Slovakia', 'Malta'), ('Slovakia', 'Mauritius'), ('Slovakia', 'Singapore'), ('Slovakia', 'Belgium'), ('Slovakia', 'China'), ('Slovakia', 'Democratic Republic of the Congo'), ('Slovakia', 'Tunisia'), ('Slovakia', 'Lebanon'), ('Slovakia', 'Belize'), ('Slovakia', 'Chile'), ('Slovakia', 'Morocco'), ('Slovakia', 'Pakistan'), ('Slovakia', 'Guadeloupe'), ('Slovakia', 'Martinique'), ('Slovakia', 'Algeria'), ('Slovakia', 'Georgia'), ('Slovakia', 'Kazakhstan'), ('Slovakia', 'New Caledonia'), ('Slovakia', 'Suriname'), ('Slovakia', 'Japan'), ('China', 'Netherlands'), ('China', 'United Kingdom'), ('China', 'Poland'), ('China', 'Norway'), ('China', 'Slovenia'), ('China', 'Spain'), ('China', 'Denmark'), ('China', 'Italy'), ('China', 'Lithuania'), ('China', 'Belgium'), ('China', 'Kazakhstan'), ('China', 'Romania'), ('China', 'Russia'), ('China', 'Sweden'), ('China', 'Austria'), ('China', 'Bulgaria'), ('China', 'Czech Republic'), ('China', 'Finland'), ('China', 'France'), ('China', 'Germany'), ('China', 'Greece'), ('China', 'Honduras'), ('China', 'Portugal'), ('China', 'Switzerland'), ('China', 'Hungary'), ('China', 'Iceland'), ('China', 'Malta'), ('China', 'Croatia'), ('China', 'Serbia'), ('China', 'Slovakia'), ('China', 'Albania'), ('China', 'Algeria'), ('China', 'Luxembourg'), ('China', 'Morocco'), ('China', 'Belarus'), ('China', 'Latvia'), ('China', 'Hong Kong'), ('China', 'Cyprus'), ('China', 'Kosovo'), ('China', 'Ireland'), ('China', \"Côte d'Ivoire\"), ('China', 'Estonia'), ('China', 'French Polynesia'), ('China', 'Moldova'), ('China', 'New Caledonia'), ('China', 'Saint Pierre and Miquelon'), ('China', 'Senegal'), ('China', 'Tunisia'), ('China', 'United Arab Emirates'), ('China', 'Lebanon'), ('China', 'Australia'), ('China', 'Israel'), ('China', 'Taiwan'), ('China', 'Turkey'), ('China', 'Bosnia and Herzegovina'), ('China', 'Republic of North Macedonia'), ('China', 'Kuwait'), ('China', 'New Zealand'), ('China', 'Bolivia'), ('China', 'Indonesia'), ('China', 'Japan'), ('China', 'United States'), ('China', 'Canada'), ('China', 'Ghana'), ('China', 'Uganda'), ('China', 'Uzbekistan'), ('China', 'South Korea'), ('China', 'Vietnam'), ('China', 'Ukraine'), ('China', 'Georgia'), ('China', 'Montenegro'), ('China', 'Cameroon'), ('China', 'San Marino'), ('China', 'Singapore'), ('China', 'Thailand'), ('China', 'Guatemala'), ('China', 'Armenia'), ('China', 'Turkmenistan'), ('China', 'Pakistan'), ('China', 'Uruguay'), ('China', 'Jordan'), ('China', 'Kenya'), ('China', 'Andorra'), ('China', 'Bahrain'), ('China', 'Jersey'), ('China', 'Mauritius'), ('China', 'India'), ('China', 'Qatar'), ('China', 'Monaco'), ('China', 'Aruba'), ('China', 'Egypt'), ('China', 'Panama'), ('China', 'Angola'), ('China', 'Greenland'), ('China', 'Faeroe Islands'), ('China', 'Macao'), ('China', 'South Africa'), ('China', 'Brazil'), ('China', 'Réunion'), ('China', 'Liechtenstein'), ('China', 'Afghanistan'), ('China', 'Argentina'), ('China', 'Chad'), ('China', 'Congo'), ('China', 'Equatorial Guinea'), ('China', 'Gambia'), ('China', 'Iraq'), ('China', 'Mozambique'), ('China', 'Nigeria'), ('China', 'Yemen'), ('China', 'Burkina Faso'), ('China', 'Malaysia'), ('China', 'Bangladesh'), ('China', 'Belize'), ('China', 'Mexico'), ('China', 'Oman'), ('China', 'Trinidad and Tobago'), ('China', 'Cape Verde'), ('China', 'Azerbaijan'), ('China', 'Gabon'), ('China', 'Gibraltar'), ('China', 'Sierra Leone'), ('China', 'Dominican Republic'), ('China', 'Ecuador'), ('China', 'Sudan'), ('China', 'Saudi Arabia'), ('China', 'Colombia'), ('China', 'Chile'), ('China', 'Mongolia'), ('China', 'Isle of Man'), ('China', 'Martinique'), ('China', 'Namibia'), ('China', 'Iran'), ('China', 'Venezuela'), ('China', 'Suriname'), ('China', 'Norfolk Island'), ('China', 'Serbia and Montenegro'), ('Czech Republic', 'Sweden'), ('Czech Republic', 'Denmark'), ('Czech Republic', 'Netherlands'), ('Czech Republic', 'Slovakia'), ('Czech Republic', 'Latvia'), ('Czech Republic', 'Poland'), ('Czech Republic', 'Croatia'), ('Czech Republic', 'Cyprus'), ('Czech Republic', 'Iran'), ('Czech Republic', 'New Zealand'), ('Czech Republic', 'Switzerland'), ('Czech Republic', 'Bulgaria'), ('Czech Republic', 'Taiwan'), ('Czech Republic', 'Germany'), ('Czech Republic', 'Italy'), ('Czech Republic', 'Lithuania'), ('Czech Republic', 'France'), ('Czech Republic', 'United Arab Emirates'), ('Czech Republic', 'Hungary'), ('Czech Republic', 'Finland'), ('Czech Republic', 'Ukraine'), ('Czech Republic', 'United Kingdom'), ('Czech Republic', 'Spain'), ('Czech Republic', 'Belgium'), ('Czech Republic', 'Austria'), ('Czech Republic', 'Luxembourg'), ('Czech Republic', 'Hong Kong'), ('Czech Republic', 'Canada'), ('Czech Republic', 'Barbados'), ('Czech Republic', 'Romania'), ('Czech Republic', 'United States'), ('Czech Republic', 'Greece'), ('Czech Republic', 'Ireland'), ('Czech Republic', 'Malta'), ('Czech Republic', 'Norway'), ('Czech Republic', 'Portugal'), ('Czech Republic', 'Albania'), ('Czech Republic', 'Andorra'), ('Czech Republic', 'Belarus'), ('Czech Republic', 'Bosnia and Herzegovina'), ('Czech Republic', 'Kosovo'), ('Czech Republic', 'Liechtenstein'), ('Czech Republic', 'Moldova'), ('Czech Republic', 'Monaco'), ('Czech Republic', 'Montenegro'), ('Czech Republic', 'Republic of North Macedonia'), ('Czech Republic', 'Russia'), ('Czech Republic', 'Slovenia'), ('Czech Republic', 'Turkey'), ('Czech Republic', 'Vatican City'), ('Czech Republic', 'South Korea'), ('Czech Republic', 'Gibraltar'), ('Czech Republic', 'Israel'), ('Czech Republic', 'Mexico'), ('Czech Republic', 'Egypt'), ('Czech Republic', 'Estonia'), ('Czech Republic', 'Guernsey'), ('Czech Republic', 'Belize'), ('Czech Republic', 'India'), ('Czech Republic', 'China'), ('Czech Republic', 'Lebanon'), ('Czech Republic', 'Australia'), ('Czech Republic', 'Vietnam'), ('Czech Republic', 'Democratic Republic of the Congo'), ('Czech Republic', 'Tunisia'), ('Czech Republic', 'Angola'), ('Czech Republic', 'Bahrain'), ('Czech Republic', 'Iceland'), ('Czech Republic', 'Greenland'), ('Czech Republic', 'Guadeloupe'), ('Czech Republic', 'Martinique'), ('Czech Republic', 'Azerbaijan'), ('Czech Republic', 'Pakistan'), ('Czech Republic', 'Peru'), ('Czech Republic', 'Syria'), ('Czech Republic', 'Swaziland'), ('Czech Republic', 'Algeria'), ('Czech Republic', 'Chile'), ('Czech Republic', 'Morocco'), ('Czech Republic', 'Serbia'), ('Czech Republic', 'Thailand'), ('Czech Republic', 'Armenia'), ('Czech Republic', 'Indonesia'), ('Czech Republic', 'Rwanda'), ('Czech Republic', 'Norfolk Island'), ('Sweden', 'Netherlands'), ('Sweden', 'Croatia'), ('Sweden', 'Cyprus'), ('Sweden', 'Iran'), ('Sweden', 'New Zealand'), ('Sweden', 'Switzerland'), ('Sweden', 'Denmark'), ('Sweden', 'Spain'), ('Sweden', 'Finland'), ('Sweden', 'France'), ('Sweden', 'Hungary'), ('Sweden', 'Latvia'), ('Sweden', 'Ukraine'), ('Sweden', 'United Kingdom'), ('Sweden', 'Bulgaria'), ('Sweden', 'Iceland'), ('Sweden', 'Norway'), ('Sweden', 'Estonia'), ('Sweden', 'Austria'), ('Sweden', 'Nigeria'), ('Sweden', 'Germany'), ('Sweden', 'Taiwan'), ('Sweden', 'Belgium'), ('Sweden', 'Slovakia'), ('Sweden', 'Luxembourg'), ('Sweden', 'Lithuania'), ('Sweden', 'Hong Kong'), ('Sweden', 'Greece'), ('Sweden', 'Albania'), ('Sweden', 'Andorra'), ('Sweden', 'Belarus'), ('Sweden', 'Bosnia and Herzegovina'), ('Sweden', 'Italy'), ('Sweden', 'Kosovo'), ('Sweden', 'Liechtenstein'), ('Sweden', 'Moldova'), ('Sweden', 'Monaco'), ('Sweden', 'Montenegro'), ('Sweden', 'Portugal'), ('Sweden', 'Republic of North Macedonia'), ('Sweden', 'Russia'), ('Sweden', 'Slovenia'), ('Sweden', 'Turkey'), ('Sweden', 'Vatican City'), ('Sweden', 'Malta'), ('Sweden', 'China'), ('Sweden', 'Åland Islands'), ('Sweden', 'Faeroe Islands'), ('Sweden', 'Greenland'), ('Sweden', 'Poland'), ('Sweden', 'Ireland'), ('Sweden', 'Turkmenistan'), ('Sweden', 'United Arab Emirates'), ('Sweden', 'Egypt'), ('Sweden', 'Guernsey'), ('Sweden', 'Belize'), ('Sweden', 'India'), ('Sweden', 'Romania'), ('Sweden', 'Australia'), ('Sweden', 'Canada'), ('Sweden', 'Czech Republic'), ('Sweden', 'Japan'), ('Sweden', 'Singapore'), ('Sweden', 'South Korea'), ('Sweden', 'Thailand'), ('Sweden', 'United States'), ('Sweden', 'Mauritius'), ('Sweden', 'San Marino'), ('Sweden', 'Tunisia'), ('Sweden', 'Bahrain'), ('Sweden', 'Ghana'), ('Sweden', 'Gibraltar'), ('Sweden', 'Gambia'), ('Sweden', 'Dominican Republic'), ('Sweden', 'Swaziland'), ('Sweden', 'Indonesia'), ('Sweden', 'Pakistan'), ('Sweden', 'Georgia'), ('Sweden', 'Serbia'), ('Sweden', 'Norfolk Island'), ('Sweden', 'Mexico'), ('Thailand', 'Denmark'), ('Thailand', 'Sweden'), ('Thailand', 'Finland'), ('Thailand', 'Norway'), ('Thailand', 'Latvia'), ('Thailand', 'Lithuania'), ('Thailand', 'Germany'), ('Thailand', 'Estonia'), ('Thailand', 'Switzerland'), ('Thailand', 'Austria'), ('Thailand', 'United Kingdom'), ('Thailand', 'Belgium'), ('Thailand', 'France'), ('Thailand', 'Netherlands'), ('Thailand', 'Iceland'), ('Thailand', 'Spain'), ('Thailand', 'Czech Republic'), ('Thailand', 'Taiwan'), ('Thailand', 'United Arab Emirates'), ('Thailand', 'United States'), ('Thailand', 'Italy'), ('Thailand', 'Bulgaria'), ('Thailand', 'Croatia'), ('Thailand', 'Hungary'), ('Thailand', 'Slovakia'), ('Thailand', 'Slovenia'), ('Thailand', 'Poland'), ('Thailand', 'Ireland'), ('Thailand', 'Portugal'), ('Thailand', 'Greece'), ('Thailand', 'Hong Kong'), ('Thailand', 'Luxembourg'), ('Thailand', 'Andorra'), ('Thailand', 'Georgia'), ('Thailand', 'Russia'), ('Thailand', 'Gibraltar'), ('Thailand', 'Bosnia and Herzegovina'), ('Thailand', 'Cyprus'), ('Thailand', 'Romania'), ('Thailand', 'Malta'), ('Thailand', 'China'), ('Thailand', 'Marshall Islands'), ('Thailand', 'Panama'), ('Thailand', 'Singapore'), ('Thailand', 'Japan'), ('Thailand', 'Faeroe Islands'), ('Thailand', 'San Marino'), ('Thailand', 'Moldova'), ('Thailand', 'Serbia'), ('Thailand', 'Albania'), ('Thailand', 'Kosovo'), ('Thailand', 'Montenegro'), ('Thailand', 'Guernsey'), ('Thailand', 'Jersey'), ('Thailand', 'Guadeloupe'), ('Thailand', 'Belarus'), ('Thailand', 'Malaysia'), ('Thailand', 'Ukraine'), ('United Kingdom', 'Netherlands'), ('United Kingdom', 'Antigua and Barbuda'), ('United Kingdom', 'Bahamas'), ('United Kingdom', 'Belgium'), ('United Kingdom', 'Ghana'), ('United Kingdom', 'Guernsey'), ('United Kingdom', 'Jersey'), ('United Kingdom', 'Mauritius'), ('United Kingdom', 'United Arab Emirates'), ('United Kingdom', 'Slovenia'), ('United Kingdom', 'Ireland'), ('United Kingdom', 'Germany'), ('United Kingdom', 'Gibraltar'), ('United Kingdom', 'Hong Kong'), ('United Kingdom', 'Isle of Man'), ('United Kingdom', 'Malta'), ('United Kingdom', 'Norway'), ('United Kingdom', 'Spain'), ('United Kingdom', 'Czech Republic'), ('United Kingdom', 'Bermuda'), ('United Kingdom', 'Cayman Islands'), ('United Kingdom', 'Malaysia'), ('United Kingdom', 'Philippines'), ('United Kingdom', 'Croatia'), ('United Kingdom', 'Cyprus'), ('United Kingdom', 'Iran'), ('United Kingdom', 'New Zealand'), ('United Kingdom', 'Switzerland'), ('United Kingdom', 'Austria'), ('United Kingdom', 'Greece'), ('United Kingdom', 'Denmark'), ('United Kingdom', 'Kuwait'), ('United Kingdom', 'Qatar'), ('United Kingdom', 'Singapore'), ('United Kingdom', 'France'), ('United Kingdom', 'Sweden'), ('United Kingdom', 'Finland'), ('United Kingdom', 'Portugal'), ('United Kingdom', 'Poland'), ('United Kingdom', 'Iraq'), ('United Kingdom', 'Suriname'), ('United Kingdom', 'Hungary'), ('United Kingdom', 'Latvia'), ('United Kingdom', 'Bulgaria'), ('United Kingdom', 'Saint Helena'), ('United Kingdom', 'Ukraine'), ('United Kingdom', 'Italy'), ('United Kingdom', 'Curaçao'), ('United Kingdom', 'Estonia'), ('United Kingdom', 'Nigeria'), ('United Kingdom', 'Bahrain'), ('United Kingdom', 'Libya'), ('United Kingdom', 'Moldova'), ('United Kingdom', 'Turkey'), ('United Kingdom', 'Slovakia'), ('United Kingdom', 'United States'), ('United Kingdom', 'Brunei'), ('United Kingdom', 'Taiwan'), ('United Kingdom', 'India'), ('United Kingdom', 'Luxembourg'), ('United Kingdom', 'Romania'), ('United Kingdom', 'Seychelles'), ('United Kingdom', 'China'), ('United Kingdom', 'Barbados'), ('United Kingdom', 'Dominican Republic'), ('United Kingdom', 'Falkland Islands'), ('United Kingdom', 'Haiti'), ('United Kingdom', 'Indonesia'), ('United Kingdom', 'Jamaica'), ('United Kingdom', 'Saint Kitts and Nevis'), ('United Kingdom', 'Saint Lucia'), ('United Kingdom', 'Saint Martin'), ('United Kingdom', 'Saint Vincent and the Grenadines'), ('United Kingdom', 'Thailand'), ('United Kingdom', 'Albania'), ('United Kingdom', 'Andorra'), ('United Kingdom', 'Belarus'), ('United Kingdom', 'Bosnia and Herzegovina'), ('United Kingdom', 'Kosovo'), ('United Kingdom', 'Liechtenstein'), ('United Kingdom', 'Monaco'), ('United Kingdom', 'Montenegro'), ('United Kingdom', 'Republic of North Macedonia'), ('United Kingdom', 'Russia'), ('United Kingdom', 'Vatican City'), ('United Kingdom', 'Iceland'), ('United Kingdom', 'Macao'), ('United Kingdom', 'Jordan'), ('United Kingdom', 'Lithuania'), ('United Kingdom', 'Israel'), ('United Kingdom', 'Turkmenistan'), ('United Kingdom', 'Australia'), ('United Kingdom', 'South Africa'), ('United Kingdom', 'Canada'), ('United Kingdom', 'Mexico'), ('United Kingdom', 'Cuba'), ('United Kingdom', 'Kenya'), ('United Kingdom', 'Belize'), ('United Kingdom', 'Faeroe Islands'), ('United Kingdom', 'Greenland'), ('United Kingdom', 'Chile'), ('United Kingdom', 'South Korea'), ('United Kingdom', 'Vietnam'), ('United Kingdom', 'Lebanon'), ('United Kingdom', 'Egypt'), ('United Kingdom', 'Democratic Republic of the Congo'), ('United Kingdom', 'Trinidad and Tobago'), ('United Kingdom', 'Turks and Caicos Islands'), ('United Kingdom', 'Oman'), ('United Kingdom', 'Azerbaijan'), ('United Kingdom', \"Côte d'Ivoire\"), ('United Kingdom', 'Cambodia'), ('United Kingdom', 'Saudi Arabia'), ('United Kingdom', 'Serbia'), ('United Kingdom', 'Algeria'), ('United Kingdom', 'Morocco'), ('United Kingdom', 'Tunisia'), ('United Kingdom', 'Panama'), ('United Kingdom', 'Brazil'), ('United Kingdom', 'Japan'), ('United Kingdom', 'Guadeloupe'), ('United Kingdom', 'Martinique'), ('United Kingdom', 'Réunion'), ('United Kingdom', 'Zimbabwe'), ('United Kingdom', 'Netherlands Antilles'), ('United Kingdom', 'Georgia'), ('United Kingdom', 'Uruguay'), ('United Kingdom', 'Argentina'), ('United Kingdom', 'Madagascar'), ('United Kingdom', 'Mozambique'), ('United Kingdom', 'Namibia'), ('United Kingdom', 'Tajikistan'), ('United Kingdom', 'Uzbekistan'), ('United Kingdom', 'British Virgin Islands'), ('United Kingdom', 'Norfolk Island'), ('United Kingdom', 'Guyana'), ('United Kingdom', 'Pakistan'), ('United Kingdom', 'Peru'), ('United Kingdom', 'Venezuela'), ('United Kingdom', 'Anguilla'), ('United Kingdom', 'Aruba'), ('United Kingdom', 'Grenada'), ('United Kingdom', 'Somalia'), ('United Kingdom', 'Sri Lanka'), ('United Kingdom', 'Tanzania'), ('United Kingdom', 'Zambia'), ('United Kingdom', 'West Bank and Gaza Strip'), ('United Kingdom', 'Sudan'), ('United Kingdom', 'Angola'), ('United Kingdom', 'Cape Verde'), ('United Kingdom', 'Sierra Leone'), ('United Kingdom', 'Cameroon'), ('United Kingdom', 'Gambia'), ('India', 'Netherlands'), ('India', 'United Kingdom'), ('India', 'Italy'), ('India', 'France'), ('India', 'Poland'), ('India', 'Spain'), ('India', 'Germany'), ('India', 'Czech Republic'), ('India', 'Bahrain'), ('India', 'Belgium'), ('India', 'Denmark'), ('India', 'Israel'), ('India', 'Luxembourg'), ('India', 'Portugal'), ('India', 'Romania'), ('India', 'Slovakia'), ('India', 'Sweden'), ('India', 'Switzerland'), ('India', 'Austria'), ('India', 'Cyprus'), ('India', 'Greece'), ('India', 'United Arab Emirates'), ('India', 'Kosovo'), ('India', 'Finland'), ('India', 'Peru'), ('India', 'Ireland'), ('India', 'Malta'), ('India', 'Morocco'), ('India', 'Bulgaria'), ('India', 'Estonia'), ('India', 'Norway'), ('India', 'Croatia'), ('India', 'Hungary'), ('India', 'United States'), ('India', 'Slovenia'), ('India', 'Latvia'), ('India', 'Chile'), ('India', 'Lithuania'), ('India', 'Mongolia'), ('India', 'Russia'), ('India', 'Cape Verde'), ('India', 'Algeria'), ('India', 'San Marino'), ('India', 'Angola'), ('India', 'Turkey'), ('India', 'Sudan'), ('India', 'Montenegro'), ('India', 'Republic of North Macedonia'), ('India', 'Guernsey'), ('India', 'Iceland'), ('India', 'Isle of Man'), ('India', 'Jersey'), ('India', 'Belarus'), ('India', 'Ukraine'), ('India', 'Serbia'), ('India', 'Argentina'), ('India', 'Bangladesh'), ('India', 'China'), ('India', 'Costa Rica'), ('India', 'Dominican Republic'), ('India', 'Ecuador'), ('India', 'Jordan'), ('India', 'Malaysia'), ('India', 'Mexico'), ('India', 'Philippines'), ('India', 'Vietnam'), ('India', 'Yemen'), ('India', 'Bosnia and Herzegovina'), ('India', 'Singapore'), ('India', 'Sri Lanka'), ('India', 'Hong Kong'), ('India', 'Saudi Arabia'), ('India', 'Kazakhstan'), ('India', 'Moldova'), ('India', 'Pakistan'), ('India', 'Uruguay'), ('India', 'Australia'), ('India', 'Guadeloupe'), ('India', 'Martinique'), ('India', 'Nigeria'), ('India', 'Réunion'), ('India', 'South Africa'), ('India', 'Taiwan'), ('India', 'Azerbaijan'), ('India', 'Brazil'), ('India', 'Canada'), ('India', 'Cameroon'), ('India', 'Japan'), ('India', 'South Korea'), ('India', 'Egypt'), ('India', 'Ghana'), ('India', 'Honduras'), ('India', 'Indonesia'), ('India', 'Kenya'), ('India', 'Kuwait'), ('India', 'Lebanon'), ('India', 'Oman'), ('India', 'Panama'), ('India', 'Syria'), ('India', 'Thailand'), ('India', 'Tunisia'), ('India', 'Cambodia'), ('India', 'Gibraltar'), ('India', 'Togo'), ('India', 'Faeroe Islands'), ('India', 'Liechtenstein'), ('India', 'Andorra'), ('India', 'Sierra Leone'), ('India', 'Albania'), ('Norway', 'Germany'), ('Norway', 'United Kingdom'), ('Norway', 'Italy'), ('Norway', 'Czech Republic'), ('Norway', 'Denmark'), ('Norway', 'Sweden'), ('Norway', 'Bulgaria'), ('Norway', 'Netherlands'), ('Norway', 'Switzerland'), ('Norway', 'Estonia'), ('Norway', 'Nigeria'), ('Norway', 'Taiwan'), ('Norway', 'Hong Kong'), ('Norway', 'Latvia'), ('Norway', 'Ghana'), ('Norway', 'Philippines'), ('Norway', 'Thailand'), ('Norway', 'Turkey'), ('Norway', 'Greece'), ('Norway', 'Albania'), ('Norway', 'Andorra'), ('Norway', 'Austria'), ('Norway', 'Belarus'), ('Norway', 'Bosnia and Herzegovina'), ('Norway', 'France'), ('Norway', 'Kosovo'), ('Norway', 'Liechtenstein'), ('Norway', 'Moldova'), ('Norway', 'Monaco'), ('Norway', 'Montenegro'), ('Norway', 'Portugal'), ('Norway', 'Republic of North Macedonia'), ('Norway', 'Russia'), ('Norway', 'Slovenia'), ('Norway', 'Ukraine'), ('Norway', 'Vatican City'), ('Norway', 'Norfolk Island'), ('Norway', 'Spain'), ('Norway', 'Poland'), ('Norway', 'Turkmenistan'), ('Norway', 'United Arab Emirates'), ('Norway', 'Hungary'), ('Norway', 'Finland'), ('Norway', 'Guernsey'), ('Norway', 'Ireland'), ('Norway', 'Croatia'), ('Norway', 'Belgium'), ('Norway', 'Romania'), ('Norway', 'Slovakia'), ('Norway', 'Australia'), ('Norway', 'Vietnam'), ('Norway', 'Lithuania'), ('Norway', 'Israel'), ('Norway', 'United States'), ('Norway', 'Malta'), ('Norway', 'Cyprus'), ('Norway', 'Faeroe Islands'), ('Norway', 'Iceland'), ('Norway', 'Iran'), ('Norway', 'Guadeloupe'), ('Norway', 'Kenya'), ('Norway', 'Luxembourg'), ('Norway', 'Mongolia'), ('Norway', 'Singapore'), ('Norway', 'South Korea'), ('Norway', 'Uzbekistan'), ('Norway', 'Swaziland'), ('Norway', 'Chile'), ('Norway', 'Morocco'), ('Norway', 'India'), ('Norway', 'Canada'), ('Norway', 'Curaçao'), ('Norway', 'Mexico'), ('Norway', 'China'), ('Norway', 'New Zealand'), ('Norway', 'Japan'), ('Norway', 'Kuwait'), ('Norway', 'Qatar'), ('Norway', 'South Africa'), ('Norway', 'Tanzania'), ('Norway', 'Bahamas'), ('Norway', 'Brazil'), ('Norway', 'Jordan'), ('Norway', 'Lebanon'), ('Philippines', 'Italy'), ('Philippines', 'Spain'), ('Philippines', 'Malta'), ('Philippines', 'Singapore'), ('Philippines', 'Taiwan'), ('Philippines', 'Finland'), ('Philippines', 'United Arab Emirates'), ('Philippines', 'United Kingdom'), ('Philippines', 'Austria'), ('Philippines', 'Germany'), ('Philippines', 'Switzerland'), ('Philippines', 'Ireland'), ('Philippines', 'Portugal'), ('Philippines', 'Norway'), ('Philippines', 'Cyprus'), ('Philippines', 'Belgium'), ('Philippines', 'Croatia'), ('Philippines', 'Czech Republic'), ('Philippines', 'Denmark'), ('Philippines', 'France'), ('Philippines', 'Greece'), ('Philippines', 'Greenland'), ('Philippines', 'Hungary'), ('Philippines', 'Iceland'), ('Philippines', 'Luxembourg'), ('Philippines', 'Netherlands'), ('Philippines', 'Poland'), ('Philippines', 'Romania'), ('Philippines', 'Sweden'), ('Philippines', 'Turkmenistan'), ('Philippines', 'Canada'), ('Philippines', 'Gibraltar'), ('Philippines', 'Israel'), ('Philippines', 'Mexico'), ('Philippines', 'United States'), ('Philippines', 'Slovakia'), ('Philippines', 'Isle of Man'), ('Philippines', 'Estonia'), ('Philippines', 'Faeroe Islands'), ('Philippines', 'Latvia'), ('Philippines', 'Russia'), ('Philippines', 'Dominican Republic'), ('Austria', 'Lithuania'), ('Austria', 'Croatia'), ('Austria', 'Cyprus'), ('Austria', 'Iran'), ('Austria', 'New Zealand'), ('Austria', 'Switzerland'), ('Austria', 'Germany'), ('Austria', 'Belgium'), ('Austria', 'Denmark'), ('Austria', 'France'), ('Austria', 'Hungary'), ('Austria', 'Ireland'), ('Austria', 'Italy'), ('Austria', 'Luxembourg'), ('Austria', 'Poland'), ('Austria', 'Netherlands'), ('Austria', 'Spain'), ('Austria', 'United States'), ('Austria', 'Pakistan'), ('Austria', 'Ukraine'), ('Austria', 'United Kingdom'), ('Austria', 'Slovenia'), ('Austria', 'Bulgaria'), ('Austria', 'Czech Republic'), ('Austria', 'Romania'), ('Austria', 'Portugal'), ('Austria', 'Indonesia'), ('Austria', 'Slovakia'), ('Austria', 'Finland'), ('Austria', 'Estonia'), ('Austria', 'Nigeria'), ('Austria', 'Taiwan'), ('Austria', 'Hong Kong'), ('Austria', 'Greece'), ('Austria', 'Latvia'), ('Austria', 'Sweden'), ('Austria', 'Ghana'), ('Austria', 'Philippines'), ('Austria', 'Thailand'), ('Austria', 'Turkey'), ('Austria', 'Barbados'), ('Austria', 'Malta'), ('Austria', 'Iceland'), ('Austria', 'Egypt'), ('Austria', 'Norway'), ('Austria', 'United Arab Emirates'), ('Austria', 'Guernsey'), ('Austria', 'Montenegro'), ('Austria', 'Belize'), ('Austria', 'Bosnia and Herzegovina'), ('Austria', 'India'), ('Austria', 'Chile'), ('Austria', 'Jordan'), ('Austria', 'San Marino'), ('Austria', 'Serbia'), ('Austria', 'China'), ('Austria', 'Lebanon'), ('Austria', 'Liechtenstein'), ('Austria', 'Singapore'), ('Austria', 'Tunisia'), ('Austria', 'Kosovo'), ('Austria', 'Andorra'), ('Austria', 'Canada'), ('Austria', 'Japan'), ('Austria', 'Angola'), ('Austria', 'Azerbaijan'), ('Austria', 'Russia'), ('Austria', 'Gambia'), ('Austria', 'Moldova'), ('Austria', 'Swaziland'), ('Austria', 'Vietnam'), ('Austria', 'Albania'), ('Austria', 'Republic of North Macedonia'), ('Austria', 'Georgia'), ('Austria', 'Iraq'), ('Austria', 'Mongolia'), ('Austria', 'Morocco'), ('Austria', 'Israel'), ('Austria', 'South Africa'), ('Austria', 'Australia'), ('Austria', 'Norfolk Island'), ('Austria', 'Belarus'), ('Slovenia', 'Netherlands'), ('Slovenia', 'Croatia'), ('Slovenia', 'Germany'), ('Slovenia', 'Cyprus'), ('Slovenia', 'Iran'), ('Slovenia', 'New Zealand'), ('Slovenia', 'Switzerland'), ('Slovenia', 'Austria'), ('Slovenia', 'Slovakia'), ('Slovenia', 'Italy'), ('Slovenia', 'United States'), ('Slovenia', 'United Kingdom'), ('Slovenia', 'Denmark'), ('Slovenia', 'Ukraine'), ('Slovenia', 'Czech Republic'), ('Slovenia', 'France'), ('Slovenia', 'Jordan'), ('Slovenia', 'Norway'), ('Slovenia', 'Portugal'), ('Slovenia', 'Romania'), ('Slovenia', 'Belgium'), ('Slovenia', 'Poland'), ('Slovenia', 'Hong Kong'), ('Slovenia', 'Sweden'), ('Slovenia', 'Spain'), ('Slovenia', 'Iceland'), ('Slovenia', 'Estonia'), ('Slovenia', 'Finland'), ('Slovenia', 'Latvia'), ('Slovenia', 'Hungary'), ('Slovenia', 'Gibraltar'), ('Slovenia', 'Greece'), ('Slovenia', 'Lithuania'), ('Slovenia', 'Luxembourg'), ('Slovenia', 'Bosnia and Herzegovina'), ('Slovenia', 'Guernsey'), ('Slovenia', 'Montenegro'), ('Slovenia', 'Ireland'), ('Slovenia', 'Bulgaria'), ('Slovenia', 'United Arab Emirates'), ('Slovenia', 'Australia'), ('Slovenia', 'Malta'), ('Slovenia', 'China'), ('Slovenia', 'Pakistan'), ('Slovenia', 'Turkey'), ('Slovenia', 'Tunisia'), ('Slovenia', 'Andorra'), ('Slovenia', 'Armenia'), ('Slovenia', 'Belize'), ('Slovenia', 'Russia'), ('Slovenia', 'Serbia'), ('Slovenia', 'Kosovo'), ('Slovenia', 'Republic of North Macedonia'), ('Slovenia', 'Azerbaijan'), ('Slovenia', 'Belarus'), ('Slovenia', 'Tajikistan'), ('Slovenia', 'Moldova'), ('Slovenia', 'Uzbekistan'), ('Slovenia', 'Japan'), ('Canada', 'Denmark'), ('Canada', 'Greenland'), ('Canada', 'Belgium'), ('Canada', 'Italy'), ('Canada', 'United Kingdom'), ('Canada', 'Austria'), ('Canada', 'Portugal'), ('Canada', 'Lithuania'), ('Canada', 'Turkmenistan'), ('Canada', 'United Arab Emirates'), ('Canada', 'Hungary'), ('Canada', 'Finland'), ('Canada', 'Spain'), ('Canada', 'Greece'), ('Canada', 'Guernsey'), ('Canada', 'Montenegro'), ('Canada', 'Norway'), ('Canada', 'Bulgaria'), ('Canada', 'Germany'), ('Canada', 'Iraq'), ('Canada', 'Luxembourg'), ('Canada', 'Switzerland'), ('Canada', 'Cyprus'), ('Canada', 'France'), ('Canada', 'Malta'), ('Canada', 'Ireland'), ('Canada', 'Poland'), ('Canada', 'Sweden'), ('Canada', 'Czech Republic'), ('Canada', 'Slovakia'), ('Canada', 'Slovenia'), ('Canada', 'Netherlands'), ('Canada', 'Guadeloupe'), ('Canada', 'Andorra'), ('Canada', 'Estonia'), ('Canada', 'Latvia'), ('Canada', 'Hong Kong'), ('Canada', 'Australia'), ('Canada', 'Faeroe Islands'), ('Canada', 'Iceland'), ('Canada', 'Kenya'), ('Canada', 'Mongolia'), ('Canada', 'Romania'), ('Canada', 'Russia'), ('Canada', 'Singapore'), ('Canada', 'South Korea'), ('Canada', 'Ukraine'), ('Canada', 'Uzbekistan'), ('Canada', 'Bosnia and Herzegovina'), ('Canada', 'United States'), ('Canada', 'Bahrain'), ('Canada', 'Kazakhstan'), ('Canada', 'Malaysia'), ('Canada', 'Morocco'), ('Canada', 'Saudi Arabia'), ('Canada', 'Serbia'), ('Canada', 'Croatia'), ('Canada', 'Taiwan'), ('Canada', 'Indonesia'), ('Canada', 'Madagascar'), ('Canada', 'Monaco'), ('Canada', 'Afghanistan'), ('Canada', 'Ghana'), ('Canada', 'Japan'), ('Canada', 'Turkey'), ('Canada', 'Republic of North Macedonia'), ('Canada', 'Mauritius'), ('Canada', 'Egypt'), ('Canada', 'Sri Lanka'), ('Canada', 'Thailand'), ('Canada', 'Mexico'), ('Canada', 'Norfolk Island'), ('Greenland', 'Canada'), ('Greenland', 'Germany'), ('Greenland', 'Iceland'), ('Greenland', 'United States'), ('Greenland', 'Estonia'), ('Greenland', 'France'), ('Greenland', 'Sweden'), ('Greenland', 'United Kingdom'), ('Greenland', 'Czech Republic'), ('Greenland', 'Spain'), ('Greenland', 'Belgium'), ('Greenland', 'Netherlands'), ('Greenland', 'Ireland'), ('Greenland', 'Denmark'), ('Greenland', 'Slovenia'), ('Brazil', 'Italy'), ('Brazil', 'Netherlands'), ('Brazil', 'Spain'), ('Brazil', 'Belgium'), ('Brazil', 'Germany'), ('Brazil', 'Poland'), ('Brazil', 'Portugal'), ('Brazil', 'United Kingdom'), ('Brazil', 'Austria'), ('Brazil', 'Bulgaria'), ('Brazil', 'Croatia'), ('Brazil', 'Greece'), ('Brazil', 'Romania'), ('Brazil', 'Slovenia'), ('Brazil', 'France'), ('Brazil', 'Ireland'), ('Brazil', 'Malta'), ('Brazil', 'Estonia'), ('Brazil', 'Hungary'), ('Brazil', 'Denmark'), ('Brazil', 'Egypt'), ('Brazil', 'Norway'), ('Brazil', 'United Arab Emirates'), ('Brazil', 'Sweden'), ('Brazil', 'Morocco'), ('Brazil', 'Switzerland'), ('Brazil', 'Bosnia and Herzegovina'), ('Brazil', 'Slovakia'), ('Brazil', 'Cyprus'), ('Brazil', 'Luxembourg'), ('Brazil', 'Czech Republic'), ('Brazil', 'Latvia'), ('Brazil', 'Malaysia'), ('Brazil', 'Guernsey'), ('Brazil', 'Jersey'), ('Brazil', 'Finland'), ('Brazil', 'India'), ('Brazil', 'Iceland'), ('Brazil', 'Gibraltar'), ('Brazil', 'Turkey'), ('Brazil', 'Belarus'), ('Brazil', 'Lithuania'), ('Brazil', 'Serbia'), ('Brazil', 'United States'), ('Brazil', 'Argentina'), ('Brazil', 'Russia'), ('Brazil', 'Vietnam'), ('Brazil', 'Israel'), ('Brazil', 'Senegal'), ('Uruguay', 'Finland'), ('Uruguay', 'Poland'), ('Uruguay', 'Spain'), ('Uruguay', 'United Kingdom'), ('Uruguay', 'Austria'), ('Uruguay', 'Estonia'), ('Uruguay', 'Germany'), ('Uruguay', 'Netherlands'), ('Uruguay', 'Portugal'), ('Uruguay', 'Greece'), ('Uruguay', 'Slovakia'), ('Uruguay', 'Italy'), ('Uruguay', 'Hungary'), ('Uruguay', 'Denmark'), ('Uruguay', 'Egypt'), ('Uruguay', 'France'), ('Uruguay', 'Ireland'), ('Uruguay', 'Norway'), ('Uruguay', 'United Arab Emirates'), ('Uruguay', 'Luxembourg'), ('Uruguay', 'United States'), ('Uruguay', 'Malta'), ('Uruguay', 'Afghanistan'), ('Uruguay', 'Belgium'), ('Uruguay', 'Gibraltar'), ('Uruguay', 'Guinea'), ('Uruguay', 'Hong Kong'), ('Uruguay', 'Latvia'), ('Uruguay', 'Mali'), ('Uruguay', 'Russia'), ('Uruguay', 'Somalia'), ('Uruguay', 'Sweden'), ('Uruguay', 'Uganda'), ('Uruguay', 'Brazil'), ('Uruguay', 'Romania'), ('Uruguay', 'Czech Republic'), ('Uruguay', 'Peru'), ('San Marino', 'Germany'), ('San Marino', 'Ghana'), ('San Marino', 'Philippines'), ('San Marino', 'Thailand'), ('San Marino', 'Turkey'), ('San Marino', 'Albania'), ('San Marino', 'Andorra'), ('San Marino', 'Austria'), ('San Marino', 'Belarus'), ('San Marino', 'Bosnia and Herzegovina'), ('San Marino', 'France'), ('San Marino', 'Italy'), ('San Marino', 'Kosovo'), ('San Marino', 'Liechtenstein'), ('San Marino', 'Moldova'), ('San Marino', 'Monaco'), ('San Marino', 'Montenegro'), ('San Marino', 'Portugal'), ('San Marino', 'Republic of North Macedonia'), ('San Marino', 'Russia'), ('San Marino', 'Slovenia'), ('San Marino', 'Switzerland'), ('San Marino', 'Ukraine'), ('San Marino', 'Vatican City'), ('San Marino', 'Hungary'), ('San Marino', 'Belgium'), ('San Marino', 'Latvia'), ('San Marino', 'Croatia'), ('San Marino', 'Slovakia'), ('San Marino', 'United Arab Emirates'), ('San Marino', 'Hong Kong'), ('San Marino', 'Australia'), ('San Marino', 'Sweden'), ('San Marino', 'Czech Republic'), ('San Marino', 'Spain'), ('San Marino', 'China'), ('San Marino', 'Bulgaria'), ('San Marino', 'Finland'), ('San Marino', 'United States'), ('San Marino', 'Netherlands'), ('New Zealand', 'Belgium'), ('New Zealand', 'Greece'), ('New Zealand', 'France'), ('New Zealand', 'Finland'), ('New Zealand', 'Hungary'), ('New Zealand', 'Latvia'), ('New Zealand', 'Denmark'), ('New Zealand', 'Germany'), ('New Zealand', 'Spain'), ('New Zealand', 'Estonia'), ('New Zealand', 'Lithuania'), ('New Zealand', 'Austria'), ('New Zealand', 'Cyprus'), ('New Zealand', 'Portugal'), ('New Zealand', 'Ireland'), ('New Zealand', 'Malta'), ('New Zealand', 'Italy'), ('New Zealand', 'Bulgaria'), ('New Zealand', 'Sweden'), ('New Zealand', 'Czech Republic'), ('New Zealand', 'United Kingdom'), ('New Zealand', 'Egypt'), ('New Zealand', 'Netherlands'), ('New Zealand', 'Poland'), ('New Zealand', 'Mayotte'), ('New Zealand', 'Norway'), ('New Zealand', 'New Caledonia'), ('New Zealand', 'Switzerland'), ('New Zealand', 'Slovenia'), ('Luxembourg', 'Croatia'), ('Luxembourg', 'Cyprus'), ('Luxembourg', 'Iran'), ('Luxembourg', 'New Zealand'), ('Luxembourg', 'Switzerland'), ('Luxembourg', 'Germany'), ('Luxembourg', 'Belgium'), ('Luxembourg', 'Italy'), ('Luxembourg', 'France'), ('Luxembourg', 'Austria'), ('Luxembourg', 'Denmark'), ('Luxembourg', 'Hungary'), ('Luxembourg', 'Ireland'), ('Luxembourg', 'Poland'), ('Luxembourg', 'Portugal'), ('Luxembourg', 'Bulgaria'), ('Luxembourg', 'Netherlands'), ('Luxembourg', 'Taiwan'), ('Luxembourg', 'Slovakia'), ('Luxembourg', 'Hong Kong'), ('Luxembourg', 'Sweden'), ('Luxembourg', 'Slovenia'), ('Luxembourg', 'Andorra'), ('Luxembourg', 'Barbados'), ('Luxembourg', 'Romania'), ('Luxembourg', 'Albania'), ('Luxembourg', 'Belarus'), ('Luxembourg', 'Bosnia and Herzegovina'), ('Luxembourg', 'Kosovo'), ('Luxembourg', 'Liechtenstein'), ('Luxembourg', 'Moldova'), ('Luxembourg', 'Monaco'), ('Luxembourg', 'Montenegro'), ('Luxembourg', 'Republic of North Macedonia'), ('Luxembourg', 'Russia'), ('Luxembourg', 'Turkey'), ('Luxembourg', 'Ukraine'), ('Luxembourg', 'Vatican City'), ('Luxembourg', 'Malta'), ('Luxembourg', 'Latvia'), ('Luxembourg', 'Spain'), ('Luxembourg', 'Czech Republic'), ('Luxembourg', 'Turkmenistan'), ('Luxembourg', 'United Arab Emirates'), ('Luxembourg', 'United Kingdom'), ('Luxembourg', 'Lithuania'), ('Luxembourg', 'Guernsey'), ('Luxembourg', 'India'), ('Luxembourg', 'Norway'), ('Luxembourg', 'Afghanistan'), ('Luxembourg', 'United States'), ('Luxembourg', 'Lebanon'), ('Luxembourg', 'Tunisia'), ('Luxembourg', 'Namibia'), ('Luxembourg', 'Greece'), ('Luxembourg', 'Finland'), ('Luxembourg', 'Iceland'), ('Antigua and Barbuda', 'United Arab Emirates'), ('Antigua and Barbuda', 'Turkmenistan'), ('Antigua and Barbuda', 'Gibraltar'), ('Antigua and Barbuda', 'Ireland'), ('Antigua and Barbuda', 'Malta'), ('Antigua and Barbuda', 'Netherlands'), ('Bahamas', 'Bermuda'), ('Bahamas', 'United Arab Emirates'), ('Bahamas', 'Turkmenistan'), ('Bahamas', 'Belgium'), ('Bahamas', 'Canada'), ('Bahamas', 'Gibraltar'), ('Bahamas', 'Israel'), ('Bahamas', 'Mexico'), ('Bahamas', 'Netherlands'), ('Bahamas', 'Portugal'), ('Bahamas', 'United States'), ('Bahamas', 'Denmark'), ('Bahamas', 'Spain'), ('Bahamas', 'United Kingdom'), ('Bahamas', 'Ireland'), ('Bahamas', 'France'), ('Bahamas', 'Hungary'), ('Bahamas', 'Slovenia'), ('Bahamas', 'Malta'), ('Bahamas', 'Iceland'), ('Bahamas', 'Slovakia'), ('Bahamas', 'Sweden'), ('Ghana', 'Austria'), ('Ghana', 'Belgium'), ('Ghana', 'Cyprus'), ('Ghana', 'Denmark'), ('Ghana', 'Finland'), ('Ghana', 'France'), ('Ghana', 'Germany'), ('Ghana', 'Italy'), ('Ghana', 'Luxembourg'), ('Ghana', 'Malta'), ('Ghana', 'Netherlands'), ('Ghana', 'Norway'), ('Ghana', 'Portugal'), ('Ghana', 'Spain'), ('Ghana', 'Sweden'), ('Ghana', 'Switzerland'), ('Ghana', 'United Kingdom'), ('Ghana', 'Czech Republic'), ('Ghana', 'Ireland'), ('Ghana', 'Poland'), ('Ghana', 'Bermuda'), ('Ghana', 'Australia'), ('Ghana', 'Estonia'), ('Ghana', 'Lithuania'), ('Ghana', 'Turkmenistan'), ('Ghana', 'United Arab Emirates'), ('Ghana', 'Canada'), ('Ghana', 'Gibraltar'), ('Ghana', 'Israel'), ('Ghana', 'Mexico'), ('Ghana', 'United States'), ('Ghana', 'Hungary'), ('Ghana', 'Latvia'), ('Ghana', 'Ukraine'), ('Ghana', 'Iceland'), ('Ghana', 'Greece'), ('Ghana', 'Slovakia'), ('Ghana', 'Slovenia'), ('Guernsey', 'Bermuda'), ('Guernsey', 'Netherlands'), ('Guernsey', 'Germany'), ('Guernsey', 'Belgium'), ('Guernsey', 'Canada'), ('Guernsey', 'Gibraltar'), ('Guernsey', 'Israel'), ('Guernsey', 'Mexico'), ('Guernsey', 'Portugal'), ('Guernsey', 'United States'), ('Guernsey', 'Romania'), ('Guernsey', 'France'), ('Guernsey', 'Spain'), ('Guernsey', 'United Kingdom'), ('Jersey', 'Netherlands'), ('Jersey', 'Malta'), ('Jersey', 'Norway'), ('Jersey', 'Portugal'), ('Jersey', 'Taiwan'), ('Jersey', 'Belgium'), ('Jersey', 'Canada'), ('Jersey', 'Gibraltar'), ('Jersey', 'Israel'), ('Jersey', 'Mexico'), ('Jersey', 'United States'), ('Jersey', 'Guernsey'), ('Jersey', 'Montenegro'), ('Jersey', 'Spain'), ('Jersey', 'Germany'), ('Jersey', 'Italy'), ('Jersey', 'France'), ('Mauritius', 'Belarus'), ('Mauritius', 'Taiwan'), ('Mauritius', 'United Arab Emirates'), ('Mauritius', 'Spain'), ('Mauritius', 'Netherlands'), ('Mauritius', 'France'), ('Mauritius', 'United Kingdom'), ('Mauritius', 'United States'), ('Mauritius', 'Turkmenistan'), ('Mauritius', 'Belgium'), ('Mauritius', 'Canada'), ('Mauritius', 'Gibraltar'), ('Mauritius', 'Israel'), ('Mauritius', 'Mexico'), ('Mauritius', 'Portugal'), ('Mauritius', 'Hungary'), ('Mauritius', 'Italy'), ('Mauritius', 'Guernsey'), ('Mauritius', 'Montenegro'), ('Mauritius', 'Denmark'), ('Mauritius', 'Romania'), ('Mauritius', 'Germany'), ('Mauritius', 'Luxembourg'), ('Mauritius', 'Switzerland'), ('Mauritius', 'Mauritania'), ('Mauritius', 'Austria'), ('Mauritius', 'Czech Republic'), ('Mauritius', 'Greece'), ('Mauritius', 'Norway'), ('Mauritius', 'Malta'), ('Mauritius', 'Finland'), ('United Arab Emirates', 'France'), ('United Arab Emirates', 'Denmark'), ('United Arab Emirates', 'United Kingdom'), ('United Arab Emirates', 'Bermuda'), ('United Arab Emirates', 'Belgium'), ('United Arab Emirates', 'Croatia'), ('United Arab Emirates', 'Cyprus'), ('United Arab Emirates', 'Germany'), ('United Arab Emirates', 'Italy'), ('United Arab Emirates', 'Slovakia'), ('United Arab Emirates', 'Taiwan'), ('United Arab Emirates', 'Albania'), ('United Arab Emirates', 'Andorra'), ('United Arab Emirates', 'Austria'), ('United Arab Emirates', 'Belarus'), ('United Arab Emirates', 'Bosnia and Herzegovina'), ('United Arab Emirates', 'Kosovo'), ('United Arab Emirates', 'Liechtenstein'), ('United Arab Emirates', 'Moldova'), ('United Arab Emirates', 'Monaco'), ('United Arab Emirates', 'Montenegro'), ('United Arab Emirates', 'Portugal'), ('United Arab Emirates', 'Republic of North Macedonia'), ('United Arab Emirates', 'Russia'), ('United Arab Emirates', 'Slovenia'), ('United Arab Emirates', 'Switzerland'), ('United Arab Emirates', 'Turkey'), ('United Arab Emirates', 'Ukraine'), ('United Arab Emirates', 'Vatican City'), ('United Arab Emirates', 'Chile'), ('United Arab Emirates', 'Netherlands'), ('United Arab Emirates', 'Canada'), ('United Arab Emirates', 'Gibraltar'), ('United Arab Emirates', 'Israel'), ('United Arab Emirates', 'Mexico'), ('United Arab Emirates', 'United States'), ('United Arab Emirates', 'Hungary'), ('United Arab Emirates', 'Finland'), ('United Arab Emirates', 'Spain'), ('United Arab Emirates', 'Guernsey'), ('United Arab Emirates', 'Hong Kong'), ('United Arab Emirates', 'Luxembourg'), ('United Arab Emirates', 'Norway'), ('United Arab Emirates', 'Czech Republic'), ('United Arab Emirates', 'Poland'), ('United Arab Emirates', 'Sweden'), ('United Arab Emirates', 'Estonia'), ('United Arab Emirates', 'China'), ('United Arab Emirates', 'Ireland'), ('United Arab Emirates', 'Cambodia'), ('United Arab Emirates', 'Kuwait'), ('United Arab Emirates', 'Lebanon'), ('United Arab Emirates', 'Malaysia'), ('United Arab Emirates', 'Philippines'), ('United Arab Emirates', 'Qatar'), ('United Arab Emirates', 'Saudi Arabia'), ('United Arab Emirates', 'Singapore'), ('United Arab Emirates', 'Thailand'), ('United Arab Emirates', 'Greece'), ('United Arab Emirates', 'Malta'), ('United Arab Emirates', 'Norfolk Island'), ('Azerbaijan', 'Bulgaria'), ('Azerbaijan', 'Germany'), ('Azerbaijan', 'Gibraltar'), ('Azerbaijan', 'Ireland'), ('Azerbaijan', 'Malta'), ('Azerbaijan', 'Qatar'), ('Azerbaijan', 'United Kingdom'), ('Azerbaijan', 'Italy'), ('Azerbaijan', 'Poland'), ('Azerbaijan', 'Luxembourg'), ('Azerbaijan', 'France'), ('Azerbaijan', 'Turkmenistan'), ('Azerbaijan', 'United Arab Emirates'), ('Azerbaijan', 'Hungary'), ('Azerbaijan', 'Georgia'), ('Azerbaijan', 'Turkey'), ('Azerbaijan', 'Czech Republic'), ('Azerbaijan', 'Denmark'), ('Azerbaijan', 'Lithuania'), ('Azerbaijan', 'Slovenia'), ('Azerbaijan', 'Spain'), ('Azerbaijan', 'Belarus'), ('Azerbaijan', 'Latvia'), ('Azerbaijan', 'Ukraine'), ('Azerbaijan', 'Cyprus'), ('Azerbaijan', 'Slovakia'), ('Azerbaijan', 'Netherlands'), ('Georgia', 'Bulgaria'), ('Georgia', 'Germany'), ('Georgia', 'Greece'), ('Georgia', 'Finland'), ('Georgia', 'Spain'), ('Georgia', 'Barbados'), ('Georgia', 'Romania'), ('Georgia', 'Italy'), ('Georgia', 'Austria'), ('Georgia', 'Portugal'), ('Georgia', 'Belgium'), ('Georgia', 'Iceland'), ('Georgia', 'United Kingdom'), ('Georgia', 'Czech Republic'), ('Georgia', 'Switzerland'), ('Georgia', 'Luxembourg'), ('Georgia', 'Turkmenistan'), ('Georgia', 'United Arab Emirates'), ('Georgia', 'Hungary'), ('Georgia', 'Estonia'), ('Georgia', 'Lithuania'), ('Georgia', 'Poland'), ('Georgia', 'Slovenia'), ('Georgia', 'Slovakia'), ('Georgia', 'France'), ('Georgia', 'Cyprus'), ('Georgia', 'Ireland'), ('Georgia', 'Andorra'), ('Georgia', 'China'), ('Georgia', 'Latvia'), ('Georgia', 'Denmark'), ('Georgia', 'Netherlands'), ('Georgia', 'Croatia'), ('Georgia', 'Malta'), ('Uganda', 'Croatia'), ('Uganda', 'Germany'), ('Uganda', 'Italy'), ('Uganda', 'Netherlands'), ('Uganda', 'Sweden'), ('Uganda', 'United Kingdom'), ('Uganda', 'France'), ('Uganda', 'United Arab Emirates'), ('Uganda', 'Switzerland'), ('Uganda', 'Spain'), ('Uganda', 'Belgium'), ('Uganda', 'Lithuania'), ('Uganda', 'Denmark'), ('Uganda', 'Luxembourg'), ('Uganda', 'Cyprus'), ('Uganda', 'Czech Republic'), ('Uganda', 'Finland'), ('Uganda', 'Ireland'), ('Uganda', 'Malta'), ('Uganda', 'Norway'), ('Uganda', 'Portugal'), ('Uganda', 'Romania'), ('Uganda', 'Slovakia'), ('Uganda', 'Iceland'), ('Uganda', 'Austria'), ('Uganda', 'Bulgaria'), ('Uganda', \"Côte d'Ivoire\"), ('Uganda', 'Hungary'), ('Uganda', 'Lebanon'), ('Uganda', 'Morocco'), ('Uganda', 'Serbia'), ('Uganda', 'Slovenia'), ('Uganda', 'United States'), ('Uganda', 'Greece'), ('Hungary', 'Germany'), ('Hungary', 'Italy'), ('Hungary', 'Croatia'), ('Hungary', 'Cyprus'), ('Hungary', 'Iran'), ('Hungary', 'New Zealand'), ('Hungary', 'Switzerland'), ('Hungary', 'Netherlands'), ('Hungary', 'United Kingdom'), ('Hungary', 'France'), ('Hungary', 'Poland'), ('Hungary', 'Bulgaria'), ('Hungary', 'Estonia'), ('Hungary', 'Finland'), ('Hungary', 'Latvia'), ('Hungary', 'Denmark'), ('Hungary', 'Slovakia'), ('Hungary', 'Ukraine'), ('Hungary', 'Belgium'), ('Hungary', 'Austria'), ('Hungary', 'Hong Kong'), ('Hungary', 'Greece'), ('Hungary', 'Slovenia'), ('Hungary', 'Lithuania'), ('Hungary', 'Romania'), ('Hungary', 'Spain'), ('Hungary', 'Albania'), ('Hungary', 'Andorra'), ('Hungary', 'Belarus'), ('Hungary', 'Bosnia and Herzegovina'), ('Hungary', 'Kosovo'), ('Hungary', 'Liechtenstein'), ('Hungary', 'Moldova'), ('Hungary', 'Monaco'), ('Hungary', 'Montenegro'), ('Hungary', 'Portugal'), ('Hungary', 'Republic of North Macedonia'), ('Hungary', 'Russia'), ('Hungary', 'Turkey'), ('Hungary', 'Vatican City'), ('Hungary', 'Iceland'), ('Hungary', 'Czech Republic'), ('Hungary', 'Ireland'), ('Hungary', 'Luxembourg'), ('Hungary', 'Afghanistan'), ('Hungary', 'Angola'), ('Hungary', 'Antigua and Barbuda'), ('Hungary', 'Azerbaijan'), ('Hungary', 'Bahamas'), ('Hungary', 'Bahrain'), ('Hungary', 'Canada'), ('Hungary', 'Cape Verde'), ('Hungary', 'Chad'), ('Hungary', 'Chile'), ('Hungary', 'China'), ('Hungary', 'Congo'), ('Hungary', 'Ecuador'), ('Hungary', 'Egypt'), ('Hungary', 'Gambia'), ('Hungary', 'Georgia'), ('Hungary', 'Ghana'), ('Hungary', 'Gibraltar'), ('Hungary', 'Guinea'), ('Hungary', 'Israel'), ('Hungary', 'Japan'), ('Hungary', 'Liberia'), ('Hungary', 'Maldives'), ('Hungary', 'Mali'), ('Hungary', 'Malta'), ('Hungary', 'Marshall Islands'), ('Hungary', 'Mauritania'), ('Hungary', 'Mauritius'), ('Hungary', 'Nigeria'), ('Hungary', 'Norway'), ('Hungary', 'Panama'), ('Hungary', 'Philippines'), ('Hungary', 'Seychelles'), ('Hungary', 'Singapore'), ('Hungary', 'Sweden'), ('Hungary', 'United States'), ('Hungary', 'South Africa'), ('Hungary', 'Guernsey'), ('Hungary', 'Belize'), ('Hungary', 'India'), ('Hungary', 'Serbia'), ('Hungary', 'Argentina'), ('Hungary', 'Australia'), ('Hungary', 'Brazil'), ('Hungary', 'United Arab Emirates'), ('Hungary', 'Iraq'), ('Hungary', 'Jordan'), ('Hungary', 'Lebanon'), ('Hungary', 'Mexico'), ('Hungary', 'Morocco'), ('Hungary', 'Qatar'), ('Hungary', 'San Marino'), ('Hungary', 'Puerto Rico'), ('Hungary', 'Democratic Republic of the Congo'), ('Hungary', 'Tunisia'), ('Hungary', 'Kuwait'), ('Hungary', 'Burundi'), ('Hungary', 'Guadeloupe'), ('Hungary', 'Rwanda'), ('Hungary', 'Suriname'), ('Hungary', 'Togo'), ('Hungary', 'Swaziland'), ('Hungary', 'Kenya'), ('Hungary', 'Indonesia'), ('Hungary', 'Faeroe Islands'), ('Hungary', 'Greenland'), ('Hungary', 'Ethiopia'), ('Hungary', 'Réunion'), ('Hungary', 'Norfolk Island'), ('Sudan', 'Greece'), ('Sudan', 'Poland'), ('Sudan', 'Germany'), ('Sudan', 'Netherlands'), ('Sudan', 'Belgium'), ('Sudan', 'Italy'), ('Sudan', 'Switzerland'), ('Sudan', 'Bulgaria'), ('Sudan', 'United Kingdom'), ('Sudan', 'France'), ('Sudan', 'Turkey'), ('Sudan', 'United Arab Emirates'), ('Sudan', 'Austria'), ('Sudan', 'Estonia'), ('Sudan', 'Luxembourg'), ('Sudan', 'Portugal'), ('Sudan', 'Romania'), ('Sudan', 'Cyprus'), ('Sudan', 'Spain'), ('Sudan', 'Iceland'), ('Sudan', 'Slovakia'), ('Sudan', 'Sweden'), ('Greece', 'Denmark'), ('Greece', 'Italy'), ('Greece', 'Netherlands'), ('Greece', 'Austria'), ('Greece', 'United States'), ('Greece', 'Finland'), ('Greece', 'Hungary'), ('Greece', 'Latvia'), ('Greece', 'Sweden'), ('Greece', 'Bulgaria'), ('Greece', 'Hong Kong'), ('Greece', 'Germany'), ('Greece', 'United Kingdom'), ('Greece', 'Belgium'), ('Greece', 'Croatia'), ('Greece', 'Cyprus'), ('Greece', 'Slovakia'), ('Greece', 'Canada'), ('Greece', 'Czech Republic'), ('Greece', 'France'), ('Greece', 'Iceland'), ('Greece', 'Norway'), ('Greece', 'Spain'), ('Greece', 'Switzerland'), ('Greece', 'United Arab Emirates'), ('Greece', 'San Marino'), ('Greece', 'Romania'), ('Greece', 'Albania'), ('Greece', 'Andorra'), ('Greece', 'Belarus'), ('Greece', 'Bosnia and Herzegovina'), ('Greece', 'Kosovo'), ('Greece', 'Liechtenstein'), ('Greece', 'Moldova'), ('Greece', 'Monaco'), ('Greece', 'Montenegro'), ('Greece', 'Portugal'), ('Greece', 'Republic of North Macedonia'), ('Greece', 'Russia'), ('Greece', 'Slovenia'), ('Greece', 'Turkey'), ('Greece', 'Ukraine'), ('Greece', 'Vatican City'), ('Greece', 'Bahrain'), ('Greece', 'Lithuania'), ('Greece', 'Luxembourg'), ('Greece', 'Turkmenistan'), ('Greece', 'Gibraltar'), ('Greece', 'Israel'), ('Greece', 'Mexico'), ('Greece', 'Poland'), ('Greece', 'Guernsey'), ('Greece', 'Ireland'), ('Greece', 'Belize'), ('Greece', 'Australia'), ('Greece', 'Estonia'), ('Greece', 'Malta'), ('Greece', 'Lebanon'), ('Greece', 'Singapore'), ('Greece', 'China'), ('Greece', 'Faeroe Islands'), ('Greece', 'India'), ('Greece', 'Gambia'), ('Greece', 'Swaziland'), ('Greece', 'New Zealand'), ('Greece', 'Curaçao'), ('Greece', 'Serbia'), ('Greece', 'Ethiopia'), ('Greece', 'Maldives'), ('Greece', 'Japan'), ('Egypt', 'Netherlands'), ('Egypt', 'Malta'), ('Egypt', 'Czech Republic'), ('Egypt', 'Poland'), ('Egypt', 'Romania'), ('Egypt', 'Russia'), ('Egypt', 'France'), ('Egypt', 'Italy'), ('Egypt', 'Germany'), ('Egypt', 'Belgium'), ('Egypt', 'Austria'), ('Egypt', 'Spain'), ('Egypt', 'Greece'), ('Egypt', 'Hungary'), ('Egypt', 'Slovenia'), ('Egypt', 'Estonia'), ('Egypt', 'Sweden'), ('Egypt', 'Slovakia'), ('Egypt', 'Croatia'), ('Egypt', 'Ireland'), ('Egypt', 'United Kingdom'), ('Egypt', 'Turkmenistan'), ('Egypt', 'United Arab Emirates'), ('Egypt', 'Bulgaria'), ('Egypt', 'Saudi Arabia'), ('Egypt', 'Portugal'), ('Egypt', 'Denmark'), ('Egypt', 'Switzerland'), ('Egypt', 'Cyprus'), ('Egypt', 'Finland'), ('Egypt', 'Latvia'), ('Egypt', 'Lithuania'), ('Egypt', 'New Zealand'), ('Egypt', 'Belarus'), ('Egypt', 'Gibraltar'), ('Egypt', 'Bosnia and Herzegovina'), ('Egypt', 'San Marino'), ('Egypt', 'Norway'), ('Egypt', 'Luxembourg'), ('Egypt', 'Turkey'), ('Egypt', 'Eritrea'), ('Egypt', 'Bahrain'), ('Egypt', 'India'), ('Egypt', 'Jordan'), ('Egypt', 'Kuwait'), ('Egypt', 'Qatar'), ('Egypt', 'Serbia'), ('Egypt', 'Suriname'), ('Egypt', 'Thailand'), ('Egypt', 'Albania'), ('Egypt', 'Kazakhstan'), ('Egypt', 'Guadeloupe'), ('Egypt', 'Israel'), ('Egypt', 'Lebanon'), ('Egypt', 'Philippines'), ('Egypt', 'Republic of North Macedonia'), ('Egypt', 'Réunion'), ('Egypt', 'Singapore'), ('Egypt', 'South Africa'), ('Egypt', 'Taiwan'), ('Switzerland', 'Austria'), ('Switzerland', 'Denmark'), ('Switzerland', 'Germany'), ('Switzerland', 'Netherlands'), ('Switzerland', 'Italy'), ('Switzerland', 'United Kingdom'), ('Switzerland', 'Ireland'), ('Switzerland', 'Finland'), ('Switzerland', 'Hungary'), ('Switzerland', 'Latvia'), ('Switzerland', 'Bulgaria'), ('Switzerland', 'Estonia'), ('Switzerland', 'Nigeria'), ('Switzerland', 'Lithuania'), ('Switzerland', 'Poland'), ('Switzerland', 'Spain'), ('Switzerland', 'Sweden'), ('Switzerland', 'Belgium'), ('Switzerland', 'Croatia'), ('Switzerland', 'Cyprus'), ('Switzerland', 'Slovakia'), ('Switzerland', 'Taiwan'), ('Switzerland', 'Hong Kong'), ('Switzerland', 'Greece'), ('Switzerland', 'Chile'), ('Switzerland', 'Czech Republic'), ('Switzerland', 'France'), ('Switzerland', 'Luxembourg'), ('Switzerland', 'Portugal'), ('Switzerland', 'Slovenia'), ('Switzerland', 'Norway'), ('Switzerland', 'Andorra'), ('Switzerland', 'Malta'), ('Switzerland', 'Iceland'), ('Switzerland', 'Ukraine'), ('Switzerland', 'Australia'), ('Switzerland', 'Turkmenistan'), ('Switzerland', 'United Arab Emirates'), ('Switzerland', 'Panama'), ('Switzerland', 'Guernsey'), ('Switzerland', 'Montenegro'), ('Switzerland', 'Singapore'), ('Switzerland', 'Belize'), ('Switzerland', 'Bosnia and Herzegovina'), ('Switzerland', 'India'), ('Switzerland', 'Vietnam'), ('Switzerland', 'Romania'), ('Switzerland', 'United States'), ('Switzerland', 'San Marino'), ('Switzerland', 'Lebanon'), ('Switzerland', 'Egypt'), ('Switzerland', 'Japan'), ('Switzerland', 'Tunisia'), ('Switzerland', 'China'), ('Switzerland', 'Iran'), ('Switzerland', 'Albania'), ('Switzerland', 'Algeria'), ('Switzerland', 'Bangladesh'), ('Switzerland', 'Jordan'), ('Switzerland', 'Mexico'), ('Switzerland', 'Oman'), ('Switzerland', 'Trinidad and Tobago'), ('Switzerland', 'Gambia'), ('Switzerland', 'Liechtenstein'), ('Switzerland', 'Central African Republic'), ('Switzerland', 'Gabon'), ('Switzerland', 'Swaziland'), ('Switzerland', 'Morocco'), ('Switzerland', 'Israel'), ('Switzerland', 'Indonesia'), ('Switzerland', 'Saint Barthélemy'), ('Switzerland', 'Turkey'), ('Switzerland', 'Serbia'), ('Switzerland', 'Republic of North Macedonia'), ('Switzerland', 'Guadeloupe'), ('Switzerland', 'Martinique'), ('Switzerland', 'Belarus'), ('Switzerland', 'Georgia'), ('Switzerland', 'Kazakhstan'), ('Switzerland', 'New Caledonia'), ('Switzerland', 'Suriname'), ('Switzerland', 'Norfolk Island'), ('Switzerland', 'Brazil'), ('Switzerland', 'Russia'), ('Ecuador', 'Portugal'), ('Ecuador', 'United Kingdom'), ('Ecuador', 'France'), ('Ecuador', 'Austria'), ('Ecuador', 'Netherlands'), ('Ecuador', 'Spain'), ('Ecuador', 'Bahrain'), ('Ecuador', 'Bermuda'), ('Ecuador', 'Denmark'), ('Ecuador', 'Egypt'), ('Ecuador', 'Germany'), ('Ecuador', 'Italy'), ('Ecuador', 'Kuwait'), ('Ecuador', 'Lebanon'), ('Ecuador', 'Luxembourg'), ('Ecuador', 'Qatar'), ('Ecuador', 'Sweden'), ('Ecuador', 'United Arab Emirates'), ('Ecuador', 'Belgium'), ('Ecuador', 'Turkmenistan'), ('Ecuador', 'Hungary'), ('Ecuador', 'Slovakia'), ('Ecuador', 'Gibraltar'), ('Ecuador', 'Slovenia'), ('Ecuador', 'Turkey'), ('Ecuador', 'Poland'), ('Ecuador', 'Greece'), ('Ecuador', 'Croatia'), ('Ecuador', 'Switzerland'), ('Ecuador', 'Finland'), ('Ecuador', 'Czech Republic'), ('Ecuador', 'Indonesia'), ('Ecuador', 'Bulgaria'), ('Portugal', 'Denmark'), ('Portugal', 'Italy'), ('Portugal', 'Netherlands'), ('Portugal', 'Croatia'), ('Portugal', 'Cyprus'), ('Portugal', 'Iran'), ('Portugal', 'New Zealand'), ('Portugal', 'Switzerland'), ('Portugal', 'Austria'), ('Portugal', 'France'), ('Portugal', 'Luxembourg'), ('Portugal', 'Finland'), ('Portugal', 'Hungary'), ('Portugal', 'Latvia'), ('Portugal', 'Bulgaria'), ('Portugal', 'Spain'), ('Portugal', 'Ukraine'), ('Portugal', 'United Kingdom'), ('Portugal', 'Estonia'), ('Portugal', 'Belgium'), ('Portugal', 'Germany'), ('Portugal', 'Slovakia'), ('Portugal', 'Sweden'), ('Portugal', 'Slovenia'), ('Portugal', 'Andorra'), ('Portugal', 'Sri Lanka'), ('Portugal', 'Greece'), ('Portugal', 'Australia'), ('Portugal', 'Chile'), ('Portugal', 'China'), ('Portugal', 'Japan'), ('Portugal', 'Lebanon'), ('Portugal', 'Lithuania'), ('Portugal', 'Malta'), ('Portugal', 'Norway'), ('Portugal', 'Peru'), ('Portugal', 'Philippines'), ('Portugal', 'Poland'), ('Portugal', 'Russia'), ('Portugal', 'South Africa'), ('Portugal', 'South Korea'), ('Portugal', 'Thailand'), ('Portugal', 'United States'), ('Portugal', 'Iceland'), ('Portugal', 'Cuba'), ('Portugal', 'Equatorial Guinea'), ('Portugal', 'Moldova'), ('Portugal', 'Singapore'), ('Portugal', 'Turkmenistan'), ('Portugal', 'United Arab Emirates'), ('Portugal', 'Indonesia'), ('Portugal', 'Panama'), ('Portugal', 'Egypt'), ('Portugal', 'Ireland'), ('Portugal', 'Guernsey'), ('Portugal', 'Montenegro'), ('Portugal', 'Romania'), ('Portugal', 'Hong Kong'), ('Portugal', 'Albania'), ('Portugal', 'Mexico'), ('Portugal', 'Paraguay'), ('Portugal', 'Czech Republic'), ('Portugal', 'Brazil'), ('Portugal', 'Gibraltar'), ('Portugal', 'Tunisia'), ('Portugal', 'Taiwan'), ('Portugal', 'Serbia'), ('Portugal', 'India'), ('Portugal', 'Mauritania'), ('Portugal', 'Monaco'), ('Portugal', 'Saint Barthélemy'), ('Portugal', 'Angola'), ('Portugal', 'Cape Verde'), ('Portugal', 'Morocco'), ('Portugal', 'Norfolk Island'), ('Lithuania', 'Latvia'), ('Lithuania', 'Netherlands'), ('Lithuania', 'United Kingdom'), ('Lithuania', 'Estonia'), ('Lithuania', 'Croatia'), ('Lithuania', 'Cyprus'), ('Lithuania', 'Iran'), ('Lithuania', 'New Zealand'), ('Lithuania', 'Switzerland'), ('Lithuania', 'Germany'), ('Lithuania', 'Poland'), ('Lithuania', 'Denmark'), ('Lithuania', 'France'), ('Lithuania', 'China'), ('Lithuania', 'Ukraine'), ('Lithuania', 'Finland'), ('Lithuania', 'Italy'), ('Lithuania', 'Austria'), ('Lithuania', 'India'), ('Lithuania', 'Greece'), ('Lithuania', 'Albania'), ('Lithuania', 'Andorra'), ('Lithuania', 'Belarus'), ('Lithuania', 'Bosnia and Herzegovina'), ('Lithuania', 'Kosovo'), ('Lithuania', 'Liechtenstein'), ('Lithuania', 'Moldova'), ('Lithuania', 'Monaco'), ('Lithuania', 'Montenegro'), ('Lithuania', 'Portugal'), ('Lithuania', 'Republic of North Macedonia'), ('Lithuania', 'Russia'), ('Lithuania', 'Slovenia'), ('Lithuania', 'Turkey'), ('Lithuania', 'Vatican City'), ('Lithuania', 'Belgium'), ('Lithuania', 'Romania'), ('Lithuania', 'Slovakia'), ('Lithuania', 'Sweden'), ('Lithuania', 'Vietnam'), ('Lithuania', 'Ireland'), ('Lithuania', 'Turkmenistan'), ('Lithuania', 'United Arab Emirates'), ('Lithuania', 'Hungary'), ('Lithuania', 'Luxembourg'), ('Lithuania', 'Spain'), ('Lithuania', 'United States'), ('Lithuania', 'Peru'), ('Lithuania', 'Guernsey'), ('Lithuania', 'Bulgaria'), ('Lithuania', 'Malta'), ('Lithuania', 'Czech Republic'), ('Lithuania', 'Canada'), ('Lithuania', 'Norway'), ('Lithuania', 'Tunisia'), ('Lithuania', 'Belize'), ('Lithuania', 'Georgia'), ('Lithuania', 'Hong Kong'), ('Lithuania', 'Serbia'), ('Lithuania', 'Brazil'), ('Lithuania', 'Chile'), ('Myanmar', 'Poland'), ('Myanmar', 'Finland'), ('Myanmar', 'Taiwan'), ('Myanmar', 'Norway'), ('Myanmar', 'Czech Republic'), ('Myanmar', 'Cyprus'), ('Myanmar', 'Denmark'), ('Myanmar', 'Estonia'), ('Myanmar', 'Germany'), ('Myanmar', 'Ireland'), ('Myanmar', 'Latvia'), ('Myanmar', 'Lithuania'), ('Myanmar', 'Sweden'), ('Myanmar', 'United Kingdom'), ('Myanmar', 'Spain'), ('Myanmar', 'France'), ('Myanmar', 'Belgium'), ('Myanmar', 'Netherlands'), ('Morocco', 'Spain'), ('Morocco', 'France'), ('Morocco', 'Portugal'), ('Morocco', 'Slovenia'), ('Morocco', 'Germany'), ('Morocco', 'United Kingdom'), ('Morocco', 'Denmark'), ('Morocco', 'Luxembourg'), ('Morocco', 'Sweden'), ('Morocco', 'Austria'), ('Morocco', 'Belgium'), ('Morocco', 'Iceland'), ('Morocco', 'Italy'), ('Morocco', 'Hungary'), ('Morocco', 'Netherlands'), ('Morocco', 'Bulgaria'), ('Morocco', 'Finland'), ('Morocco', 'Norway'), ('Morocco', 'Poland'), ('Morocco', 'Romania'), ('Morocco', 'Serbia'), ('Morocco', 'United Arab Emirates'), ('Morocco', 'Andorra'), ('Morocco', 'Dominican Republic'), ('Morocco', 'Mexico'), ('Morocco', 'Switzerland'), ('Morocco', 'Czech Republic'), ('Morocco', 'Slovakia'), ('Morocco', 'Hong Kong'), ('Morocco', 'New Zealand'), ('Morocco', 'Nicaragua'), ('Morocco', 'Greece'), ('Morocco', 'Tunisia'), ('Morocco', 'Latvia'), ('Morocco', 'China'), ('Morocco', 'Estonia'), ('Morocco', 'Democratic Republic of the Congo'), ('Morocco', 'Indonesia'), ('Morocco', 'Russia'), ('Morocco', 'Colombia'), ('Morocco', 'Cyprus'), ('Morocco', 'Peru'), ('Morocco', 'Qatar'), ('Morocco', 'South Africa'), ('Morocco', 'Lithuania'), ('Morocco', 'Uganda'), ('Morocco', 'Bosnia and Herzegovina'), ('Morocco', 'Croatia'), ('Morocco', 'Ireland'), ('Morocco', 'Serbia and Montenegro'), ('Mauritania', 'Spain'), ('Mauritania', 'Greece'), ('Mauritania', 'Denmark'), ('Mauritania', 'Germany'), ('Mauritania', 'Netherlands'), ('Mauritania', 'Turkmenistan'), ('Mauritania', 'United Arab Emirates'), ('Mauritania', 'Italy'), ('Mauritania', 'Portugal'), ('Mauritania', 'France'), ('Mauritania', 'United Kingdom'), ('Mauritania', 'Czech Republic'), ('Mauritania', 'Finland'), ('Mauritania', 'Lithuania'), ('Mauritania', 'Morocco'), ('South Korea', 'United Kingdom'), ('South Korea', 'Belgium'), ('South Korea', 'Poland'), ('South Korea', 'Austria'), ('South Korea', 'Bulgaria'), ('South Korea', 'Cyprus'), ('South Korea', 'Czech Republic'), ('South Korea', 'Denmark'), ('South Korea', 'Finland'), ('South Korea', 'France'), ('South Korea', 'Germany'), ('South Korea', 'Greece'), ('South Korea', 'Hungary'), ('South Korea', 'Ireland'), ('South Korea', 'Italy'), ('South Korea', 'Luxembourg'), ('South Korea', 'Malta'), ('South Korea', 'Netherlands'), ('South Korea', 'Norway'), ('South Korea', 'Portugal'), ('South Korea', 'Romania'), ('South Korea', 'Slovakia'), ('South Korea', 'Slovenia'), ('South Korea', 'Spain'), ('South Korea', 'Sweden'), ('South Korea', 'Switzerland'), ('South Korea', 'Estonia'), ('South Korea', 'Japan'), ('South Korea', 'Moldova'), ('South Korea', 'Lebanon'), ('South Korea', 'Iceland'), ('South Korea', 'Saudi Arabia'), ('South Korea', 'Croatia'), ('South Korea', 'Jordan'), ('South Korea', 'Lithuania'), ('South Korea', 'Bahrain'), ('South Korea', 'Kazakhstan'), ('South Korea', 'Kuwait'), ('South Korea', 'Qatar'), ('South Korea', 'Russia'), ('South Korea', 'Ukraine'), ('South Korea', 'Kenya'), ('South Korea', 'Latvia'), ('South Korea', 'United Arab Emirates'), ('South Korea', 'China'), ('South Korea', 'Hong Kong'), ('South Korea', 'Peru'), ('South Korea', 'Taiwan'), ('South Korea', 'United States'), ('South Korea', 'Tunisia'), ('South Korea', 'Andorra'), ('South Korea', 'Belarus'), ('South Korea', 'Congo'), ('South Korea', 'South Africa'), ('Latvia', 'Lithuania'), ('Latvia', 'Poland'), ('Latvia', 'Germany'), ('Latvia', 'Czech Republic'), ('Latvia', 'France'), ('Latvia', 'Netherlands'), ('Latvia', 'Finland'), ('Latvia', 'Denmark'), ('Latvia', 'Estonia'), ('Latvia', 'Barbados'), ('Latvia', 'Romania'), ('Latvia', 'Greece'), ('Latvia', 'Albania'), ('Latvia', 'Andorra'), ('Latvia', 'Austria'), ('Latvia', 'Belarus'), ('Latvia', 'Bosnia and Herzegovina'), ('Latvia', 'Italy'), ('Latvia', 'Kosovo'), ('Latvia', 'Liechtenstein'), ('Latvia', 'Moldova'), ('Latvia', 'Monaco'), ('Latvia', 'Montenegro'), ('Latvia', 'Portugal'), ('Latvia', 'Republic of North Macedonia'), ('Latvia', 'Russia'), ('Latvia', 'Slovenia'), ('Latvia', 'Switzerland'), ('Latvia', 'Turkey'), ('Latvia', 'Ukraine'), ('Latvia', 'Vatican City'), ('Latvia', 'Belgium'), ('Latvia', 'Slovakia'), ('Latvia', 'Spain'), ('Latvia', 'Bulgaria'), ('Latvia', 'San Marino'), ('Latvia', 'Turkmenistan'), ('Latvia', 'United Arab Emirates'), ('Latvia', 'Hungary'), ('Latvia', 'Luxembourg'), ('Latvia', 'United States'), ('Latvia', 'Peru'), ('Latvia', 'Guernsey'), ('Latvia', 'India'), ('Latvia', 'Cyprus'), ('Latvia', 'United Kingdom'), ('Latvia', 'Ireland'), ('Latvia', 'Sweden'), ('Latvia', 'China'), ('Latvia', 'Norway'), ('Latvia', 'Croatia'), ('Latvia', 'Democratic Republic of the Congo'), ('Latvia', 'Azerbaijan'), ('Latvia', 'Kyrgyzstan'), ('Latvia', 'Belize'), ('Latvia', 'Israel'), ('Latvia', 'Uzbekistan'), ('Latvia', 'Georgia'), ('Latvia', 'Hong Kong'), ('Latvia', 'Kazakhstan'), ('Latvia', 'Malta'), ('Ireland', 'Belgium'), ('Ireland', 'Netherlands'), ('Ireland', 'France'), ('Ireland', 'Croatia'), ('Ireland', 'Cyprus'), ('Ireland', 'Iran'), ('Ireland', 'New Zealand'), ('Ireland', 'Switzerland'), ('Ireland', 'United Kingdom'), ('Ireland', 'Germany'), ('Ireland', 'Italy'), ('Ireland', 'Finland'), ('Ireland', 'Hungary'), ('Ireland', 'Latvia'), ('Ireland', 'Ukraine'), ('Ireland', 'Bulgaria'), ('Ireland', 'Czech Republic'), ('Ireland', 'Estonia'), ('Ireland', 'Nigeria'), ('Ireland', 'Slovenia'), ('Ireland', 'Slovakia'), ('Ireland', 'Malta'), ('Ireland', 'Norway'), ('Ireland', 'Portugal'), ('Ireland', 'Taiwan'), ('Ireland', 'Hong Kong'), ('Ireland', 'Sweden'), ('Ireland', 'China'), ('Ireland', 'Poland'), ('Ireland', 'Spain'), ('Ireland', 'United Arab Emirates'), ('Ireland', 'Denmark'), ('Ireland', 'Greece'), ('Ireland', 'Albania'), ('Ireland', 'Andorra'), ('Ireland', 'Austria'), ('Ireland', 'Belarus'), ('Ireland', 'Bosnia and Herzegovina'), ('Ireland', 'Kosovo'), ('Ireland', 'Liechtenstein'), ('Ireland', 'Moldova'), ('Ireland', 'Monaco'), ('Ireland', 'Montenegro'), ('Ireland', 'Republic of North Macedonia'), ('Ireland', 'Russia'), ('Ireland', 'Turkey'), ('Ireland', 'Vatican City'), ('Ireland', 'Malaysia'), ('Ireland', 'Singapore'), ('Ireland', 'Lithuania'), ('Ireland', 'Turkmenistan'), ('Ireland', 'Canada'), ('Ireland', 'Gibraltar'), ('Ireland', 'Israel'), ('Ireland', 'Mexico'), ('Ireland', 'United States'), ('Ireland', 'Guernsey'), ('Ireland', 'Romania'), ('Ireland', 'Luxembourg'), ('Ireland', 'Australia'), ('Ireland', 'Jersey'), ('Ireland', 'Brunei'), ('Ireland', 'Gambia'), ('Ireland', 'Faeroe Islands'), ('Ireland', 'Belize'), ('Ireland', 'Swaziland'), ('Ireland', 'India'), ('Ireland', 'Pakistan'), ('Ireland', 'Uruguay'), ('Ireland', 'Niger'), ('Ireland', 'French Polynesia'), ('Ireland', 'Thailand'), ('Ireland', 'Isle of Man'), ('Ireland', 'Namibia'), ('Ireland', 'Japan'), ('Ireland', 'Cameroon'), ('Ireland', 'Congo'), ('Ireland', \"Côte d'Ivoire\"), ('Ireland', 'Djibouti'), ('Ireland', 'Gabon'), ('Ireland', 'Georgia'), ('Ireland', 'Ghana'), ('Ireland', 'Iceland'), ('Ireland', 'Mali'), ('Ireland', 'Mauritius'), ('Ireland', 'Senegal'), ('Ireland', 'Serbia'), ('Ireland', 'South Korea'), ('Ireland', 'Togo'), ('Ireland', 'Vietnam'), ('Ireland', 'Kuwait'), ('Ireland', 'Serbia and Montenegro'), ('Taiwan', 'Italy'), ('Taiwan', 'Austria'), ('Taiwan', 'China'), ('Taiwan', 'Czech Republic'), ('Taiwan', 'Netherlands'), ('Taiwan', 'Germany'), ('Taiwan', 'France'), ('Taiwan', 'Morocco'), ('Taiwan', 'Portugal'), ('Taiwan', 'Spain'), ('Taiwan', 'Switzerland'), ('Taiwan', 'Belgium'), ('Taiwan', 'Luxembourg'), ('Taiwan', 'Denmark'), ('Taiwan', 'United Arab Emirates'), ('Taiwan', 'Finland'), ('Taiwan', 'Ireland'), ('Taiwan', 'United Kingdom'), ('Taiwan', 'Romania'), ('Taiwan', 'Sweden'), ('Taiwan', 'Slovenia'), ('Taiwan', 'Canada'), ('Taiwan', 'Cyprus'), ('Taiwan', 'Poland'), ('Taiwan', 'Malta'), ('Taiwan', 'Bulgaria'), ('Taiwan', 'Hungary'), ('Taiwan', 'Estonia'), ('Taiwan', 'Hong Kong'), ('Taiwan', 'Greece'), ('Taiwan', 'Norway'), ('Taiwan', 'Lithuania'), ('Taiwan', 'Croatia'), ('Taiwan', 'Moldova'), ('Taiwan', 'Slovakia'), ('Taiwan', 'Iceland'), ('Taiwan', 'Seychelles'), ('Taiwan', 'Israel'), ('Taiwan', 'United States'), ('Taiwan', 'Norfolk Island'), ('Taiwan', 'Latvia'), ('South Africa', 'Malta'), ('South Africa', 'Belgium'), ('South Africa', 'Czech Republic'), ('South Africa', 'France'), ('South Africa', 'Ireland'), ('South Africa', 'Latvia'), ('South Africa', 'Moldova'), ('South Africa', 'Portugal'), ('South Africa', 'Spain'), ('South Africa', 'Denmark'), ('South Africa', 'Germany'), ('South Africa', 'United Kingdom'), ('South Africa', 'Taiwan'), ('South Africa', 'Netherlands'), ('South Africa', 'Switzerland'), ('South Africa', 'Austria'), ('South Africa', 'Hungary'), ('South Africa', 'Italy'), ('South Africa', 'Luxembourg'), ('South Africa', 'Poland'), ('South Africa', 'Norway'), ('South Africa', 'Estonia'), ('South Africa', 'Canada'), ('South Africa', 'Gibraltar'), ('South Africa', 'Israel'), ('South Africa', 'Mexico'), ('South Africa', 'United States'), ('South Africa', 'Australia'), ('South Africa', 'New Zealand'), ('South Africa', 'Belarus'), ('South Africa', 'Ukraine'), ('South Africa', 'Finland'), ('South Africa', 'Sweden'), ('South Africa', 'Slovenia'), ('South Africa', 'Bulgaria'), ('South Africa', 'Democratic Republic of the Congo'), ('South Africa', 'Cyprus'), ('South Africa', 'Barbados'), ('South Africa', 'Bermuda'), ('South Africa', 'Guernsey'), ('South Africa', 'Qatar'), ('South Africa', 'Croatia'), ('South Africa', 'Lithuania'), ('South Africa', 'Romania'), ('South Africa', 'Russia'), ('South Africa', 'Ghana'), ('South Africa', 'Greece'), ('Malta', 'Croatia'), ('Malta', 'Cyprus'), ('Malta', 'Iran'), ('Malta', 'New Zealand'), ('Malta', 'Switzerland'), ('Malta', 'Austria'), ('Malta', 'Germany'), ('Malta', 'Vietnam'), ('Malta', 'Finland'), ('Malta', 'Hungary'), ('Malta', 'Latvia'), ('Malta', 'United Kingdom'), ('Malta', 'Netherlands'), ('Malta', 'Ukraine'), ('Malta', 'Bulgaria'), ('Malta', 'Belgium'), ('Malta', 'Estonia'), ('Malta', 'Nigeria'), ('Malta', 'Italy'), ('Malta', 'Slovakia'), ('Malta', 'Hong Kong'), ('Malta', 'Singapore'), ('Malta', 'United Arab Emirates'), ('Malta', 'Denmark'), ('Malta', 'Greece'), ('Malta', 'Albania'), ('Malta', 'Andorra'), ('Malta', 'Belarus'), ('Malta', 'Bosnia and Herzegovina'), ('Malta', 'France'), ('Malta', 'Kosovo'), ('Malta', 'Liechtenstein'), ('Malta', 'Moldova'), ('Malta', 'Monaco'), ('Malta', 'Montenegro'), ('Malta', 'Portugal'), ('Malta', 'Republic of North Macedonia'), ('Malta', 'Russia'), ('Malta', 'Slovenia'), ('Malta', 'Turkey'), ('Malta', 'Vatican City'), ('Malta', 'China'), ('Malta', 'Turkmenistan'), ('Malta', 'Canada'), ('Malta', 'Gibraltar'), ('Malta', 'Israel'), ('Malta', 'Mexico'), ('Malta', 'United States'), ('Malta', 'Spain'), ('Malta', 'Guernsey'), ('Malta', 'Sweden'), ('Malta', 'Romania'), ('Malta', 'Luxembourg'), ('Malta', 'Poland'), ('Malta', 'Australia'), ('Malta', 'Czech Republic'), ('Malta', 'Ireland'), ('Malta', 'Japan'), ('Malta', 'Cambodia'), ('Malta', 'Kuwait'), ('Malta', 'Lebanon'), ('Malta', 'Malaysia'), ('Malta', 'Philippines'), ('Malta', 'Qatar'), ('Malta', 'Saudi Arabia'), ('Malta', 'Thailand'), ('Malta', 'Lithuania'), ('Malta', 'Nepal'), ('Malta', 'Iceland'), ('Kenya', 'France'), ('Kenya', 'Denmark'), ('Kenya', 'Germany'), ('Kenya', 'Greece'), ('Kenya', 'Sweden'), ('Kenya', 'United Kingdom'), ('Kenya', 'Netherlands'), ('Kenya', 'Finland'), ('Kenya', 'Italy'), ('Kenya', 'Spain'), ('Kenya', 'Guernsey'), ('Kenya', 'Montenegro'), ('Kenya', 'Austria'), ('Kenya', 'Estonia'), ('Kenya', 'Hungary'), ('Kenya', 'Slovenia'), ('Kenya', 'Belgium'), ('Kenya', 'Poland'), ('Kenya', 'Iceland'), ('Kenya', 'Ireland'), ('Kenya', 'Cyprus'), ('Kenya', 'Luxembourg'), ('Kenya', 'United Arab Emirates'), ('Kenya', 'Norway'), ('Kenya', 'Bulgaria'), ('Kenya', 'Croatia'), ('Kenya', 'Czech Republic'), ('Kenya', 'Guadeloupe'), ('Kenya', 'Israel'), ('Kenya', 'Kuwait'), ('Kenya', 'Latvia'), ('Kenya', 'Lebanon'), ('Kenya', 'Philippines'), ('Kenya', 'Portugal'), ('Kenya', 'Republic of North Macedonia'), ('Kenya', 'Réunion'), ('Kenya', 'Serbia'), ('Kenya', 'Singapore'), ('Kenya', 'Slovakia'), ('Kenya', 'South Africa'), ('Kenya', 'Switzerland'), ('Kenya', 'Taiwan'), ('Kenya', 'Andorra'), ('Kenya', 'Algeria'), ('Argentina', 'Netherlands'), ('Argentina', 'Germany'), ('Argentina', 'Italy'), ('Argentina', 'United Kingdom'), ('Argentina', 'Switzerland'), ('Argentina', 'San Marino'), ('Argentina', 'Czech Republic'), ('Argentina', 'Sweden'), ('Argentina', 'France'), ('Argentina', 'Belgium'), ('Argentina', 'Greece'), ('Argentina', 'Austria'), ('Argentina', 'Poland'), ('Argentina', 'Spain'), ('Argentina', 'Ireland'), ('Argentina', 'Portugal'), ('Argentina', 'Lithuania'), ('Argentina', 'Luxembourg'), ('Argentina', 'Denmark'), ('Argentina', 'Hungary'), ('Argentina', 'Norway'), ('Argentina', 'Estonia'), ('Argentina', 'Latvia'), ('Argentina', 'Brazil'), ('Argentina', 'Slovakia'), ('Argentina', 'Cyprus'), ('Argentina', 'United Arab Emirates'), ('Argentina', 'Croatia'), ('Argentina', 'United States'), ('Argentina', 'Finland'), ('Argentina', 'Romania'), ('Argentina', 'Andorra'), ('Argentina', 'India'), ('Argentina', 'Liechtenstein'), ('Argentina', 'Israel'), ('Argentina', 'Bulgaria'), ('Argentina', 'Russia'), ('Argentina', 'Iceland'), ('Argentina', 'Japan'), ('Argentina', 'Canada'), ('Argentina', 'Namibia'), ('Argentina', 'Bosnia and Herzegovina'), ('Argentina', 'Montenegro'), ('Argentina', 'Slovenia'), ('Argentina', 'Malta'), ('Argentina', 'Belarus'), ('Argentina', 'Kenya'), ('Lebanon', 'Sweden'), ('Lebanon', 'Finland'), ('Lebanon', 'Denmark'), ('Lebanon', 'Austria'), ('Lebanon', 'Germany'), ('Lebanon', 'United Kingdom'), ('Lebanon', 'Belgium'), ('Lebanon', 'Bulgaria'), ('Lebanon', 'France'), ('Lebanon', 'Italy'), ('Lebanon', 'Romania'), ('Lebanon', 'Slovakia'), ('Lebanon', 'Switzerland'), ('Lebanon', 'Spain'), ('Lebanon', 'Netherlands'), ('Lebanon', 'United Arab Emirates'), ('Lebanon', 'Cyprus'), ('Lebanon', 'Slovenia'), ('Lebanon', 'Greece'), ('Lebanon', 'Czech Republic'), ('Lebanon', 'Hungary'), ('Lebanon', 'Poland'), ('Lebanon', 'Tunisia'), ('Lebanon', 'Malta'), ('Lebanon', 'Estonia'), ('Lebanon', 'Norway'), ('Lebanon', 'Ireland'), ('Chile', 'Spain'), ('Chile', 'Belgium'), ('Chile', 'Italy'), ('Chile', 'Netherlands'), ('Chile', 'United Kingdom'), ('Chile', 'Germany'), ('Chile', 'Sweden'), ('Chile', 'Slovenia'), ('Chile', 'France'), ('Chile', 'Poland'), ('Chile', 'Bulgaria'), ('Chile', 'Austria'), ('Chile', 'Luxembourg'), ('Chile', 'Czech Republic'), ('Chile', 'Switzerland'), ('Chile', 'Slovakia'), ('Chile', 'Andorra'), ('Chile', 'Turkmenistan'), ('Chile', 'United Arab Emirates'), ('Chile', 'Hungary'), ('Chile', 'Croatia'), ('Chile', 'Portugal'), ('Chile', 'Denmark'), ('Chile', 'Latvia'), ('Chile', 'Greece'), ('Chile', 'Malta'), ('Chile', 'United States'), ('Chile', 'Romania'), ('Chile', 'Finland'), ('Chile', 'Cyprus'), ('Chile', 'Argentina'), ('Chile', 'Ukraine'), ('Chile', 'Belarus'), ('Chile', 'Estonia'), ('Chile', 'Ireland'), ('Chile', 'Norway'), ('Chile', 'Hong Kong'), ('Chile', 'Jersey'), ('Chile', 'Russia'), ('Chile', 'Bosnia and Herzegovina'), ('Chile', 'Japan'), ('Hong Kong', 'Italy'), ('Hong Kong', 'China'), ('Hong Kong', 'Spain'), ('Hong Kong', 'Belgium'), ('Hong Kong', 'Cyprus'), ('Hong Kong', 'Germany'), ('Hong Kong', 'Ireland'), ('Hong Kong', 'Luxembourg'), ('Hong Kong', 'Romania'), ('Hong Kong', 'United Kingdom'), ('Hong Kong', 'Netherlands'), ('Hong Kong', 'Hungary'), ('Hong Kong', 'Austria'), ('Hong Kong', 'Slovenia'), ('Hong Kong', 'Denmark'), ('Hong Kong', 'France'), ('Hong Kong', 'Switzerland'), ('Hong Kong', 'Croatia'), ('Hong Kong', 'Taiwan'), ('Hong Kong', 'Slovakia'), ('Hong Kong', 'United Arab Emirates'), ('Hong Kong', 'Estonia'), ('Hong Kong', 'South Korea'), ('Hong Kong', 'Portugal'), ('Hong Kong', 'Finland'), ('Hong Kong', 'Turkmenistan'), ('Hong Kong', 'Canada'), ('Hong Kong', 'Gibraltar'), ('Hong Kong', 'Israel'), ('Hong Kong', 'Mexico'), ('Hong Kong', 'United States'), ('Hong Kong', 'Czech Republic'), ('Hong Kong', 'Latvia'), ('Hong Kong', 'Sweden'), ('Hong Kong', 'Bulgaria'), ('Hong Kong', 'Democratic Republic of the Congo'), ('Hong Kong', 'Morocco'), ('Hong Kong', 'Poland'), ('Hong Kong', 'Russia'), ('Hong Kong', 'South Africa'), ('Hong Kong', 'Lithuania'), ('Hong Kong', 'Panama'), ('Hong Kong', 'Georgia'), ('Hong Kong', 'Greece'), ('Hong Kong', 'Moldova'), ('Hong Kong', 'Pakistan'), ('Hong Kong', 'Serbia'), ('Hong Kong', 'Andorra'), ('Hong Kong', 'Iceland'), ('Hong Kong', 'Bosnia and Herzegovina'), ('Hong Kong', 'Iraq'), ('Hong Kong', 'Montenegro'), ('Hong Kong', 'Albania'), ('Hong Kong', 'Algeria'), ('Hong Kong', 'Argentina'), ('Hong Kong', 'Australia'), ('Hong Kong', 'Azerbaijan'), ('Hong Kong', 'Bahamas'), ('Hong Kong', 'Bahrain'), ('Hong Kong', 'Barbados'), ('Hong Kong', 'Belarus'), ('Hong Kong', 'Brazil'), ('Hong Kong', 'Chile'), ('Hong Kong', 'Colombia'), ('Hong Kong', 'Egypt'), ('Hong Kong', 'Haiti'), ('Hong Kong', 'India'), ('Hong Kong', 'Jamaica'), ('Hong Kong', 'Japan'), ('Hong Kong', 'Jordan'), ('Hong Kong', 'Kuwait'), ('Hong Kong', 'Lebanon'), ('Hong Kong', 'Malta'), ('Hong Kong', 'Mauritius'), ('Hong Kong', 'Mongolia'), ('Hong Kong', 'Netherlands Antilles'), ('Hong Kong', 'Nigeria'), ('Hong Kong', 'Norway'), ('Hong Kong', 'Peru'), ('Hong Kong', 'Qatar'), ('Hong Kong', 'Republic of North Macedonia'), ('Hong Kong', 'Saudi Arabia'), ('Hong Kong', 'Seychelles'), ('Hong Kong', 'Singapore'), ('Hong Kong', 'Syria'), ('Hong Kong', 'Trinidad and Tobago'), ('Hong Kong', 'Turkey'), ('Hong Kong', 'Ukraine'), ('Hong Kong', 'Venezuela'), ('Hong Kong', 'Monaco'), ('Hong Kong', 'Faeroe Islands'), ('Hong Kong', 'Greenland'), ('Hong Kong', 'Kazakhstan'), ('Hong Kong', 'Armenia'), ('Hong Kong', 'Serbia and Montenegro'), ('Nigeria', 'Italy'), ('Nigeria', 'Netherlands'), ('Nigeria', 'Poland'), ('Nigeria', 'Germany'), ('Nigeria', 'United Kingdom'), ('Nigeria', 'Singapore'), ('Nigeria', 'Belgium'), ('Nigeria', 'Greece'), ('Nigeria', 'Hungary'), ('Nigeria', 'India'), ('Nigeria', 'Oman'), ('Nigeria', 'Pakistan'), ('Nigeria', 'Taiwan'), ('Nigeria', 'United Arab Emirates'), ('Nigeria', 'France'), ('Nigeria', 'Portugal'), ('Nigeria', 'Spain'), ('Nigeria', 'Lebanon'), ('Nigeria', 'Turkey'), ('Nigeria', 'Austria'), ('Nigeria', 'Switzerland'), ('Nigeria', 'Turkmenistan'), ('Nigeria', 'Slovakia'), ('Nigeria', 'Cyprus'), ('Nigeria', 'Ireland'), ('Nigeria', 'Andorra'), ('Nigeria', 'Czech Republic'), ('Nigeria', 'Morocco'), ('Nigeria', 'Vietnam'), ('Nigeria', 'Sweden'), ('Nigeria', 'Finland'), ('Nigeria', 'Luxembourg'), ('Nigeria', 'Denmark'), ('Nigeria', 'Malta'), ('Nigeria', 'Norway'), ('Nigeria', 'British Virgin Islands'), ('Nigeria', 'Romania'), ('Nigeria', 'Lithuania'), ('Nigeria', 'Russia'), ('Nigeria', 'Estonia'), ('Nigeria', 'Serbia and Montenegro'), ('Nigeria', 'Ukraine'), ('Nigeria', 'United States'), ('Panama', 'Italy'), ('Panama', 'Spain'), ('Panama', 'Belgium'), ('Panama', 'Netherlands'), ('Panama', 'United Kingdom'), ('Panama', 'Turkmenistan'), ('Panama', 'United Arab Emirates'), ('Panama', 'Hungary'), ('Panama', 'Denmark'), ('Panama', 'Egypt'), ('Panama', 'Estonia'), ('Panama', 'France'), ('Panama', 'Germany'), ('Panama', 'Ireland'), ('Panama', 'Norway'), ('Panama', 'Croatia'), ('Panama', 'Austria'), ('Panama', 'China'), ('Panama', 'Portugal'), ('Panama', 'Pakistan'), ('Panama', 'Greece'), ('Panama', 'Sweden'), ('Panama', 'Lithuania'), ('Bolivia', 'Belgium'), ('Bolivia', 'Netherlands'), ('Bolivia', 'United Kingdom'), ('Bolivia', 'Czech Republic'), ('Bolivia', 'Germany'), ('Bolivia', 'Lithuania'), ('Bolivia', 'Slovakia'), ('Bolivia', 'Italy'), ('Bolivia', 'Austria'), ('Bolivia', 'Denmark'), ('Bolivia', 'France'), ('Bolivia', 'Iceland'), ('Bolivia', 'United States'), ('Bolivia', 'Chile'), ('Bolivia', 'Monaco'), ('Bolivia', 'Norway'), ('Bolivia', 'Finland'), ('Bolivia', 'Greece'), ('Bolivia', 'Latvia'), ('Bolivia', 'Portugal'), ('Bolivia', 'Spain'), ('Bolivia', 'Cyprus'), ('Bolivia', 'Ireland'), ('Bolivia', 'Croatia'), ('Bolivia', 'Hungary'), ('Bolivia', 'Luxembourg'), ('Bolivia', 'Slovenia'), ('Bolivia', 'Sweden'), ('Bahrain', 'Belgium'), ('Bahrain', 'Croatia'), ('Bahrain', 'Cyprus'), ('Bahrain', 'Germany'), ('Bahrain', 'Italy'), ('Bahrain', 'Slovakia'), ('Bahrain', 'Turkmenistan'), ('Bahrain', 'United Arab Emirates'), ('Bahrain', 'Hungary'), ('Bahrain', 'Guernsey'), ('Bahrain', 'Montenegro'), ('Bahrain', 'Netherlands'), ('Bahrain', 'Finland'), ('Bahrain', 'Hong Kong'), ('Bahrain', 'Luxembourg'), ('Bahrain', 'Norway'), ('Bahrain', 'Bosnia and Herzegovina'), ('Bahrain', 'United Kingdom'), ('Bahrain', 'Czech Republic'), ('Bahrain', 'Slovenia'), ('Bahrain', 'Greece'), ('Israel', 'Croatia'), ('Israel', 'Cyprus'), ('Israel', 'Iran'), ('Israel', 'New Zealand'), ('Israel', 'Switzerland'), ('Israel', 'France'), ('Israel', 'Italy'), ('Israel', 'Denmark'), ('Israel', 'Czech Republic'), ('Israel', 'Hungary'), ('Israel', 'Poland'), ('Israel', 'Slovakia'), ('Israel', 'Netherlands'), ('Israel', 'United Kingdom'), ('Israel', 'Albania'), ('Israel', 'Andorra'), ('Israel', 'Austria'), ('Israel', 'Belarus'), ('Israel', 'Bosnia and Herzegovina'), ('Israel', 'Kosovo'), ('Israel', 'Liechtenstein'), ('Israel', 'Moldova'), ('Israel', 'Monaco'), ('Israel', 'Montenegro'), ('Israel', 'Portugal'), ('Israel', 'Republic of North Macedonia'), ('Israel', 'Russia'), ('Israel', 'Slovenia'), ('Israel', 'Turkey'), ('Israel', 'Ukraine'), ('Israel', 'Vatican City'), ('Israel', 'Finland'), ('Israel', 'Turkmenistan'), ('Israel', 'United Arab Emirates'), ('Israel', 'Spain'), ('Israel', 'Bulgaria'), ('Israel', 'Lebanon'), ('Israel', 'Sweden'), ('Israel', 'Canada'), ('Israel', 'Germany'), ('Israel', 'United States'), ('Israel', 'Romania'), ('Israel', 'Ireland'), ('Israel', 'Belgium'), ('Israel', 'Estonia'), ('Israel', 'China'), ('Israel', 'Greece'), ('Israel', 'Latvia'), ('Israel', 'Lithuania'), ('Israel', 'Luxembourg'), ('Israel', 'Norway'), ('Israel', 'Norfolk Island'), ('Kazakhstan', 'Latvia'), ('Kazakhstan', 'France'), ('Kazakhstan', 'Finland'), ('Kazakhstan', 'Russia'), ('Kazakhstan', 'Austria'), ('Kazakhstan', 'Portugal'), ('Kazakhstan', 'Germany'), ('Kazakhstan', 'Lithuania'), ('Kazakhstan', 'United Kingdom'), ('Kazakhstan', 'Spain'), ('Kazakhstan', 'Belgium'), ('Kazakhstan', 'Czech Republic'), ('Kazakhstan', 'Greece'), ('Kazakhstan', 'Ireland'), ('Kazakhstan', 'Italy'), ('Kazakhstan', 'Netherlands'), ('Kazakhstan', 'Switzerland'), ('Kazakhstan', 'Denmark'), ('Kazakhstan', 'Estonia'), ('Kazakhstan', 'Sweden'), ('Kazakhstan', 'Hungary'), ('Russia', 'Latvia'), ('Russia', 'Croatia'), ('Russia', 'Cyprus'), ('Russia', 'Iran'), ('Russia', 'New Zealand'), ('Russia', 'Switzerland'), ('Russia', 'Finland'), ('Russia', 'Lithuania'), ('Russia', 'Estonia'), ('Russia', 'Denmark'), ('Russia', 'Poland'), ('Russia', 'Slovakia'), ('Russia', 'Sweden'), ('Russia', 'South Korea'), ('Russia', 'United Kingdom'), ('Russia', 'United States'), ('Russia', 'India'), ('Russia', 'Austria'), ('Russia', 'Portugal'), ('Russia', 'Hungary'), ('Russia', 'Belgium'), ('Russia', 'Slovenia'), ('Russia', 'Czech Republic'), ('Russia', 'France'), ('Russia', 'Germany'), ('Russia', 'Greece'), ('Russia', 'Ireland'), ('Russia', 'Spain'), ('Russia', 'Netherlands'), ('Russia', 'Luxembourg'), ('Russia', 'Turkmenistan'), ('Russia', 'United Arab Emirates'), ('Russia', 'Italy'), ('Russia', 'Guernsey'), ('Russia', 'Montenegro'), ('Russia', 'Andorra'), ('Russia', 'China'), ('Russia', 'Romania'), ('Russia', 'Serbia'), ('Russia', 'Bulgaria'), ('Russia', 'Chile'), ('Russia', 'Norway'), ('Russia', 'Malta'), ('Russia', 'Iceland'), ('Russia', 'Norfolk Island'), ('Monaco', 'France'), ('Monaco', 'Poland'), ('Monaco', 'Turkmenistan'), ('Monaco', 'United Arab Emirates'), ('Monaco', 'Switzerland'), ('Monaco', 'Croatia'), ('Monaco', 'China'), ('Monaco', 'Slovakia'), ('Monaco', 'Spain'), ('Monaco', 'Cyprus'), ('Monaco', 'Italy'), ('Monaco', 'Belgium'), ('Monaco', 'Latvia'), ('Monaco', 'Netherlands'), ('Monaco', 'Slovenia'), ('Monaco', 'Congo'), ('Monaco', 'Gabon'), ('Monaco', 'Lithuania'), ('Pakistan', 'Poland'), ('Pakistan', 'Italy'), ('Pakistan', 'United Kingdom'), ('Pakistan', 'Finland'), ('Pakistan', 'Ireland'), ('Pakistan', 'Sweden'), ('Pakistan', 'Belgium'), ('Pakistan', 'France'), ('Pakistan', 'Germany'), ('Pakistan', 'Netherlands'), ('Pakistan', 'Portugal'), ('Pakistan', 'Romania'), ('Pakistan', 'Greece'), ('Pakistan', 'Austria'), ('Pakistan', 'Denmark'), ('Pakistan', 'Estonia'), ('Pakistan', 'Luxembourg'), ('Pakistan', 'Slovakia'), ('Pakistan', 'Slovenia'), ('Pakistan', 'Spain'), ('Pakistan', 'Switzerland'), ('Pakistan', 'Lithuania'), ('Pakistan', 'Bulgaria'), ('Pakistan', 'Czech Republic'), ('Pakistan', 'Russia'), ('Pakistan', 'Ukraine'), ('Pakistan', 'United States'), ('Pakistan', 'China'), ('Pakistan', 'Croatia'), ('Pakistan', 'Faeroe Islands'), ('Pakistan', 'Hungary'), ('Pakistan', 'Latvia'), ('Pakistan', 'Malta'), ('Pakistan', 'Norway'), ('Pakistan', 'Cyprus'), ('Pakistan', 'Jersey'), ('Pakistan', 'Andorra'), ('Pakistan', 'United Arab Emirates'), ('Pakistan', 'Moldova'), ('Pakistan', 'Iceland'), ('Pakistan', 'Australia'), ('Pakistan', 'New Zealand'), ('Pakistan', 'Turkey'), ('Pakistan', 'Gibraltar'), ('Dominican Republic', 'Belgium'), ('Dominican Republic', 'Netherlands'), ('Dominican Republic', 'Germany'), ('Dominican Republic', 'Portugal'), ('Dominican Republic', 'United Kingdom'), ('Dominican Republic', 'France'), ('Dominican Republic', 'Sweden'), ('Dominican Republic', 'United Arab Emirates'), ('Dominican Republic', 'Spain'), ('Dominican Republic', 'Colombia'), ('Dominican Republic', 'Iceland'), ('Dominican Republic', 'Switzerland'), ('Dominican Republic', 'Hungary'), ('Dominican Republic', 'Italy'), ('Dominican Republic', 'Slovakia'), ('Dominican Republic', 'Greece'), ('Dominican Republic', 'Estonia'), ('Grenada', 'Netherlands'), ('Grenada', 'United Kingdom'), ('Grenada', 'Germany'), ('Grenada', 'Iceland'), ('Grenada', 'Slovakia'), ('Grenada', 'Sweden'), ('El Salvador', 'Spain'), ('El Salvador', 'Italy'), ('El Salvador', 'Norway'), ('Honduras', 'Netherlands'), ('Honduras', 'Portugal'), ('Honduras', 'Bosnia and Herzegovina'), ('Honduras', 'France'), ('Honduras', 'Germany'), ('Honduras', 'Estonia'), ('Honduras', 'Spain'), ('Honduras', 'Italy'), ('Honduras', 'United Kingdom'), ('Honduras', 'Belgium'), ('Honduras', 'Denmark'), ('Honduras', 'Luxembourg'), ('Iceland', 'Croatia'), ('Iceland', 'Cyprus'), ('Iceland', 'Iran'), ('Iceland', 'New Zealand'), ('Iceland', 'Switzerland'), ('Iceland', 'Bulgaria'), ('Iceland', 'Denmark'), ('Iceland', 'Norway'), ('Iceland', 'United Kingdom'), ('Iceland', 'France'), ('Iceland', 'Albania'), ('Iceland', 'Andorra'), ('Iceland', 'Austria'), ('Iceland', 'Belarus'), ('Iceland', 'Bosnia and Herzegovina'), ('Iceland', 'Italy'), ('Iceland', 'Kosovo'), ('Iceland', 'Liechtenstein'), ('Iceland', 'Moldova'), ('Iceland', 'Monaco'), ('Iceland', 'Montenegro'), ('Iceland', 'Portugal'), ('Iceland', 'Republic of North Macedonia'), ('Iceland', 'Russia'), ('Iceland', 'Slovenia'), ('Iceland', 'Turkey'), ('Iceland', 'Ukraine'), ('Iceland', 'Vatican City'), ('Iceland', 'Netherlands'), ('Iceland', 'Belgium'), ('Iceland', 'Luxembourg'), ('Iceland', 'Hungary'), ('Iceland', 'Finland'), ('Iceland', 'Spain'), ('Iceland', 'Guernsey'), ('Iceland', 'Slovakia'), ('Iceland', 'Estonia'), ('Iceland', 'Malta'), ('Iceland', 'Czech Republic'), ('Iceland', 'Germany'), ('Iceland', 'Sweden'), ('Iceland', 'Lithuania'), ('Iceland', 'Poland'), ('Iceland', 'United Arab Emirates'), ('Iceland', 'United States'), ('Iceland', 'Gibraltar'), ('Iceland', 'Ireland'), ('Namibia', 'Netherlands'), ('Namibia', 'Portugal'), ('Namibia', 'Spain'), ('Namibia', 'Italy'), ('Namibia', 'Sweden'), ('Namibia', 'Cyprus'), ('Namibia', 'United Kingdom'), ('Namibia', 'Belgium'), ('Namibia', 'Luxembourg'), ('Namibia', 'Poland'), ('Namibia', 'Germany'), ('Namibia', 'Austria'), ('Namibia', 'Czech Republic'), ('Namibia', 'France'), ('Namibia', 'Switzerland'), ('Namibia', 'Hong Kong'), ('Namibia', 'Norway'), ('Namibia', 'Greece'), ('Gibraltar', 'Bermuda'), ('Gibraltar', 'Belgium'), ('Gibraltar', 'Croatia'), ('Gibraltar', 'Cyprus'), ('Gibraltar', 'Germany'), ('Gibraltar', 'Italy'), ('Gibraltar', 'Slovakia'), ('Gibraltar', 'United Arab Emirates'), ('Gibraltar', 'United Kingdom'), ('Gibraltar', 'Turkmenistan'), ('Gibraltar', 'Denmark'), ('Gibraltar', 'Egypt'), ('Gibraltar', 'Estonia'), ('Gibraltar', 'France'), ('Gibraltar', 'Ireland'), ('Gibraltar', 'Netherlands'), ('Gibraltar', 'Norway'), ('Gibraltar', 'Switzerland'), ('Gibraltar', 'Hungary'), ('Gibraltar', 'Spain'), ('Gibraltar', 'Algeria'), ('Gibraltar', 'Andorra'), ('Gibraltar', 'Bulgaria'), ('Gibraltar', 'Greece'), ('Gibraltar', 'Lithuania'), ('Gibraltar', 'Poland'), ('Gibraltar', 'Portugal'), ('Gibraltar', 'Slovenia'), ('Gibraltar', 'Czech Republic'), ('Gibraltar', 'Sweden'), ('Gibraltar', 'Iceland'), ('Isle of Man', 'Belgium'), ('Isle of Man', 'Canada'), ('Isle of Man', 'Gibraltar'), ('Isle of Man', 'Israel'), ('Isle of Man', 'Mexico'), ('Isle of Man', 'Netherlands'), ('Isle of Man', 'Portugal'), ('Isle of Man', 'United States'), ('Isle of Man', 'Cambodia'), ('Isle of Man', 'Hong Kong'), ('Isle of Man', 'Kuwait'), ('Isle of Man', 'Lebanon'), ('Isle of Man', 'Malaysia'), ('Isle of Man', 'Philippines'), ('Isle of Man', 'Qatar'), ('Isle of Man', 'Saudi Arabia'), ('Isle of Man', 'Singapore'), ('Isle of Man', 'Thailand'), ('Belarus', 'Germany'), ('Belarus', 'Croatia'), ('Belarus', 'Cyprus'), ('Belarus', 'Iran'), ('Belarus', 'New Zealand'), ('Belarus', 'Switzerland'), ('Belarus', 'Netherlands'), ('Belarus', 'Lithuania'), ('Belarus', 'Poland'), ('Belarus', 'Austria'), ('Belarus', 'Portugal'), ('Belarus', 'Greece'), ('Belarus', 'Denmark'), ('Belarus', 'Egypt'), ('Belarus', 'Estonia'), ('Belarus', 'France'), ('Belarus', 'Ireland'), ('Belarus', 'Italy'), ('Belarus', 'Norway'), ('Belarus', 'United Arab Emirates'), ('Belarus', 'United Kingdom'), ('Belarus', 'Latvia'), ('Belarus', 'Belgium'), ('Belarus', 'Slovenia'), ('Belarus', 'Bulgaria'), ('Belarus', 'Finland'), ('Belarus', 'Luxembourg'), ('Belarus', 'Russia'), ('Belarus', 'Ukraine'), ('Belarus', 'Sweden'), ('Belarus', 'Spain'), ('Belarus', 'Czech Republic'), ('Belarus', 'Hungary'), ('Belarus', 'Romania'), ('Belarus', 'Slovakia'), ('Serbia', 'Croatia'), ('Serbia', 'Slovenia'), ('Serbia', 'Italy'), ('Serbia', 'Greece'), ('Serbia', 'Denmark'), ('Serbia', 'Austria'), ('Serbia', 'Germany'), ('Serbia', 'Czech Republic'), ('Serbia', 'Hungary'), ('Serbia', 'Albania'), ('Serbia', 'Andorra'), ('Serbia', 'Belarus'), ('Serbia', 'Bosnia and Herzegovina'), ('Serbia', 'France'), ('Serbia', 'Kosovo'), ('Serbia', 'Liechtenstein'), ('Serbia', 'Moldova'), ('Serbia', 'Monaco'), ('Serbia', 'Montenegro'), ('Serbia', 'Portugal'), ('Serbia', 'Republic of North Macedonia'), ('Serbia', 'Russia'), ('Serbia', 'Switzerland'), ('Serbia', 'Turkey'), ('Serbia', 'Ukraine'), ('Serbia', 'Vatican City'), ('Serbia', 'Netherlands'), ('Serbia', 'Finland'), ('Serbia', 'Spain'), ('Serbia', 'Guernsey'), ('Serbia', 'Slovakia'), ('Serbia', 'Sweden'), ('Serbia', 'Dominican Republic'), ('Serbia', 'Mexico'), ('Serbia', 'United States'), ('Serbia', 'Cyprus'), ('Serbia', 'Lithuania'), ('Serbia', 'Belgium'), ('Serbia', 'Poland'), ('Serbia', 'China'), ('Serbia', 'Bulgaria'), ('Serbia', 'Romania'), ('Serbia', 'Luxembourg'), ('Serbia', 'Curaçao'), ('Serbia', 'Faeroe Islands'), ('Serbia', 'Ghana'), ('Serbia', 'Greenland'), ('Serbia', 'Iceland'), ('Serbia', 'Malta'), ('Serbia', 'Norway'), ('Serbia', 'South Africa'), ('Serbia', 'United Kingdom'), ('Serbia', 'Tunisia'), ('Serbia', 'Ireland'), ('Serbia', 'Belize'), ('Serbia', 'Estonia'), ('Serbia', 'Hong Kong'), (\"Côte d'Ivoire\", 'France'), (\"Côte d'Ivoire\", 'Spain'), (\"Côte d'Ivoire\", 'Barbados'), (\"Côte d'Ivoire\", 'Romania'), (\"Côte d'Ivoire\", 'Hungary'), (\"Côte d'Ivoire\", 'United Kingdom'), (\"Côte d'Ivoire\", 'Italy'), (\"Côte d'Ivoire\", 'Belgium'), (\"Côte d'Ivoire\", 'Hong Kong'), (\"Côte d'Ivoire\", 'Germany'), (\"Côte d'Ivoire\", 'Poland'), (\"Côte d'Ivoire\", 'Tunisia'), (\"Côte d'Ivoire\", 'Norway'), (\"Côte d'Ivoire\", 'Greece'), (\"Côte d'Ivoire\", 'Sweden'), (\"Côte d'Ivoire\", 'Malta'), (\"Côte d'Ivoire\", 'Netherlands'), (\"Côte d'Ivoire\", 'Finland'), (\"Côte d'Ivoire\", 'Portugal'), ('Iran', 'Germany'), ('Iran', 'Austria'), ('Iran', 'Italy'), ('Iran', 'Turkey'), ('Iran', 'Slovakia'), ('Iran', 'Croatia'), ('Iran', 'Switzerland'), ('Iran', 'France'), ('Iran', 'United Kingdom'), ('Iran', 'Czech Republic'), ('Iran', 'Belgium'), ('Iran', 'United Arab Emirates'), ('Iran', 'Portugal'), ('Iran', 'Andorra'), ('Iran', 'Bulgaria'), ('Iran', 'Denmark'), ('Iran', 'Iceland'), ('Iran', 'Lithuania'), ('Iran', 'Netherlands'), ('Iran', 'Spain'), ('Iran', 'Sweden'), ('Iran', 'Norway'), ('Iran', 'Greece'), ('Iran', 'Slovenia'), ('Iran', 'Latvia'), ('Iran', 'Russia'), ('Iran', 'Malta'), ('Iran', 'Estonia'), ('Iran', 'Finland'), ('Iran', 'Romania'), ('Iran', 'Poland'), ('Iran', 'Cyprus'), ('Iran', 'Ireland'), ('Iran', 'Hungary'), ('Iran', 'Faeroe Islands'), ('Iran', 'Greenland'), ('Iran', 'Hong Kong'), ('Iran', 'Ukraine'), ('Iran', 'Luxembourg'), ('Iran', 'Belarus'), ('Iran', 'Morocco'), ('Iran', 'Mexico'), ('Iran', 'United States'), ('Iran', 'Albania'), ('Iran', 'Bosnia and Herzegovina'), ('Bermuda', 'Belgium'), ('Bermuda', 'Canada'), ('Bermuda', 'Gibraltar'), ('Bermuda', 'Israel'), ('Bermuda', 'Mexico'), ('Bermuda', 'Netherlands'), ('Bermuda', 'Portugal'), ('Bermuda', 'United States'), ('Bermuda', 'Cambodia'), ('Bermuda', 'Hong Kong'), ('Bermuda', 'Kuwait'), ('Bermuda', 'Lebanon'), ('Bermuda', 'Malaysia'), ('Bermuda', 'Philippines'), ('Bermuda', 'Qatar'), ('Bermuda', 'Saudi Arabia'), ('Bermuda', 'Singapore'), ('Bermuda', 'Thailand'), ('Bermuda', 'France'), ('Bermuda', 'Hungary'), ('Bermuda', 'Slovenia'), ('Bermuda', 'Malta'), ('Bermuda', 'Iceland'), ('Bermuda', 'Slovakia'), ('Bermuda', 'Sweden'), ('Cayman Islands', 'United Arab Emirates'), ('Cayman Islands', 'Belgium'), ('Cayman Islands', 'Canada'), ('Cayman Islands', 'Gibraltar'), ('Cayman Islands', 'Israel'), ('Cayman Islands', 'Mexico'), ('Cayman Islands', 'Netherlands'), ('Cayman Islands', 'Portugal'), ('Cayman Islands', 'United States'), ('Cayman Islands', 'France'), ('Cayman Islands', 'Hungary'), ('Cayman Islands', 'Slovenia'), ('Cayman Islands', 'Malta'), ('Malaysia', 'United Kingdom'), ('Malaysia', 'Spain'), ('Malaysia', 'Netherlands'), ('Malaysia', 'Singapore'), ('Malaysia', 'Andorra'), ('Malaysia', 'Bolivia'), ('Malaysia', 'Portugal'), ('Malaysia', 'Ukraine'), ('Malaysia', 'Belgium'), ('Malaysia', 'Malta'), ('Malaysia', 'United Arab Emirates'), ('Malaysia', 'Germany'), ('Malaysia', 'Austria'), ('Malaysia', 'South Korea'), ('Malaysia', 'Poland'), ('Malaysia', 'Canada'), ('Malaysia', 'Gibraltar'), ('Malaysia', 'Israel'), ('Malaysia', 'Mexico'), ('Malaysia', 'United States'), ('Malaysia', 'Hungary'), ('Malaysia', 'Ireland'), ('Malaysia', 'Bulgaria'), ('Malaysia', 'Czech Republic'), ('Malaysia', 'Greece'), ('Malaysia', 'Romania'), ('Malaysia', 'Slovakia'), ('Malaysia', 'Slovenia'), ('Malaysia', 'Denmark'), ('Malaysia', 'Italy'), ('Malaysia', 'Finland'), ('Malaysia', 'France'), ('Malaysia', 'Luxembourg'), ('Malaysia', 'Switzerland'), ('Malaysia', 'Croatia'), ('Malaysia', 'Iraq'), ('Malaysia', 'Sweden'), ('Malaysia', 'Estonia'), ('Malaysia', 'Norway'), ('Malaysia', 'Iceland'), ('Malaysia', 'Cyprus'), ('Malaysia', 'Iran'), ('Faeroe Islands', 'Italy'), ('Faeroe Islands', 'Canada'), ('Faeroe Islands', 'Germany'), ('Faeroe Islands', 'Iceland'), ('Faeroe Islands', 'United States'), ('Faeroe Islands', 'Bosnia and Herzegovina'), ('Faeroe Islands', 'France'), ('Faeroe Islands', 'Greece'), ('Faeroe Islands', 'India'), ('Faeroe Islands', 'Slovenia'), ('Faeroe Islands', 'Belgium'), ('Faeroe Islands', 'Netherlands'), ('Faeroe Islands', 'Sweden'), ('Faeroe Islands', 'Denmark'), ('Faeroe Islands', 'Poland'), ('Faeroe Islands', 'Croatia'), ('Faeroe Islands', 'Cyprus'), ('Faeroe Islands', 'Czech Republic'), ('Faeroe Islands', 'Spain'), ('Faeroe Islands', 'Norway'), ('Albania', 'Italy'), ('Albania', 'Germany'), ('Albania', 'Canada'), ('Albania', 'Croatia'), ('Albania', 'Austria'), ('Albania', 'Portugal'), ('Albania', 'Greece'), ('Albania', 'Hungary'), ('Albania', 'Netherlands'), ('Albania', 'France'), ('Albania', 'Lithuania'), ('Albania', 'United Arab Emirates'), ('Albania', 'San Marino'), ('Albania', 'Latvia'), ('Albania', 'Czech Republic'), ('Albania', 'Poland'), ('Albania', 'Sweden'), ('Albania', 'Serbia'), ('Albania', 'Slovakia'), ('Albania', 'Slovenia'), ('Albania', 'Switzerland'), ('Albania', 'Azerbaijan'), ('Albania', 'Belgium'), ('Albania', 'Cyprus'), ('Albania', 'Denmark'), ('Albania', 'Finland'), ('Albania', 'Iceland'), ('Albania', 'Malta'), ('Albania', 'Moldova'), ('Albania', 'Pakistan'), ('Albania', 'Peru'), ('Albania', 'Romania'), ('Albania', 'Russia'), ('Albania', 'Syria'), ('Albania', 'United Kingdom'), ('Albania', 'Hong Kong'), ('Albania', 'Bulgaria'), ('Albania', 'Ireland'), ('Albania', 'Spain'), ('Albania', 'Luxembourg'), ('Senegal', 'Italy'), ('Senegal', 'France'), ('Senegal', 'Cyprus'), ('Senegal', 'Netherlands'), ('Senegal', 'Spain'), ('Senegal', 'Taiwan'), ('Senegal', 'United Kingdom'), ('Senegal', 'India'), ('Senegal', 'Poland'), ('Senegal', 'Hungary'), ('Senegal', 'Belgium'), ('Senegal', 'Portugal'), ('Senegal', 'Croatia'), ('Senegal', 'Denmark'), ('Senegal', 'Germany'), ('Senegal', 'Malta'), ('Senegal', 'Sweden'), ('Senegal', 'Luxembourg'), ('Senegal', 'Switzerland'), ('Senegal', 'United Arab Emirates'), ('Senegal', 'Finland'), ('Senegal', 'Austria'), ('Senegal', 'Greece'), ('Senegal', 'Slovenia'), ('Senegal', 'Ireland'), ('Senegal', 'Russia'), ('Senegal', 'Cuba'), ('Senegal', 'China'), ('Peru', 'Spain'), ('Peru', 'Belgium'), ('Peru', 'France'), ('Peru', 'Germany'), ('Peru', 'Malta'), ('Peru', 'Sweden'), ('Peru', 'India'), ('Peru', 'Netherlands'), ('Peru', 'Qatar'), ('Peru', 'United Arab Emirates'), ('Peru', 'Luxembourg'), ('Peru', 'Poland'), ('Peru', 'British Virgin Islands'), ('Peru', 'Italy'), ('Peru', 'San Marino'), ('Peru', 'Switzerland'), ('Peru', 'Thailand'), ('Peru', 'United Kingdom'), ('Peru', 'Andorra'), ('Peru', 'Hungary'), ('Peru', 'Croatia'), ('Peru', 'Cyprus'), ('Peru', 'Greece'), ('Peru', 'Romania'), ('Peru', 'Slovenia'), ('Peru', 'Nepal'), ('Peru', 'Saudi Arabia'), ('Peru', 'Serbia'), ('Peru', 'Portugal'), ('Peru', 'Czech Republic'), ('Peru', 'Austria'), ('Peru', 'Bulgaria'), ('Peru', 'Denmark'), ('Peru', 'Estonia'), ('Peru', 'Slovakia'), ('Peru', 'Norway'), ('Peru', \"Côte d'Ivoire\"), ('Peru', 'Mauritius'), ('Peru', 'Finland'), ('Peru', 'Ireland'), ('Peru', 'Morocco'), ('Peru', 'Nigeria'), ('Peru', 'Sierra Leone'), ('Peru', 'Turkey'), ('Peru', 'United States'), ('Peru', 'Moldova'), ('Peru', 'Russia'), ('Peru', 'Latvia'), ('Peru', 'Lithuania'), ('Peru', 'Gibraltar'), ('Peru', 'Bosnia and Herzegovina'), ('Peru', 'Ecuador'), ('Peru', 'Ukraine'), ('Peru', 'Belarus'), ('Australia', 'Croatia'), ('Australia', 'Cyprus'), ('Australia', 'Iran'), ('Australia', 'New Zealand'), ('Australia', 'Switzerland'), ('Australia', 'Denmark'), ('Australia', 'Estonia'), ('Australia', 'Nigeria'), ('Australia', 'Taiwan'), ('Australia', 'Spain'), ('Australia', 'Vietnam'), ('Australia', 'Iceland'), ('Australia', 'United Kingdom'), ('Australia', 'Netherlands'), ('Australia', 'Germany'), ('Australia', 'Slovenia'), ('Australia', 'Norway'), ('Australia', 'Belgium'), ('Australia', 'Canada'), ('Australia', 'Gibraltar'), ('Australia', 'Israel'), ('Australia', 'Mexico'), ('Australia', 'Portugal'), ('Australia', 'United States'), ('Australia', 'Hungary'), ('Australia', 'Finland'), ('Australia', 'France'), ('Australia', 'Luxembourg'), ('Australia', 'Sweden'), ('Australia', 'Ireland'), ('Australia', 'Bulgaria'), ('Australia', 'United Arab Emirates'), ('Australia', 'Czech Republic'), ('Australia', 'Austria'), ('Australia', 'Italy'), ('Australia', 'Malta'), ('Australia', 'Romania'), ('Australia', 'Greece'), ('Australia', 'Hong Kong'), ('Australia', 'Latvia'), ('Australia', 'Poland'), ('Australia', 'Lithuania'), ('Australia', 'Russia'), ('Australia', 'Algeria'), ('Cyprus', 'Netherlands'), ('Cyprus', 'Germany'), ('Cyprus', 'Finland'), ('Cyprus', 'Hungary'), ('Cyprus', 'Latvia'), ('Cyprus', 'Ukraine'), ('Cyprus', 'United Kingdom'), ('Cyprus', 'Bulgaria'), ('Cyprus', 'Czech Republic'), ('Cyprus', 'Hong Kong'), ('Cyprus', 'Bermuda'), ('Cyprus', 'Estonia'), ('Cyprus', 'Nigeria'), ('Cyprus', 'Greece'), ('Cyprus', 'Canada'), ('Cyprus', 'Albania'), ('Cyprus', 'Andorra'), ('Cyprus', 'Austria'), ('Cyprus', 'Belarus'), ('Cyprus', 'Bosnia and Herzegovina'), ('Cyprus', 'France'), ('Cyprus', 'Italy'), ('Cyprus', 'Kosovo'), ('Cyprus', 'Liechtenstein'), ('Cyprus', 'Moldova'), ('Cyprus', 'Monaco'), ('Cyprus', 'Montenegro'), ('Cyprus', 'Portugal'), ('Cyprus', 'Republic of North Macedonia'), ('Cyprus', 'Russia'), ('Cyprus', 'Slovenia'), ('Cyprus', 'Switzerland'), ('Cyprus', 'Turkey'), ('Cyprus', 'Vatican City'), ('Cyprus', 'Belgium'), ('Cyprus', 'Lithuania'), ('Cyprus', 'Ireland'), ('Cyprus', 'Turkmenistan'), ('Cyprus', 'United Arab Emirates'), ('Cyprus', 'Gibraltar'), ('Cyprus', 'Israel'), ('Cyprus', 'Mexico'), ('Cyprus', 'United States'), ('Cyprus', 'Spain'), ('Cyprus', 'Guernsey'), ('Cyprus', 'Denmark'), ('Cyprus', 'Malta'), ('Cyprus', 'Romania'), ('Cyprus', 'Slovakia'), ('Cyprus', 'Sweden'), ('Cyprus', 'Australia'), ('Cyprus', 'Lebanon'), ('Cyprus', 'Poland'), ('Cyprus', 'Croatia'), ('Cyprus', 'Luxembourg'), ('Cyprus', 'Tunisia'), ('Cyprus', 'Belize'), ('Cyprus', 'Libya'), ('Cyprus', 'South Korea'), ('Cyprus', 'Iceland'), ('Tunisia', 'France'), ('Tunisia', 'Italy'), ('Tunisia', 'Slovenia'), ('Tunisia', 'Algeria'), ('Tunisia', 'Monaco'), ('Tunisia', 'Netherlands'), ('Tunisia', 'Hungary'), ('Tunisia', 'Austria'), ('Tunisia', 'Germany'), ('Tunisia', 'Hong Kong'), ('Tunisia', 'Spain'), ('Tunisia', 'Ireland'), ('Tunisia', 'United Kingdom'), ('Tunisia', 'Malta'), ('Tunisia', 'Greece'), ('Tunisia', 'Portugal'), ('Tunisia', 'Belgium'), ('Tunisia', 'Slovakia'), ('Tunisia', 'Poland'), ('Tunisia', 'Russia'), ('Tunisia', 'Andorra'), ('Tunisia', 'Bulgaria'), ('Tunisia', 'Denmark'), ('Tunisia', 'Latvia'), ('Tunisia', 'Norway'), ('Tunisia', 'Sweden'), ('Tunisia', 'Ukraine'), ('Tunisia', 'Estonia'), ('Tunisia', 'Turkey'), ('Tunisia', 'Republic of North Macedonia'), ('Tunisia', 'Romania'), ('Tunisia', 'Switzerland'), ('Tunisia', 'United States'), ('Tunisia', 'Croatia'), ('Tunisia', 'Lithuania'), ('Tunisia', 'Czech Republic'), ('Tunisia', 'Iceland'), ('Congo', 'Netherlands'), ('Congo', 'Turkmenistan'), ('Congo', 'United Arab Emirates'), ('Congo', 'Czech Republic'), ('Congo', 'Democratic Republic of the Congo'), ('Congo', 'Croatia'), ('Congo', 'Finland'), ('Congo', 'Hong Kong'), ('Congo', 'Luxembourg'), ('Congo', 'Norway'), ('Congo', 'France'), ('Congo', 'Belgium'), ('Congo', 'Malta'), ('Congo', 'Belarus'), ('Congo', 'Spain'), ('Congo', 'Germany'), ('Congo', 'Ireland'), ('Congo', 'Italy'), ('Gabon', 'Netherlands'), ('Gabon', 'Czech Republic'), ('Gabon', 'Italy'), ('Gabon', 'Malta'), ('Gabon', 'Greece'), ('Gabon', 'France'), ('Japan', 'Taiwan'), ('Japan', 'Finland'), ('Japan', 'Slovakia'), ('Japan', 'Slovenia'), ('Japan', 'Switzerland'), ('Japan', 'Belgium'), ('Japan', 'Denmark'), ('Japan', 'France'), ('Japan', 'Germany'), ('Japan', 'Greece'), ('Japan', 'Hungary'), ('Japan', 'Ireland'), ('Japan', 'Italy'), ('Japan', 'Lithuania'), ('Japan', 'Morocco'), ('Japan', 'Netherlands'), ('Japan', 'New Zealand'), ('Japan', 'Poland'), ('Japan', 'Portugal'), ('Japan', 'Serbia'), ('Japan', 'Spain'), ('Japan', 'Sweden'), ('Japan', 'United Kingdom'), ('Japan', 'Uruguay'), ('Japan', 'Norway'), ('Japan', 'Romania'), ('Japan', 'Turkmenistan'), ('Japan', 'United Arab Emirates'), ('Japan', 'Guernsey'), ('Japan', 'Montenegro'), ('Japan', 'Thailand'), ('Japan', 'Iceland'), ('Japan', 'Hong Kong'), ('Japan', 'Cyprus'), ('Japan', 'Bosnia and Herzegovina'), ('Japan', 'Namibia'), ('Japan', 'Cambodia'), ('Japan', 'Kuwait'), ('Japan', 'Lebanon'), ('Japan', 'Malaysia'), ('Japan', 'Philippines'), ('Japan', 'Qatar'), ('Japan', 'Saudi Arabia'), ('Japan', 'Singapore'), ('Japan', 'Czech Republic'), ('Japan', 'Ukraine'), ('Japan', 'Argentina'), ('Japan', 'Australia'), ('Japan', 'Cameroon'), ('Japan', 'Chile'), ('Japan', 'China'), ('Japan', 'India'), ('Japan', 'South Africa'), ('Japan', 'Sri Lanka'), ('Japan', 'United States'), ('Japan', 'Albania'), ('Japan', 'Algeria'), ('Japan', 'Austria'), ('Japan', 'Brazil'), ('Japan', 'Bulgaria'), ('Japan', 'Canada'), ('Japan', 'Costa Rica'), ('Japan', 'Croatia'), ('Japan', 'Dominican Republic'), ('Japan', 'Egypt'), ('Japan', 'Estonia'), ('Japan', 'Ethiopia'), ('Japan', 'Guadeloupe'), ('Japan', 'Indonesia'), ('Japan', 'Iran'), ('Japan', 'Iraq'), ('Japan', 'Israel'), ('Japan', 'Kosovo'), ('Japan', 'Latvia'), ('Japan', 'Libya'), ('Japan', 'Martinique'), ('Japan', 'Mexico'), ('Japan', 'Moldova'), ('Japan', 'Monaco'), ('Japan', 'Myanmar'), ('Japan', 'Peru'), ('Japan', 'Republic of North Macedonia'), ('Japan', 'Russia'), ('Japan', 'South Korea'), ('Japan', 'Swaziland'), ('Japan', 'Turkey'), ('Japan', 'Venezuela'), ('Japan', 'Vietnam'), ('Japan', 'Bangladesh'), ('Japan', 'Belarus'), ('Japan', 'Ghana'), ('Japan', 'Honduras'), ('Japan', 'Jordan'), ('Japan', 'Kazakhstan'), ('Japan', 'Kenya'), ('Japan', 'Oman'), ('Japan', 'Pakistan'), ('Japan', 'Panama'), ('Japan', 'Syria'), ('Japan', 'Tunisia'), ('Japan', 'Yemen'), ('Japan', 'Bahrain'), ('Japan', 'Luxembourg'), ('Japan', 'Malta'), ('Japan', 'Norfolk Island'), ('Seychelles', 'United Kingdom'), ('Seychelles', 'Italy'), ('Seychelles', 'Cape Verde'), ('Seychelles', 'Spain'), ('Seychelles', 'Turkmenistan'), ('Seychelles', 'United Arab Emirates'), ('Seychelles', 'Hungary'), ('Seychelles', 'Denmark'), ('Seychelles', 'Slovenia'), ('Seychelles', 'France'), ('Seychelles', 'Netherlands'), ('Seychelles', 'India'), ('Seychelles', 'Germany'), ('Seychelles', 'Austria'), ('Seychelles', 'Belgium'), ('Togo', 'Austria'), ('Togo', 'Belgium'), ('Togo', 'Cyprus'), ('Togo', 'Czech Republic'), ('Togo', 'Denmark'), ('Togo', 'France'), ('Togo', 'Germany'), ('Togo', 'Greece'), ('Togo', 'Ireland'), ('Togo', 'Lithuania'), ('Togo', 'Malta'), ('Togo', 'Netherlands'), ('Togo', 'Poland'), ('Togo', 'Spain'), ('Togo', 'Sweden'), ('Togo', 'United Kingdom'), ('Togo', 'India'), ('Togo', 'Italy'), ('Togo', 'Finland'), ('Togo', 'Luxembourg'), ('Algeria', 'Italy'), ('Algeria', 'France'), ('Algeria', 'United Kingdom'), ('Algeria', 'Netherlands'), ('Algeria', 'Hungary'), ('Algeria', 'Belgium'), ('Algeria', 'Latvia'), ('Algeria', 'Ireland'), ('Algeria', 'Tunisia'), ('Algeria', 'Czech Republic'), ('Algeria', 'Spain'), ('Algeria', 'United States'), ('Algeria', 'Germany'), ('Algeria', 'Greece'), ('Algeria', 'Suriname'), ('Algeria', 'Slovenia'), ('Algeria', 'Denmark'), ('Algeria', 'Switzerland'), ('Suriname', 'Netherlands'), ('Suriname', 'Austria'), ('Suriname', 'Portugal'), ('Suriname', 'Estonia'), ('Suriname', 'France'), ('Suriname', 'Germany'), ('Suriname', 'Norway'), ('Suriname', 'Sweden'), ('Suriname', 'Spain'), ('Suriname', 'Czech Republic'), ('Suriname', 'Hungary'), ('Suriname', 'Ireland'), ('Suriname', 'Malta'), ('Suriname', 'United Kingdom'), ('Suriname', 'Belgium'), ('Uzbekistan', 'Austria'), ('Uzbekistan', 'Germany'), ('Uzbekistan', 'Czech Republic'), ('Uzbekistan', 'Slovakia'), ('Uzbekistan', 'United Kingdom'), ('Uzbekistan', 'Lithuania'), ('Uzbekistan', 'Latvia'), ('Uzbekistan', 'Italy'), ('Uzbekistan', 'Estonia'), ('Uzbekistan', 'Finland'), ('Uzbekistan', 'Netherlands'), ('Uzbekistan', 'Belgium'), ('Uzbekistan', 'Croatia'), ('Uzbekistan', 'Hungary'), ('Uzbekistan', 'Poland'), ('Uzbekistan', 'Romania'), ('Uzbekistan', 'Slovenia'), ('Uzbekistan', 'Spain'), ('Uzbekistan', 'Turkey'), ('Uzbekistan', 'Ukraine'), ('Uzbekistan', 'Russia'), ('Uzbekistan', 'France'), ('Uzbekistan', 'Cyprus'), ('Uzbekistan', 'Switzerland'), ('Uzbekistan', 'Bulgaria'), ('Uzbekistan', 'Canada'), ('Uzbekistan', 'Greece'), ('Uzbekistan', 'Albania'), ('Uzbekistan', 'Bosnia and Herzegovina'), ('Uzbekistan', 'Indonesia'), ('Uzbekistan', 'Ireland'), ('Uzbekistan', 'Jordan'), ('Uzbekistan', 'Kuwait'), ('Uzbekistan', 'Saudi Arabia'), ('Uzbekistan', 'Sweden'), ('Uzbekistan', 'Syria'), ('Uzbekistan', 'Taiwan'), ('Bangladesh', 'Germany'), ('Bangladesh', 'Italy'), ('Bangladesh', 'Portugal'), ('Bangladesh', 'Austria'), ('Bangladesh', 'Croatia'), ('Bangladesh', 'Czech Republic'), ('Bangladesh', 'Hungary'), ('Bangladesh', 'Netherlands'), ('Bangladesh', 'Poland'), ('Bangladesh', 'Romania'), ('Bangladesh', 'Slovakia'), ('Bangladesh', 'Slovenia'), ('Bangladesh', 'France'), ('Bangladesh', 'United Kingdom'), ('Bangladesh', 'Finland'), ('Bangladesh', 'Cyprus'), ('Bangladesh', 'Greece'), ('Bangladesh', 'Sweden'), ('Bangladesh', 'Estonia'), ('Bangladesh', 'Denmark'), ('Bangladesh', 'Azerbaijan'), ('Bangladesh', 'Spain'), ('Bangladesh', 'Belgium'), ('Bangladesh', 'Luxembourg'), ('Bangladesh', 'Ireland'), ('Bangladesh', 'Russia'), ('Bangladesh', 'Norway'), ('Bangladesh', 'Israel'), ('Jordan', 'Germany'), ('Jordan', 'Iceland'), ('Jordan', 'Sweden'), ('Jordan', 'Austria'), ('Jordan', 'Portugal'), ('Jordan', 'Malta'), ('Jordan', 'Poland'), ('Jordan', 'Finland'), ('Jordan', 'Italy'), ('Jordan', 'Spain'), ('Jordan', 'Guernsey'), ('Jordan', 'Montenegro'), ('Jordan', 'Slovakia'), ('Jordan', 'United Arab Emirates'), ('Jordan', 'Belgium'), ('Jordan', 'Netherlands'), ('Jordan', 'United Kingdom'), ('Jordan', 'Bulgaria'), ('Jordan', 'Croatia'), ('Jordan', 'Denmark'), ('Jordan', 'Ireland'), ('Jordan', 'Norway'), ('Jordan', 'Romania'), ('Jordan', 'Slovenia'), ('Jordan', 'Switzerland'), ('Jordan', 'Curaçao'), ('Jordan', 'Estonia'), ('Jordan', 'Cyprus'), ('Jordan', 'Greece'), ('Jordan', 'Hungary'), ('Ethiopia', 'Greece'), ('Ethiopia', 'United Kingdom'), ('Ethiopia', 'Netherlands'), ('Ethiopia', 'Luxembourg'), ('Ethiopia', 'United Arab Emirates'), ('Ethiopia', 'Germany'), ('Ethiopia', 'Sweden'), ('Ethiopia', 'Switzerland'), ('Ethiopia', 'Norway'), ('Ethiopia', 'France'), ('Ethiopia', 'Finland'), ('Ethiopia', 'Italy'), ('Ethiopia', 'Spain'), ('Montenegro', 'Belgium'), ('Montenegro', 'Iceland'), ('Montenegro', 'United Kingdom'), ('Montenegro', 'Netherlands'), ('Montenegro', 'Finland'), ('Montenegro', 'Italy'), ('Montenegro', 'Spain'), ('Montenegro', 'Slovenia'), ('Montenegro', 'Germany'), ('Montenegro', 'Switzerland'), ('Montenegro', 'France'), ('Montenegro', 'Bosnia and Herzegovina'), ('Montenegro', 'Hungary'), ('Montenegro', 'Ireland'), ('Montenegro', 'Austria'), ('Montenegro', 'Croatia'), ('Angola', 'Portugal'), ('Angola', 'Netherlands'), ('Angola', 'Turkmenistan'), ('Angola', 'United Arab Emirates'), ('Angola', 'Hungary'), ('Angola', 'Ireland'), ('Angola', 'Latvia'), ('Angola', 'Italy'), ('Angola', 'Spain'), ('Angola', 'Croatia'), ('Angola', 'Finland'), ('Angola', 'Hong Kong'), ('Angola', 'Luxembourg'), ('Angola', 'Norway'), ('Angola', 'Germany'), ('Angola', 'United Kingdom'), ('Angola', 'Belarus'), ('Angola', 'Iceland'), ('Angola', 'Slovakia'), ('Angola', 'Sweden'), ('Indonesia', 'Netherlands'), ('Indonesia', 'Poland'), ('Indonesia', 'United Kingdom'), ('Indonesia', 'Czech Republic'), ('Indonesia', 'Slovakia'), ('Indonesia', 'Singapore'), ('Indonesia', 'Italy'), ('Indonesia', 'Austria'), ('Indonesia', 'Belgium'), ('Indonesia', 'Switzerland'), ('Indonesia', 'India'), ('Indonesia', 'Germany'), ('Indonesia', 'Portugal'), ('Indonesia', 'Spain'), ('Indonesia', 'United Arab Emirates'), ('Indonesia', 'Bulgaria'), ('Indonesia', 'Romania'), ('Indonesia', 'Serbia'), ('Indonesia', 'Bosnia and Herzegovina'), ('Indonesia', 'Croatia'), ('Indonesia', 'Slovenia'), ('Indonesia', 'Greece'), ('Indonesia', 'Denmark'), ('Indonesia', 'Hungary'), ('Indonesia', 'Norway'), ('Indonesia', 'Sweden'), ('Indonesia', 'Malta'), ('Indonesia', 'Cyprus'), ('Indonesia', 'Georgia'), ('Indonesia', 'Latvia'), ('Indonesia', 'France'), ('Indonesia', 'Estonia'), ('Indonesia', 'Finland'), ('Indonesia', 'Belarus'), ('Indonesia', 'Canada'), ('Indonesia', 'Hong Kong'), ('Indonesia', 'Taiwan'), ('Indonesia', 'Thailand'), ('Indonesia', 'Ireland'), ('Indonesia', 'Luxembourg'), ('Indonesia', 'Albania'), ('Indonesia', 'Morocco'), ('Indonesia', 'Qatar'), ('Indonesia', 'Saudi Arabia'), ('Indonesia', 'United States'), ('Indonesia', 'Congo'), ('Indonesia', 'Democratic Republic of the Congo'), ('Indonesia', 'Suriname'), ('Indonesia', 'Chile'), ('Indonesia', 'Lithuania'), ('Indonesia', 'Moldova'), ('Indonesia', 'Barbados'), ('Indonesia', 'Iceland'), ('Indonesia', 'Russia'), ('Indonesia', 'Japan'), ('Saudi Arabia', 'Germany'), ('Saudi Arabia', 'Austria'), ('Saudi Arabia', 'Greece'), ('Saudi Arabia', 'Ireland'), ('Saudi Arabia', 'Sweden'), ('Saudi Arabia', 'Hungary'), ('Saudi Arabia', 'Belgium'), ('Saudi Arabia', 'Bulgaria'), ('Saudi Arabia', 'Czech Republic'), ('Saudi Arabia', 'Denmark'), ('Saudi Arabia', 'France'), ('Saudi Arabia', 'Italy'), ('Saudi Arabia', 'Netherlands'), ('Saudi Arabia', 'Poland'), ('Saudi Arabia', 'Romania'), ('Saudi Arabia', 'United Kingdom'), ('Saudi Arabia', 'Vietnam'), ('Saudi Arabia', 'Portugal'), ('Saudi Arabia', 'Finland'), ('Saudi Arabia', 'Cyprus'), ('Saudi Arabia', 'United Arab Emirates'), ('Saudi Arabia', 'Estonia'), ('Saudi Arabia', 'United States'), ('Saudi Arabia', 'Spain'), ('Saudi Arabia', 'Slovakia'), ('Saudi Arabia', 'Slovenia'), ('Saudi Arabia', 'Luxembourg'), ('Saudi Arabia', 'Norway'), ('Singapore', 'Bermuda'), ('Singapore', 'Germany'), ('Singapore', 'Taiwan'), ('Singapore', 'Slovenia'), ('Singapore', 'Malta'), ('Singapore', 'Turkmenistan'), ('Singapore', 'United Arab Emirates'), ('Singapore', 'Hungary'), ('Singapore', 'Andorra'), ('Singapore', 'France'), ('Singapore', 'Portugal'), ('Singapore', 'Denmark'), ('Singapore', 'Italy'), ('Singapore', 'Netherlands'), ('Singapore', 'Bulgaria'), ('Singapore', 'Ireland'), ('Singapore', 'Spain'), ('Singapore', 'Sweden'), ('Singapore', 'Lebanon'), ('Singapore', 'Croatia'), ('Singapore', 'Cyprus'), ('Singapore', 'Estonia'), ('Singapore', 'Slovakia'), ('Singapore', 'Belgium'), ('Singapore', 'Malaysia'), ('Singapore', 'United Kingdom'), ('Singapore', 'Greece'), ('Singapore', 'Congo'), ('Singapore', 'Democratic Republic of the Congo'), ('Singapore', 'Suriname'), ('Singapore', 'Iceland'), ('Singapore', 'Hong Kong'), ('Singapore', 'Latvia'), ('Singapore', 'Brunei'), ('Singapore', 'Monaco'), ('Singapore', 'Chile'), ('Singapore', 'Switzerland'), ('Singapore', 'San Marino'), ('Singapore', 'Finland'), ('Singapore', 'Israel'), ('Singapore', 'Cuba'), ('Singapore', 'Czech Republic'), ('Singapore', 'Morocco'), ('Singapore', 'Luxembourg'), ('Kosovo', 'Belgium'), ('Kosovo', 'Finland'), ('Kosovo', 'France'), ('Kosovo', 'Germany'), ('Kosovo', 'Luxembourg'), ('Kosovo', 'Canada'), ('Kosovo', 'Austria'), ('Kosovo', 'Portugal'), ('Kosovo', 'Italy'), ('Kosovo', 'Netherlands'), ('Kosovo', 'Turkmenistan'), ('Kosovo', 'United Arab Emirates'), ('Kosovo', 'Hungary'), ('Kosovo', 'Greece'), ('Kosovo', 'Bulgaria'), ('Kosovo', 'Switzerland'), ('Kosovo', 'Slovenia'), ('Kosovo', 'Hong Kong'), ('Kuwait', 'Denmark'), ('Kuwait', 'Belgium'), ('Kuwait', 'Croatia'), ('Kuwait', 'Cyprus'), ('Kuwait', 'Germany'), ('Kuwait', 'Italy'), ('Kuwait', 'Slovakia'), ('Kuwait', 'United Arab Emirates'), ('Kuwait', 'Hungary'), ('Kuwait', 'United Kingdom'), ('Kuwait', 'Finland'), ('Kuwait', 'Estonia'), ('Kuwait', 'Czech Republic'), ('Kuwait', 'Slovenia'), ('Kuwait', 'Spain'), ('Qatar', 'Chile'), ('Qatar', 'Hungary'), ('Qatar', 'Netherlands'), ('Qatar', 'United Arab Emirates'), ('Qatar', 'Slovenia'), ('Qatar', 'Lebanon'), ('Qatar', 'Croatia'), ('Qatar', 'Finland'), ('Qatar', 'Hong Kong'), ('Qatar', 'Luxembourg'), ('Qatar', 'Norway'), ('Qatar', 'Greece'), ('Qatar', 'Czech Republic'), ('Qatar', 'United Kingdom'), ('Democratic Republic of the Congo', 'Netherlands'), ('Democratic Republic of the Congo', 'Hungary'), ('Democratic Republic of the Congo', 'Andorra'), ('Democratic Republic of the Congo', 'Australia'), ('Democratic Republic of the Congo', 'Austria'), ('Democratic Republic of the Congo', 'Belgium'), ('Democratic Republic of the Congo', 'Brazil'), ('Democratic Republic of the Congo', 'Denmark'), ('Democratic Republic of the Congo', 'France'), ('Democratic Republic of the Congo', 'Indonesia'), ('Democratic Republic of the Congo', 'Ireland'), ('Democratic Republic of the Congo', 'Italy'), ('Democratic Republic of the Congo', 'Japan'), ('Democratic Republic of the Congo', 'Portugal'), ('Democratic Republic of the Congo', 'Romania'), ('Democratic Republic of the Congo', 'Russia'), ('Democratic Republic of the Congo', 'South Africa'), ('Democratic Republic of the Congo', 'South Korea'), ('Democratic Republic of the Congo', 'Spain'), ('Democratic Republic of the Congo', 'Sweden'), ('Democratic Republic of the Congo', 'Switzerland'), ('Democratic Republic of the Congo', 'Turkey'), ('Democratic Republic of the Congo', 'United Kingdom'), ('Democratic Republic of the Congo', 'Germany'), ('Democratic Republic of the Congo', 'United States'), ('Colombia', 'Switzerland'), ('Colombia', 'Andorra'), ('Colombia', 'Germany'), ('Colombia', 'Portugal'), ('Colombia', 'Spain'), ('Colombia', 'Hungary'), ('Colombia', 'United Kingdom'), ('Colombia', 'France'), ('Colombia', 'Croatia'), ('Colombia', 'Italy'), ('Colombia', 'Moldova'), ('Colombia', 'Romania'), ('Colombia', 'Slovenia'), ('Colombia', 'Czech Republic'), ('Colombia', 'Austria'), ('Colombia', 'Belarus'), ('Colombia', 'Belgium'), ('Colombia', 'Denmark'), ('Colombia', 'Ireland'), ('Colombia', 'Kazakhstan'), ('Colombia', 'Kenya'), ('Colombia', 'Maldives'), ('Colombia', 'Malta'), ('Colombia', 'Netherlands'), ('Colombia', 'Norway'), ('Colombia', 'Poland'), ('Colombia', 'Qatar'), ('Colombia', 'Saudi Arabia'), ('Colombia', 'Serbia'), ('Colombia', 'Singapore'), ('Colombia', 'Ukraine'), ('Colombia', 'United Arab Emirates'), ('Colombia', 'Sweden'), ('Colombia', 'Finland'), ('Colombia', 'Luxembourg'), ('Colombia', 'Iceland'), ('Colombia', 'Lithuania'), ('Colombia', 'Russia'), ('Colombia', 'Greece'), ('Sri Lanka', 'Germany'), ('Sri Lanka', 'United Kingdom'), ('Sri Lanka', 'Cyprus'), ('Sri Lanka', 'Norway'), ('Sri Lanka', 'Switzerland'), ('Sri Lanka', 'France'), ('Sri Lanka', 'Italy'), ('Sri Lanka', 'Belgium'), ('Sri Lanka', 'Bulgaria'), ('Sri Lanka', 'Croatia'), ('Sri Lanka', 'Czech Republic'), ('Sri Lanka', 'Estonia'), ('Sri Lanka', 'Finland'), ('Sri Lanka', 'Hungary'), ('Sri Lanka', 'Ireland'), ('Sri Lanka', 'Lebanon'), ('Sri Lanka', 'Peru'), ('Sri Lanka', 'Poland'), ('Sri Lanka', 'Portugal'), ('Sri Lanka', 'Slovenia'), ('Sri Lanka', 'Spain'), ('Sri Lanka', 'Sweden'), ('Sri Lanka', 'Austria'), ('Sri Lanka', 'Denmark'), ('Sri Lanka', 'Netherlands'), ('Sri Lanka', 'Luxembourg'), ('Sri Lanka', 'Slovakia'), ('Sri Lanka', 'Greece'), ('Sri Lanka', 'Romania'), ('Sri Lanka', 'Serbia'), ('Sri Lanka', 'Monaco'), ('Sri Lanka', 'Australia'), ('Mexico', 'France'), ('Mexico', 'Germany'), ('Mexico', 'Albania'), ('Mexico', 'China'), ('Mexico', 'Egypt'), ('Mexico', 'Thailand'), ('Mexico', 'Denmark'), ('Mexico', 'Sweden'), ('Mexico', 'United Kingdom'), ('Mexico', 'United States'), ('Mexico', 'Latvia'), ('Mexico', 'United Arab Emirates'), ('Mexico', 'Italy'), ('Mexico', 'Portugal'), ('Mexico', 'Belgium'), ('Mexico', 'Switzerland'), ('Mexico', 'Hungary'), ('Mexico', 'Poland'), ('Mexico', 'Spain'), ('Mexico', 'Austria'), ('Mexico', 'Azerbaijan'), ('Mexico', 'Bosnia and Herzegovina'), ('Mexico', 'Bulgaria'), ('Mexico', 'Croatia'), ('Mexico', 'Cyprus'), ('Mexico', 'Czech Republic'), ('Mexico', 'Estonia'), ('Mexico', 'Georgia'), ('Mexico', 'Greece'), ('Mexico', 'Indonesia'), ('Mexico', 'Ireland'), ('Mexico', 'Japan'), ('Mexico', 'Kazakhstan'), ('Mexico', 'Lithuania'), ('Mexico', 'Morocco'), ('Mexico', 'Netherlands'), ('Mexico', 'Republic of North Macedonia'), ('Mexico', 'Romania'), ('Mexico', 'Russia'), ('Mexico', 'Serbia'), ('Mexico', 'Singapore'), ('Mexico', 'Slovakia'), ('Mexico', 'Slovenia'), ('Mexico', 'South Korea'), ('Mexico', 'Turkmenistan'), ('Mexico', 'Ukraine'), ('Mexico', 'Finland'), ('Mexico', 'Norway'), ('Republic of North Macedonia', 'Czech Republic'), ('Republic of North Macedonia', 'Slovenia'), ('Republic of North Macedonia', 'Romania'), ('Republic of North Macedonia', 'Netherlands'), ('Republic of North Macedonia', 'Hungary'), ('Republic of North Macedonia', 'Croatia'), ('Republic of North Macedonia', 'Greece'), ('Republic of North Macedonia', 'Germany'), ('Republic of North Macedonia', 'Spain'), ('Republic of North Macedonia', 'Andorra'), ('Republic of North Macedonia', 'France'), ('Republic of North Macedonia', 'Switzerland'), ('Republic of North Macedonia', 'Italy'), ('Republic of North Macedonia', 'Latvia'), ('Republic of North Macedonia', 'Estonia'), ('Republic of North Macedonia', 'Slovakia'), ('Republic of North Macedonia', 'Denmark'), ('Republic of North Macedonia', 'Lithuania'), ('Republic of North Macedonia', 'Japan'), ('Republic of North Macedonia', 'Belgium'), ('Republic of North Macedonia', 'Cyprus'), ('Republic of North Macedonia', 'Bulgaria'), ('Republic of North Macedonia', 'Hong Kong'), ('Republic of North Macedonia', 'Poland'), ('Republic of North Macedonia', 'Belarus'), ('Republic of North Macedonia', 'Austria'), ('Iraq', 'Belgium'), ('Iraq', 'Croatia'), ('Iraq', 'Cyprus'), ('Iraq', 'Germany'), ('Iraq', 'Italy'), ('Iraq', 'Slovakia'), ('Iraq', 'Netherlands'), ('Iraq', 'United Arab Emirates'), ('Iraq', 'Poland'), ('French Polynesia', 'France'), ('French Polynesia', 'Switzerland'), ('French Polynesia', 'Ireland'), ('French Polynesia', 'Sweden'), ('French Polynesia', 'Spain'), ('French Polynesia', 'Malta'), ('French Polynesia', 'Slovakia'), ('French Polynesia', 'Slovenia'), ('French Polynesia', 'Finland'), ('Moldova', 'France'), ('Moldova', 'Netherlands'), ('Moldova', 'Belgium'), ('Moldova', 'Czech Republic'), ('Moldova', 'Denmark'), ('Moldova', 'Germany'), ('Moldova', 'Poland'), ('Moldova', 'Romania'), ('Moldova', 'Slovakia'), ('Moldova', 'Spain'), ('Moldova', 'Sweden'), ('Moldova', 'Croatia'), ('Moldova', 'Cyprus'), ('Moldova', 'Italy'), ('Moldova', 'Austria'), ('Moldova', 'Portugal'), ('Moldova', 'Greece'), ('Moldova', 'Ukraine'), ('Moldova', 'Luxembourg'), ('Moldova', 'Switzerland'), ('Moldova', 'Norway'), ('Moldova', 'Latvia'), ('Moldova', 'Estonia'), ('Moldova', 'Hungary'), ('Moldova', 'Slovenia'), ('Moldova', 'Ireland'), ('Moldova', 'Democratic Republic of the Congo'), ('Moldova', 'Lithuania'), ('Moldova', 'United Kingdom'), ('Moldova', 'Andorra'), ('Moldova', 'China'), ('Moldova', 'Hong Kong'), ('Moldova', 'India'), ('Moldova', 'Russia'), ('New Caledonia', 'France'), ('New Caledonia', 'Sint Maarten'), ('New Caledonia', 'French Polynesia'), ('New Caledonia', 'Ukraine'), ('New Caledonia', 'Czech Republic'), ('New Caledonia', 'Hungary'), ('New Caledonia', 'Netherlands'), ('New Caledonia', 'Slovakia'), ('New Caledonia', 'Slovenia'), ('Saint Pierre and Miquelon', 'France'), ('Oman', 'Taiwan'), ('Oman', 'Portugal'), ('Oman', 'Spain'), ('Oman', 'Hungary'), ('Oman', 'Croatia'), ('Oman', 'Finland'), ('Oman', 'Hong Kong'), ('Oman', 'Luxembourg'), ('Oman', 'Netherlands'), ('Oman', 'Norway'), ('Oman', 'Belgium'), ('Oman', 'Estonia'), ('Oman', 'Italy'), ('Oman', 'Germany'), ('Oman', 'France'), ('Oman', 'United Kingdom'), ('Oman', 'Greece'), ('Oman', 'Saudi Arabia'), ('Oman', 'Cyprus'), ('Curaçao', 'Netherlands'), ('Curaçao', 'Spain'), ('Saint Helena', 'Ireland'), ('Saint Helena', 'Belgium'), ('Saint Helena', 'Canada'), ('Saint Helena', 'Gibraltar'), ('Saint Helena', 'Israel'), ('Saint Helena', 'Mexico'), ('Saint Helena', 'Netherlands'), ('Saint Helena', 'Portugal'), ('Saint Helena', 'United States'), ('Saint Helena', 'Hungary'), ('Syria', 'Spain'), ('Syria', 'Austria'), ('Syria', 'Belgium'), ('Syria', 'Cyprus'), ('Syria', 'Denmark'), ('Syria', 'Finland'), ('Syria', 'France'), ('Syria', 'Germany'), ('Syria', 'Greece'), ('Syria', 'Hungary'), ('Syria', 'Iceland'), ('Syria', 'Ireland'), ('Syria', 'Italy'), ('Syria', 'Luxembourg'), ('Syria', 'Malta'), ('Syria', 'Netherlands'), ('Syria', 'Poland'), ('Syria', 'Portugal'), ('Syria', 'Romania'), ('Syria', 'Sweden'), ('Syria', 'Switzerland'), ('Syria', 'Ukraine'), ('Syria', 'United Kingdom'), ('Syria', 'Norway'), ('Syria', 'Lebanon'), ('Syria', 'Jordan'), ('Syria', 'Turkey'), ('Syria', 'Czech Republic'), ('Syria', 'Estonia'), ('Syria', 'Slovenia'), ('Syria', 'Gibraltar'), ('Syria', 'Netherlands Antilles'), ('Syria', 'Slovakia'), ('Burkina Faso', 'Austria'), ('Burkina Faso', 'France'), ('Burkina Faso', 'Hungary'), ('Burkina Faso', 'Italy'), ('Burkina Faso', 'Poland'), ('Burkina Faso', 'Spain'), ('Burkina Faso', 'United Kingdom'), ('Burkina Faso', 'Romania'), ('Burkina Faso', 'Netherlands'), ('Burkina Faso', 'Estonia'), ('Burkina Faso', 'Finland'), ('Burkina Faso', 'Latvia'), ('Burkina Faso', 'Lithuania'), ('Burkina Faso', 'Ghana'), ('Burkina Faso', 'Greece'), ('Burkina Faso', 'Switzerland'), ('Burkina Faso', 'Germany'), ('Burkina Faso', 'Hong Kong'), ('Burkina Faso', 'Belgium'), ('Burkina Faso', 'Slovakia'), ('Burkina Faso', 'Slovenia'), ('Burkina Faso', 'Ireland'), ('Burkina Faso', 'Portugal'), ('Guatemala', 'Finland'), ('Guatemala', 'Austria'), ('Guatemala', 'Belgium'), ('Guatemala', 'Bulgaria'), ('Guatemala', 'Czech Republic'), ('Guatemala', 'Denmark'), ('Guatemala', 'France'), ('Guatemala', 'Germany'), ('Guatemala', 'Greece'), ('Guatemala', 'Hungary'), ('Guatemala', 'Italy'), ('Guatemala', 'Lithuania'), ('Guatemala', 'Luxembourg'), ('Guatemala', 'Netherlands'), ('Guatemala', 'New Zealand'), ('Guatemala', 'Norway'), ('Guatemala', 'Poland'), ('Guatemala', 'Romania'), ('Guatemala', 'Slovakia'), ('Guatemala', 'Slovenia'), ('Guatemala', 'Spain'), ('Guatemala', 'Sweden'), ('Guatemala', 'Switzerland'), ('Guatemala', 'United Kingdom'), ('Benin', 'Belgium'), ('Benin', 'France'), ('Benin', 'Spain'), ('Benin', 'United Kingdom'), ('Benin', 'Netherlands'), ('Benin', 'Italy'), ('Bosnia and Herzegovina', 'Austria'), ('Bosnia and Herzegovina', 'Portugal'), ('Bosnia and Herzegovina', 'Netherlands'), ('Bosnia and Herzegovina', 'Hungary'), ('Bosnia and Herzegovina', 'Guernsey'), ('Bosnia and Herzegovina', 'Montenegro'), ('Bosnia and Herzegovina', 'Belgium'), ('Bosnia and Herzegovina', 'Denmark'), ('Bosnia and Herzegovina', 'Finland'), ('Bosnia and Herzegovina', 'France'), ('Bosnia and Herzegovina', 'Germany'), ('Bosnia and Herzegovina', 'Ireland'), ('Bosnia and Herzegovina', 'Luxembourg'), ('Bosnia and Herzegovina', 'Malta'), ('Bosnia and Herzegovina', 'Norway'), ('Bosnia and Herzegovina', 'Slovenia'), ('Bosnia and Herzegovina', 'Sweden'), ('Bosnia and Herzegovina', 'Switzerland'), ('Bosnia and Herzegovina', 'Croatia'), ('Bosnia and Herzegovina', 'United Arab Emirates'), ('Bosnia and Herzegovina', 'Romania'), ('Bosnia and Herzegovina', 'Andorra'), ('Bosnia and Herzegovina', 'China'), ('Bosnia and Herzegovina', 'Serbia'), ('Bosnia and Herzegovina', 'Slovakia'), ('Bosnia and Herzegovina', 'Italy'), ('Bosnia and Herzegovina', 'United States'), ('Bosnia and Herzegovina', 'Hong Kong'), ('Bosnia and Herzegovina', 'Russia'), ('Bosnia and Herzegovina', 'Spain'), ('Bosnia and Herzegovina', 'United Kingdom'), ('Bosnia and Herzegovina', 'Czech Republic'), ('Bosnia and Herzegovina', 'Cyprus'), ('Madagascar', 'France'), ('Madagascar', 'Italy'), ('Madagascar', 'Indonesia'), ('Madagascar', 'Lithuania'), ('Madagascar', 'Peru'), ('Madagascar', 'United Kingdom'), ('Madagascar', 'United States'), ('Madagascar', 'Portugal'), ('Madagascar', 'Spain'), ('Madagascar', 'Finland'), ('Madagascar', 'Belgium'), ('Madagascar', 'Netherlands'), ('Madagascar', 'Czech Republic'), ('Madagascar', 'Denmark'), ('Madagascar', 'Germany'), ('Madagascar', 'Hungary'), ('Madagascar', 'Romania'), ('Madagascar', 'Slovakia'), ('Madagascar', 'Switzerland'), ('Madagascar', 'Ireland'), ('Madagascar', 'Sweden'), ('Madagascar', 'Luxembourg'), ('Madagascar', 'Greece'), ('Papua New Guinea', 'Belgium'), ('Papua New Guinea', 'United Kingdom'), ('Papua New Guinea', 'Spain'), ('Papua New Guinea', 'Netherlands'), ('Papua New Guinea', 'Germany'), ('Papua New Guinea', 'France'), ('Papua New Guinea', 'Italy'), ('West Bank and Gaza Strip', 'Austria'), ('West Bank and Gaza Strip', 'Slovenia'), ('West Bank and Gaza Strip', 'Germany'), ('West Bank and Gaza Strip', 'Sweden'), ('West Bank and Gaza Strip', 'Spain'), ('West Bank and Gaza Strip', 'France'), ('West Bank and Gaza Strip', 'Luxembourg'), ('Maldives', 'Spain'), ('Maldives', 'Austria'), ('Maldives', 'Portugal'), ('Maldives', 'Czech Republic'), ('Maldives', 'Denmark'), ('Maldives', 'Germany'), ('Maldives', 'Poland'), ('Maldives', 'Sweden'), ('Maldives', 'Belgium'), ('Maldives', 'United Kingdom'), ('Maldives', 'Turkmenistan'), ('Maldives', 'United Arab Emirates'), ('Maldives', 'Hungary'), ('Maldives', 'Italy'), ('Maldives', 'France'), ('Maldives', 'Slovakia'), ('Maldives', 'Slovenia'), ('Niger', 'Austria'), ('Niger', 'Canada'), ('Niger', 'France'), ('Niger', 'Germany'), ('Niger', 'Italy'), ('Niger', 'Netherlands'), ('Niger', 'Portugal'), ('Niger', 'South Korea'), ('Niger', 'United Kingdom'), ('Niger', 'Benin'), ('Niger', 'Malta'), ('Libya', 'Belgium'), ('Libya', 'Croatia'), ('Libya', 'Cyprus'), ('Libya', 'Germany'), ('Libya', 'Italy'), ('Libya', 'Slovakia'), ('Liechtenstein', 'Austria'), ('Liechtenstein', 'Belgium'), ('Liechtenstein', 'France'), ('Liechtenstein', 'Germany'), ('Liechtenstein', 'Netherlands'), ('Liechtenstein', 'Spain'), ('Liechtenstein', 'Italy'), ('Liechtenstein', 'Croatia'), ('Liechtenstein', 'Slovenia'), ('Liechtenstein', 'Switzerland'), ('Liechtenstein', 'Denmark'), ('Liechtenstein', 'United Kingdom'), ('Liechtenstein', 'Cyprus'), ('Kyrgyzstan', 'Italy'), ('Kyrgyzstan', 'Turkey'), ('Kyrgyzstan', 'Austria'), ('Kyrgyzstan', 'Portugal'), ('Kyrgyzstan', 'Hungary'), ('Kyrgyzstan', 'Belgium'), ('Kyrgyzstan', 'Iran'), ('Kyrgyzstan', 'Bulgaria'), ('Kyrgyzstan', 'Spain'), ('Brunei', 'Malta'), ('Brunei', 'Norway'), ('Brunei', 'Portugal'), ('Brunei', 'Belgium'), ('Brunei', 'Canada'), ('Brunei', 'Gibraltar'), ('Brunei', 'Israel'), ('Brunei', 'Mexico'), ('Brunei', 'Netherlands'), ('Brunei', 'United States'), ('Brunei', 'Hungary'), ('Brunei', 'United Kingdom'), ('Brunei', 'Greece'), ('Brunei', 'Spain'), ('Macao', 'Taiwan'), ('Macao', 'Netherlands'), ('Macao', 'Belgium'), ('Sint Maarten', 'Taiwan'), ('Sint Maarten', 'Switzerland'), ('Barbados', 'United Kingdom'), ('Barbados', 'Gibraltar'), ('Barbados', 'Portugal'), ('Barbados', 'Germany'), ('Barbados', 'United States'), ('Barbados', 'France'), ('Barbados', 'Hungary'), ('Barbados', 'Slovenia'), ('Barbados', 'Malta'), ('Barbados', 'Netherlands'), ('Guinea', 'Switzerland'), ('Guinea', 'Turkmenistan'), ('Guinea', 'United Arab Emirates'), ('Guinea', 'United Kingdom'), ('Guinea', 'France'), ('Guinea', 'Netherlands'), ('Guinea', 'Belgium'), ('Guinea', 'Germany'), ('Guinea', 'Luxembourg'), ('Guinea', 'Estonia'), ('Guinea', 'Spain'), ('Guinea', 'Sweden'), ('Guinea', 'Italy'), ('Guinea', 'Denmark'), ('Costa Rica', 'France'), ('Costa Rica', 'Netherlands'), ('Costa Rica', 'Andorra'), ('Costa Rica', 'Belgium'), ('Costa Rica', 'Italy'), ('Costa Rica', 'United Kingdom'), ('Costa Rica', 'Spain'), ('Costa Rica', 'Estonia'), ('Costa Rica', 'Ireland'), ('Costa Rica', 'Poland'), ('Costa Rica', 'Russia'), ('Costa Rica', 'Finland'), ('Costa Rica', 'Ecuador'), ('Costa Rica', 'Portugal'), ('Costa Rica', 'Germany'), ('Costa Rica', 'Norway'), ('Costa Rica', 'Austria'), ('Costa Rica', 'Slovakia'), ('Costa Rica', 'Luxembourg'), ('Nicaragua', 'Netherlands'), ('Nicaragua', 'Finland'), ('Nicaragua', 'Latvia'), ('Nicaragua', 'United Kingdom'), ('Nicaragua', 'Costa Rica'), ('Nicaragua', 'Czech Republic'), ('Nicaragua', 'Poland'), ('Nicaragua', 'Spain'), ('Nicaragua', 'Italy'), ('Nicaragua', 'Portugal'), ('Cape Verde', 'Portugal'), ('Cape Verde', 'Turkmenistan'), ('Cape Verde', 'United Arab Emirates'), ('Cape Verde', 'Hungary'), ('Cape Verde', 'Denmark'), ('Cape Verde', 'Egypt'), ('Cape Verde', 'Estonia'), ('Cape Verde', 'France'), ('Cape Verde', 'Germany'), ('Cape Verde', 'Ireland'), ('Cape Verde', 'Italy'), ('Cape Verde', 'Netherlands'), ('Cape Verde', 'Norway'), ('Cape Verde', 'United Kingdom'), ('Cape Verde', 'Spain'), ('Cape Verde', 'Jordan'), ('Cape Verde', 'Slovakia'), ('Cape Verde', 'Croatia'), ('Cape Verde', 'Russia'), ('Cape Verde', 'Czech Republic'), ('Cape Verde', 'Iceland'), ('Cape Verde', 'Sweden'), ('Falkland Islands', 'United Arab Emirates'), ('Falkland Islands', 'Belgium'), ('Falkland Islands', 'Canada'), ('Falkland Islands', 'Gibraltar'), ('Falkland Islands', 'Israel'), ('Falkland Islands', 'Mexico'), ('Falkland Islands', 'Netherlands'), ('Falkland Islands', 'Portugal'), ('Falkland Islands', 'United States'), ('Falkland Islands', 'Hungary'), ('Falkland Islands', 'Spain'), ('Falkland Islands', 'France'), ('Falkland Islands', 'Poland'), ('Haiti', 'United Arab Emirates'), ('Haiti', 'Hungary'), ('Haiti', 'Malta'), ('Haiti', 'Netherlands'), ('Haiti', 'Norway'), ('Haiti', 'Italy'), ('Haiti', 'Spain'), ('Jamaica', 'United Arab Emirates'), ('Jamaica', 'United Kingdom'), ('Jamaica', 'Canada'), ('Jamaica', 'Spain'), ('Jamaica', 'France'), ('Jamaica', 'Hungary'), ('Jamaica', 'Slovenia'), ('Jamaica', 'Denmark'), ('Saint Kitts and Nevis', 'United Arab Emirates'), ('Saint Kitts and Nevis', 'France'), ('Saint Kitts and Nevis', 'Hungary'), ('Saint Kitts and Nevis', 'Slovenia'), ('Saint Lucia', 'United Arab Emirates'), ('Saint Lucia', 'France'), ('Saint Lucia', 'Hungary'), ('Saint Lucia', 'Slovenia'), ('Saint Martin', 'United Arab Emirates'), ('Saint Martin', 'Poland'), ('Saint Martin', 'Sint Maarten'), ('Saint Martin', 'Ireland'), ('Saint Martin', 'Sweden'), ('Saint Vincent and the Grenadines', 'United Arab Emirates'), ('Paraguay', 'France'), ('Paraguay', 'Netherlands'), ('Paraguay', 'Switzerland'), ('Paraguay', 'Germany'), ('Paraguay', 'Spain'), ('Paraguay', 'Belgium'), ('Paraguay', 'Ireland'), ('Paraguay', 'Poland'), ('Paraguay', 'Cyprus'), ('Paraguay', 'Greece'), ('Paraguay', 'Slovakia'), ('Paraguay', 'Czech Republic'), ('Paraguay', 'Italy'), ('Paraguay', 'Norway'), ('Paraguay', 'Denmark'), ('Chad', 'Greece'), ('Chad', 'Turkey'), ('Chad', 'Turkmenistan'), ('Chad', 'United Arab Emirates'), ('Tanzania', 'Greece'), ('Tanzania', 'Singapore'), ('Tanzania', 'Turkey'), ('Tanzania', 'United Kingdom'), ('Tanzania', 'Denmark'), ('Tanzania', 'Italy'), ('Tanzania', 'Moldova'), ('Tanzania', 'Romania'), ('Tanzania', 'Slovenia'), ('Tanzania', 'France'), ('Tanzania', 'Germany'), ('Tanzania', 'Spain'), ('Tanzania', 'Slovakia'), ('Tanzania', 'Poland'), ('Tanzania', 'Portugal'), ('Tanzania', 'Netherlands'), ('Tanzania', 'Belgium'), ('Tanzania', 'Japan'), ('Tanzania', 'Finland'), ('Afghanistan', 'United Kingdom'), ('Afghanistan', 'Finland'), ('Afghanistan', 'Slovakia'), ('Afghanistan', 'Turkmenistan'), ('Afghanistan', 'United Arab Emirates'), ('Afghanistan', 'Hungary'), ('Afghanistan', 'Denmark'), ('Afghanistan', 'Germany'), ('Afghanistan', 'Czech Republic'), ('Afghanistan', 'Netherlands'), ('Afghanistan', 'Spain'), ('Afghanistan', 'Italy'), ('Afghanistan', 'Turkey'), ('Afghanistan', 'Belgium'), ('Afghanistan', 'Lithuania'), ('Afghanistan', 'Bulgaria'), ('Afghanistan', 'Poland'), ('Afghanistan', 'Malta'), ('Afghanistan', 'Switzerland'), ('Afghanistan', 'Latvia'), ('Afghanistan', 'Cyprus'), ('Afghanistan', 'Greece'), ('Vatican City', 'United Arab Emirates'), ('Belize', 'Cyprus'), ('Belize', 'France'), ('Belize', 'Germany'), ('Belize', 'Latvia'), ('Belize', 'Lithuania'), ('Belize', 'Netherlands'), ('Belize', 'Poland'), ('Belize', 'Portugal'), ('Belize', 'Romania'), ('Belize', 'United Kingdom'), ('Belize', 'Bulgaria'), ('Belize', 'Hungary'), ('Belize', 'Ireland'), ('Belize', 'Switzerland'), ('Belize', 'Spain'), ('Belize', 'Malta'), ('Belize', 'Italy'), ('Cuba', 'Spain'), ('Cuba', 'Ukraine'), ('Cuba', 'Hungary'), ('Cuba', 'Italy'), ('Cuba', 'Cyprus'), ('Cuba', 'Bulgaria'), ('Cuba', 'Croatia'), ('Cuba', 'Romania'), ('Cuba', 'Moldova'), ('Cuba', 'United Kingdom'), ('Cuba', 'Poland'), ('Cuba', 'Belgium'), ('Cuba', 'France'), ('Equatorial Guinea', 'Austria'), ('Equatorial Guinea', 'Portugal'), ('Equatorial Guinea', 'Ukraine'), ('Equatorial Guinea', 'Guinea'), ('Mozambique', 'Italy'), ('Mozambique', 'United Kingdom'), ('Mozambique', 'Spain'), ('Mozambique', 'Portugal'), ('Mozambique', 'Bulgaria'), ('Mozambique', 'Netherlands'), ('Mozambique', 'Finland'), ('Mozambique', 'Iceland'), ('Mozambique', 'Slovakia'), ('Mozambique', 'Sweden'), ('Mozambique', 'France'), ('Trinidad and Tobago', 'United Kingdom'), ('Trinidad and Tobago', 'Gibraltar'), ('Trinidad and Tobago', 'France'), ('Trinidad and Tobago', 'Hungary'), ('Trinidad and Tobago', 'Slovenia'), ('Trinidad and Tobago', 'Malta'), ('Trinidad and Tobago', 'Netherlands'), ('Burundi', 'Andorra'), ('Burundi', 'Belgium'), ('Burundi', 'France'), ('Burundi', 'Ireland'), ('Burundi', 'Netherlands'), ('Burundi', 'Portugal'), ('Burundi', 'Spain'), ('Rwanda', 'Andorra'), ('Rwanda', 'Switzerland'), ('Rwanda', 'United States'), ('Rwanda', 'Spain'), ('Rwanda', 'United Kingdom'), ('Gambia', 'Netherlands'), ('Gambia', 'Belgium'), ('Gambia', 'Turkmenistan'), ('Gambia', 'United Arab Emirates'), ('Gambia', 'United Kingdom'), ('Gambia', 'Germany'), ('Gambia', 'Spain'), ('Gambia', 'Croatia'), ('Gambia', 'Finland'), ('Gambia', 'Hong Kong'), ('Gambia', 'Luxembourg'), ('Gambia', 'Norway'), ('Gambia', 'Italy'), ('Gambia', 'Lithuania'), ('Gambia', 'France'), ('Gambia', 'Ireland'), ('Gambia', 'Moldova'), ('Gambia', 'Romania'), ('Gambia', 'Taiwan'), ('Gambia', 'Switzerland'), ('Gambia', 'Bulgaria'), ('Liberia', 'Turkmenistan'), ('Liberia', 'United Arab Emirates'), ('Liberia', 'Hungary'), ('Liberia', 'Malta'), ('Liberia', 'Netherlands'), ('Liberia', 'Norway'), ('Liberia', 'Denmark'), ('Marshall Islands', 'Turkmenistan'), ('Marshall Islands', 'United Arab Emirates'), ('Marshall Islands', 'Netherlands'), ('Marshall Islands', 'Denmark'), ('Cambodia', 'Norway'), ('Cambodia', 'France'), ('Cambodia', 'Austria'), ('Cambodia', 'Cyprus'), ('Cambodia', 'Denmark'), ('Cambodia', 'Estonia'), ('Cambodia', 'Finland'), ('Cambodia', 'Germany'), ('Cambodia', 'Ireland'), ('Cambodia', 'Latvia'), ('Cambodia', 'Lithuania'), ('Cambodia', 'Sweden'), ('Cambodia', 'Belgium'), ('Cambodia', 'United Kingdom'), ('Cambodia', 'Vietnam'), ('Cambodia', 'Netherlands'), ('Cambodia', 'Switzerland'), ('Cambodia', 'Poland'), ('Cambodia', 'Italy'), ('Sierra Leone', 'United Kingdom'), ('Sierra Leone', 'Hungary'), ('Sierra Leone', 'Croatia'), ('Sierra Leone', 'Finland'), ('Sierra Leone', 'Hong Kong'), ('Sierra Leone', 'Luxembourg'), ('Sierra Leone', 'Netherlands'), ('Sierra Leone', 'Norway'), ('Sierra Leone', 'Spain'), ('Mali', 'France'), ('Mali', 'Netherlands'), ('Mali', 'Turkmenistan'), ('Mali', 'United Arab Emirates'), ('Mali', 'Hungary'), ('Mali', 'Denmark'), ('Mali', 'Italy'), ('Mali', 'Estonia'), ('Mali', 'Germany'), ('Mali', 'Spain'), ('Mali', 'Belgium'), ('Mali', 'Malta'), ('Cameroon', 'Austria'), ('Cameroon', 'Belgium'), ('Cameroon', 'Finland'), ('Cameroon', 'France'), ('Cameroon', 'Germany'), ('Cameroon', 'Jersey'), ('Cameroon', 'Luxembourg'), ('Cameroon', 'Portugal'), ('Cameroon', 'Slovakia'), ('Cameroon', 'Spain'), ('Cameroon', 'Sweden'), ('Cameroon', 'Switzerland'), ('Cameroon', 'United Kingdom'), ('Cameroon', 'United States'), ('Cameroon', 'Hungary'), ('Cameroon', 'Poland'), ('Cameroon', 'Bulgaria'), ('Cameroon', 'Malta'), ('Cameroon', 'Italy'), ('Zambia', 'Netherlands'), ('Zambia', 'South Africa'), ('Zambia', 'United Kingdom'), ('Zambia', 'Romania'), ('Zimbabwe', 'Netherlands'), ('Zimbabwe', 'Belgium'), ('Zimbabwe', 'Cyprus'), ('Zimbabwe', 'Czech Republic'), ('Zimbabwe', 'Denmark'), ('Zimbabwe', 'Estonia'), ('Zimbabwe', 'Germany'), ('Zimbabwe', 'Greece'), ('Zimbabwe', 'Malta'), ('Zimbabwe', 'Romania'), ('Zimbabwe', 'United Kingdom'), ('Zimbabwe', 'Croatia'), ('Zimbabwe', 'France'), ('Zimbabwe', 'Norway'), ('Zimbabwe', 'Spain'), ('Zimbabwe', 'Italy'), ('British Virgin Islands', 'Greece'), ('British Virgin Islands', 'France'), ('British Virgin Islands', 'Hungary'), ('British Virgin Islands', 'Slovenia'), ('British Virgin Islands', 'Malta'), ('British Virgin Islands', 'Netherlands'), ('Mongolia', 'Belgium'), ('Mongolia', 'Cyprus'), ('Mongolia', \"Côte d'Ivoire\"), ('Mongolia', 'France'), ('Mongolia', 'Germany'), ('Mongolia', 'Luxembourg'), ('Mongolia', 'Netherlands'), ('Mongolia', 'Spain'), ('Mongolia', 'Switzerland'), ('Mongolia', 'United Arab Emirates'), ('Mongolia', 'Italy'), ('Mongolia', 'Czech Republic'), ('Armenia', 'Belgium'), ('Armenia', 'Luxembourg'), ('Armenia', 'Netherlands'), ('Armenia', 'Germany'), ('Armenia', 'Italy'), ('Armenia', 'Slovakia'), ('Armenia', 'United States'), ('Armenia', 'Latvia'), ('Armenia', 'Spain'), ('Armenia', 'Cyprus'), ('Armenia', 'Greece'), ('Armenia', 'Poland'), ('Armenia', 'France'), ('Djibouti', 'Hungary'), ('Djibouti', 'Malta'), ('Central African Republic', 'Hungary'), ('Central African Republic', 'Estonia'), ('Central African Republic', 'Belgium'), ('Venezuela', 'Italy'), ('Venezuela', 'Portugal'), ('Venezuela', 'Spain'), ('Venezuela', 'Switzerland'), ('Venezuela', 'France'), ('Venezuela', 'Ireland'), ('Venezuela', 'Sweden'), ('Venezuela', 'Czech Republic'), ('Venezuela', 'United Kingdom'), ('Venezuela', 'Netherlands'), ('Laos', 'United Kingdom'), ('Laos', 'Norway'), ('Laos', 'Denmark'), ('Laos', 'Finland'), ('Laos', 'France'), ('Laos', 'Germany'), ('Laos', 'Netherlands'), ('Laos', 'Austria'), ('Laos', 'Vietnam'), ('Laos', 'Luxembourg'), ('Laos', 'Sweden'), ('Laos', 'Czech Republic'), ('Laos', 'Thailand'), ('Laos', 'Switzerland'), ('Laos', 'Belgium'), ('Laos', 'Cyprus'), ('Guadeloupe', 'Belgium'), ('Guadeloupe', 'Denmark'), ('Guadeloupe', 'Netherlands'), ('Guadeloupe', 'Cyprus'), ('Guadeloupe', 'France'), ('Guadeloupe', 'Spain'), ('Vanuatu', 'Denmark'), ('Vanuatu', 'Italy'), ('Vanuatu', 'Slovakia'), ('Vanuatu', 'Slovenia'), ('Nepal', 'United Kingdom'), ('Nepal', 'Belgium'), ('Nepal', 'Italy'), ('Nepal', 'Sweden'), ('Aruba', 'Romania'), ('Aruba', 'Belgium'), ('Aruba', 'Sweden'), ('Aruba', 'Germany'), ('Aruba', 'Netherlands'), ('Puerto Rico', 'Austria'), ('Puerto Rico', 'Germany'), ('Puerto Rico', 'Luxembourg'), ('Puerto Rico', 'Poland'), ('Puerto Rico', 'Portugal'), ('Puerto Rico', 'Spain'), ('Puerto Rico', 'Sweden'), ('Puerto Rico', 'Cyprus'), ('Puerto Rico', 'Switzerland'), ('Réunion', 'France'), ('Réunion', 'Italy'), ('Réunion', 'Spain'), ('Réunion', 'Belgium'), ('Réunion', 'Czech Republic'), ('Réunion', 'Germany'), ('Swaziland', 'Austria'), ('Swaziland', 'Germany'), ('Swaziland', 'Italy'), ('Swaziland', 'Luxembourg'), ('Swaziland', 'Slovenia'), ('Swaziland', 'Switzerland'), ('Swaziland', 'Spain'), ('Swaziland', 'Norway'), ('Comoros', 'Czech Republic'), ('Comoros', 'United Kingdom'), ('Comoros', 'Denmark'), ('Yemen', 'Spain'), ('Yemen', 'France'), ('Yemen', 'Netherlands'), ('Yemen', 'Italy'), ('Yemen', 'Estonia'), ('Yemen', 'United Kingdom'), ('Yemen', 'Greece'), ('Solomon Islands', 'Spain'), ('Malawi', 'France'), ('Malawi', 'Germany'), ('Malawi', 'Netherlands'), ('Malawi', 'Norway'), ('Malawi', 'Switzerland'), ('Malawi', 'Spain'), ('Malawi', 'United Kingdom'), ('Malawi', 'Italy'), ('Fiji', 'Malta'), ('Fiji', 'France'), ('Fiji', 'United Kingdom'), ('Fiji', 'Spain'), ('Fiji', 'Germany'), ('Turks and Caicos Islands', 'Gibraltar'), ('Turks and Caicos Islands', 'Spain'), ('Turks and Caicos Islands', 'United Kingdom'), ('Somalia', 'Germany'), ('Somalia', 'Netherlands'), ('Somalia', 'Spain'), ('Eritrea', 'Spain'), ('Eritrea', 'United Kingdom'), ('Tajikistan', 'Italy'), ('Tajikistan', 'Belgium'), ('Tajikistan', 'Slovakia'), ('Netherlands Antilles', 'Spain'), ('Netherlands Antilles', 'Germany'), ('Mayotte', 'Slovakia'), ('Mayotte', 'Slovenia'), ('Dominica', 'United Kingdom'), ('Guyana', 'Poland'), ('Guyana', 'Portugal'), ('North Korea', 'Latvia'), ('Tonga', 'United Kingdom'), ('Serbia and Montenegro', 'Hungary'), ('Serbia and Montenegro', 'Austria'), ('Serbia and Montenegro', 'Czech Republic'), ('Serbia and Montenegro', 'Denmark'), ('Serbia and Montenegro', 'Italy'), ('Serbia and Montenegro', 'Slovenia'), ('Serbia and Montenegro', 'Spain'), ('Serbia and Montenegro', 'Switzerland'), ('Serbia and Montenegro', 'United Kingdom'), ('Serbia and Montenegro', 'Greece'), ('Serbia and Montenegro', 'Sweden'), ('Serbia and Montenegro', 'Norway'), ('Serbia and Montenegro', 'France'), ('Botswana', 'Norway'), ('Botswana', 'Germany'), ('Botswana', 'Spain'), ('Botswana', 'United Kingdom'), ('Botswana', 'France')]\n"
     ]
    },
    {
     "data": {
      "text/plain": [
       "7092"
      ]
     },
     "execution_count": 14,
     "metadata": {},
     "output_type": "execute_result"
    }
   ],
   "source": [
    "print(G.edges())\n",
    "len(G.edges())"
   ]
  },
  {
   "cell_type": "code",
   "execution_count": 15,
   "metadata": {
    "ExecuteTime": {
     "end_time": "2019-12-10T13:44:35.206243Z",
     "start_time": "2019-12-10T13:44:35.198265Z"
    }
   },
   "outputs": [
    {
     "data": {
      "text/plain": [
       "False"
      ]
     },
     "execution_count": 15,
     "metadata": {},
     "output_type": "execute_result"
    }
   ],
   "source": [
    "nx.is_strongly_connected(G)"
   ]
  },
  {
   "cell_type": "code",
   "execution_count": 16,
   "metadata": {
    "ExecuteTime": {
     "end_time": "2019-12-10T13:44:35.590069Z",
     "start_time": "2019-12-10T13:44:35.584084Z"
    }
   },
   "outputs": [
    {
     "data": {
      "text/plain": [
       "True"
      ]
     },
     "execution_count": 16,
     "metadata": {},
     "output_type": "execute_result"
    }
   ],
   "source": [
    "nx.is_weakly_connected(G)"
   ]
  },
  {
   "cell_type": "code",
   "execution_count": 17,
   "metadata": {
    "ExecuteTime": {
     "end_time": "2019-12-10T13:44:36.261445Z",
     "start_time": "2019-12-10T13:44:36.253469Z"
    }
   },
   "outputs": [
    {
     "name": "stdout",
     "output_type": "stream",
     "text": [
      "('Romania', 167)\n",
      "('France', 328)\n",
      "('Belgium', 311)\n",
      "('Germany', 285)\n",
      "('Denmark', 235)\n",
      "('Croatia', 155)\n",
      "('Poland', 242)\n",
      "('Italy', 296)\n",
      "('Andorra', 97)\n",
      "('Spain', 298)\n",
      "('Turkey', 134)\n",
      "('Ukraine', 126)\n",
      "('Vietnam', 85)\n",
      "('Netherlands', 334)\n",
      "('United States', 203)\n",
      "('Bulgaria', 157)\n",
      "('Estonia', 152)\n",
      "('Finland', 206)\n",
      "('Slovakia', 183)\n",
      "('China', 187)\n",
      "('Czech Republic', 202)\n",
      "('Sweden', 201)\n",
      "('Thailand', 92)\n",
      "('United Kingdom', 307)\n",
      "('India', 149)\n",
      "('Norway', 192)\n",
      "('Philippines', 67)\n",
      "('Austria', 194)\n",
      "('Slovenia', 175)\n",
      "('Canada', 127)\n",
      "('Greenland', 36)\n",
      "('Brazil', 74)\n",
      "('Uruguay', 51)\n",
      "('San Marino', 65)\n",
      "('New Zealand', 67)\n",
      "('Luxembourg', 161)\n",
      "('Antigua and Barbuda', 10)\n",
      "('Bahamas', 29)\n",
      "('Ghana', 62)\n",
      "('Guernsey', 64)\n",
      "('Jersey', 35)\n",
      "('Mauritius', 50)\n",
      "('United Arab Emirates', 174)\n",
      "('Azerbaijan', 49)\n",
      "('Georgia', 57)\n",
      "('Uganda', 39)\n",
      "('Hungary', 247)\n",
      "('Sudan', 30)\n",
      "('Greece', 184)\n",
      "('Egypt', 95)\n",
      "('Switzerland', 199)\n",
      "('Ecuador', 42)\n",
      "('Portugal', 201)\n",
      "('Lithuania', 145)\n",
      "('Myanmar', 23)\n",
      "('Morocco', 86)\n",
      "('Mauritania', 22)\n",
      "('South Korea', 82)\n",
      "('Latvia', 144)\n",
      "('Ireland', 204)\n",
      "('Taiwan', 87)\n",
      "('South Africa', 74)\n",
      "('Malta', 168)\n",
      "('Kenya', 63)\n",
      "('Argentina', 65)\n",
      "('Lebanon', 70)\n",
      "('Chile', 71)\n",
      "('Hong Kong', 165)\n",
      "('Nigeria', 67)\n",
      "('Panama', 41)\n",
      "('Bolivia', 31)\n",
      "('Bahrain', 42)\n",
      "('Israel', 101)\n",
      "('Kazakhstan', 39)\n",
      "('Russia', 119)\n",
      "('Monaco', 60)\n",
      "('Pakistan', 67)\n",
      "('Dominican Republic', 37)\n",
      "('Grenada', 8)\n",
      "('El Salvador', 4)\n",
      "('Honduras', 20)\n",
      "('Iceland', 119)\n",
      "('Namibia', 32)\n",
      "('Gibraltar', 84)\n",
      "('Isle of Man', 28)\n",
      "('Belarus', 93)\n",
      "('Serbia', 100)\n",
      "(\"Côte d'Ivoire\", 32)\n",
      "('Iran', 83)\n",
      "('Bermuda', 40)\n",
      "('Cayman Islands', 18)\n",
      "('Malaysia', 65)\n",
      "('Faeroe Islands', 46)\n",
      "('Albania', 89)\n",
      "('Senegal', 39)\n",
      "('Peru', 78)\n",
      "('Australia', 82)\n",
      "('Cyprus', 166)\n",
      "('Tunisia', 70)\n",
      "('Congo', 33)\n",
      "('Gabon', 17)\n",
      "('Japan', 141)\n",
      "('Seychelles', 25)\n",
      "('Togo', 27)\n",
      "('Algeria', 41)\n",
      "('Suriname', 32)\n",
      "('Uzbekistan', 45)\n",
      "('Bangladesh', 37)\n",
      "('Jordan', 53)\n",
      "('Ethiopia', 22)\n",
      "('Montenegro', 69)\n",
      "('Angola', 36)\n",
      "('Indonesia', 83)\n",
      "('Saudi Arabia', 53)\n",
      "('Singapore', 86)\n",
      "('Kosovo', 57)\n",
      "('Kuwait', 41)\n",
      "('Qatar', 41)\n",
      "('Democratic Republic of the Congo', 49)\n",
      "('Colombia', 48)\n",
      "('Sri Lanka', 44)\n",
      "('Mexico', 95)\n",
      "('Republic of North Macedonia', 71)\n",
      "('Iraq', 24)\n",
      "('French Polynesia', 19)\n",
      "('Moldova', 86)\n",
      "('New Caledonia', 18)\n",
      "('Saint Pierre and Miquelon', 3)\n",
      "('Oman', 33)\n",
      "('Curaçao', 11)\n",
      "('Saint Helena', 14)\n",
      "('Syria', 46)\n",
      "('Burkina Faso', 29)\n",
      "('Guatemala', 27)\n",
      "('Benin', 14)\n",
      "('Bosnia and Herzegovina', 90)\n",
      "('Madagascar', 29)\n",
      "('Papua New Guinea', 7)\n",
      "('West Bank and Gaza Strip', 9)\n",
      "('Maldives', 26)\n",
      "('Saint Barthélemy', 5)\n",
      "('Niger', 15)\n",
      "('Libya', 13)\n",
      "('Liechtenstein', 49)\n",
      "('Kyrgyzstan', 12)\n",
      "('Brunei', 18)\n",
      "('Macao', 8)\n",
      "('Sint Maarten', 7)\n",
      "('Barbados', 32)\n",
      "('Guinea', 22)\n",
      "('Costa Rica', 31)\n",
      "('Nicaragua', 12)\n",
      "('Cape Verde', 32)\n",
      "('Falkland Islands', 16)\n",
      "('Haiti', 12)\n",
      "('Jamaica', 11)\n",
      "('Saint Kitts and Nevis', 6)\n",
      "('Saint Lucia', 6)\n",
      "('Saint Martin', 9)\n",
      "('Saint Vincent and the Grenadines', 2)\n",
      "('Paraguay', 19)\n",
      "('Chad', 7)\n",
      "('Tanzania', 25)\n",
      "('Afghanistan', 31)\n",
      "('Vatican City', 30)\n",
      "('Belize', 42)\n",
      "('Cuba', 21)\n",
      "('Martinique', 17)\n",
      "('Equatorial Guinea', 10)\n",
      "('São Tomé and Príncipe', 1)\n",
      "('Mozambique', 14)\n",
      "('Norfolk Island', 23)\n",
      "('Åland Islands', 3)\n",
      "('Trinidad and Tobago', 14)\n",
      "('Burundi', 13)\n",
      "('Rwanda', 11)\n",
      "('East Timor', 1)\n",
      "('Gambia', 36)\n",
      "('Liberia', 14)\n",
      "('Marshall Islands', 8)\n",
      "('Cambodia', 30)\n",
      "('Sierra Leone', 18)\n",
      "('Mali', 22)\n",
      "('Cameroon', 32)\n",
      "('Zambia', 9)\n",
      "('Zimbabwe', 19)\n",
      "('British Virgin Islands', 13)\n",
      "('Mongolia', 21)\n",
      "('Armenia', 22)\n",
      "('Djibouti', 7)\n",
      "('Turkmenistan', 61)\n",
      "('Central African Republic', 8)\n",
      "('Venezuela', 21)\n",
      "('Laos', 17)\n",
      "('Guadeloupe', 28)\n",
      "('Vanuatu', 6)\n",
      "('Nepal', 8)\n",
      "('Aruba', 10)\n",
      "('Puerto Rico', 11)\n",
      "('Réunion', 20)\n",
      "('US Virgin Islands', 1)\n",
      "('Swaziland', 26)\n",
      "('Comoros', 5)\n",
      "('Yemen', 15)\n",
      "('Solomon Islands', 1)\n",
      "('Malawi', 8)\n",
      "('Fiji', 5)\n",
      "('Turks and Caicos Islands', 5)\n",
      "('Somalia', 6)\n",
      "('Eritrea', 3)\n",
      "('Tajikistan', 5)\n",
      "('Netherlands Antilles', 7)\n",
      "('Anguilla', 2)\n",
      "('Mayotte', 6)\n",
      "('Dominica', 2)\n",
      "('French Guiana', 2)\n",
      "('Guyana', 4)\n",
      "('North Korea', 1)\n",
      "('Wallis and Futuna', 1)\n",
      "('Tonga', 1)\n",
      "('Serbia and Montenegro', 24)\n",
      "('Botswana', 5)\n"
     ]
    }
   ],
   "source": [
    "for i in G.degree():\n",
    "    print(i)"
   ]
  },
  {
   "cell_type": "code",
   "execution_count": 18,
   "metadata": {
    "ExecuteTime": {
     "end_time": "2019-12-10T13:44:39.905985Z",
     "start_time": "2019-12-10T13:44:39.901968Z"
    }
   },
   "outputs": [
    {
     "data": {
      "text/plain": [
       "0.14455179161061513"
      ]
     },
     "execution_count": 18,
     "metadata": {},
     "output_type": "execute_result"
    }
   ],
   "source": [
    "nx.density(G)"
   ]
  },
  {
   "cell_type": "code",
   "execution_count": null,
   "metadata": {},
   "outputs": [],
   "source": [
    "# Si es strongly conected\n",
    "nx.diameter(G)"
   ]
  },
  {
   "cell_type": "code",
   "execution_count": 19,
   "metadata": {
    "ExecuteTime": {
     "end_time": "2019-12-10T13:45:19.849897Z",
     "start_time": "2019-12-10T13:45:19.839937Z"
    }
   },
   "outputs": [
    {
     "name": "stdout",
     "output_type": "stream",
     "text": [
      "São Tomé and Príncipe: 0.004524886877828055\n",
      "East Timor: 0.004524886877828055\n",
      "US Virgin Islands: 0.004524886877828055\n",
      "Solomon Islands: 0.004524886877828055\n",
      "North Korea: 0.004524886877828055\n",
      "Wallis and Futuna: 0.004524886877828055\n",
      "Tonga: 0.004524886877828055\n",
      "Saint Vincent and the Grenadines: 0.00904977375565611\n",
      "Anguilla: 0.00904977375565611\n",
      "Dominica: 0.00904977375565611\n",
      "French Guiana: 0.00904977375565611\n",
      "Saint Pierre and Miquelon: 0.013574660633484163\n",
      "Åland Islands: 0.013574660633484163\n",
      "Eritrea: 0.013574660633484163\n",
      "El Salvador: 0.01809954751131222\n",
      "Guyana: 0.01809954751131222\n",
      "Saint Barthélemy: 0.022624434389140274\n",
      "Comoros: 0.022624434389140274\n",
      "Fiji: 0.022624434389140274\n",
      "Turks and Caicos Islands: 0.022624434389140274\n",
      "Tajikistan: 0.022624434389140274\n",
      "Botswana: 0.022624434389140274\n",
      "Saint Kitts and Nevis: 0.027149321266968326\n",
      "Saint Lucia: 0.027149321266968326\n",
      "Vanuatu: 0.027149321266968326\n",
      "Somalia: 0.027149321266968326\n",
      "Mayotte: 0.027149321266968326\n",
      "Papua New Guinea: 0.031674208144796386\n",
      "Sint Maarten: 0.031674208144796386\n",
      "Chad: 0.031674208144796386\n",
      "Djibouti: 0.031674208144796386\n",
      "Netherlands Antilles: 0.031674208144796386\n",
      "Grenada: 0.03619909502262444\n",
      "Macao: 0.03619909502262444\n",
      "Marshall Islands: 0.03619909502262444\n",
      "Central African Republic: 0.03619909502262444\n",
      "Nepal: 0.03619909502262444\n",
      "Malawi: 0.03619909502262444\n",
      "West Bank and Gaza Strip: 0.04072398190045249\n",
      "Saint Martin: 0.04072398190045249\n",
      "Zambia: 0.04072398190045249\n",
      "Antigua and Barbuda: 0.04524886877828055\n",
      "Equatorial Guinea: 0.04524886877828055\n",
      "Aruba: 0.04524886877828055\n",
      "Curaçao: 0.0497737556561086\n",
      "Jamaica: 0.0497737556561086\n",
      "Rwanda: 0.0497737556561086\n",
      "Puerto Rico: 0.0497737556561086\n",
      "Kyrgyzstan: 0.05429864253393665\n",
      "Nicaragua: 0.05429864253393665\n",
      "Haiti: 0.05429864253393665\n",
      "Libya: 0.05882352941176471\n",
      "Burundi: 0.05882352941176471\n",
      "British Virgin Islands: 0.05882352941176471\n",
      "Saint Helena: 0.06334841628959277\n",
      "Benin: 0.06334841628959277\n",
      "Mozambique: 0.06334841628959277\n",
      "Trinidad and Tobago: 0.06334841628959277\n",
      "Liberia: 0.06334841628959277\n",
      "Niger: 0.06787330316742082\n",
      "Yemen: 0.06787330316742082\n",
      "Falkland Islands: 0.07239819004524888\n",
      "Gabon: 0.07692307692307693\n",
      "Martinique: 0.07692307692307693\n",
      "Laos: 0.07692307692307693\n",
      "Cayman Islands: 0.08144796380090498\n",
      "New Caledonia: 0.08144796380090498\n",
      "Brunei: 0.08144796380090498\n",
      "Sierra Leone: 0.08144796380090498\n",
      "French Polynesia: 0.08597285067873305\n",
      "Paraguay: 0.08597285067873305\n",
      "Zimbabwe: 0.08597285067873305\n",
      "Honduras: 0.0904977375565611\n",
      "Réunion: 0.0904977375565611\n",
      "Cuba: 0.09502262443438915\n",
      "Mongolia: 0.09502262443438915\n",
      "Venezuela: 0.09502262443438915\n",
      "Mauritania: 0.0995475113122172\n",
      "Ethiopia: 0.0995475113122172\n",
      "Guinea: 0.0995475113122172\n",
      "Mali: 0.0995475113122172\n",
      "Armenia: 0.0995475113122172\n",
      "Myanmar: 0.10407239819004525\n",
      "Norfolk Island: 0.10407239819004525\n",
      "Iraq: 0.1085972850678733\n",
      "Serbia and Montenegro: 0.1085972850678733\n",
      "Seychelles: 0.11312217194570137\n",
      "Tanzania: 0.11312217194570137\n",
      "Maldives: 0.11764705882352942\n",
      "Swaziland: 0.11764705882352942\n",
      "Togo: 0.12217194570135748\n",
      "Guatemala: 0.12217194570135748\n",
      "Isle of Man: 0.12669683257918554\n",
      "Guadeloupe: 0.12669683257918554\n",
      "Bahamas: 0.13122171945701358\n",
      "Burkina Faso: 0.13122171945701358\n",
      "Madagascar: 0.13122171945701358\n",
      "Sudan: 0.13574660633484165\n",
      "Vatican City: 0.13574660633484165\n",
      "Cambodia: 0.13574660633484165\n",
      "Bolivia: 0.14027149321266968\n",
      "Costa Rica: 0.14027149321266968\n",
      "Afghanistan: 0.14027149321266968\n",
      "Namibia: 0.14479638009049775\n",
      "Côte d'Ivoire: 0.14479638009049775\n",
      "Suriname: 0.14479638009049775\n",
      "Barbados: 0.14479638009049775\n",
      "Cape Verde: 0.14479638009049775\n",
      "Cameroon: 0.14479638009049775\n",
      "Congo: 0.14932126696832582\n",
      "Oman: 0.14932126696832582\n",
      "Jersey: 0.15837104072398192\n",
      "Greenland: 0.16289592760180996\n",
      "Angola: 0.16289592760180996\n",
      "Gambia: 0.16289592760180996\n",
      "Dominican Republic: 0.16742081447963802\n",
      "Bangladesh: 0.16742081447963802\n",
      "Uganda: 0.17647058823529413\n",
      "Kazakhstan: 0.17647058823529413\n",
      "Senegal: 0.17647058823529413\n",
      "Bermuda: 0.1809954751131222\n",
      "Panama: 0.18552036199095023\n",
      "Algeria: 0.18552036199095023\n",
      "Kuwait: 0.18552036199095023\n",
      "Qatar: 0.18552036199095023\n",
      "Ecuador: 0.1900452488687783\n",
      "Bahrain: 0.1900452488687783\n",
      "Belize: 0.1900452488687783\n",
      "Sri Lanka: 0.1990950226244344\n",
      "Uzbekistan: 0.20361990950226247\n",
      "Faeroe Islands: 0.2081447963800905\n",
      "Syria: 0.2081447963800905\n",
      "Colombia: 0.2171945701357466\n",
      "Azerbaijan: 0.22171945701357468\n",
      "Democratic Republic of the Congo: 0.22171945701357468\n",
      "Liechtenstein: 0.22171945701357468\n",
      "Mauritius: 0.22624434389140274\n",
      "Uruguay: 0.23076923076923078\n",
      "Jordan: 0.2398190045248869\n",
      "Saudi Arabia: 0.2398190045248869\n",
      "Georgia: 0.2579185520361991\n",
      "Kosovo: 0.2579185520361991\n",
      "Monaco: 0.2714932126696833\n",
      "Turkmenistan: 0.27601809954751133\n",
      "Ghana: 0.28054298642533937\n",
      "Kenya: 0.28506787330316746\n",
      "Guernsey: 0.2895927601809955\n",
      "San Marino: 0.29411764705882354\n",
      "Argentina: 0.29411764705882354\n",
      "Malaysia: 0.29411764705882354\n",
      "Philippines: 0.30316742081447967\n",
      "New Zealand: 0.30316742081447967\n",
      "Nigeria: 0.30316742081447967\n",
      "Pakistan: 0.30316742081447967\n",
      "Montenegro: 0.31221719457013575\n",
      "Lebanon: 0.31674208144796384\n",
      "Tunisia: 0.31674208144796384\n",
      "Chile: 0.3212669683257919\n",
      "Republic of North Macedonia: 0.3212669683257919\n",
      "Brazil: 0.33484162895927605\n",
      "South Africa: 0.33484162895927605\n",
      "Peru: 0.35294117647058826\n",
      "South Korea: 0.37104072398190047\n",
      "Australia: 0.37104072398190047\n",
      "Iran: 0.37556561085972856\n",
      "Indonesia: 0.37556561085972856\n",
      "Gibraltar: 0.3800904977375566\n",
      "Vietnam: 0.38461538461538464\n",
      "Morocco: 0.38914027149321273\n",
      "Singapore: 0.38914027149321273\n",
      "Moldova: 0.38914027149321273\n",
      "Taiwan: 0.39366515837104077\n",
      "Albania: 0.40271493212669685\n",
      "Bosnia and Herzegovina: 0.40723981900452494\n",
      "Thailand: 0.416289592760181\n",
      "Belarus: 0.4208144796380091\n",
      "Egypt: 0.4298642533936652\n",
      "Mexico: 0.4298642533936652\n",
      "Andorra: 0.4389140271493213\n",
      "Serbia: 0.4524886877828055\n",
      "Israel: 0.4570135746606335\n",
      "Russia: 0.5384615384615385\n",
      "Iceland: 0.5384615384615385\n",
      "Ukraine: 0.5701357466063349\n",
      "Canada: 0.574660633484163\n",
      "Turkey: 0.6063348416289593\n",
      "Japan: 0.6380090497737557\n",
      "Latvia: 0.6515837104072398\n",
      "Lithuania: 0.656108597285068\n",
      "India: 0.6742081447963801\n",
      "Estonia: 0.6877828054298644\n",
      "Croatia: 0.7013574660633485\n",
      "Bulgaria: 0.7104072398190046\n",
      "Luxembourg: 0.7285067873303168\n",
      "Hong Kong: 0.746606334841629\n",
      "Cyprus: 0.7511312217194571\n",
      "Romania: 0.7556561085972852\n",
      "Malta: 0.7601809954751132\n",
      "United Arab Emirates: 0.7873303167420815\n",
      "Slovenia: 0.7918552036199096\n",
      "Slovakia: 0.828054298642534\n",
      "Greece: 0.832579185520362\n",
      "China: 0.8461538461538463\n",
      "Norway: 0.8687782805429864\n",
      "Austria: 0.8778280542986426\n",
      "Switzerland: 0.9004524886877829\n",
      "Sweden: 0.909502262443439\n",
      "Portugal: 0.909502262443439\n",
      "Czech Republic: 0.914027149321267\n",
      "United States: 0.9185520361990951\n",
      "Ireland: 0.9230769230769231\n",
      "Finland: 0.9321266968325793\n",
      "Denmark: 1.0633484162895928\n",
      "Poland: 1.0950226244343892\n",
      "Hungary: 1.1176470588235294\n",
      "Germany: 1.2895927601809956\n",
      "Italy: 1.3393665158371042\n",
      "Spain: 1.3484162895927603\n",
      "United Kingdom: 1.3891402714932128\n",
      "Belgium: 1.407239819004525\n",
      "France: 1.4841628959276019\n",
      "Netherlands: 1.5113122171945703\n"
     ]
    }
   ],
   "source": [
    "degree_centrality = nx.degree_centrality(G)\n",
    "for key, value in sorted(degree_centrality.items(), key=lambda item: item[1]):\n",
    "    print(\"%s: %s\" % (key, value))"
   ]
  },
  {
   "cell_type": "code",
   "execution_count": 27,
   "metadata": {
    "ExecuteTime": {
     "end_time": "2019-12-10T13:50:00.279610Z",
     "start_time": "2019-12-10T13:50:00.271659Z"
    }
   },
   "outputs": [
    {
     "name": "stdout",
     "output_type": "stream",
     "text": [
      "Netherlands: 0.7647058823529412\n",
      "Spain: 0.7511312217194571\n",
      "France: 0.7285067873303168\n",
      "United Kingdom: 0.6968325791855204\n",
      "Italy: 0.6923076923076924\n",
      "Belgium: 0.6877828054298644\n",
      "Germany: 0.6877828054298644\n",
      "Hungary: 0.6063348416289593\n",
      "Portugal: 0.5701357466063349\n",
      "Denmark: 0.5475113122171946\n",
      "Sweden: 0.5429864253393666\n",
      "Czech Republic: 0.5294117647058824\n",
      "Slovenia: 0.5248868778280543\n",
      "Switzerland: 0.5203619909502263\n",
      "Greece: 0.5158371040723982\n",
      "Finland: 0.5113122171945702\n",
      "United Arab Emirates: 0.5113122171945702\n",
      "Slovakia: 0.5067873303167422\n",
      "Austria: 0.5067873303167422\n",
      "Ireland: 0.5067873303167422\n",
      "Poland: 0.49321266968325794\n",
      "Norway: 0.4886877828054299\n",
      "Cyprus: 0.4796380090497738\n",
      "Luxembourg: 0.4705882352941177\n",
      "Malta: 0.4479638009049774\n",
      "Croatia: 0.44343891402714936\n",
      "Estonia: 0.44343891402714936\n",
      "Romania: 0.416289592760181\n",
      "United States: 0.39366515837104077\n",
      "Bulgaria: 0.39366515837104077\n",
      "Lithuania: 0.3800904977375566\n",
      "Latvia: 0.37556561085972856\n",
      "Russia: 0.33484162895927605\n",
      "Iceland: 0.3257918552036199\n",
      "Hong Kong: 0.31674208144796384\n",
      "Andorra: 0.29864253393665163\n",
      "Ukraine: 0.29411764705882354\n",
      "Turkmenistan: 0.27601809954751133\n",
      "Turkey: 0.26244343891402716\n",
      "Belarus: 0.26244343891402716\n",
      "Bosnia and Herzegovina: 0.2579185520361991\n",
      "Canada: 0.24886877828054302\n",
      "Gibraltar: 0.2398190045248869\n",
      "Montenegro: 0.2398190045248869\n",
      "Moldova: 0.23529411764705885\n",
      "China: 0.22624434389140274\n",
      "Guernsey: 0.22624434389140274\n",
      "Israel: 0.22171945701357468\n",
      "Albania: 0.22171945701357468\n",
      "Mexico: 0.21266968325791857\n",
      "Taiwan: 0.2081447963800905\n",
      "Republic of North Macedonia: 0.20361990950226247\n",
      "Lebanon: 0.19457013574660637\n",
      "Serbia: 0.19457013574660637\n",
      "Monaco: 0.1900452488687783\n",
      "Singapore: 0.1900452488687783\n",
      "India: 0.1809954751131222\n",
      "Kosovo: 0.17647058823529413\n",
      "New Zealand: 0.1719457013574661\n",
      "Iran: 0.1719457013574661\n",
      "Australia: 0.1719457013574661\n",
      "Morocco: 0.16289592760180996\n",
      "Japan: 0.16289592760180996\n",
      "Liechtenstein: 0.16289592760180996\n",
      "Egypt: 0.15837104072398192\n",
      "Thailand: 0.15384615384615385\n",
      "Tunisia: 0.14932126696832582\n",
      "Chile: 0.13574660633484165\n",
      "Vietnam: 0.13122171945701358\n",
      "Vatican City: 0.13122171945701358\n",
      "South Korea: 0.12669683257918554\n",
      "Indonesia: 0.12669683257918554\n",
      "South Africa: 0.12217194570135748\n",
      "Qatar: 0.12217194570135748\n",
      "Faeroe Islands: 0.11764705882352942\n",
      "Kuwait: 0.11764705882352942\n",
      "Philippines: 0.11312217194570137\n",
      "Brazil: 0.11312217194570137\n",
      "San Marino: 0.11312217194570137\n",
      "Saudi Arabia: 0.11312217194570137\n",
      "Belize: 0.11312217194570137\n",
      "Ghana: 0.1085972850678733\n",
      "Nigeria: 0.1085972850678733\n",
      "Peru: 0.1085972850678733\n",
      "Democratic Republic of the Congo: 0.1085972850678733\n",
      "Georgia: 0.10407239819004525\n",
      "Pakistan: 0.10407239819004525\n",
      "Malaysia: 0.10407239819004525\n",
      "Algeria: 0.10407239819004525\n",
      "Jordan: 0.10407239819004525\n",
      "Norfolk Island: 0.10407239819004525\n",
      "Azerbaijan: 0.0995475113122172\n",
      "Barbados: 0.0995475113122172\n",
      "Guadeloupe: 0.0995475113122172\n",
      "Greenland: 0.09502262443438915\n",
      "Bahrain: 0.09502262443438915\n",
      "Dominican Republic: 0.0904977375565611\n",
      "Mauritius: 0.08597285067873305\n",
      "Kenya: 0.08597285067873305\n",
      "Jersey: 0.08144796380090498\n",
      "Argentina: 0.08144796380090498\n",
      "Panama: 0.08144796380090498\n",
      "Kazakhstan: 0.08144796380090498\n",
      "Swaziland: 0.08144796380090498\n",
      "Suriname: 0.07692307692307693\n",
      "Martinique: 0.07692307692307693\n",
      "Angola: 0.07239819004524888\n",
      "Bermuda: 0.06787330316742082\n",
      "Congo: 0.06787330316742082\n",
      "Iraq: 0.06787330316742082\n",
      "Gambia: 0.06787330316742082\n",
      "Uruguay: 0.06334841628959277\n",
      "Namibia: 0.06334841628959277\n",
      "Oman: 0.06334841628959277\n",
      "Réunion: 0.06334841628959277\n",
      "Côte d'Ivoire: 0.05882352941176471\n",
      "Syria: 0.05882352941176471\n",
      "Cameroon: 0.05882352941176471\n",
      "Sri Lanka: 0.05429864253393665\n",
      "Costa Rica: 0.05429864253393665\n",
      "Senegal: 0.0497737556561086\n",
      "Gabon: 0.0497737556561086\n",
      "Cambodia: 0.0497737556561086\n",
      "Venezuela: 0.0497737556561086\n",
      "Serbia and Montenegro: 0.0497737556561086\n",
      "Isle of Man: 0.04524886877828055\n",
      "Seychelles: 0.04524886877828055\n",
      "French Polynesia: 0.04524886877828055\n",
      "Cape Verde: 0.04524886877828055\n",
      "Mali: 0.04524886877828055\n",
      "Ecuador: 0.04072398190045249\n",
      "Bangladesh: 0.04072398190045249\n",
      "Ethiopia: 0.04072398190045249\n",
      "Colombia: 0.04072398190045249\n",
      "New Caledonia: 0.04072398190045249\n",
      "Curaçao: 0.04072398190045249\n",
      "Maldives: 0.04072398190045249\n",
      "Afghanistan: 0.04072398190045249\n",
      "Sierra Leone: 0.04072398190045249\n",
      "Mongolia: 0.04072398190045249\n",
      "Armenia: 0.04072398190045249\n",
      "Sudan: 0.03619909502262444\n",
      "Honduras: 0.03619909502262444\n",
      "Uzbekistan: 0.03619909502262444\n",
      "Benin: 0.03619909502262444\n",
      "Guinea: 0.03619909502262444\n",
      "Cuba: 0.03619909502262444\n",
      "Yemen: 0.03619909502262444\n",
      "Bahamas: 0.031674208144796386\n",
      "Mauritania: 0.031674208144796386\n",
      "Togo: 0.031674208144796386\n",
      "Libya: 0.031674208144796386\n",
      "Trinidad and Tobago: 0.031674208144796386\n",
      "Liberia: 0.031674208144796386\n",
      "British Virgin Islands: 0.031674208144796386\n",
      "Burkina Faso: 0.027149321266968326\n",
      "Madagascar: 0.027149321266968326\n",
      "Tanzania: 0.027149321266968326\n",
      "Equatorial Guinea: 0.027149321266968326\n",
      "Burundi: 0.027149321266968326\n",
      "Rwanda: 0.027149321266968326\n",
      "Uganda: 0.022624434389140274\n",
      "Myanmar: 0.022624434389140274\n",
      "Cayman Islands: 0.022624434389140274\n",
      "Saint Barthélemy: 0.022624434389140274\n",
      "Macao: 0.022624434389140274\n",
      "Sint Maarten: 0.022624434389140274\n",
      "Haiti: 0.022624434389140274\n",
      "Zambia: 0.022624434389140274\n",
      "Djibouti: 0.022624434389140274\n",
      "Central African Republic: 0.022624434389140274\n",
      "Aruba: 0.022624434389140274\n",
      "Netherlands Antilles: 0.022624434389140274\n",
      "Antigua and Barbuda: 0.01809954751131222\n",
      "Saint Helena: 0.01809954751131222\n",
      "Niger: 0.01809954751131222\n",
      "Brunei: 0.01809954751131222\n",
      "Saint Martin: 0.01809954751131222\n",
      "Paraguay: 0.01809954751131222\n",
      "Marshall Islands: 0.01809954751131222\n",
      "Nepal: 0.01809954751131222\n",
      "Mayotte: 0.01809954751131222\n",
      "Bolivia: 0.013574660633484163\n",
      "Guatemala: 0.013574660633484163\n",
      "Kyrgyzstan: 0.013574660633484163\n",
      "Falkland Islands: 0.013574660633484163\n",
      "Jamaica: 0.013574660633484163\n",
      "Chad: 0.013574660633484163\n",
      "Mozambique: 0.013574660633484163\n",
      "Åland Islands: 0.013574660633484163\n",
      "Zimbabwe: 0.013574660633484163\n",
      "Somalia: 0.013574660633484163\n",
      "Grenada: 0.00904977375565611\n",
      "Saint Pierre and Miquelon: 0.00904977375565611\n",
      "West Bank and Gaza Strip: 0.00904977375565611\n",
      "Nicaragua: 0.00904977375565611\n",
      "Saint Kitts and Nevis: 0.00904977375565611\n",
      "Saint Lucia: 0.00904977375565611\n",
      "Vanuatu: 0.00904977375565611\n",
      "Puerto Rico: 0.00904977375565611\n",
      "Comoros: 0.00904977375565611\n",
      "Turks and Caicos Islands: 0.00904977375565611\n",
      "Tajikistan: 0.00904977375565611\n",
      "Anguilla: 0.00904977375565611\n",
      "French Guiana: 0.00904977375565611\n",
      "Guyana: 0.00904977375565611\n",
      "El Salvador: 0.004524886877828055\n",
      "Saint Vincent and the Grenadines: 0.004524886877828055\n",
      "São Tomé and Príncipe: 0.004524886877828055\n",
      "East Timor: 0.004524886877828055\n",
      "Laos: 0.004524886877828055\n",
      "US Virgin Islands: 0.004524886877828055\n",
      "Eritrea: 0.004524886877828055\n",
      "Dominica: 0.004524886877828055\n",
      "Wallis and Futuna: 0.004524886877828055\n",
      "Papua New Guinea: 0.0\n",
      "Solomon Islands: 0.0\n",
      "Malawi: 0.0\n",
      "Fiji: 0.0\n",
      "North Korea: 0.0\n",
      "Tonga: 0.0\n",
      "Botswana: 0.0\n"
     ]
    }
   ],
   "source": [
    "degree_centrality = nx.in_degree_centrality(G)\n",
    "for key, value in sorted(degree_centrality.items(), key=lambda item: item[1], reverse = True):\n",
    "    print(\"%s: %s\" % (key, value))"
   ]
  },
  {
   "cell_type": "code",
   "execution_count": 30,
   "metadata": {
    "ExecuteTime": {
     "end_time": "2019-12-10T13:53:22.503354Z",
     "start_time": "2019-12-10T13:53:22.494378Z"
    }
   },
   "outputs": [
    {
     "name": "stdout",
     "output_type": "stream",
     "text": [
      "France: 0.7556561085972852\n",
      "Netherlands: 0.746606334841629\n",
      "Belgium: 0.7194570135746607\n",
      "United Kingdom: 0.6923076923076924\n",
      "Italy: 0.6470588235294118\n",
      "China: 0.6199095022624435\n",
      "Germany: 0.6018099547511313\n",
      "Poland: 0.6018099547511313\n",
      "Spain: 0.5972850678733033\n",
      "United States: 0.5248868778280543\n",
      "Denmark: 0.5158371040723982\n",
      "Hungary: 0.5113122171945702\n",
      "India: 0.49321266968325794\n",
      "Japan: 0.47511312217194573\n",
      "Hong Kong: 0.4298642533936652\n",
      "Finland: 0.4208144796380091\n",
      "Ireland: 0.416289592760181\n",
      "Czech Republic: 0.38461538461538464\n",
      "Norway: 0.3800904977375566\n",
      "Switzerland: 0.3800904977375566\n",
      "Austria: 0.37104072398190047\n",
      "Sweden: 0.36651583710407243\n",
      "Turkey: 0.3438914027149322\n",
      "Romania: 0.3393665158371041\n",
      "Portugal: 0.3393665158371041\n",
      "Canada: 0.3257918552036199\n",
      "Slovakia: 0.3212669683257919\n",
      "Bulgaria: 0.31674208144796384\n",
      "Greece: 0.31674208144796384\n",
      "Malta: 0.31221719457013575\n",
      "Ukraine: 0.27601809954751133\n",
      "United Arab Emirates: 0.27601809954751133\n",
      "Lithuania: 0.27601809954751133\n",
      "Latvia: 0.27601809954751133\n",
      "Egypt: 0.2714932126696833\n",
      "Cyprus: 0.2714932126696833\n",
      "Slovenia: 0.26696832579185525\n",
      "Thailand: 0.26244343891402716\n",
      "Croatia: 0.2579185520361991\n",
      "Luxembourg: 0.2579185520361991\n",
      "Serbia: 0.2579185520361991\n",
      "Vietnam: 0.2533936651583711\n",
      "Indonesia: 0.24886877828054302\n",
      "Estonia: 0.24434389140271495\n",
      "South Korea: 0.24434389140271495\n",
      "Peru: 0.24434389140271495\n",
      "Israel: 0.23529411764705885\n",
      "Morocco: 0.22624434389140274\n",
      "Brazil: 0.22171945701357468\n",
      "Mexico: 0.2171945701357466\n",
      "South Africa: 0.21266968325791857\n",
      "Argentina: 0.21266968325791857\n",
      "Iceland: 0.21266968325791857\n",
      "Russia: 0.20361990950226247\n",
      "Iran: 0.20361990950226247\n",
      "Kenya: 0.1990950226244344\n",
      "Pakistan: 0.1990950226244344\n",
      "Australia: 0.1990950226244344\n",
      "Singapore: 0.1990950226244344\n",
      "Nigeria: 0.19457013574660637\n",
      "Philippines: 0.1900452488687783\n",
      "Malaysia: 0.1900452488687783\n",
      "Taiwan: 0.18552036199095023\n",
      "Chile: 0.18552036199095023\n",
      "San Marino: 0.1809954751131222\n",
      "Albania: 0.1809954751131222\n",
      "Colombia: 0.17647058823529413\n",
      "Ghana: 0.1719457013574661\n",
      "Uruguay: 0.16742081447963802\n",
      "Tunisia: 0.16742081447963802\n",
      "Uzbekistan: 0.16742081447963802\n",
      "Belarus: 0.15837104072398192\n",
      "Georgia: 0.15384615384615385\n",
      "Uganda: 0.15384615384615385\n",
      "Moldova: 0.15384615384615385\n",
      "Ecuador: 0.14932126696832582\n",
      "Syria: 0.14932126696832582\n",
      "Bosnia and Herzegovina: 0.14932126696832582\n",
      "Sri Lanka: 0.14479638009049775\n",
      "Andorra: 0.14027149321266968\n",
      "Mauritius: 0.14027149321266968\n",
      "Gibraltar: 0.14027149321266968\n",
      "Jordan: 0.13574660633484165\n",
      "New Zealand: 0.13122171945701358\n",
      "Bolivia: 0.12669683257918554\n",
      "Senegal: 0.12669683257918554\n",
      "Bangladesh: 0.12669683257918554\n",
      "Saudi Arabia: 0.12669683257918554\n",
      "Azerbaijan: 0.12217194570135748\n",
      "Lebanon: 0.12217194570135748\n",
      "Republic of North Macedonia: 0.11764705882352942\n",
      "Bermuda: 0.11312217194570137\n",
      "Democratic Republic of the Congo: 0.11312217194570137\n",
      "Guatemala: 0.1085972850678733\n",
      "Panama: 0.10407239819004525\n",
      "Burkina Faso: 0.10407239819004525\n",
      "Madagascar: 0.10407239819004525\n",
      "Bahamas: 0.0995475113122172\n",
      "Sudan: 0.0995475113122172\n",
      "Cape Verde: 0.0995475113122172\n",
      "Afghanistan: 0.0995475113122172\n",
      "Bahrain: 0.09502262443438915\n",
      "Kazakhstan: 0.09502262443438915\n",
      "Gambia: 0.09502262443438915\n",
      "Faeroe Islands: 0.0904977375565611\n",
      "Togo: 0.0904977375565611\n",
      "Angola: 0.0904977375565611\n",
      "Côte d'Ivoire: 0.08597285067873305\n",
      "Oman: 0.08597285067873305\n",
      "Costa Rica: 0.08597285067873305\n",
      "Tanzania: 0.08597285067873305\n",
      "Cambodia: 0.08597285067873305\n",
      "Cameroon: 0.08597285067873305\n",
      "Myanmar: 0.08144796380090498\n",
      "Monaco: 0.08144796380090498\n",
      "Namibia: 0.08144796380090498\n",
      "Isle of Man: 0.08144796380090498\n",
      "Congo: 0.08144796380090498\n",
      "Algeria: 0.08144796380090498\n",
      "Kosovo: 0.08144796380090498\n",
      "Jersey: 0.07692307692307693\n",
      "Dominican Republic: 0.07692307692307693\n",
      "Maldives: 0.07692307692307693\n",
      "Belize: 0.07692307692307693\n",
      "Montenegro: 0.07239819004524888\n",
      "Zimbabwe: 0.07239819004524888\n",
      "Laos: 0.07239819004524888\n",
      "Greenland: 0.06787330316742082\n",
      "Mauritania: 0.06787330316742082\n",
      "Seychelles: 0.06787330316742082\n",
      "Suriname: 0.06787330316742082\n",
      "Kuwait: 0.06787330316742082\n",
      "Paraguay: 0.06787330316742082\n",
      "Guernsey: 0.06334841628959277\n",
      "Qatar: 0.06334841628959277\n",
      "Brunei: 0.06334841628959277\n",
      "Guinea: 0.06334841628959277\n",
      "Cayman Islands: 0.05882352941176471\n",
      "Ethiopia: 0.05882352941176471\n",
      "Liechtenstein: 0.05882352941176471\n",
      "Falkland Islands: 0.05882352941176471\n",
      "Cuba: 0.05882352941176471\n",
      "Armenia: 0.05882352941176471\n",
      "Serbia and Montenegro: 0.05882352941176471\n",
      "Honduras: 0.05429864253393665\n",
      "Mali: 0.05429864253393665\n",
      "Mongolia: 0.05429864253393665\n",
      "Niger: 0.0497737556561086\n",
      "Mozambique: 0.0497737556561086\n",
      "Saint Helena: 0.04524886877828055\n",
      "Barbados: 0.04524886877828055\n",
      "Nicaragua: 0.04524886877828055\n",
      "Venezuela: 0.04524886877828055\n",
      "Iraq: 0.04072398190045249\n",
      "French Polynesia: 0.04072398190045249\n",
      "New Caledonia: 0.04072398190045249\n",
      "Kyrgyzstan: 0.04072398190045249\n",
      "Sierra Leone: 0.04072398190045249\n",
      "Puerto Rico: 0.04072398190045249\n",
      "Jamaica: 0.03619909502262444\n",
      "Swaziland: 0.03619909502262444\n",
      "Malawi: 0.03619909502262444\n",
      "Papua New Guinea: 0.031674208144796386\n",
      "West Bank and Gaza Strip: 0.031674208144796386\n",
      "Haiti: 0.031674208144796386\n",
      "Trinidad and Tobago: 0.031674208144796386\n",
      "Burundi: 0.031674208144796386\n",
      "Liberia: 0.031674208144796386\n",
      "Yemen: 0.031674208144796386\n",
      "Antigua and Barbuda: 0.027149321266968326\n",
      "Grenada: 0.027149321266968326\n",
      "Gabon: 0.027149321266968326\n",
      "Benin: 0.027149321266968326\n",
      "Libya: 0.027149321266968326\n",
      "British Virgin Islands: 0.027149321266968326\n",
      "Guadeloupe: 0.027149321266968326\n",
      "Réunion: 0.027149321266968326\n",
      "Saint Martin: 0.022624434389140274\n",
      "Rwanda: 0.022624434389140274\n",
      "Aruba: 0.022624434389140274\n",
      "Fiji: 0.022624434389140274\n",
      "Botswana: 0.022624434389140274\n",
      "Saint Kitts and Nevis: 0.01809954751131222\n",
      "Saint Lucia: 0.01809954751131222\n",
      "Chad: 0.01809954751131222\n",
      "Equatorial Guinea: 0.01809954751131222\n",
      "Marshall Islands: 0.01809954751131222\n",
      "Zambia: 0.01809954751131222\n",
      "Vanuatu: 0.01809954751131222\n",
      "Nepal: 0.01809954751131222\n",
      "El Salvador: 0.013574660633484163\n",
      "Macao: 0.013574660633484163\n",
      "Central African Republic: 0.013574660633484163\n",
      "Comoros: 0.013574660633484163\n",
      "Turks and Caicos Islands: 0.013574660633484163\n",
      "Somalia: 0.013574660633484163\n",
      "Tajikistan: 0.013574660633484163\n",
      "Curaçao: 0.00904977375565611\n",
      "Sint Maarten: 0.00904977375565611\n",
      "Djibouti: 0.00904977375565611\n",
      "Eritrea: 0.00904977375565611\n",
      "Netherlands Antilles: 0.00904977375565611\n",
      "Mayotte: 0.00904977375565611\n",
      "Guyana: 0.00904977375565611\n",
      "Saint Pierre and Miquelon: 0.004524886877828055\n",
      "Saint Vincent and the Grenadines: 0.004524886877828055\n",
      "Vatican City: 0.004524886877828055\n",
      "Solomon Islands: 0.004524886877828055\n",
      "Dominica: 0.004524886877828055\n",
      "North Korea: 0.004524886877828055\n",
      "Tonga: 0.004524886877828055\n",
      "Saint Barthélemy: 0.0\n",
      "Martinique: 0.0\n",
      "São Tomé and Príncipe: 0.0\n",
      "Norfolk Island: 0.0\n",
      "Åland Islands: 0.0\n",
      "East Timor: 0.0\n",
      "Turkmenistan: 0.0\n",
      "US Virgin Islands: 0.0\n",
      "Anguilla: 0.0\n",
      "French Guiana: 0.0\n",
      "Wallis and Futuna: 0.0\n"
     ]
    }
   ],
   "source": [
    "degree_centrality = nx.out_degree_centrality(G)\n",
    "for key, value in sorted(degree_centrality.items(), key=lambda item: item[1],reverse = True):\n",
    "    print(\"%s: %s\" % (key, value))"
   ]
  },
  {
   "cell_type": "code",
   "execution_count": null,
   "metadata": {
    "ExecuteTime": {
     "end_time": "2019-11-25T14:00:56.236022Z",
     "start_time": "2019-11-25T14:00:48.050Z"
    }
   },
   "outputs": [],
   "source": [
    "nx.shortest_path(G, 'Saint Pierre and Miquelon', 'Tajikistan')"
   ]
  },
  {
   "cell_type": "code",
   "execution_count": null,
   "metadata": {
    "ExecuteTime": {
     "end_time": "2019-11-25T14:00:56.237019Z",
     "start_time": "2019-11-25T14:00:48.051Z"
    }
   },
   "outputs": [],
   "source": [
    "nx.shortest_path(G, 'Spain', 'United Kingdom')"
   ]
  },
  {
   "cell_type": "code",
   "execution_count": null,
   "metadata": {
    "ExecuteTime": {
     "end_time": "2019-11-25T14:00:56.237019Z",
     "start_time": "2019-11-25T14:00:48.053Z"
    }
   },
   "outputs": [],
   "source": [
    "nx.shortest_path(G, 'Israel', 'Pakistan')"
   ]
  },
  {
   "cell_type": "code",
   "execution_count": 12,
   "metadata": {
    "ExecuteTime": {
     "end_time": "2019-11-29T13:33:09.141145Z",
     "start_time": "2019-11-29T13:33:09.030442Z"
    }
   },
   "outputs": [
    {
     "name": "stdout",
     "output_type": "stream",
     "text": [
      "Papua New Guinea: 1.77291983771565e-21\n",
      "Solomon Islands: 1.77291983771565e-21\n",
      "Malawi: 1.77291983771565e-21\n",
      "Fiji: 1.77291983771565e-21\n",
      "North Korea: 1.77291983771565e-21\n",
      "Tonga: 1.77291983771565e-21\n",
      "Botswana: 1.77291983771565e-21\n",
      "Eritrea: 0.0010712712806572287\n",
      "Saint Vincent and the Grenadines: 0.0025453369285342105\n",
      "El Salvador: 0.002623685086083667\n",
      "US Virgin Islands: 0.002623685086083667\n",
      "Dominica: 0.002623685086083667\n",
      "São Tomé and Príncipe: 0.002654576295218369\n",
      "Wallis and Futuna: 0.002654576295218369\n",
      "Laos: 0.002659090145019705\n",
      "East Timor: 0.0027165236841448725\n",
      "Nicaragua: 0.0036781255987349123\n",
      "Saint Pierre and Miquelon: 0.004193158277649522\n",
      "Vanuatu: 0.004439316948835947\n",
      "Saint Kitts and Nevis: 0.004564481868529215\n",
      "Saint Lucia: 0.004564481868529215\n",
      "Turks and Caicos Islands: 0.004564481868529215\n",
      "Tajikistan: 0.004900714334766928\n",
      "Comoros: 0.004903154038496419\n",
      "French Guiana: 0.004903154038496419\n",
      "Bolivia: 0.004961782785236759\n",
      "Puerto Rico: 0.0050854833561655285\n",
      "Anguilla: 0.005164087790919875\n",
      "Guyana: 0.005199913223752579\n",
      "Grenada: 0.005261860612679083\n",
      "West Bank and Gaza Strip: 0.005261860612679083\n",
      "Somalia: 0.005722837880278961\n",
      "Jamaica: 0.006426548967586719\n",
      "Chad: 0.006654956547731385\n",
      "Åland Islands: 0.006694763621760253\n",
      "Mozambique: 0.006707603997049031\n",
      "Guatemala: 0.006821357213534525\n",
      "Kyrgyzstan: 0.006856352904451062\n",
      "Marshall Islands: 0.007092891277993821\n",
      "Zimbabwe: 0.007219058163747584\n",
      "Uganda: 0.0073308187699828746\n",
      "Falkland Islands: 0.007787772877003543\n",
      "Mayotte: 0.007930409911723654\n",
      "Nepal: 0.008184861192212262\n",
      "Sint Maarten: 0.00848302444204692\n",
      "Brunei: 0.008695467543203871\n",
      "Niger: 0.009244159499181986\n",
      "Paraguay: 0.009914496571120736\n",
      "Saint Martin: 0.010009103291887306\n",
      "Netherlands Antilles: 0.010158460681992634\n",
      "Antigua and Barbuda: 0.010342409745146611\n",
      "Saint Helena: 0.010510556001265929\n",
      "Macao: 0.011006217889456788\n",
      "Myanmar: 0.011399418887002069\n",
      "Central African Republic: 0.011545536353925264\n",
      "Burkina Faso: 0.011664962922790753\n",
      "Haiti: 0.0119342431521718\n",
      "Aruba: 0.01204287854357957\n",
      "Cayman Islands: 0.012168731952226414\n",
      "Djibouti: 0.01246745050765631\n",
      "Zambia: 0.012496899171152955\n",
      "Saint Barthélemy: 0.012684312840873124\n",
      "British Virgin Islands: 0.013870155996218625\n",
      "Tanzania: 0.014046598344141686\n",
      "Madagascar: 0.014507523594107655\n",
      "Equatorial Guinea: 0.014573855199320902\n",
      "Burundi: 0.014615346631197207\n",
      "Bahamas: 0.014634298998261425\n",
      "Rwanda: 0.015367251088437237\n",
      "Cuba: 0.015384362265433181\n",
      "Mauritania: 0.01558951473883821\n",
      "Trinidad and Tobago: 0.0157063080873107\n",
      "Liberia: 0.01596866904199935\n",
      "Togo: 0.016021966879705172\n",
      "Guinea: 0.016128806254033318\n",
      "Libya: 0.016210433099728014\n",
      "Honduras: 0.01685938797805457\n",
      "Yemen: 0.01685938797805457\n",
      "Ecuador: 0.016997768049418528\n",
      "Uzbekistan: 0.017147141550678945\n",
      "Benin: 0.017717121008695148\n",
      "Mongolia: 0.018008711859596595\n",
      "Colombia: 0.018402032139176575\n",
      "Sudan: 0.018579597850888963\n",
      "Afghanistan: 0.018649372202568768\n",
      "Sierra Leone: 0.018947979084800948\n",
      "Cambodia: 0.018979600776920805\n",
      "Curaçao: 0.019144682869328272\n",
      "Bangladesh: 0.019224951286182818\n",
      "New Caledonia: 0.01943905909584081\n",
      "Maldives: 0.020086325804759934\n",
      "Cape Verde: 0.020687425718681297\n",
      "Armenia: 0.02090379760923729\n",
      "French Polynesia: 0.020957659304934352\n",
      "Ethiopia: 0.021108358145551745\n",
      "Isle of Man: 0.021300883043458483\n",
      "Serbia and Montenegro: 0.021608977657004078\n",
      "Mali: 0.021687515209053168\n",
      "Seychelles: 0.023053524288955893\n",
      "Senegal: 0.024672585776789054\n",
      "Venezuela: 0.024715912288420162\n",
      "Syria: 0.025078074963497423\n",
      "Gabon: 0.02514281172996305\n",
      "Côte d'Ivoire: 0.025168644990503405\n",
      "Costa Rica: 0.025195371464875126\n",
      "Bermuda: 0.025800796627166344\n",
      "Sri Lanka: 0.026343207996395078\n",
      "Cameroon: 0.027306672466970695\n",
      "Réunion: 0.02800392513282932\n",
      "Oman: 0.029100159662002092\n",
      "Congo: 0.0299639323954484\n",
      "Namibia: 0.03084595714128578\n",
      "Iraq: 0.0311078570466875\n",
      "Uruguay: 0.03154016915772428\n",
      "Kazakhstan: 0.03245726341770394\n",
      "Jersey: 0.03346655068051902\n",
      "Suriname: 0.03525356804261194\n",
      "Gambia: 0.03573171666782876\n",
      "Angola: 0.03588375934924965\n",
      "Kenya: 0.036330609465050616\n",
      "Argentina: 0.03738318795478427\n",
      "Martinique: 0.0374397753950792\n",
      "Panama: 0.03904518444057591\n",
      "Saudi Arabia: 0.039449244588054135\n",
      "Bahrain: 0.04014276433537027\n",
      "Dominican Republic: 0.04037397776705447\n",
      "Mauritius: 0.04174099073120908\n",
      "Swaziland: 0.0423338996337821\n",
      "Malaysia: 0.04262347283470703\n",
      "Greenland: 0.042804174520774375\n",
      "Jordan: 0.04344856905096388\n",
      "Qatar: 0.04408871257282767\n",
      "Peru: 0.04454619099866712\n",
      "Guadeloupe: 0.045027348685009384\n",
      "Azerbaijan: 0.04511538607509603\n",
      "Kuwait: 0.045140865291156906\n",
      "Barbados: 0.04532840137824856\n",
      "Ghana: 0.046175637728497414\n",
      "Algeria: 0.04624101272034067\n",
      "Pakistan: 0.04787196055263327\n",
      "Democratic Republic of the Congo: 0.0479047206228627\n",
      "Georgia: 0.04836098101689367\n",
      "Philippines: 0.04849930337933573\n",
      "San Marino: 0.048508041443424174\n",
      "Norfolk Island: 0.04909174669547578\n",
      "Brazil: 0.04937583736166548\n",
      "Faeroe Islands: 0.050202364721123036\n",
      "South Africa: 0.050386227423713875\n",
      "Nigeria: 0.05217841278508538\n",
      "Indonesia: 0.052481645130283666\n",
      "Vietnam: 0.054385959608179886\n",
      "South Korea: 0.054632232308948626\n",
      "Belize: 0.05690105112494113\n",
      "Chile: 0.06051063382485913\n",
      "Thailand: 0.06109197975845621\n",
      "Vatican City: 0.06249511230037732\n",
      "Morocco: 0.06389671773731787\n",
      "Egypt: 0.06461421272475171\n",
      "Tunisia: 0.06574421561841082\n",
      "Japan: 0.06769818671957936\n",
      "Gibraltar: 0.07158718879055091\n",
      "Taiwan: 0.07176520778373734\n",
      "Singapore: 0.07265514714413562\n",
      "Australia: 0.07313735715167125\n",
      "India: 0.07376893526569848\n",
      "Lebanon: 0.07456545616359102\n",
      "Israel: 0.07462772442155789\n",
      "Mexico: 0.0746435794905637\n",
      "Liechtenstein: 0.07477055845364294\n",
      "New Zealand: 0.07494274993181725\n",
      "Serbia: 0.07692605625038396\n",
      "Iran: 0.07788506677613144\n",
      "Kosovo: 0.08094957494218238\n",
      "Canada: 0.08134484669797065\n",
      "Monaco: 0.08264397809257282\n",
      "Turkmenistan: 0.08401903131200003\n",
      "Republic of North Macedonia: 0.08951415561995368\n",
      "Moldova: 0.09279367668188451\n",
      "China: 0.0928004696348152\n",
      "Albania: 0.09447610737865232\n",
      "Guernsey: 0.09556911444043652\n",
      "Turkey: 0.09597335383707369\n",
      "Bosnia and Herzegovina: 0.09985664833563228\n",
      "Montenegro: 0.09997707792747872\n",
      "Belarus: 0.10033867790558411\n",
      "Iceland: 0.10439398831057188\n",
      "Ukraine: 0.10764789189109059\n",
      "Andorra: 0.11019556371182312\n",
      "Hong Kong: 0.11231212042798018\n",
      "Russia: 0.11717226606164238\n",
      "Latvia: 0.11996995466990741\n",
      "Lithuania: 0.1208471242656967\n",
      "United States: 0.12178665634674392\n",
      "Malta: 0.1251683221995027\n",
      "Bulgaria: 0.12526021662589976\n",
      "Romania: 0.1262214171881535\n",
      "Norway: 0.12833680461838207\n",
      "Estonia: 0.1300845187003836\n",
      "Luxembourg: 0.1301393355619536\n",
      "Croatia: 0.13410447161731662\n",
      "Poland: 0.13562555906397772\n",
      "United Arab Emirates: 0.13578640150217478\n",
      "Greece: 0.1364389778917175\n",
      "Slovakia: 0.1365735235821533\n",
      "Cyprus: 0.13665691209460915\n",
      "Finland: 0.13757547773124398\n",
      "Sweden: 0.1395598904538286\n",
      "Austria: 0.13984388677839688\n",
      "Ireland: 0.14004577932928208\n",
      "Czech Republic: 0.14132631293653045\n",
      "Slovenia: 0.1420673779286031\n",
      "Denmark: 0.14245569318466816\n",
      "Switzerland: 0.14268186994026422\n",
      "Portugal: 0.1439346544631214\n",
      "Hungary: 0.14848659417450036\n",
      "United Kingdom: 0.15352551923510385\n",
      "Italy: 0.15795369331757303\n",
      "Belgium: 0.15825128656236237\n",
      "Germany: 0.15833124310791133\n",
      "France: 0.16011460553013024\n",
      "Spain: 0.16038691785618273\n",
      "Netherlands: 0.1638512015013185\n"
     ]
    }
   ],
   "source": [
    "eigenvector_centrality = nx.eigenvector_centrality(G)\n",
    "for key, value in sorted(eigenvector_centrality.items(), key=lambda item: item[1]):\n",
    "    print(\"%s: %s\" % (key, value))"
   ]
  },
  {
   "cell_type": "code",
   "execution_count": 14,
   "metadata": {
    "ExecuteTime": {
     "end_time": "2019-11-29T13:34:03.091711Z",
     "start_time": "2019-11-29T13:34:02.750602Z"
    }
   },
   "outputs": [
    {
     "name": "stdout",
     "output_type": "stream",
     "text": [
      "Sudan: 0.0\n",
      "Grenada: 0.0\n",
      "El Salvador: 0.0\n",
      "Honduras: 0.0\n",
      "Togo: 0.0\n",
      "Ethiopia: 0.0\n",
      "Iraq: 0.0\n",
      "Saint Pierre and Miquelon: 0.0\n",
      "Curaçao: 0.0\n",
      "Saint Helena: 0.0\n",
      "Guatemala: 0.0\n",
      "Papua New Guinea: 0.0\n",
      "West Bank and Gaza Strip: 0.0\n",
      "Saint Barthélemy: 0.0\n",
      "Libya: 0.0\n",
      "Macao: 0.0\n",
      "Falkland Islands: 0.0\n",
      "Haiti: 0.0\n",
      "Jamaica: 0.0\n",
      "Saint Kitts and Nevis: 0.0\n",
      "Saint Lucia: 0.0\n",
      "Saint Vincent and the Grenadines: 0.0\n",
      "Paraguay: 0.0\n",
      "Martinique: 0.0\n",
      "São Tomé and Príncipe: 0.0\n",
      "Mozambique: 0.0\n",
      "Norfolk Island: 0.0\n",
      "Åland Islands: 0.0\n",
      "Burundi: 0.0\n",
      "Rwanda: 0.0\n",
      "East Timor: 0.0\n",
      "Zambia: 0.0\n",
      "Zimbabwe: 0.0\n",
      "Armenia: 0.0\n",
      "Djibouti: 0.0\n",
      "Turkmenistan: 0.0\n",
      "Central African Republic: 0.0\n",
      "Venezuela: 0.0\n",
      "Laos: 0.0\n",
      "Guadeloupe: 0.0\n",
      "Vanuatu: 0.0\n",
      "Nepal: 0.0\n",
      "Aruba: 0.0\n",
      "Puerto Rico: 0.0\n",
      "Réunion: 0.0\n",
      "US Virgin Islands: 0.0\n",
      "Swaziland: 0.0\n",
      "Comoros: 0.0\n",
      "Yemen: 0.0\n",
      "Solomon Islands: 0.0\n",
      "Malawi: 0.0\n",
      "Fiji: 0.0\n",
      "Turks and Caicos Islands: 0.0\n",
      "Somalia: 0.0\n",
      "Eritrea: 0.0\n",
      "Tajikistan: 0.0\n",
      "Netherlands Antilles: 0.0\n",
      "Anguilla: 0.0\n",
      "Dominica: 0.0\n",
      "French Guiana: 0.0\n",
      "Guyana: 0.0\n",
      "North Korea: 0.0\n",
      "Wallis and Futuna: 0.0\n",
      "Tonga: 0.0\n",
      "Botswana: 0.0\n",
      "Antigua and Barbuda: 3.371748791228058e-07\n",
      "Chad: 3.371748791228058e-07\n",
      "Vatican City: 4.4712320927154684e-07\n",
      "Belize: 4.570592805886923e-07\n",
      "Sierra Leone: 4.570592805886923e-07\n",
      "British Virgin Islands: 5.141916906622789e-07\n",
      "Serbia and Montenegro: 5.141916906622789e-07\n",
      "Namibia: 5.273760929869526e-07\n",
      "Myanmar: 5.412544112234514e-07\n",
      "Mayotte: 7.092299181548674e-07\n",
      "Cayman Islands: 9.913568019737315e-07\n",
      "Trinidad and Tobago: 1.0736581213828716e-06\n",
      "Mali: 1.128239018603235e-06\n",
      "Kyrgyzstan: 1.2098628015583032e-06\n",
      "Kazakhstan: 1.2140637140637139e-06\n",
      "Liberia: 1.363725134990457e-06\n",
      "Madagascar: 1.87365916266172e-06\n",
      "Marshall Islands: 1.986987790338674e-06\n",
      "Nicaragua: 2.0567667626491155e-06\n",
      "Mauritania: 2.0783530908892526e-06\n",
      "Tanzania: 2.0985206743720674e-06\n",
      "Liechtenstein: 2.2852964029434615e-06\n",
      "Burkina Faso: 2.350590585884703e-06\n",
      "Maldives: 2.392235607269136e-06\n",
      "Greenland: 2.5454575873730753e-06\n",
      "Cameroon: 2.61176731764967e-06\n",
      "Bolivia: 2.655293958418079e-06\n",
      "Angola: 3.2921823322689184e-06\n",
      "Sri Lanka: 3.4105385919507603e-06\n",
      "Gabon: 3.7052048297723036e-06\n",
      "Brunei: 3.792396840525182e-06\n",
      "Gambia: 4.105845039796563e-06\n",
      "Afghanistan: 4.252932297433035e-06\n",
      "Bangladesh: 4.266952025076253e-06\n",
      "Cuba: 5.517594319572562e-06\n",
      "Niger: 5.713241007358654e-06\n",
      "Oman: 7.950059532041418e-06\n",
      "Suriname: 7.984791266525013e-06\n",
      "Panama: 8.547818719030401e-06\n",
      "Equatorial Guinea: 8.841920606626488e-06\n",
      "Mongolia: 9.76554171037706e-06\n",
      "Faeroe Islands: 1.0714262107885437e-05\n",
      "Bahamas: 1.1423896024289176e-05\n",
      "Barbados: 1.1454495890725297e-05\n",
      "Bahrain: 1.1620060512440857e-05\n",
      "Benin: 1.352508683886983e-05\n",
      "Sint Maarten: 1.7403837717497244e-05\n",
      "Uganda: 1.7450141802091456e-05\n",
      "Seychelles: 1.950833502391378e-05\n",
      "French Polynesia: 2.037189922833691e-05\n",
      "Algeria: 2.1412187421693312e-05\n",
      "Cape Verde: 2.1587920111768483e-05\n",
      "Congo: 2.1904493343522507e-05\n",
      "Kosovo: 2.3005658239269376e-05\n",
      "Senegal: 2.879433596456549e-05\n",
      "Saint Martin: 2.8829302185703565e-05\n",
      "Jersey: 3.0340381544239038e-05\n",
      "Georgia: 3.320572856943263e-05\n",
      "Republic of North Macedonia: 3.658967437498389e-05\n",
      "Côte d'Ivoire: 3.981302539310463e-05\n",
      "Argentina: 4.019646772993621e-05\n",
      "Kuwait: 4.137900919210576e-05\n",
      "Dominican Republic: 4.1873473672084605e-05\n",
      "Uzbekistan: 4.197748882913546e-05\n",
      "Isle of Man: 4.383163188319565e-05\n",
      "Azerbaijan: 4.8271530818250126e-05\n",
      "Montenegro: 5.075142840194251e-05\n",
      "Ecuador: 5.126986991517272e-05\n",
      "Qatar: 5.451353901454192e-05\n",
      "New Caledonia: 5.690972020297026e-05\n",
      "Colombia: 5.910138870608506e-05\n",
      "Costa Rica: 6.15066430727167e-05\n",
      "Cambodia: 6.717618455950961e-05\n",
      "Kenya: 6.997868988198327e-05\n",
      "Pakistan: 7.089005043414424e-05\n",
      "Syria: 7.780678416901677e-05\n",
      "Mauritius: 8.190016967613563e-05\n",
      "Jordan: 8.534494317058986e-05\n",
      "Tunisia: 8.693032967273186e-05\n",
      "Ghana: 8.743240996366333e-05\n",
      "Democratic Republic of the Congo: 0.00010053585681482176\n",
      "San Marino: 0.00010236131017477201\n",
      "Saudi Arabia: 0.00011306751262509883\n",
      "Australia: 0.0001531870105675345\n",
      "Brazil: 0.00015790710256745682\n",
      "Lebanon: 0.00016072281189268662\n",
      "Bermuda: 0.00016132430438864983\n",
      "Moldova: 0.00017046941589727896\n",
      "Bosnia and Herzegovina: 0.00017092434815404369\n",
      "Monaco: 0.00017745272499416793\n",
      "Chile: 0.00018041250336616523\n",
      "Guernsey: 0.0001862385951558727\n",
      "Nigeria: 0.0002039647965387113\n",
      "Belarus: 0.00022521697023540404\n",
      "Iran: 0.0002460016190165485\n",
      "Philippines: 0.0002620378352792088\n",
      "Indonesia: 0.00030718240864290145\n",
      "Albania: 0.0003232222551083012\n",
      "South Korea: 0.00036665145590086357\n",
      "Guinea: 0.0004398553048077268\n",
      "Serbia: 0.00046277207743660446\n",
      "Uruguay: 0.00046721343100065353\n",
      "New Zealand: 0.00047913888217422114\n",
      "Malaysia: 0.0005057482227080079\n",
      "South Africa: 0.0005130692656843751\n",
      "Russia: 0.0005293748580219118\n",
      "Peru: 0.0006006688405540547\n",
      "Andorra: 0.0006205189633156161\n",
      "Thailand: 0.0008115745282819184\n",
      "Vietnam: 0.0008312915541381649\n",
      "Singapore: 0.000984114413984839\n",
      "Israel: 0.001007343406253068\n",
      "Iceland: 0.0010089960619984182\n",
      "Mexico: 0.0010638526944736404\n",
      "Gibraltar: 0.0015285331352664704\n",
      "Lithuania: 0.0015847420764281263\n",
      "Morocco: 0.001620551651743028\n",
      "Japan: 0.0023352677930003033\n",
      "Taiwan: 0.0024537637091423367\n",
      "Croatia: 0.002512608767316419\n",
      "Estonia: 0.0027391610818840745\n",
      "India: 0.003083999369396689\n",
      "Luxembourg: 0.0033986949549813066\n",
      "Canada: 0.0034814257774637776\n",
      "Cyprus: 0.0038541609117412386\n",
      "Bulgaria: 0.003978691978183927\n",
      "Romania: 0.004803593378749012\n",
      "Egypt: 0.00487169800014107\n",
      "Ukraine: 0.0050905588113511245\n",
      "Turkey: 0.005149665396801053\n",
      "Greece: 0.006760798411333948\n",
      "Latvia: 0.007311870274351729\n",
      "Hong Kong: 0.007361950655751861\n",
      "Malta: 0.008154275325228307\n",
      "Austria: 0.008176390598834628\n",
      "Czech Republic: 0.009106104703084183\n",
      "Finland: 0.009388101293184752\n",
      "Slovakia: 0.009512760148728917\n",
      "Norway: 0.009695639222156575\n",
      "Sweden: 0.010070790567011852\n",
      "Slovenia: 0.010127065617905336\n",
      "China: 0.010867683425300622\n",
      "Switzerland: 0.012701609186325232\n",
      "Ireland: 0.012716123082757068\n",
      "Portugal: 0.012898968530756273\n",
      "United Arab Emirates: 0.017685240452620765\n",
      "United States: 0.02054874202364212\n",
      "Denmark: 0.020812440622819735\n",
      "Poland: 0.02951309763186972\n",
      "Hungary: 0.032312264370570935\n",
      "Germany: 0.03798047803872834\n",
      "Italy: 0.056414435405456036\n",
      "Spain: 0.059967251437714746\n",
      "Belgium: 0.07443762403460262\n",
      "United Kingdom: 0.09119195645164686\n",
      "Netherlands: 0.09143594620057915\n",
      "France: 0.10000864177684834\n"
     ]
    }
   ],
   "source": [
    "betweenness_centrality = nx.betweenness_centrality(G)\n",
    "for key, value in sorted(betweenness_centrality.items(), key=lambda item: item[1]):\n",
    "    print(\"%s: %s\" % (key, value))"
   ]
  },
  {
   "cell_type": "code",
   "execution_count": 195,
   "metadata": {
    "ExecuteTime": {
     "end_time": "2019-11-26T13:34:40.418710Z",
     "start_time": "2019-11-26T13:34:40.090567Z"
    },
    "scrolled": true
   },
   "outputs": [
    {
     "data": {
      "text/plain": [
       "0.7895095014318582"
      ]
     },
     "execution_count": 195,
     "metadata": {},
     "output_type": "execute_result"
    }
   ],
   "source": [
    "nx.average_clustering(G)"
   ]
  },
  {
   "cell_type": "code",
   "execution_count": 197,
   "metadata": {
    "ExecuteTime": {
     "end_time": "2019-11-26T13:35:36.284251Z",
     "start_time": "2019-11-26T13:35:35.948147Z"
    }
   },
   "outputs": [
    {
     "name": "stdout",
     "output_type": "stream",
     "text": [
      "São Tomé and Príncipe: 0\n",
      "East Timor: 0\n",
      "US Virgin Islands: 0\n",
      "Solomon Islands: 0\n",
      "North Korea: 0\n",
      "Wallis and Futuna: 0\n",
      "Tonga: 0\n",
      "Netherlands: 0.22302852197742762\n",
      "France: 0.22438965117583282\n",
      "United Kingdom: 0.24336207632545034\n",
      "Belgium: 0.24905350307871527\n",
      "Spain: 0.2600484864962842\n",
      "Italy: 0.2665770918027516\n",
      "Germany: 0.28493011498810467\n",
      "Hungary: 0.32975703155948766\n",
      "Poland: 0.3404580940262063\n",
      "Denmark: 0.3680340133571767\n",
      "United States: 0.3999216991289028\n",
      "Portugal: 0.41558927769180853\n",
      "China: 0.4194106452915057\n",
      "Ireland: 0.42459779026943206\n",
      "Finland: 0.42839828897338406\n",
      "Sweden: 0.4305215872223609\n",
      "Switzerland: 0.43159127954360227\n",
      "Czech Republic: 0.4335952945828391\n",
      "Norway: 0.4360258304602419\n",
      "United Arab Emirates: 0.4465262034937992\n",
      "Turkmenistan: 0.46147540983606555\n",
      "Greece: 0.4619808116322031\n",
      "Slovakia: 0.46330441070137385\n",
      "Austria: 0.46434125154163763\n",
      "Slovenia: 0.477127414145409\n",
      "Malta: 0.4909858348833882\n",
      "Cyprus: 0.5076962544894817\n",
      "Luxembourg: 0.5091149890931754\n",
      "Hong Kong: 0.5165083840332394\n",
      "India: 0.5186567164179104\n",
      "Romania: 0.52514310557206\n",
      "Japan: 0.5303477023180154\n",
      "Estonia: 0.5478397761063495\n",
      "Bulgaria: 0.5549995898613731\n",
      "Croatia: 0.5599024061921588\n",
      "Canada: 0.5621546961325967\n",
      "Latvia: 0.5855860251781009\n",
      "Turkey: 0.5939684329199549\n",
      "Gibraltar: 0.6057414887478362\n",
      "Lithuania: 0.6076619501395707\n",
      "Iceland: 0.6366628506010303\n",
      "Ukraine: 0.6426018128430997\n",
      "Bermuda: 0.6625806451612903\n",
      "Sint Maarten: 0.6666666666666666\n",
      "Israel: 0.6698826337776009\n",
      "Isle of Man: 0.6781914893617021\n",
      "Egypt: 0.687711006076975\n",
      "Mexico: 0.7030405405405405\n",
      "Marshall Islands: 0.7037037037037037\n",
      "Singapore: 0.7091935039911919\n",
      "Russia: 0.7147665425379547\n",
      "Vietnam: 0.7329481397970687\n",
      "Thailand: 0.7359442575684767\n",
      "Serbia: 0.7360772357723577\n",
      "Peru: 0.7366041527126591\n",
      "Taiwan: 0.7425343018563357\n",
      "Andorra: 0.7498380479378104\n",
      "Morocco: 0.7541999449187552\n",
      "Qatar: 0.7628992628992629\n",
      "Indonesia: 0.7701863354037267\n",
      "South Korea: 0.7845454545454545\n",
      "Ecuador: 0.7897196261682243\n",
      "San Marino: 0.7912221144519883\n",
      "Saint Martin: 0.7916666666666666\n",
      "South Africa: 0.7917287630402384\n",
      "Kenya: 0.7922245108135942\n",
      "Philippines: 0.792749658002736\n",
      "Chad: 0.8095238095238095\n",
      "Guernsey: 0.8125623130608175\n",
      "Bosnia and Herzegovina: 0.8160211267605634\n",
      "Belarus: 0.8168864813942535\n",
      "Colombia: 0.8227960819234195\n",
      "New Caledonia: 0.825503355704698\n",
      "Lebanon: 0.8260233918128655\n",
      "Uruguay: 0.8275316455696202\n",
      "Saudi Arabia: 0.8279766252739226\n",
      "Monaco: 0.8286852589641435\n",
      "Malaysia: 0.8309927360774818\n",
      "Kuwait: 0.8325123152709359\n",
      "Moldova: 0.8342526199669057\n",
      "Jersey: 0.8350340136054422\n",
      "Brazil: 0.8390525923162999\n",
      "Nigeria: 0.851665905979005\n",
      "Guinea: 0.8524229074889867\n",
      "Bahamas: 0.8544776119402985\n",
      "Montenegro: 0.8547210300429184\n",
      "Albania: 0.8549176107106076\n",
      "Australia: 0.8559064682660188\n",
      "Uzbekistan: 0.8572154471544715\n",
      "Jordan: 0.8597069597069598\n",
      "Ghana: 0.8621333333333333\n",
      "Antigua and Barbuda: 0.8636363636363636\n",
      "Côte d'Ivoire: 0.8670756646216768\n",
      "Mauritius: 0.8673805601317958\n",
      "Bahrain: 0.8703051643192489\n",
      "Argentina: 0.8716707021791767\n",
      "Azerbaijan: 0.8719931271477663\n",
      "New Zealand: 0.8736866148926451\n",
      "Democratic Republic of the Congo: 0.8743545611015491\n",
      "Chile: 0.8746953696181966\n",
      "Equatorial Guinea: 0.875\n",
      "Liberia: 0.875\n",
      "Cambodia: 0.875\n",
      "Congo: 0.8754789272030651\n",
      "Syria: 0.8788910505836576\n",
      "Netherlands Antilles: 0.8809523809523809\n",
      "Iran: 0.885642242657965\n",
      "Uganda: 0.8863328822733424\n",
      "Pakistan: 0.8896991795806746\n",
      "Cape Verde: 0.890020366598778\n",
      "Tunisia: 0.8900501672240803\n",
      "Niger: 0.8990384615384616\n",
      "Seychelles: 0.9010238907849829\n",
      "Georgia: 0.9059531348955034\n",
      "Vatican City: 0.9066820276497696\n",
      "Barbados: 0.9083503054989817\n",
      "Costa Rica: 0.9091903719912473\n",
      "Cuba: 0.9101941747572816\n",
      "Republic of North Macedonia: 0.9116212921576595\n",
      "Mauritania: 0.9118942731277533\n",
      "Benin: 0.9137931034482759\n",
      "Brunei: 0.9139072847682119\n",
      "Kosovo: 0.9172457359444094\n",
      "Faeroe Islands: 0.9177277179236043\n",
      "Saint Helena: 0.9213483146067416\n",
      "Algeria: 0.9214108910891089\n",
      "Maldives: 0.921875\n",
      "Cayman Islands: 0.9238410596026491\n",
      "Afghanistan: 0.9240780911062907\n",
      "Mali: 0.9247787610619469\n",
      "Mongolia: 0.9302884615384616\n",
      "Nicaragua: 0.9307692307692308\n",
      "Bolivia: 0.9310344827586207\n",
      "Dominican Republic: 0.932370820668693\n",
      "Mayotte: 0.9333333333333333\n",
      "French Polynesia: 0.9345238095238095\n",
      "Kazakhstan: 0.9359673024523161\n",
      "Sri Lanka: 0.9364994663820705\n",
      "Senegal: 0.9365620736698499\n",
      "Angola: 0.9373996789727127\n",
      "Panama: 0.9388133498145859\n",
      "Falkland Islands: 0.9411764705882353\n",
      "Liechtenstein: 0.9412017167381974\n",
      "British Virgin Islands: 0.9415584415584416\n",
      "Oman: 0.9434865900383141\n",
      "Turks and Caicos Islands: 0.9444444444444444\n",
      "Nepal: 0.9464285714285714\n",
      "Greenland: 0.9466882067851373\n",
      "Guadeloupe: 0.9478609625668449\n",
      "Gambia: 0.9484702093397746\n",
      "Suriname: 0.9498977505112475\n",
      "Bangladesh: 0.9531013615733737\n",
      "Réunion: 0.9543010752688172\n",
      "Cameroon: 0.9570552147239264\n",
      "Norfolk Island: 0.9604743083003953\n",
      "Curaçao: 0.9629629629629629\n",
      "Tanzania: 0.964527027027027\n",
      "Iraq: 0.967032967032967\n",
      "Sierra Leone: 0.97\n",
      "Madagascar: 0.970074812967581\n",
      "Laos: 0.9705882352941176\n",
      "Trinidad and Tobago: 0.9719101123595506\n",
      "Honduras: 0.972972972972973\n",
      "Gabon: 0.9738805970149254\n",
      "Myanmar: 0.9738955823293173\n",
      "Burkina Faso: 0.9740740740740741\n",
      "Serbia and Montenegro: 0.9743589743589743\n",
      "Sudan: 0.9755244755244755\n",
      "Namibia: 0.9784836065573771\n",
      "Burundi: 0.98\n",
      "Libya: 0.9802631578947368\n",
      "Rwanda: 0.9814814814814815\n",
      "Kyrgyzstan: 0.9846153846153847\n",
      "Martinique: 0.9852941176470589\n",
      "Yemen: 0.9852941176470589\n",
      "Zambia: 0.9857142857142858\n",
      "Guatemala: 0.9885386819484241\n",
      "Mozambique: 0.9888888888888889\n",
      "Jamaica: 0.9907407407407407\n",
      "Zimbabwe: 0.9911242603550295\n",
      "Belize: 0.991725768321513\n",
      "Haiti: 0.9924242424242424\n",
      "Swaziland: 0.9937304075235109\n",
      "Togo: 0.9942196531791907\n",
      "Venezuela: 0.9951219512195122\n",
      "Ethiopia: 0.9955555555555555\n",
      "Armenia: 0.995575221238938\n",
      "Paraguay: 0.9970238095238095\n",
      "Grenada: 1.0\n",
      "El Salvador: 1.0\n",
      "Saint Pierre and Miquelon: 1.0\n",
      "Papua New Guinea: 1.0\n",
      "West Bank and Gaza Strip: 1.0\n",
      "Saint Barthélemy: 1.0\n",
      "Macao: 1.0\n",
      "Saint Kitts and Nevis: 1.0\n",
      "Saint Lucia: 1.0\n",
      "Saint Vincent and the Grenadines: 1.0\n",
      "Åland Islands: 1.0\n",
      "Djibouti: 1.0\n",
      "Central African Republic: 1.0\n",
      "Vanuatu: 1.0\n",
      "Aruba: 1.0\n",
      "Puerto Rico: 1.0\n",
      "Comoros: 1.0\n",
      "Malawi: 1.0\n",
      "Fiji: 1.0\n",
      "Somalia: 1.0\n",
      "Eritrea: 1.0\n",
      "Tajikistan: 1.0\n",
      "Anguilla: 1.0\n",
      "Dominica: 1.0\n",
      "French Guiana: 1.0\n",
      "Guyana: 1.0\n",
      "Botswana: 1.0\n"
     ]
    }
   ],
   "source": [
    "clustering= nx.clustering(G)\n",
    "for key, value in sorted(clustering.items(), key=lambda item: item[1]):\n",
    "    print(\"%s: %s\" % (key, value))"
   ]
  },
  {
   "cell_type": "code",
   "execution_count": 15,
   "metadata": {
    "ExecuteTime": {
     "end_time": "2019-11-29T13:35:12.613301Z",
     "start_time": "2019-11-29T13:35:12.190422Z"
    }
   },
   "outputs": [
    {
     "name": "stdout",
     "output_type": "stream",
     "text": [
      "Papua New Guinea: 0.0\n",
      "Solomon Islands: 0.0\n",
      "Malawi: 0.0\n",
      "Fiji: 0.0\n",
      "North Korea: 0.0\n",
      "Tonga: 0.0\n",
      "Botswana: 0.0\n",
      "Eritrea: 0.33425043770890656\n",
      "El Salvador: 0.41921746073995203\n",
      "Dominica: 0.41921746073995203\n",
      "Nicaragua: 0.42010002381519407\n",
      "US Virgin Islands: 0.4205688699118639\n",
      "Saint Vincent and the Grenadines: 0.4209863107852683\n",
      "Åland Islands: 0.42144872110414816\n",
      "Uganda: 0.4236677522552382\n",
      "Kyrgyzstan: 0.42638357117995124\n",
      "Saint Pierre and Miquelon: 0.42729659809896614\n",
      "São Tomé and Príncipe: 0.4286223163569847\n",
      "Wallis and Futuna: 0.4286223163569847\n",
      "Vanuatu: 0.4291344329294993\n",
      "Turks and Caicos Islands: 0.4291344329294993\n",
      "Saint Kitts and Nevis: 0.4300592916211577\n",
      "Saint Lucia: 0.4300592916211577\n",
      "Laos: 0.43192102015631423\n",
      "Jamaica: 0.432857942108931\n",
      "Comoros: 0.43474403335995027\n",
      "Bolivia: 0.4356932561402122\n",
      "Puerto Rico: 0.4356932561402122\n",
      "East Timor: 0.4360443478090537\n",
      "French Guiana: 0.4360443478090537\n",
      "Tajikistan: 0.4366466330683089\n",
      "Mayotte: 0.43760419147416046\n",
      "Burkina Faso: 0.4395319632427691\n",
      "Niger: 0.4414767949385336\n",
      "Chad: 0.44245567918451706\n",
      "Anguilla: 0.4427527223907315\n",
      "Guyana: 0.44541855203619907\n",
      "Mozambique: 0.44641501412129125\n",
      "Somalia: 0.44641501412129125\n",
      "Guatemala: 0.4474159446462269\n",
      "Marshall Islands: 0.4474159446462269\n",
      "Zimbabwe: 0.4474159446462269\n",
      "Grenada: 0.4494313317842729\n",
      "Paraguay: 0.4494313317842729\n",
      "West Bank and Gaza Strip: 0.45044584946324423\n",
      "Brunei: 0.45044584946324423\n",
      "Falkland Islands: 0.4514649577199484\n",
      "Nepal: 0.4514649577199484\n",
      "Macao: 0.4545501396633649\n",
      "Myanmar: 0.45558792537035886\n",
      "Cayman Islands: 0.45558792537035886\n",
      "Djibouti: 0.45558792537035886\n",
      "Central African Republic: 0.45663046066868923\n",
      "Sint Maarten: 0.4587299110625683\n",
      "Saint Martin: 0.4587299110625683\n",
      "Saint Helena: 0.4608487559173607\n",
      "Haiti: 0.4608487559173607\n",
      "British Virgin Islands: 0.4608487559173607\n",
      "Mongolia: 0.4608487559173607\n",
      "Aruba: 0.4608487559173607\n",
      "Netherlands Antilles: 0.4608487559173607\n",
      "Bahamas: 0.4619155354449472\n",
      "Saint Barthélemy: 0.4620469924031716\n",
      "Antigua and Barbuda: 0.46298726522556194\n",
      "Togo: 0.46298726522556194\n",
      "Zambia: 0.46298726522556194\n",
      "Honduras: 0.4640639797958539\n",
      "Yemen: 0.4640639797958539\n",
      "Libya: 0.4651457140144923\n",
      "Tanzania: 0.4651457140144923\n",
      "Afghanistan: 0.4651457140144923\n",
      "Trinidad and Tobago: 0.4651457140144923\n",
      "Burundi: 0.4651457140144923\n",
      "Rwanda: 0.4651457140144923\n",
      "Liberia: 0.4651457140144923\n",
      "Uzbekistan: 0.466232503065928\n",
      "Mauritania: 0.4673243824642089\n",
      "Benin: 0.4673243824642089\n",
      "Madagascar: 0.4673243824642089\n",
      "Bangladesh: 0.46842138805684785\n",
      "Syria: 0.46842138805684785\n",
      "Equatorial Guinea: 0.46842138805684785\n",
      "Mali: 0.46952355602874635\n",
      "Armenia: 0.46952355602874635\n",
      "Serbia and Montenegro: 0.46952355602874635\n",
      "Ecuador: 0.4706309229061726\n",
      "Colombia: 0.4706309229061726\n",
      "New Caledonia: 0.4706309229061726\n",
      "Curaçao: 0.4706309229061726\n",
      "Cuba: 0.4706309229061726\n",
      "Cambodia: 0.47174352556079713\n",
      "Sudan: 0.4728614012137848\n",
      "Isle of Man: 0.4728614012137848\n",
      "Ethiopia: 0.4728614012137848\n",
      "Guinea: 0.4728614012137848\n",
      "Senegal: 0.4739845874399458\n",
      "Seychelles: 0.4739845874399458\n",
      "French Polynesia: 0.4739845874399458\n",
      "Maldives: 0.4739845874399458\n",
      "Gabon: 0.4751131221719457\n",
      "Sierra Leone: 0.4751131221719457\n",
      "Venezuela: 0.4751131221719457\n",
      "Cape Verde: 0.4762470437045756\n",
      "Costa Rica: 0.4773863906990841\n",
      "Congo: 0.47853120218757117\n",
      "Cameroon: 0.47853120218757117\n",
      "Côte d'Ivoire: 0.47968151757744515\n",
      "Sri Lanka: 0.47968151757744515\n",
      "Namibia: 0.480837376655945\n",
      "Réunion: 0.480837376655945\n",
      "Uruguay: 0.4819988195947275\n",
      "Kazakhstan: 0.483165886954521\n",
      "Iraq: 0.483165886954521\n",
      "Oman: 0.483165886954521\n",
      "Bermuda: 0.48433861968984754\n",
      "Angola: 0.48670124710296875\n",
      "Gambia: 0.48670124710296875\n",
      "Jersey: 0.4878912257022425\n",
      "Argentina: 0.4878912257022425\n",
      "Swaziland: 0.4878912257022425\n",
      "Kenya: 0.48908703752994404\n",
      "Suriname: 0.48908703752994404\n",
      "Mauritius: 0.49028872558284325\n",
      "Panama: 0.49028872558284325\n",
      "Dominican Republic: 0.49028872558284325\n",
      "Martinique: 0.49134753338483617\n",
      "Greenland: 0.4927099044746103\n",
      "Bahrain: 0.4927099044746103\n",
      "Azerbaijan: 0.4939294834460822\n",
      "Barbados: 0.4939294834460822\n",
      "Ghana: 0.4951551149186531\n",
      "Pakistan: 0.4951551149186531\n",
      "Algeria: 0.4951551149186531\n",
      "Guadeloupe: 0.4951551149186531\n",
      "Peru: 0.4963868440602417\n",
      "San Marino: 0.49762471648931966\n",
      "Nigeria: 0.49762471648931966\n",
      "Malaysia: 0.49762471648931966\n",
      "Jordan: 0.49762471648931966\n",
      "Brazil: 0.498868778280543\n",
      "Georgia: 0.498868778280543\n",
      "Faeroe Islands: 0.498868778280543\n",
      "Democratic Republic of the Congo: 0.498868778280543\n",
      "South Africa: 0.5001190759704691\n",
      "Saudi Arabia: 0.5001190759704691\n",
      "Kuwait: 0.5001190759704691\n",
      "Norfolk Island: 0.5011255937507035\n",
      "Philippines: 0.5013756565633597\n",
      "South Korea: 0.5013756565633597\n",
      "Indonesia: 0.502638567537071\n",
      "Qatar: 0.502638567537071\n",
      "Belize: 0.502638567537071\n",
      "Vietnam: 0.505183572942322\n",
      "Vatican City: 0.5064657647518203\n",
      "Chile: 0.5103516913355939\n",
      "Tunisia: 0.5116602854159414\n",
      "Thailand: 0.5129756074864195\n",
      "Egypt: 0.5129756074864195\n",
      "Morocco: 0.5156266442176154\n",
      "Japan: 0.5156266442176154\n",
      "New Zealand: 0.5169624645394229\n",
      "Iran: 0.5183052241875771\n",
      "Australia: 0.5183052241875771\n",
      "Liechtenstein: 0.5183052241875771\n",
      "India: 0.5223756840633957\n",
      "Kosovo: 0.5223756840633957\n",
      "Serbia: 0.5251250297689927\n",
      "Monaco: 0.5265105839372486\n",
      "Singapore: 0.5265105839372486\n",
      "Lebanon: 0.5279034690799397\n",
      "Taiwan: 0.5293037435337326\n",
      "Mexico: 0.5321266968325792\n",
      "Republic of North Macedonia: 0.5321266968325792\n",
      "Israel: 0.5364180411618742\n",
      "Albania: 0.5378639118927687\n",
      "China: 0.5393175981411275\n",
      "Guernsey: 0.5393175981411275\n",
      "Gibraltar: 0.540779163447743\n",
      "Moldova: 0.5422486720440685\n",
      "Canada: 0.5437261888616273\n",
      "Montenegro: 0.5437261888616273\n",
      "Bosnia and Herzegovina: 0.5497176620171272\n",
      "Turkey: 0.5512362190945226\n",
      "Belarus: 0.5512362190945226\n",
      "Turkmenistan: 0.5534409029884144\n",
      "Ukraine: 0.5621056656682174\n",
      "Andorra: 0.5636935347802745\n",
      "Iceland: 0.568511428239935\n",
      "Hong Kong: 0.5701357466063348\n",
      "Russia: 0.5767269113069861\n",
      "Latvia: 0.5886357265847114\n",
      "Lithuania: 0.5903772524030094\n",
      "Bulgaria: 0.5956642128722901\n",
      "United States: 0.5992417757123639\n",
      "Romania: 0.60468942821884\n",
      "Croatia: 0.6197127680503639\n",
      "Estonia: 0.6197127680503639\n",
      "Malta: 0.6216433374212373\n",
      "Luxembourg: 0.6314794661779025\n",
      "Cyprus: 0.6355016283828573\n",
      "Norway: 0.6395753567699269\n",
      "Poland: 0.6416318691711164\n",
      "Slovakia: 0.6478815302344714\n",
      "Austria: 0.6478815302344714\n",
      "Ireland: 0.6478815302344714\n",
      "Finland: 0.6499918935251374\n",
      "United Arab Emirates: 0.6499918935251374\n",
      "Greece: 0.6521160500399255\n",
      "Switzerland: 0.6542541354498924\n",
      "Slovenia: 0.6564062872112407\n",
      "Czech Republic: 0.6585726445947762\n",
      "Sweden: 0.665158371040724\n",
      "Denmark: 0.667382980977315\n",
      "Portugal: 0.6787330316742082\n",
      "Hungary: 0.6977185710217384\n",
      "Belgium: 0.7445802660903627\n",
      "Germany: 0.7445802660903627\n",
      "Italy: 0.7473689562255326\n",
      "United Kingdom: 0.7501786139557037\n",
      "France: 0.7704537116301822\n",
      "Spain: 0.7856201232764456\n",
      "Netherlands: 0.795010005227957\n"
     ]
    }
   ],
   "source": [
    "closeness_centrality = nx.closeness_centrality(G)\n",
    "for key, value in sorted(closeness_centrality.items(), key=lambda item: item[1]):\n",
    "    print(\"%s: %s\" % (key, value))"
   ]
  },
  {
   "cell_type": "code",
   "execution_count": 16,
   "metadata": {
    "ExecuteTime": {
     "end_time": "2019-11-29T13:35:44.161975Z",
     "start_time": "2019-11-29T13:35:44.159006Z"
    }
   },
   "outputs": [],
   "source": [
    "weakly = nx.weakly_connected_components(G)"
   ]
  },
  {
   "cell_type": "code",
   "execution_count": 213,
   "metadata": {
    "ExecuteTime": {
     "end_time": "2019-11-26T13:46:14.272604Z",
     "start_time": "2019-11-26T13:46:14.266650Z"
    }
   },
   "outputs": [
    {
     "data": {
      "text/plain": [
       "[222]"
      ]
     },
     "execution_count": 213,
     "metadata": {},
     "output_type": "execute_result"
    }
   ],
   "source": [
    "[len(c) for c in sorted(nx.weakly_connected_components(G),\n",
    "                      key=len, reverse=True)]"
   ]
  },
  {
   "cell_type": "code",
   "execution_count": 17,
   "metadata": {
    "ExecuteTime": {
     "end_time": "2019-11-29T13:35:47.937982Z",
     "start_time": "2019-11-29T13:35:47.933993Z"
    }
   },
   "outputs": [],
   "source": [
    "weakly = nx.number_weakly_connected_components(G)"
   ]
  },
  {
   "cell_type": "code",
   "execution_count": 18,
   "metadata": {
    "ExecuteTime": {
     "end_time": "2019-11-29T13:35:48.914189Z",
     "start_time": "2019-11-29T13:35:48.910200Z"
    }
   },
   "outputs": [
    {
     "data": {
      "text/plain": [
       "1"
      ]
     },
     "execution_count": 18,
     "metadata": {},
     "output_type": "execute_result"
    }
   ],
   "source": [
    "weakly"
   ]
  },
  {
   "cell_type": "code",
   "execution_count": 19,
   "metadata": {
    "ExecuteTime": {
     "end_time": "2019-11-29T13:35:53.463467Z",
     "start_time": "2019-11-29T13:35:53.038627Z"
    }
   },
   "outputs": [
    {
     "data": {
      "text/plain": [
       "1.7583669642493172"
      ]
     },
     "execution_count": 19,
     "metadata": {},
     "output_type": "execute_result"
    }
   ],
   "source": [
    "nx.average_shortest_path_length(G)"
   ]
  },
  {
   "cell_type": "code",
   "execution_count": null,
   "metadata": {
    "ExecuteTime": {
     "end_time": "2019-11-25T14:00:56.243004Z",
     "start_time": "2019-11-25T14:00:48.071Z"
    }
   },
   "outputs": [],
   "source": [
    "communities_generator = nx.community.girvan_newman(G)\n",
    "top_level_communities = next(communities_generator)\n",
    "next_level_communities = next(communities_generator)\n",
    "sorted(map(sorted, next_level_communities))"
   ]
  },
  {
   "cell_type": "code",
   "execution_count": null,
   "metadata": {},
   "outputs": [],
   "source": [
    "# Si es strongly conected\n",
    "nx.eccentricity(G)"
   ]
  },
  {
   "cell_type": "markdown",
   "metadata": {},
   "source": [
    "## Dibujo del grafo sin especificar posiciones"
   ]
  },
  {
   "cell_type": "code",
   "execution_count": 1,
   "metadata": {},
   "outputs": [],
   "source": [
    "#Para un mejor dibujo ver el notebook \"grafo mapa mundial\""
   ]
  },
  {
   "cell_type": "code",
   "execution_count": 29,
   "metadata": {
    "ExecuteTime": {
     "end_time": "2019-12-02T09:28:01.330469Z",
     "start_time": "2019-12-02T09:27:36.866892Z"
    }
   },
   "outputs": [
    {
     "data": {
      "image/png": "[encoded data removed]",
      "text/plain": [
       "<Figure size 432x288 with 1 Axes>"
      ]
     },
     "metadata": {},
     "output_type": "display_data"
    }
   ],
   "source": [
    "nx.draw(G,with_labels=True)  "
   ]
  }
 ],
 "metadata": {
  "kernelspec": {
   "display_name": "Python 3",
   "language": "python",
   "name": "python3"
  },
  "language_info": {
   "codemirror_mode": {
    "name": "ipython",
    "version": 3
   },
   "file_extension": ".py",
   "mimetype": "text/x-python",
   "name": "python",
   "nbconvert_exporter": "python",
   "pygments_lexer": "ipython3",
   "version": "3.6.8"
  },
  "toc": {
   "base_numbering": 1,
   "nav_menu": {},
   "number_sections": true,
   "sideBar": true,
   "skip_h1_title": false,
   "title_cell": "Table of Contents",
   "title_sidebar": "Contents",
   "toc_cell": false,
   "toc_position": {},
   "toc_section_display": true,
   "toc_window_display": false
  }
 },
 "nbformat": 4,
 "nbformat_minor": 2
}
