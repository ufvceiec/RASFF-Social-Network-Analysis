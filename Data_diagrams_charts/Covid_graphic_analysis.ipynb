{
 "cells": [
  {
   "cell_type": "code",
   "execution_count": 120,
   "metadata": {},
   "outputs": [],
   "source": [
    "import pandas as pd\n",
    "import networkx as nx\n",
    "import matplotlib.pyplot as plt\n",
    "import numpy as np\n",
    "from collections import Counter\n",
    "import collections"
   ]
  },
  {
   "cell_type": "code",
   "execution_count": null,
   "metadata": {},
   "outputs": [],
   "source": [
    "data = pd.read_csv('C:/Users/Ceiec04/Desktop/Prediccion_Alertas_Alimentarias/Datasets/full_RASFF_DATA_20072020.csv', sep=';', \n",
    "                   header=0, index_col = 0)"
   ]
  },
  {
   "cell_type": "code",
   "execution_count": null,
   "metadata": {},
   "outputs": [],
   "source": [
    "mask = (data['DATE_CASE'] >= '2020-01-01') & (data['DATE_CASE'] <= '2020-12-31')\n",
    "data2020 = data.loc[mask]"
   ]
  },
  {
   "cell_type": "code",
   "execution_count": null,
   "metadata": {},
   "outputs": [],
   "source": [
    "mask = (data['DATE_CASE'] >= '2019-01-01') & (data['DATE_CASE'] <= '2019-12-31')\n",
    "data2019 = data.loc[mask]"
   ]
  },
  {
   "cell_type": "code",
   "execution_count": null,
   "metadata": {},
   "outputs": [],
   "source": [
    "mask = (data['DATE_CASE'] >= '2018-01-01') & (data['DATE_CASE'] <= '2018-12-31')\n",
    "data2018 = data.loc[mask]"
   ]
  },
  {
   "cell_type": "markdown",
   "metadata": {},
   "source": [
    "# Diagramas de barras"
   ]
  },
  {
   "cell_type": "code",
   "execution_count": 126,
   "metadata": {},
   "outputs": [
    {
     "name": "stdout",
     "output_type": "stream",
     "text": [
      "DATE_CASE\n",
      "1    256\n",
      "2    267\n",
      "3    331\n",
      "4    307\n",
      "5    313\n",
      "6    319\n",
      "7    339\n",
      "dtype: int64\n"
     ]
    },
    {
     "data": {
      "text/plain": [
       "<matplotlib.axes._subplots.AxesSubplot at 0x1d5ff908>"
      ]
     },
     "execution_count": 126,
     "metadata": {},
     "output_type": "execute_result"
    },
    {
     "data": {
      "image/png": "[encoded data removed]",
      "text/plain": [
       "<Figure size 720x360 with 1 Axes>"
      ]
     },
     "metadata": {
      "needs_background": "light"
     },
     "output_type": "display_data"
    }
   ],
   "source": [
    "axes = plt.gca()\n",
    "axes.set_ylim([0,390])\n",
    "chart = data2018.groupby(data2018.DATE_CASE.dt.month).size().drop(labels=[8,9,10,11,12])\n",
    "print(chart)\n",
    "chart.plot.bar(figsize= (10,5),title='Month alerts(2018)')"
   ]
  },
  {
   "cell_type": "code",
   "execution_count": 127,
   "metadata": {},
   "outputs": [
    {
     "name": "stdout",
     "output_type": "stream",
     "text": [
      "DATE_CASE\n",
      "1    301\n",
      "2    361\n",
      "3    363\n",
      "4    351\n",
      "5    282\n",
      "6    312\n",
      "7    383\n",
      "dtype: int64\n"
     ]
    },
    {
     "data": {
      "text/plain": [
       "<matplotlib.axes._subplots.AxesSubplot at 0x1c080518>"
      ]
     },
     "execution_count": 127,
     "metadata": {},
     "output_type": "execute_result"
    },
    {
     "data": {
      "image/png": "[encoded data removed]",
      "text/plain": [
       "<Figure size 720x360 with 1 Axes>"
      ]
     },
     "metadata": {
      "needs_background": "light"
     },
     "output_type": "display_data"
    }
   ],
   "source": [
    "axes = plt.gca()\n",
    "axes.set_ylim([0,390])\n",
    "chart = data2019.groupby(data2019.DATE_CASE.dt.month).size().drop(labels=[8,9,10,11,12])\n",
    "print(chart)\n",
    "chart.plot.bar(figsize= (10,5),title='Month alerts(2019)')"
   ]
  },
  {
   "cell_type": "code",
   "execution_count": 128,
   "metadata": {},
   "outputs": [
    {
     "name": "stdout",
     "output_type": "stream",
     "text": [
      "DATE_CASE\n",
      "1    269\n",
      "2    269\n",
      "3    283\n",
      "4    184\n",
      "5    229\n",
      "6    233\n",
      "7    183\n",
      "dtype: int64\n"
     ]
    },
    {
     "data": {
      "text/plain": [
       "<matplotlib.axes._subplots.AxesSubplot at 0x21d74be0>"
      ]
     },
     "execution_count": 128,
     "metadata": {},
     "output_type": "execute_result"
    },
    {
     "data": {
      "image/png": "[encoded data removed]",
      "text/plain": [
       "<Figure size 720x360 with 1 Axes>"
      ]
     },
     "metadata": {
      "needs_background": "light"
     },
     "output_type": "display_data"
    }
   ],
   "source": [
    "axes = plt.gca()\n",
    "axes.set_ylim([0,390])\n",
    "chart = data2020.groupby(data2020.DATE_CASE.dt.month).size()\n",
    "print(chart)\n",
    "chart.plot.bar(figsize= (10,5),title='Month alerts(2020)')"
   ]
  },
  {
   "cell_type": "markdown",
   "metadata": {},
   "source": [
    "# Diagrama de lineas"
   ]
  },
  {
   "cell_type": "code",
   "execution_count": 131,
   "metadata": {},
   "outputs": [
    {
     "data": {
      "text/plain": [
       "array([256., 267., 331., 307., 313., 319., 339., 270., 247., 334., 354.,\n",
       "       279., 301., 361., 363., 351., 282., 312., 383., 282., 400., 365.,\n",
       "       342., 324., 269., 269., 283., 184., 229., 233., 183.])"
      ]
     },
     "execution_count": 131,
     "metadata": {},
     "output_type": "execute_result"
    }
   ],
   "source": [
    "time_alerts = data.groupby('DATE_CASE').size()\n",
    "idx = pd.date_range('01-01-2018', '31-07-2020')\n",
    "time_alerts = time_alerts.reindex(idx, fill_value=0)\n",
    "time_alerts = time_alerts.to_frame()\n",
    "time_alerts.columns = ['day_alerts']\n",
    "time_alerts.index.name = 'date'\n",
    "time_alerts['month_alerts'] = time_alerts['day_alerts'].resample('M').sum()\n",
    "month_serie = time_alerts[time_alerts.month_alerts.notnull()]\n",
    "month_serie = month_serie.drop(['day_alerts'], axis=1)\n",
    "month_serie = month_serie.values.flatten()\n",
    "month_serie"
   ]
  },
  {
   "cell_type": "code",
   "execution_count": 132,
   "metadata": {},
   "outputs": [
    {
     "data": {
      "text/plain": [
       "Text(0,0.5,'Number of alerts')"
      ]
     },
     "execution_count": 132,
     "metadata": {},
     "output_type": "execute_result"
    },
    {
     "data": {
      "image/png": "[encoded data removed]",
      "text/plain": [
       "<Figure size 432x288 with 1 Axes>"
      ]
     },
     "metadata": {
      "needs_background": "light"
     },
     "output_type": "display_data"
    }
   ],
   "source": [
    "plt.plot(month_serie) \n",
    "plt.title('2018-2020 serie')\n",
    "plt.xlabel('Months')\n",
    "plt.ylabel('Number of alerts')"
   ]
  },
  {
   "cell_type": "markdown",
   "metadata": {},
   "source": [
    "# Grafo"
   ]
  },
  {
   "cell_type": "code",
   "execution_count": 244,
   "metadata": {},
   "outputs": [],
   "source": [
    "mask = (data['DATE_CASE'] >= '2016-01-01') & (data['DATE_CASE'] <= '2016-06-31')\n",
    "data2019 = data.loc[mask]\n",
    "new_data = data2019"
   ]
  },
  {
   "cell_type": "code",
   "execution_count": 246,
   "metadata": {},
   "outputs": [],
   "source": [
    "all_routes = []\n",
    "\n",
    "for index, row in new_data.iterrows():\n",
    "    origin=row['ORIG_COUNTRY'].split(\",\")   \n",
    "    destiny=row['DESTIN_COUNTRY'].split(\",\") \n",
    "    concern=row['CONCERN_COUNTRY'].split(\",\")\n",
    "    \n",
    "\n",
    "    for i in origin:\n",
    "        \n",
    "        if i!=\" \" and i!= 'INFOSAN' and i!='Commission Services'and i!='unknown origin'and i!='European Food Safety Authority': \n",
    "            for j in destiny:\n",
    "                if j!=\" \" and i!=j and j!= 'INFOSAN' and j!='Commission Services'and j!='unknown origin'and j!='European Food Safety Authority': \n",
    "                    route = (i,j)\n",
    "                    all_routes.append(route)\n",
    "                    \n",
    "                    for k in concern:\n",
    "                        if k!=\" \" and k!= 'INFOSAN' and k!='Commission Services'and k!='unknown origin'and k!='European Food Safety Authority':\n",
    "                            route = (i,k)\n",
    "                            all_routes.append(route)   \n",
    "                else:\n",
    "                    for k in concern:\n",
    "                        if k!=\" \" and k!= 'INFOSAN' and k!='Commission Services'and k!='unknown origin'and k!='European Food Safety Authority':\n",
    "                            route = (i,k)\n",
    "                            all_routes.append(route) "
   ]
  },
  {
   "cell_type": "code",
   "execution_count": 248,
   "metadata": {},
   "outputs": [],
   "source": [
    "G = nx.DiGraph((x, y, {'weight': v}) for (x, y), v in Counter(all_routes).items())\n",
    "g_distance_dict = {(e1, e2): 1 / weight for e1, e2, weight in G.edges(data='weight')}\n",
    "nx.set_edge_attributes(G, g_distance_dict, 'distance')"
   ]
  },
  {
   "cell_type": "code",
   "execution_count": 250,
   "metadata": {
    "scrolled": false
   },
   "outputs": [
    {
     "data": {
      "text/plain": [
       "[('United States', 522),\n",
       " ('China', 398),\n",
       " ('Spain', 252),\n",
       " ('France', 247),\n",
       " ('Netherlands', 217),\n",
       " ('Turkey', 193),\n",
       " ('India', 166),\n",
       " ('Italy', 147),\n",
       " ('Poland', 142),\n",
       " ('Germany', 119),\n",
       " ('Hong Kong', 114),\n",
       " ('Denmark', 109),\n",
       " ('United Kingdom', 83),\n",
       " ('Thailand', 80),\n",
       " ('Czech Republic', 77),\n",
       " ('Belgium', 70),\n",
       " ('Uruguay', 68),\n",
       " ('Iran', 67),\n",
       " ('Egypt', 65),\n",
       " ('Vietnam', 60),\n",
       " ('Brazil', 52),\n",
       " ('Indonesia', 49),\n",
       " ('Laos', 42),\n",
       " ('Japan', 38),\n",
       " ('Philippines', 36),\n",
       " ('Pakistan', 34),\n",
       " ('Romania', 28),\n",
       " ('Colombia', 28),\n",
       " ('Argentina', 27),\n",
       " ('Bulgaria', 26),\n",
       " ('Morocco', 26),\n",
       " ('Lithuania', 23),\n",
       " ('Peru', 22),\n",
       " ('Austria', 22),\n",
       " ('Tanzania', 20),\n",
       " ('South Korea', 18),\n",
       " ('South Africa', 18),\n",
       " ('Georgia', 18),\n",
       " ('Hungary', 17),\n",
       " ('Sweden', 16),\n",
       " ('Ireland', 16),\n",
       " ('Tunisia', 14),\n",
       " ('Uzbekistan', 13),\n",
       " ('Serbia', 13),\n",
       " ('Greece', 12),\n",
       " ('Iceland', 11),\n",
       " ('Sri Lanka', 11),\n",
       " ('Madagascar', 10),\n",
       " ('Ukraine', 10),\n",
       " ('Russia', 10),\n",
       " ('Portugal', 10),\n",
       " ('Mozambique', 10),\n",
       " ('Cambodia', 9),\n",
       " ('Ghana', 9),\n",
       " ('Chile', 9),\n",
       " ('Myanmar', 9),\n",
       " ('Norway', 8),\n",
       " ('Senegal', 8),\n",
       " ('Dominican Republic', 7),\n",
       " ('Guinea', 7),\n",
       " ('Nigeria', 7),\n",
       " ('Australia', 7),\n",
       " ('Syria', 7),\n",
       " ('Ethiopia', 6),\n",
       " ('Cape Verde', 6),\n",
       " ('Ecuador', 6),\n",
       " ('Croatia', 6),\n",
       " ('Namibia', 6),\n",
       " ('New Zealand', 5),\n",
       " ('Switzerland', 5),\n",
       " ('Luxembourg', 4),\n",
       " ('Azerbaijan', 4),\n",
       " ('Finland', 4),\n",
       " ('Bangladesh', 3),\n",
       " ('Slovakia', 3),\n",
       " ('Nicaragua', 3),\n",
       " ('Uganda', 3),\n",
       " ('Lebanon', 3),\n",
       " ('Canada', 2),\n",
       " ('Bolivia', 2),\n",
       " ('Burkina Faso', 2),\n",
       " ('Benin', 2),\n",
       " ('Mali', 2),\n",
       " ('Niger', 2),\n",
       " ('Moldova', 2),\n",
       " ('Seychelles', 2),\n",
       " ('Israel', 2),\n",
       " ('Latvia', 2),\n",
       " ('Bosnia and Herzegovina', 1),\n",
       " ('Kenya', 1),\n",
       " ('Afghanistan', 1),\n",
       " ('Fiji', 1),\n",
       " ('Mauritius', 1),\n",
       " ('Panama', 1),\n",
       " ('Costa Rica', 1),\n",
       " ('Republic of North Macedonia', 1),\n",
       " ('Andorra', 1),\n",
       " ('El Salvador', 1),\n",
       " ('Taiwan', 1),\n",
       " ('Malta', 1),\n",
       " ('Venezuela', 1),\n",
       " ('Papua New Guinea', 1),\n",
       " ('Gambia', 1),\n",
       " ('Mauritania', 1),\n",
       " ('Mexico', 1),\n",
       " ('Turkmenistan', 0),\n",
       " ('West Bank and Gaza Strip', 0),\n",
       " ('Aruba', 0),\n",
       " ('Saudi Arabia', 0),\n",
       " ('Slovenia', 0),\n",
       " ('Jordan', 0),\n",
       " ('Oman', 0),\n",
       " ('Greenland', 0),\n",
       " ('Monaco', 0),\n",
       " ('Jersey', 0),\n",
       " ('Albania', 0),\n",
       " ('United Arab Emirates', 0),\n",
       " (\"C\\xc3\\xb4te d'Ivoire\", 0),\n",
       " ('Belarus', 0),\n",
       " ('Macao', 0),\n",
       " ('San Marino', 0),\n",
       " ('Bermuda', 0),\n",
       " ('Somalia', 0),\n",
       " ('Faeroe Islands', 0),\n",
       " ('R\\xc3\\xa9union', 0),\n",
       " ('Singapore', 0),\n",
       " ('Togo', 0),\n",
       " ('Bahrain', 0),\n",
       " ('Libya', 0),\n",
       " ('British Virgin Islands', 0),\n",
       " ('Angola', 0),\n",
       " ('Malaysia', 0),\n",
       " ('Gibraltar', 0),\n",
       " ('Brunei', 0),\n",
       " ('Algeria', 0),\n",
       " ('Iraq', 0),\n",
       " ('Guernsey', 0),\n",
       " ('Estonia', 0),\n",
       " ('Cura\\xc3\\xa7ao', 0),\n",
       " ('Cyprus', 0),\n",
       " ('Barbados', 0),\n",
       " ('Qatar', 0),\n",
       " ('Sudan', 0),\n",
       " ('Nepal', 0),\n",
       " ('Maldives', 0),\n",
       " ('Suriname', 0),\n",
       " ('Kazakhstan', 0),\n",
       " ('New Caledonia', 0)]"
      ]
     },
     "execution_count": 250,
     "metadata": {},
     "output_type": "execute_result"
    }
   ],
   "source": [
    "sorted(G.out_degree(weight = 'weight'), key=lambda x: x[1], reverse=True)"
   ]
  },
  {
   "cell_type": "code",
   "execution_count": null,
   "metadata": {},
   "outputs": [],
   "source": []
  }
 ],
 "metadata": {
  "kernelspec": {
   "display_name": "Python 3",
   "language": "python",
   "name": "python3"
  },
  "language_info": {
   "codemirror_mode": {
    "name": "ipython",
    "version": 3
   },
   "file_extension": ".py",
   "mimetype": "text/x-python",
   "name": "python",
   "nbconvert_exporter": "python",
   "pygments_lexer": "ipython3",
   "version": "3.6.8"
  },
  "toc": {
   "base_numbering": 1,
   "nav_menu": {},
   "number_sections": true,
   "sideBar": true,
   "skip_h1_title": true,
   "title_cell": "Table of Contents",
   "title_sidebar": "Contents",
   "toc_cell": false,
   "toc_position": {},
   "toc_section_display": true,
   "toc_window_display": false
  }
 },
 "nbformat": 4,
 "nbformat_minor": 2
}
